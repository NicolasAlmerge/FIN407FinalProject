{
 "cells": [
  {
   "cell_type": "code",
   "execution_count": 1,
   "metadata": {},
   "outputs": [],
   "source": [
    "import pandas as pd\n",
    "import polars as pl\n",
    "from data import *\n",
    "import numpy as np\n",
    "import matplotlib.pyplot as plt\n",
    "import seaborn as sns\n",
    "import os\n",
    "import pickle\n",
    "import sklearn\n",
    "from sklearn.impute import SimpleImputer\n",
    "from sklearn.linear_model import LinearRegression, Ridge, Lasso\n",
    "from sklearn.ensemble import RandomForestRegressor, AdaBoostRegressor\n",
    "from sklearn.model_selection import train_test_split\n",
    "from sklearn.preprocessing import StandardScaler\n",
    "from sklearn.metrics import mean_squared_error, r2_score\n",
    "import numpy as np\n",
    "from scipy import stats\n",
    "from typing import cast\n",
    "from utils import *\n",
    "import wrds"
   ]
  },
  {
   "cell_type": "code",
   "execution_count": 17,
   "metadata": {},
   "outputs": [],
   "source": [
    "full_data = pl.read_csv(get_data_file_path(\"signed_predictors_all_wide.csv\"), dtypes=ALL_DATA_ENTRY_SCHEMA)"
   ]
  },
  {
   "cell_type": "code",
   "execution_count": 18,
   "metadata": {},
   "outputs": [
    {
     "data": {
      "text/html": [
       "<div><style>\n",
       ".dataframe > thead > tr,\n",
       ".dataframe > tbody > tr {\n",
       "  text-align: right;\n",
       "  white-space: pre-wrap;\n",
       "}\n",
       "</style>\n",
       "<small>shape: (5_249_456, 214)</small><table border=\"1\" class=\"dataframe\"><thead><tr><th>permno</th><th>yyyymm</th><th>AM</th><th>AOP</th><th>AbnormalAccruals</th><th>Accruals</th><th>AccrualsBM</th><th>Activism1</th><th>Activism2</th><th>AdExp</th><th>AgeIPO</th><th>AnalystRevision</th><th>AnalystValue</th><th>AnnouncementReturn</th><th>AssetGrowth</th><th>BM</th><th>BMdec</th><th>BPEBM</th><th>Beta</th><th>BetaFP</th><th>BetaLiquidityPS</th><th>BetaTailRisk</th><th>BidAskSpread</th><th>BookLeverage</th><th>BrandInvest</th><th>CBOperProf</th><th>CF</th><th>CPVolSpread</th><th>Cash</th><th>CashProd</th><th>ChAssetTurnover</th><th>ChEQ</th><th>ChForecastAccrual</th><th>ChInv</th><th>ChInvIA</th><th>ChNAnalyst</th><th>ChNNCOA</th><th>&hellip;</th><th>Spinoff</th><th>SurpriseRD</th><th>Tax</th><th>TotalAccruals</th><th>TrendFactor</th><th>UpRecomm</th><th>VarCF</th><th>VolMkt</th><th>VolSD</th><th>VolumeTrend</th><th>XFIN</th><th>betaVIX</th><th>cfp</th><th>dCPVolSpread</th><th>dNoa</th><th>dVolCall</th><th>dVolPut</th><th>fgr5yrLag</th><th>grcapx</th><th>grcapx3y</th><th>hire</th><th>iomom_cust</th><th>iomom_supp</th><th>realestate</th><th>retConglomerate</th><th>roaq</th><th>sfe</th><th>sinAlgo</th><th>skew1</th><th>std_turn</th><th>tang</th><th>zerotrade</th><th>zerotradeAlt1</th><th>zerotradeAlt12</th><th>STreversal</th><th>Price</th><th>Size</th></tr><tr><td>i64</td><td>str</td><td>f64</td><td>f64</td><td>f64</td><td>f64</td><td>f64</td><td>f64</td><td>f64</td><td>f64</td><td>f64</td><td>f64</td><td>f64</td><td>f64</td><td>f64</td><td>f64</td><td>f64</td><td>f64</td><td>f64</td><td>f64</td><td>f64</td><td>f64</td><td>f64</td><td>f64</td><td>f64</td><td>f64</td><td>f64</td><td>f64</td><td>f64</td><td>f64</td><td>f64</td><td>f64</td><td>f64</td><td>f64</td><td>f64</td><td>f64</td><td>f64</td><td>&hellip;</td><td>f64</td><td>f64</td><td>f64</td><td>f64</td><td>f64</td><td>f64</td><td>f64</td><td>f64</td><td>f64</td><td>f64</td><td>f64</td><td>f64</td><td>f64</td><td>f64</td><td>f64</td><td>f64</td><td>f64</td><td>f64</td><td>f64</td><td>f64</td><td>f64</td><td>f64</td><td>f64</td><td>f64</td><td>f64</td><td>f64</td><td>f64</td><td>f64</td><td>f64</td><td>f64</td><td>f64</td><td>f64</td><td>f64</td><td>f64</td><td>f64</td><td>f64</td><td>f64</td></tr></thead><tbody><tr><td>10000</td><td>&quot;198601&quot;</td><td>null</td><td>null</td><td>null</td><td>null</td><td>null</td><td>null</td><td>null</td><td>null</td><td>null</td><td>null</td><td>null</td><td>null</td><td>null</td><td>null</td><td>null</td><td>null</td><td>null</td><td>null</td><td>null</td><td>null</td><td>null</td><td>null</td><td>null</td><td>null</td><td>null</td><td>null</td><td>null</td><td>null</td><td>null</td><td>null</td><td>null</td><td>null</td><td>null</td><td>null</td><td>null</td><td>&hellip;</td><td>0.0</td><td>null</td><td>null</td><td>null</td><td>null</td><td>null</td><td>null</td><td>null</td><td>null</td><td>null</td><td>null</td><td>-0.005234</td><td>null</td><td>null</td><td>null</td><td>null</td><td>null</td><td>null</td><td>null</td><td>null</td><td>null</td><td>null</td><td>null</td><td>null</td><td>null</td><td>null</td><td>null</td><td>null</td><td>null</td><td>null</td><td>null</td><td>null</td><td>null</td><td>null</td><td>0.0</td><td>-1.475907</td><td>-9.686575</td></tr><tr><td>10000</td><td>&quot;198602&quot;</td><td>null</td><td>null</td><td>null</td><td>null</td><td>null</td><td>null</td><td>null</td><td>null</td><td>null</td><td>null</td><td>null</td><td>null</td><td>null</td><td>null</td><td>null</td><td>null</td><td>null</td><td>null</td><td>null</td><td>null</td><td>null</td><td>null</td><td>null</td><td>null</td><td>null</td><td>null</td><td>null</td><td>null</td><td>null</td><td>null</td><td>null</td><td>null</td><td>null</td><td>null</td><td>null</td><td>&hellip;</td><td>0.0</td><td>null</td><td>null</td><td>null</td><td>null</td><td>null</td><td>null</td><td>null</td><td>null</td><td>null</td><td>null</td><td>-0.003488</td><td>null</td><td>null</td><td>null</td><td>null</td><td>null</td><td>null</td><td>null</td><td>null</td><td>null</td><td>null</td><td>null</td><td>null</td><td>null</td><td>null</td><td>null</td><td>null</td><td>null</td><td>null</td><td>null</td><td>null</td><td>4.7852e-8</td><td>null</td><td>25.7143</td><td>-1.178655</td><td>-9.389323</td></tr><tr><td>10000</td><td>&quot;198603&quot;</td><td>null</td><td>null</td><td>null</td><td>null</td><td>null</td><td>null</td><td>null</td><td>null</td><td>null</td><td>null</td><td>null</td><td>null</td><td>null</td><td>null</td><td>null</td><td>null</td><td>null</td><td>null</td><td>null</td><td>null</td><td>null</td><td>null</td><td>null</td><td>null</td><td>null</td><td>null</td><td>null</td><td>null</td><td>null</td><td>null</td><td>null</td><td>null</td><td>null</td><td>null</td><td>null</td><td>&hellip;</td><td>0.0</td><td>null</td><td>null</td><td>null</td><td>null</td><td>null</td><td>null</td><td>null</td><td>null</td><td>null</td><td>null</td><td>-0.002715</td><td>null</td><td>null</td><td>null</td><td>null</td><td>null</td><td>null</td><td>null</td><td>null</td><td>null</td><td>null</td><td>null</td><td>null</td><td>null</td><td>null</td><td>null</td><td>null</td><td>null</td><td>null</td><td>null</td><td>null</td><td>1.0234e-7</td><td>null</td><td>-36.5385</td><td>-1.490091</td><td>-9.700759</td></tr><tr><td>10000</td><td>&quot;198604&quot;</td><td>null</td><td>null</td><td>null</td><td>null</td><td>null</td><td>null</td><td>null</td><td>null</td><td>null</td><td>null</td><td>null</td><td>null</td><td>null</td><td>null</td><td>null</td><td>null</td><td>null</td><td>null</td><td>null</td><td>null</td><td>null</td><td>null</td><td>null</td><td>null</td><td>null</td><td>null</td><td>null</td><td>null</td><td>null</td><td>null</td><td>null</td><td>null</td><td>null</td><td>null</td><td>null</td><td>&hellip;</td><td>0.0</td><td>null</td><td>null</td><td>null</td><td>null</td><td>null</td><td>null</td><td>null</td><td>null</td><td>null</td><td>null</td><td>0.000877</td><td>null</td><td>null</td><td>null</td><td>null</td><td>null</td><td>null</td><td>null</td><td>null</td><td>null</td><td>null</td><td>null</td><td>null</td><td>null</td><td>null</td><td>null</td><td>null</td><td>null</td><td>null</td><td>null</td><td>null</td><td>7.4675e-8</td><td>null</td><td>9.8592</td><td>-1.386294</td><td>-9.627207</td></tr><tr><td>10000</td><td>&quot;198605&quot;</td><td>null</td><td>null</td><td>null</td><td>null</td><td>null</td><td>null</td><td>null</td><td>null</td><td>null</td><td>null</td><td>null</td><td>null</td><td>null</td><td>null</td><td>null</td><td>null</td><td>null</td><td>null</td><td>null</td><td>null</td><td>null</td><td>null</td><td>null</td><td>null</td><td>null</td><td>null</td><td>null</td><td>null</td><td>null</td><td>null</td><td>null</td><td>null</td><td>null</td><td>null</td><td>null</td><td>&hellip;</td><td>0.0</td><td>null</td><td>null</td><td>null</td><td>null</td><td>null</td><td>null</td><td>null</td><td>null</td><td>null</td><td>null</td><td>0.008818</td><td>null</td><td>null</td><td>null</td><td>null</td><td>null</td><td>null</td><td>null</td><td>null</td><td>null</td><td>null</td><td>null</td><td>null</td><td>null</td><td>null</td><td>null</td><td>null</td><td>null</td><td>null</td><td>null</td><td>null</td><td>7.6496e-8</td><td>null</td><td>22.2656</td><td>-1.134423</td><td>-9.375336</td></tr><tr><td>&hellip;</td><td>&hellip;</td><td>&hellip;</td><td>&hellip;</td><td>&hellip;</td><td>&hellip;</td><td>&hellip;</td><td>&hellip;</td><td>&hellip;</td><td>&hellip;</td><td>&hellip;</td><td>&hellip;</td><td>&hellip;</td><td>&hellip;</td><td>&hellip;</td><td>&hellip;</td><td>&hellip;</td><td>&hellip;</td><td>&hellip;</td><td>&hellip;</td><td>&hellip;</td><td>&hellip;</td><td>&hellip;</td><td>&hellip;</td><td>&hellip;</td><td>&hellip;</td><td>&hellip;</td><td>&hellip;</td><td>&hellip;</td><td>&hellip;</td><td>&hellip;</td><td>&hellip;</td><td>&hellip;</td><td>&hellip;</td><td>&hellip;</td><td>&hellip;</td><td>&hellip;</td><td>&hellip;</td><td>&hellip;</td><td>&hellip;</td><td>&hellip;</td><td>&hellip;</td><td>&hellip;</td><td>&hellip;</td><td>&hellip;</td><td>&hellip;</td><td>&hellip;</td><td>&hellip;</td><td>&hellip;</td><td>&hellip;</td><td>&hellip;</td><td>&hellip;</td><td>&hellip;</td><td>&hellip;</td><td>&hellip;</td><td>&hellip;</td><td>&hellip;</td><td>&hellip;</td><td>&hellip;</td><td>&hellip;</td><td>&hellip;</td><td>&hellip;</td><td>&hellip;</td><td>&hellip;</td><td>&hellip;</td><td>&hellip;</td><td>&hellip;</td><td>&hellip;</td><td>&hellip;</td><td>&hellip;</td><td>&hellip;</td><td>&hellip;</td><td>&hellip;</td><td>&hellip;</td><td>&hellip;</td></tr><tr><td>93433</td><td>&quot;201005&quot;</td><td>null</td><td>null</td><td>null</td><td>null</td><td>null</td><td>null</td><td>null</td><td>null</td><td>null</td><td>null</td><td>null</td><td>null</td><td>null</td><td>null</td><td>null</td><td>null</td><td>null</td><td>null</td><td>null</td><td>null</td><td>null</td><td>null</td><td>null</td><td>null</td><td>null</td><td>null</td><td>null</td><td>null</td><td>null</td><td>null</td><td>null</td><td>null</td><td>null</td><td>null</td><td>null</td><td>&hellip;</td><td>null</td><td>null</td><td>null</td><td>null</td><td>null</td><td>null</td><td>null</td><td>null</td><td>null</td><td>null</td><td>null</td><td>null</td><td>null</td><td>null</td><td>null</td><td>null</td><td>null</td><td>null</td><td>null</td><td>null</td><td>null</td><td>null</td><td>null</td><td>null</td><td>null</td><td>null</td><td>null</td><td>null</td><td>null</td><td>null</td><td>null</td><td>null</td><td>null</td><td>null</td><td>0.0</td><td>null</td><td>null</td></tr><tr><td>93434</td><td>&quot;201005&quot;</td><td>null</td><td>null</td><td>null</td><td>null</td><td>null</td><td>null</td><td>null</td><td>null</td><td>null</td><td>null</td><td>null</td><td>null</td><td>null</td><td>null</td><td>null</td><td>null</td><td>null</td><td>null</td><td>null</td><td>null</td><td>null</td><td>null</td><td>null</td><td>null</td><td>null</td><td>null</td><td>null</td><td>null</td><td>null</td><td>null</td><td>null</td><td>null</td><td>null</td><td>null</td><td>null</td><td>&hellip;</td><td>null</td><td>null</td><td>null</td><td>null</td><td>null</td><td>null</td><td>null</td><td>null</td><td>null</td><td>null</td><td>null</td><td>null</td><td>null</td><td>null</td><td>null</td><td>null</td><td>null</td><td>null</td><td>null</td><td>null</td><td>null</td><td>null</td><td>null</td><td>null</td><td>null</td><td>null</td><td>null</td><td>null</td><td>null</td><td>null</td><td>null</td><td>null</td><td>null</td><td>null</td><td>0.0</td><td>null</td><td>null</td></tr><tr><td>93434</td><td>&quot;202312&quot;</td><td>null</td><td>null</td><td>null</td><td>null</td><td>null</td><td>null</td><td>null</td><td>null</td><td>null</td><td>null</td><td>null</td><td>null</td><td>null</td><td>null</td><td>null</td><td>null</td><td>null</td><td>null</td><td>null</td><td>null</td><td>null</td><td>null</td><td>null</td><td>null</td><td>null</td><td>null</td><td>null</td><td>null</td><td>null</td><td>null</td><td>null</td><td>null</td><td>null</td><td>null</td><td>null</td><td>&hellip;</td><td>null</td><td>null</td><td>null</td><td>null</td><td>null</td><td>null</td><td>null</td><td>null</td><td>null</td><td>null</td><td>null</td><td>null</td><td>null</td><td>null</td><td>null</td><td>null</td><td>null</td><td>null</td><td>null</td><td>null</td><td>null</td><td>null</td><td>null</td><td>null</td><td>null</td><td>null</td><td>null</td><td>null</td><td>null</td><td>null</td><td>null</td><td>null</td><td>null</td><td>null</td><td>-6.5449</td><td>0.356675</td><td>-10.313187</td></tr><tr><td>93435</td><td>&quot;201005&quot;</td><td>null</td><td>null</td><td>null</td><td>null</td><td>null</td><td>null</td><td>null</td><td>null</td><td>null</td><td>null</td><td>null</td><td>null</td><td>null</td><td>null</td><td>null</td><td>null</td><td>null</td><td>null</td><td>null</td><td>null</td><td>null</td><td>null</td><td>null</td><td>null</td><td>null</td><td>null</td><td>null</td><td>null</td><td>null</td><td>null</td><td>null</td><td>null</td><td>null</td><td>null</td><td>null</td><td>&hellip;</td><td>null</td><td>null</td><td>null</td><td>null</td><td>null</td><td>null</td><td>null</td><td>null</td><td>null</td><td>null</td><td>null</td><td>null</td><td>null</td><td>null</td><td>null</td><td>null</td><td>null</td><td>null</td><td>null</td><td>null</td><td>null</td><td>null</td><td>null</td><td>null</td><td>null</td><td>null</td><td>null</td><td>null</td><td>null</td><td>null</td><td>null</td><td>null</td><td>null</td><td>null</td><td>0.0</td><td>null</td><td>null</td></tr><tr><td>93436</td><td>&quot;201005&quot;</td><td>null</td><td>null</td><td>null</td><td>null</td><td>null</td><td>null</td><td>null</td><td>null</td><td>null</td><td>null</td><td>null</td><td>null</td><td>null</td><td>null</td><td>null</td><td>null</td><td>null</td><td>null</td><td>null</td><td>null</td><td>null</td><td>null</td><td>null</td><td>null</td><td>null</td><td>null</td><td>null</td><td>null</td><td>null</td><td>null</td><td>null</td><td>null</td><td>null</td><td>null</td><td>null</td><td>&hellip;</td><td>null</td><td>null</td><td>null</td><td>null</td><td>null</td><td>null</td><td>null</td><td>null</td><td>null</td><td>null</td><td>null</td><td>null</td><td>null</td><td>null</td><td>null</td><td>null</td><td>null</td><td>null</td><td>null</td><td>null</td><td>null</td><td>null</td><td>null</td><td>null</td><td>null</td><td>null</td><td>null</td><td>null</td><td>null</td><td>null</td><td>null</td><td>null</td><td>null</td><td>null</td><td>0.0</td><td>null</td><td>null</td></tr></tbody></table></div>"
      ],
      "text/plain": [
       "shape: (5_249_456, 214)\n",
       "┌────────┬────────┬──────┬──────┬───┬────────────────┬────────────┬───────────┬────────────┐\n",
       "│ permno ┆ yyyymm ┆ AM   ┆ AOP  ┆ … ┆ zerotradeAlt12 ┆ STreversal ┆ Price     ┆ Size       │\n",
       "│ ---    ┆ ---    ┆ ---  ┆ ---  ┆   ┆ ---            ┆ ---        ┆ ---       ┆ ---        │\n",
       "│ i64    ┆ str    ┆ f64  ┆ f64  ┆   ┆ f64            ┆ f64        ┆ f64       ┆ f64        │\n",
       "╞════════╪════════╪══════╪══════╪═══╪════════════════╪════════════╪═══════════╪════════════╡\n",
       "│ 10000  ┆ 198601 ┆ null ┆ null ┆ … ┆ null           ┆ 0.0        ┆ -1.475907 ┆ -9.686575  │\n",
       "│ 10000  ┆ 198602 ┆ null ┆ null ┆ … ┆ null           ┆ 25.7143    ┆ -1.178655 ┆ -9.389323  │\n",
       "│ 10000  ┆ 198603 ┆ null ┆ null ┆ … ┆ null           ┆ -36.5385   ┆ -1.490091 ┆ -9.700759  │\n",
       "│ 10000  ┆ 198604 ┆ null ┆ null ┆ … ┆ null           ┆ 9.8592     ┆ -1.386294 ┆ -9.627207  │\n",
       "│ 10000  ┆ 198605 ┆ null ┆ null ┆ … ┆ null           ┆ 22.2656    ┆ -1.134423 ┆ -9.375336  │\n",
       "│ …      ┆ …      ┆ …    ┆ …    ┆ … ┆ …              ┆ …          ┆ …         ┆ …          │\n",
       "│ 93433  ┆ 201005 ┆ null ┆ null ┆ … ┆ null           ┆ 0.0        ┆ null      ┆ null       │\n",
       "│ 93434  ┆ 201005 ┆ null ┆ null ┆ … ┆ null           ┆ 0.0        ┆ null      ┆ null       │\n",
       "│ 93434  ┆ 202312 ┆ null ┆ null ┆ … ┆ null           ┆ -6.5449    ┆ 0.356675  ┆ -10.313187 │\n",
       "│ 93435  ┆ 201005 ┆ null ┆ null ┆ … ┆ null           ┆ 0.0        ┆ null      ┆ null       │\n",
       "│ 93436  ┆ 201005 ┆ null ┆ null ┆ … ┆ null           ┆ 0.0        ┆ null      ┆ null       │\n",
       "└────────┴────────┴──────┴──────┴───┴────────────────┴────────────┴───────────┴────────────┘"
      ]
     },
     "execution_count": 18,
     "metadata": {},
     "output_type": "execute_result"
    }
   ],
   "source": [
    "full_data"
   ]
  },
  {
   "cell_type": "code",
   "execution_count": 5,
   "metadata": {},
   "outputs": [
    {
     "name": "stdout",
     "output_type": "stream",
     "text": [
      "Loading library list...\n",
      "Done\n"
     ]
    }
   ],
   "source": [
    "db = wrds.Connection(wrds_username=get_env(\"WRDS_USERNAME\"))\n",
    "\n",
    "# Query to get the stock returns\n",
    "query = \"\"\"\n",
    "SELECT permno, date, ret\n",
    "FROM crsp.msf\n",
    "WHERE date BETWEEN '1986-01-01' AND '2024-05-31'\n",
    "\"\"\"\n",
    "\n",
    "# Execute the query\n",
    "all_returns_data = db.raw_sql(query)\n",
    "\n",
    "# Close the connection\n",
    "db.close()"
   ]
  },
  {
   "cell_type": "code",
   "execution_count": 6,
   "metadata": {},
   "outputs": [
    {
     "data": {
      "text/html": [
       "<div>\n",
       "<style scoped>\n",
       "    .dataframe tbody tr th:only-of-type {\n",
       "        vertical-align: middle;\n",
       "    }\n",
       "\n",
       "    .dataframe tbody tr th {\n",
       "        vertical-align: top;\n",
       "    }\n",
       "\n",
       "    .dataframe thead th {\n",
       "        text-align: right;\n",
       "    }\n",
       "</style>\n",
       "<table border=\"1\" class=\"dataframe\">\n",
       "  <thead>\n",
       "    <tr style=\"text-align: right;\">\n",
       "      <th></th>\n",
       "      <th>permno</th>\n",
       "      <th>date</th>\n",
       "      <th>ret</th>\n",
       "    </tr>\n",
       "  </thead>\n",
       "  <tbody>\n",
       "    <tr>\n",
       "      <th>0</th>\n",
       "      <td>10000</td>\n",
       "      <td>1986-01-31</td>\n",
       "      <td>NaN</td>\n",
       "    </tr>\n",
       "    <tr>\n",
       "      <th>1</th>\n",
       "      <td>10000</td>\n",
       "      <td>1986-02-28</td>\n",
       "      <td>-0.257143</td>\n",
       "    </tr>\n",
       "    <tr>\n",
       "      <th>2</th>\n",
       "      <td>10000</td>\n",
       "      <td>1986-03-31</td>\n",
       "      <td>0.365385</td>\n",
       "    </tr>\n",
       "    <tr>\n",
       "      <th>3</th>\n",
       "      <td>10000</td>\n",
       "      <td>1986-04-30</td>\n",
       "      <td>-0.098592</td>\n",
       "    </tr>\n",
       "    <tr>\n",
       "      <th>4</th>\n",
       "      <td>10000</td>\n",
       "      <td>1986-05-30</td>\n",
       "      <td>-0.222656</td>\n",
       "    </tr>\n",
       "    <tr>\n",
       "      <th>...</th>\n",
       "      <td>...</td>\n",
       "      <td>...</td>\n",
       "      <td>...</td>\n",
       "    </tr>\n",
       "    <tr>\n",
       "      <th>487268</th>\n",
       "      <td>93436</td>\n",
       "      <td>2023-08-31</td>\n",
       "      <td>-0.034962</td>\n",
       "    </tr>\n",
       "    <tr>\n",
       "      <th>487269</th>\n",
       "      <td>93436</td>\n",
       "      <td>2023-09-29</td>\n",
       "      <td>-0.030456</td>\n",
       "    </tr>\n",
       "    <tr>\n",
       "      <th>487270</th>\n",
       "      <td>93436</td>\n",
       "      <td>2023-10-31</td>\n",
       "      <td>-0.197346</td>\n",
       "    </tr>\n",
       "    <tr>\n",
       "      <th>487271</th>\n",
       "      <td>93436</td>\n",
       "      <td>2023-11-30</td>\n",
       "      <td>0.195379</td>\n",
       "    </tr>\n",
       "    <tr>\n",
       "      <th>487272</th>\n",
       "      <td>93436</td>\n",
       "      <td>2023-12-29</td>\n",
       "      <td>0.034988</td>\n",
       "    </tr>\n",
       "  </tbody>\n",
       "</table>\n",
       "<p>3487273 rows × 3 columns</p>\n",
       "</div>"
      ],
      "text/plain": [
       "        permno        date       ret\n",
       "0        10000  1986-01-31       NaN\n",
       "1        10000  1986-02-28 -0.257143\n",
       "2        10000  1986-03-31  0.365385\n",
       "3        10000  1986-04-30 -0.098592\n",
       "4        10000  1986-05-30 -0.222656\n",
       "...        ...         ...       ...\n",
       "487268   93436  2023-08-31 -0.034962\n",
       "487269   93436  2023-09-29 -0.030456\n",
       "487270   93436  2023-10-31 -0.197346\n",
       "487271   93436  2023-11-30  0.195379\n",
       "487272   93436  2023-12-29  0.034988\n",
       "\n",
       "[3487273 rows x 3 columns]"
      ]
     },
     "execution_count": 6,
     "metadata": {},
     "output_type": "execute_result"
    }
   ],
   "source": [
    "all_returns_data"
   ]
  },
  {
   "cell_type": "code",
   "execution_count": 8,
   "metadata": {},
   "outputs": [],
   "source": [
    "all_returns_data.to_csv(get_data_file_path(\"all_returns_values.csv\")) # type: ignore"
   ]
  },
  {
   "cell_type": "code",
   "execution_count": 9,
   "metadata": {},
   "outputs": [],
   "source": [
    "all_returns_df = pl.read_csv(get_data_file_path(\"all_returns_values.csv\"), dtypes={\"permno\": pl.Int64, \"date\": pl.Date, \"ret\": pl.Float64})"
   ]
  },
  {
   "cell_type": "code",
   "execution_count": 10,
   "metadata": {},
   "outputs": [
    {
     "data": {
      "text/html": [
       "<div><style>\n",
       ".dataframe > thead > tr,\n",
       ".dataframe > tbody > tr {\n",
       "  text-align: right;\n",
       "  white-space: pre-wrap;\n",
       "}\n",
       "</style>\n",
       "<small>shape: (3_487_273, 4)</small><table border=\"1\" class=\"dataframe\"><thead><tr><th></th><th>permno</th><th>date</th><th>ret</th></tr><tr><td>i64</td><td>i64</td><td>date</td><td>f64</td></tr></thead><tbody><tr><td>0</td><td>10000</td><td>1986-01-31</td><td>null</td></tr><tr><td>1</td><td>10000</td><td>1986-02-28</td><td>-0.257143</td></tr><tr><td>2</td><td>10000</td><td>1986-03-31</td><td>0.365385</td></tr><tr><td>3</td><td>10000</td><td>1986-04-30</td><td>-0.098592</td></tr><tr><td>4</td><td>10000</td><td>1986-05-30</td><td>-0.222656</td></tr><tr><td>&hellip;</td><td>&hellip;</td><td>&hellip;</td><td>&hellip;</td></tr><tr><td>487268</td><td>93436</td><td>2023-08-31</td><td>-0.034962</td></tr><tr><td>487269</td><td>93436</td><td>2023-09-29</td><td>-0.030456</td></tr><tr><td>487270</td><td>93436</td><td>2023-10-31</td><td>-0.197346</td></tr><tr><td>487271</td><td>93436</td><td>2023-11-30</td><td>0.195379</td></tr><tr><td>487272</td><td>93436</td><td>2023-12-29</td><td>0.034988</td></tr></tbody></table></div>"
      ],
      "text/plain": [
       "shape: (3_487_273, 4)\n",
       "┌────────┬────────┬────────────┬───────────┐\n",
       "│        ┆ permno ┆ date       ┆ ret       │\n",
       "│ ---    ┆ ---    ┆ ---        ┆ ---       │\n",
       "│ i64    ┆ i64    ┆ date       ┆ f64       │\n",
       "╞════════╪════════╪════════════╪═══════════╡\n",
       "│ 0      ┆ 10000  ┆ 1986-01-31 ┆ null      │\n",
       "│ 1      ┆ 10000  ┆ 1986-02-28 ┆ -0.257143 │\n",
       "│ 2      ┆ 10000  ┆ 1986-03-31 ┆ 0.365385  │\n",
       "│ 3      ┆ 10000  ┆ 1986-04-30 ┆ -0.098592 │\n",
       "│ 4      ┆ 10000  ┆ 1986-05-30 ┆ -0.222656 │\n",
       "│ …      ┆ …      ┆ …          ┆ …         │\n",
       "│ 487268 ┆ 93436  ┆ 2023-08-31 ┆ -0.034962 │\n",
       "│ 487269 ┆ 93436  ┆ 2023-09-29 ┆ -0.030456 │\n",
       "│ 487270 ┆ 93436  ┆ 2023-10-31 ┆ -0.197346 │\n",
       "│ 487271 ┆ 93436  ┆ 2023-11-30 ┆ 0.195379  │\n",
       "│ 487272 ┆ 93436  ┆ 2023-12-29 ┆ 0.034988  │\n",
       "└────────┴────────┴────────────┴───────────┘"
      ]
     },
     "execution_count": 10,
     "metadata": {},
     "output_type": "execute_result"
    }
   ],
   "source": [
    "all_returns_df"
   ]
  },
  {
   "cell_type": "code",
   "execution_count": 11,
   "metadata": {},
   "outputs": [
    {
     "name": "stderr",
     "output_type": "stream",
     "text": [
      "/var/folders/qk/3qb7y7bs23l46_jb_xbrk_zw0000gn/T/ipykernel_99231/1299984043.py:1: DeprecationWarning: `apply` is deprecated. It has been renamed to `map_elements`.\n",
      "  all_returns_df.insert_column(2, pl.Series(\"yyyymm\", all_returns_df.get_column(\"date\").apply(lambda x: x.strftime(\"%Y%m\"))))\n",
      "/var/folders/qk/3qb7y7bs23l46_jb_xbrk_zw0000gn/T/ipykernel_99231/1299984043.py:1: MapWithoutReturnDtypeWarning: Calling `map_elements` without specifying `return_dtype` can lead to unpredictable results. Specify `return_dtype` to silence this warning.\n",
      "  all_returns_df.insert_column(2, pl.Series(\"yyyymm\", all_returns_df.get_column(\"date\").apply(lambda x: x.strftime(\"%Y%m\"))))\n"
     ]
    },
    {
     "data": {
      "text/html": [
       "<div><style>\n",
       ".dataframe > thead > tr,\n",
       ".dataframe > tbody > tr {\n",
       "  text-align: right;\n",
       "  white-space: pre-wrap;\n",
       "}\n",
       "</style>\n",
       "<small>shape: (3_487_273, 5)</small><table border=\"1\" class=\"dataframe\"><thead><tr><th></th><th>permno</th><th>yyyymm</th><th>date</th><th>ret</th></tr><tr><td>i64</td><td>i64</td><td>str</td><td>date</td><td>f64</td></tr></thead><tbody><tr><td>0</td><td>10000</td><td>&quot;198601&quot;</td><td>1986-01-31</td><td>null</td></tr><tr><td>1</td><td>10000</td><td>&quot;198602&quot;</td><td>1986-02-28</td><td>-0.257143</td></tr><tr><td>2</td><td>10000</td><td>&quot;198603&quot;</td><td>1986-03-31</td><td>0.365385</td></tr><tr><td>3</td><td>10000</td><td>&quot;198604&quot;</td><td>1986-04-30</td><td>-0.098592</td></tr><tr><td>4</td><td>10000</td><td>&quot;198605&quot;</td><td>1986-05-30</td><td>-0.222656</td></tr><tr><td>&hellip;</td><td>&hellip;</td><td>&hellip;</td><td>&hellip;</td><td>&hellip;</td></tr><tr><td>487268</td><td>93436</td><td>&quot;202308&quot;</td><td>2023-08-31</td><td>-0.034962</td></tr><tr><td>487269</td><td>93436</td><td>&quot;202309&quot;</td><td>2023-09-29</td><td>-0.030456</td></tr><tr><td>487270</td><td>93436</td><td>&quot;202310&quot;</td><td>2023-10-31</td><td>-0.197346</td></tr><tr><td>487271</td><td>93436</td><td>&quot;202311&quot;</td><td>2023-11-30</td><td>0.195379</td></tr><tr><td>487272</td><td>93436</td><td>&quot;202312&quot;</td><td>2023-12-29</td><td>0.034988</td></tr></tbody></table></div>"
      ],
      "text/plain": [
       "shape: (3_487_273, 5)\n",
       "┌────────┬────────┬────────┬────────────┬───────────┐\n",
       "│        ┆ permno ┆ yyyymm ┆ date       ┆ ret       │\n",
       "│ ---    ┆ ---    ┆ ---    ┆ ---        ┆ ---       │\n",
       "│ i64    ┆ i64    ┆ str    ┆ date       ┆ f64       │\n",
       "╞════════╪════════╪════════╪════════════╪═══════════╡\n",
       "│ 0      ┆ 10000  ┆ 198601 ┆ 1986-01-31 ┆ null      │\n",
       "│ 1      ┆ 10000  ┆ 198602 ┆ 1986-02-28 ┆ -0.257143 │\n",
       "│ 2      ┆ 10000  ┆ 198603 ┆ 1986-03-31 ┆ 0.365385  │\n",
       "│ 3      ┆ 10000  ┆ 198604 ┆ 1986-04-30 ┆ -0.098592 │\n",
       "│ 4      ┆ 10000  ┆ 198605 ┆ 1986-05-30 ┆ -0.222656 │\n",
       "│ …      ┆ …      ┆ …      ┆ …          ┆ …         │\n",
       "│ 487268 ┆ 93436  ┆ 202308 ┆ 2023-08-31 ┆ -0.034962 │\n",
       "│ 487269 ┆ 93436  ┆ 202309 ┆ 2023-09-29 ┆ -0.030456 │\n",
       "│ 487270 ┆ 93436  ┆ 202310 ┆ 2023-10-31 ┆ -0.197346 │\n",
       "│ 487271 ┆ 93436  ┆ 202311 ┆ 2023-11-30 ┆ 0.195379  │\n",
       "│ 487272 ┆ 93436  ┆ 202312 ┆ 2023-12-29 ┆ 0.034988  │\n",
       "└────────┴────────┴────────┴────────────┴───────────┘"
      ]
     },
     "execution_count": 11,
     "metadata": {},
     "output_type": "execute_result"
    }
   ],
   "source": [
    "all_returns_df.insert_column(2, pl.Series(\"yyyymm\", all_returns_df.get_column(\"date\").apply(lambda x: x.strftime(\"%Y%m\"))))"
   ]
  },
  {
   "cell_type": "code",
   "execution_count": 15,
   "metadata": {},
   "outputs": [
    {
     "data": {
      "text/html": [
       "<div><style>\n",
       ".dataframe > thead > tr,\n",
       ".dataframe > tbody > tr {\n",
       "  text-align: right;\n",
       "  white-space: pre-wrap;\n",
       "}\n",
       "</style>\n",
       "<small>shape: (3_487_273,)</small><table border=\"1\" class=\"dataframe\"><thead><tr><th></th></tr><tr><td>i64</td></tr></thead><tbody><tr><td>0</td></tr><tr><td>1</td></tr><tr><td>2</td></tr><tr><td>3</td></tr><tr><td>4</td></tr><tr><td>&hellip;</td></tr><tr><td>487268</td></tr><tr><td>487269</td></tr><tr><td>487270</td></tr><tr><td>487271</td></tr><tr><td>487272</td></tr></tbody></table></div>"
      ],
      "text/plain": [
       "shape: (3_487_273,)\n",
       "Series: '' [i64]\n",
       "[\n",
       "\t0\n",
       "\t1\n",
       "\t2\n",
       "\t3\n",
       "\t4\n",
       "\t…\n",
       "\t487268\n",
       "\t487269\n",
       "\t487270\n",
       "\t487271\n",
       "\t487272\n",
       "]"
      ]
     },
     "execution_count": 15,
     "metadata": {},
     "output_type": "execute_result"
    }
   ],
   "source": [
    "all_returns_df.drop_in_place(\"\")"
   ]
  },
  {
   "cell_type": "code",
   "execution_count": 19,
   "metadata": {},
   "outputs": [
    {
     "data": {
      "text/html": [
       "<div><style>\n",
       ".dataframe > thead > tr,\n",
       ".dataframe > tbody > tr {\n",
       "  text-align: right;\n",
       "  white-space: pre-wrap;\n",
       "}\n",
       "</style>\n",
       "<small>shape: (3_487_273, 4)</small><table border=\"1\" class=\"dataframe\"><thead><tr><th>permno</th><th>yyyymm</th><th>date</th><th>ret</th></tr><tr><td>i64</td><td>str</td><td>date</td><td>f64</td></tr></thead><tbody><tr><td>10000</td><td>&quot;198601&quot;</td><td>1986-01-31</td><td>null</td></tr><tr><td>10000</td><td>&quot;198602&quot;</td><td>1986-02-28</td><td>-0.257143</td></tr><tr><td>10000</td><td>&quot;198603&quot;</td><td>1986-03-31</td><td>0.365385</td></tr><tr><td>10000</td><td>&quot;198604&quot;</td><td>1986-04-30</td><td>-0.098592</td></tr><tr><td>10000</td><td>&quot;198605&quot;</td><td>1986-05-30</td><td>-0.222656</td></tr><tr><td>&hellip;</td><td>&hellip;</td><td>&hellip;</td><td>&hellip;</td></tr><tr><td>93436</td><td>&quot;202308&quot;</td><td>2023-08-31</td><td>-0.034962</td></tr><tr><td>93436</td><td>&quot;202309&quot;</td><td>2023-09-29</td><td>-0.030456</td></tr><tr><td>93436</td><td>&quot;202310&quot;</td><td>2023-10-31</td><td>-0.197346</td></tr><tr><td>93436</td><td>&quot;202311&quot;</td><td>2023-11-30</td><td>0.195379</td></tr><tr><td>93436</td><td>&quot;202312&quot;</td><td>2023-12-29</td><td>0.034988</td></tr></tbody></table></div>"
      ],
      "text/plain": [
       "shape: (3_487_273, 4)\n",
       "┌────────┬────────┬────────────┬───────────┐\n",
       "│ permno ┆ yyyymm ┆ date       ┆ ret       │\n",
       "│ ---    ┆ ---    ┆ ---        ┆ ---       │\n",
       "│ i64    ┆ str    ┆ date       ┆ f64       │\n",
       "╞════════╪════════╪════════════╪═══════════╡\n",
       "│ 10000  ┆ 198601 ┆ 1986-01-31 ┆ null      │\n",
       "│ 10000  ┆ 198602 ┆ 1986-02-28 ┆ -0.257143 │\n",
       "│ 10000  ┆ 198603 ┆ 1986-03-31 ┆ 0.365385  │\n",
       "│ 10000  ┆ 198604 ┆ 1986-04-30 ┆ -0.098592 │\n",
       "│ 10000  ┆ 198605 ┆ 1986-05-30 ┆ -0.222656 │\n",
       "│ …      ┆ …      ┆ …          ┆ …         │\n",
       "│ 93436  ┆ 202308 ┆ 2023-08-31 ┆ -0.034962 │\n",
       "│ 93436  ┆ 202309 ┆ 2023-09-29 ┆ -0.030456 │\n",
       "│ 93436  ┆ 202310 ┆ 2023-10-31 ┆ -0.197346 │\n",
       "│ 93436  ┆ 202311 ┆ 2023-11-30 ┆ 0.195379  │\n",
       "│ 93436  ┆ 202312 ┆ 2023-12-29 ┆ 0.034988  │\n",
       "└────────┴────────┴────────────┴───────────┘"
      ]
     },
     "execution_count": 19,
     "metadata": {},
     "output_type": "execute_result"
    }
   ],
   "source": [
    "all_returns_df"
   ]
  },
  {
   "cell_type": "code",
   "execution_count": 20,
   "metadata": {},
   "outputs": [],
   "source": [
    "full_data = full_data.join(all_returns_df, on=(\"permno\", \"yyyymm\"))"
   ]
  },
  {
   "cell_type": "code",
   "execution_count": 23,
   "metadata": {},
   "outputs": [],
   "source": [
    "full_data.write_csv(get_data_file_path(\"COMPLETE_DATASET.csv\"))"
   ]
  },
  {
   "cell_type": "code",
   "execution_count": 3,
   "metadata": {},
   "outputs": [],
   "source": [
    "data = pl.read_csv(get_data_file_path(\"signed_predictors_dl_wide.csv\"), dtypes=SIGNED_PREDICTORS_ENTRY_SCHEMA)\n",
    "# data = pd.read_csv(get_data_file_path(\"signed_predictors_dl_wide.csv\"), dtype=SIGNED_PREDICTORS_ENTRY_SCHEMA)"
   ]
  },
  {
   "cell_type": "code",
   "execution_count": 4,
   "metadata": {},
   "outputs": [
    {
     "data": {
      "text/html": [
       "<div><style>\n",
       ".dataframe > thead > tr,\n",
       ".dataframe > tbody > tr {\n",
       "  text-align: right;\n",
       "  white-space: pre-wrap;\n",
       "}\n",
       "</style>\n",
       "<small>shape: (5_156_870, 211)</small><table border=\"1\" class=\"dataframe\"><thead><tr><th>permno</th><th>yyyymm</th><th>AM</th><th>AOP</th><th>AbnormalAccruals</th><th>Accruals</th><th>AccrualsBM</th><th>Activism1</th><th>Activism2</th><th>AdExp</th><th>AgeIPO</th><th>AnalystRevision</th><th>AnalystValue</th><th>AnnouncementReturn</th><th>AssetGrowth</th><th>BM</th><th>BMdec</th><th>BPEBM</th><th>Beta</th><th>BetaFP</th><th>BetaLiquidityPS</th><th>BetaTailRisk</th><th>BidAskSpread</th><th>BookLeverage</th><th>BrandInvest</th><th>CBOperProf</th><th>CF</th><th>CPVolSpread</th><th>Cash</th><th>CashProd</th><th>ChAssetTurnover</th><th>ChEQ</th><th>ChForecastAccrual</th><th>ChInv</th><th>ChInvIA</th><th>ChNAnalyst</th><th>ChNNCOA</th><th>&hellip;</th><th>ShareVol</th><th>ShortInterest</th><th>SmileSlope</th><th>Spinoff</th><th>SurpriseRD</th><th>Tax</th><th>TotalAccruals</th><th>TrendFactor</th><th>UpRecomm</th><th>VarCF</th><th>VolMkt</th><th>VolSD</th><th>VolumeTrend</th><th>XFIN</th><th>betaVIX</th><th>cfp</th><th>dCPVolSpread</th><th>dNoa</th><th>dVolCall</th><th>dVolPut</th><th>fgr5yrLag</th><th>grcapx</th><th>grcapx3y</th><th>hire</th><th>iomom_cust</th><th>iomom_supp</th><th>realestate</th><th>retConglomerate</th><th>roaq</th><th>sfe</th><th>sinAlgo</th><th>skew1</th><th>std_turn</th><th>tang</th><th>zerotrade</th><th>zerotradeAlt1</th><th>zerotradeAlt12</th></tr><tr><td>i64</td><td>str</td><td>f64</td><td>f64</td><td>f64</td><td>f64</td><td>f64</td><td>f64</td><td>f64</td><td>f64</td><td>f64</td><td>f64</td><td>f64</td><td>f64</td><td>f64</td><td>f64</td><td>f64</td><td>f64</td><td>f64</td><td>f64</td><td>f64</td><td>f64</td><td>f64</td><td>f64</td><td>f64</td><td>f64</td><td>f64</td><td>f64</td><td>f64</td><td>f64</td><td>f64</td><td>f64</td><td>f64</td><td>f64</td><td>f64</td><td>f64</td><td>f64</td><td>&hellip;</td><td>f64</td><td>f64</td><td>f64</td><td>f64</td><td>f64</td><td>f64</td><td>f64</td><td>f64</td><td>f64</td><td>f64</td><td>f64</td><td>f64</td><td>f64</td><td>f64</td><td>f64</td><td>f64</td><td>f64</td><td>f64</td><td>f64</td><td>f64</td><td>f64</td><td>f64</td><td>f64</td><td>f64</td><td>f64</td><td>f64</td><td>f64</td><td>f64</td><td>f64</td><td>f64</td><td>f64</td><td>f64</td><td>f64</td><td>f64</td><td>f64</td><td>f64</td><td>f64</td></tr></thead><tbody><tr><td>10000</td><td>&quot;198601&quot;</td><td>null</td><td>null</td><td>null</td><td>null</td><td>null</td><td>null</td><td>null</td><td>null</td><td>null</td><td>null</td><td>null</td><td>null</td><td>null</td><td>null</td><td>null</td><td>null</td><td>null</td><td>null</td><td>null</td><td>null</td><td>null</td><td>null</td><td>null</td><td>null</td><td>null</td><td>null</td><td>null</td><td>null</td><td>null</td><td>null</td><td>null</td><td>null</td><td>null</td><td>null</td><td>null</td><td>&hellip;</td><td>-1.0</td><td>null</td><td>null</td><td>0.0</td><td>null</td><td>null</td><td>null</td><td>null</td><td>null</td><td>null</td><td>null</td><td>null</td><td>null</td><td>null</td><td>-0.005234</td><td>null</td><td>null</td><td>null</td><td>null</td><td>null</td><td>null</td><td>null</td><td>null</td><td>null</td><td>null</td><td>null</td><td>null</td><td>null</td><td>null</td><td>null</td><td>null</td><td>null</td><td>null</td><td>null</td><td>null</td><td>null</td><td>null</td></tr><tr><td>10000</td><td>&quot;198602&quot;</td><td>null</td><td>null</td><td>null</td><td>null</td><td>null</td><td>null</td><td>null</td><td>null</td><td>null</td><td>null</td><td>null</td><td>null</td><td>null</td><td>null</td><td>null</td><td>null</td><td>null</td><td>null</td><td>null</td><td>null</td><td>null</td><td>null</td><td>null</td><td>null</td><td>null</td><td>null</td><td>null</td><td>null</td><td>null</td><td>null</td><td>null</td><td>null</td><td>null</td><td>null</td><td>null</td><td>&hellip;</td><td>-1.0</td><td>null</td><td>null</td><td>0.0</td><td>null</td><td>null</td><td>null</td><td>null</td><td>null</td><td>null</td><td>null</td><td>null</td><td>null</td><td>null</td><td>-0.003488</td><td>null</td><td>null</td><td>null</td><td>null</td><td>null</td><td>null</td><td>null</td><td>null</td><td>null</td><td>null</td><td>null</td><td>null</td><td>null</td><td>null</td><td>null</td><td>null</td><td>null</td><td>null</td><td>null</td><td>null</td><td>4.7852e-8</td><td>null</td></tr><tr><td>10000</td><td>&quot;198603&quot;</td><td>null</td><td>null</td><td>null</td><td>null</td><td>null</td><td>null</td><td>null</td><td>null</td><td>null</td><td>null</td><td>null</td><td>null</td><td>null</td><td>null</td><td>null</td><td>null</td><td>null</td><td>null</td><td>null</td><td>null</td><td>null</td><td>null</td><td>null</td><td>null</td><td>null</td><td>null</td><td>null</td><td>null</td><td>null</td><td>null</td><td>null</td><td>null</td><td>null</td><td>null</td><td>null</td><td>&hellip;</td><td>0.0</td><td>null</td><td>null</td><td>0.0</td><td>null</td><td>null</td><td>null</td><td>null</td><td>null</td><td>null</td><td>null</td><td>null</td><td>null</td><td>null</td><td>-0.002715</td><td>null</td><td>null</td><td>null</td><td>null</td><td>null</td><td>null</td><td>null</td><td>null</td><td>null</td><td>null</td><td>null</td><td>null</td><td>null</td><td>null</td><td>null</td><td>null</td><td>null</td><td>null</td><td>null</td><td>null</td><td>1.0234e-7</td><td>null</td></tr><tr><td>10000</td><td>&quot;198604&quot;</td><td>null</td><td>null</td><td>null</td><td>null</td><td>null</td><td>null</td><td>null</td><td>null</td><td>null</td><td>null</td><td>null</td><td>null</td><td>null</td><td>null</td><td>null</td><td>null</td><td>null</td><td>null</td><td>null</td><td>null</td><td>null</td><td>null</td><td>null</td><td>null</td><td>null</td><td>null</td><td>null</td><td>null</td><td>null</td><td>null</td><td>null</td><td>null</td><td>null</td><td>null</td><td>null</td><td>&hellip;</td><td>null</td><td>null</td><td>null</td><td>0.0</td><td>null</td><td>null</td><td>null</td><td>null</td><td>null</td><td>null</td><td>null</td><td>null</td><td>null</td><td>null</td><td>0.000877</td><td>null</td><td>null</td><td>null</td><td>null</td><td>null</td><td>null</td><td>null</td><td>null</td><td>null</td><td>null</td><td>null</td><td>null</td><td>null</td><td>null</td><td>null</td><td>null</td><td>null</td><td>null</td><td>null</td><td>null</td><td>7.4675e-8</td><td>null</td></tr><tr><td>10000</td><td>&quot;198605&quot;</td><td>null</td><td>null</td><td>null</td><td>null</td><td>null</td><td>null</td><td>null</td><td>null</td><td>null</td><td>null</td><td>null</td><td>null</td><td>null</td><td>null</td><td>null</td><td>null</td><td>null</td><td>null</td><td>null</td><td>null</td><td>null</td><td>null</td><td>null</td><td>null</td><td>null</td><td>null</td><td>null</td><td>null</td><td>null</td><td>null</td><td>null</td><td>null</td><td>null</td><td>null</td><td>null</td><td>&hellip;</td><td>null</td><td>null</td><td>null</td><td>0.0</td><td>null</td><td>null</td><td>null</td><td>null</td><td>null</td><td>null</td><td>null</td><td>null</td><td>null</td><td>null</td><td>0.008818</td><td>null</td><td>null</td><td>null</td><td>null</td><td>null</td><td>null</td><td>null</td><td>null</td><td>null</td><td>null</td><td>null</td><td>null</td><td>null</td><td>null</td><td>null</td><td>null</td><td>null</td><td>null</td><td>null</td><td>null</td><td>7.6496e-8</td><td>null</td></tr><tr><td>&hellip;</td><td>&hellip;</td><td>&hellip;</td><td>&hellip;</td><td>&hellip;</td><td>&hellip;</td><td>&hellip;</td><td>&hellip;</td><td>&hellip;</td><td>&hellip;</td><td>&hellip;</td><td>&hellip;</td><td>&hellip;</td><td>&hellip;</td><td>&hellip;</td><td>&hellip;</td><td>&hellip;</td><td>&hellip;</td><td>&hellip;</td><td>&hellip;</td><td>&hellip;</td><td>&hellip;</td><td>&hellip;</td><td>&hellip;</td><td>&hellip;</td><td>&hellip;</td><td>&hellip;</td><td>&hellip;</td><td>&hellip;</td><td>&hellip;</td><td>&hellip;</td><td>&hellip;</td><td>&hellip;</td><td>&hellip;</td><td>&hellip;</td><td>&hellip;</td><td>&hellip;</td><td>&hellip;</td><td>&hellip;</td><td>&hellip;</td><td>&hellip;</td><td>&hellip;</td><td>&hellip;</td><td>&hellip;</td><td>&hellip;</td><td>&hellip;</td><td>&hellip;</td><td>&hellip;</td><td>&hellip;</td><td>&hellip;</td><td>&hellip;</td><td>&hellip;</td><td>&hellip;</td><td>&hellip;</td><td>&hellip;</td><td>&hellip;</td><td>&hellip;</td><td>&hellip;</td><td>&hellip;</td><td>&hellip;</td><td>&hellip;</td><td>&hellip;</td><td>&hellip;</td><td>&hellip;</td><td>&hellip;</td><td>&hellip;</td><td>&hellip;</td><td>&hellip;</td><td>&hellip;</td><td>&hellip;</td><td>&hellip;</td><td>&hellip;</td><td>&hellip;</td><td>&hellip;</td><td>&hellip;</td></tr><tr><td>93436</td><td>&quot;202401&quot;</td><td>null</td><td>null</td><td>-0.003877</td><td>0.016862</td><td>null</td><td>null</td><td>null</td><td>null</td><td>null</td><td>null</td><td>null</td><td>null</td><td>-0.325232</td><td>null</td><td>null</td><td>null</td><td>null</td><td>null</td><td>null</td><td>null</td><td>null</td><td>-1.838476</td><td>null</td><td>null</td><td>null</td><td>null</td><td>null</td><td>null</td><td>0.598015</td><td>-1.480804</td><td>null</td><td>-0.098042</td><td>null</td><td>null</td><td>0.097266</td><td>&hellip;</td><td>null</td><td>null</td><td>null</td><td>null</td><td>0.0</td><td>0.288081</td><td>-0.223286</td><td>null</td><td>null</td><td>null</td><td>null</td><td>null</td><td>null</td><td>0.040382</td><td>null</td><td>null</td><td>null</td><td>-0.109511</td><td>null</td><td>null</td><td>null</td><td>null</td><td>null</td><td>-0.251513</td><td>null</td><td>null</td><td>null</td><td>null</td><td>null</td><td>null</td><td>null</td><td>null</td><td>null</td><td>0.698178</td><td>null</td><td>null</td><td>null</td></tr><tr><td>93436</td><td>&quot;202402&quot;</td><td>null</td><td>null</td><td>-0.003877</td><td>0.016862</td><td>null</td><td>null</td><td>null</td><td>null</td><td>null</td><td>null</td><td>null</td><td>null</td><td>-0.325232</td><td>null</td><td>null</td><td>null</td><td>null</td><td>null</td><td>null</td><td>null</td><td>null</td><td>-1.838476</td><td>null</td><td>null</td><td>null</td><td>null</td><td>null</td><td>null</td><td>0.598015</td><td>-1.480804</td><td>null</td><td>-0.098042</td><td>null</td><td>null</td><td>0.097266</td><td>&hellip;</td><td>null</td><td>null</td><td>null</td><td>null</td><td>0.0</td><td>0.288081</td><td>-0.223286</td><td>null</td><td>null</td><td>null</td><td>null</td><td>null</td><td>null</td><td>0.040382</td><td>null</td><td>null</td><td>null</td><td>-0.109511</td><td>null</td><td>null</td><td>null</td><td>null</td><td>null</td><td>-0.251513</td><td>null</td><td>null</td><td>null</td><td>null</td><td>null</td><td>null</td><td>null</td><td>null</td><td>null</td><td>0.698178</td><td>null</td><td>null</td><td>null</td></tr><tr><td>93436</td><td>&quot;202403&quot;</td><td>null</td><td>null</td><td>-0.003877</td><td>0.016862</td><td>null</td><td>null</td><td>null</td><td>null</td><td>null</td><td>null</td><td>null</td><td>null</td><td>-0.325232</td><td>null</td><td>null</td><td>null</td><td>null</td><td>null</td><td>null</td><td>null</td><td>null</td><td>-1.838476</td><td>null</td><td>null</td><td>null</td><td>null</td><td>null</td><td>null</td><td>0.598015</td><td>-1.480804</td><td>null</td><td>-0.098042</td><td>null</td><td>null</td><td>0.097266</td><td>&hellip;</td><td>null</td><td>null</td><td>null</td><td>null</td><td>0.0</td><td>0.288081</td><td>-0.223286</td><td>null</td><td>null</td><td>null</td><td>null</td><td>null</td><td>null</td><td>0.040382</td><td>null</td><td>null</td><td>null</td><td>-0.109511</td><td>null</td><td>null</td><td>null</td><td>null</td><td>null</td><td>-0.251513</td><td>null</td><td>null</td><td>null</td><td>null</td><td>null</td><td>null</td><td>null</td><td>null</td><td>null</td><td>0.698178</td><td>null</td><td>null</td><td>null</td></tr><tr><td>93436</td><td>&quot;202404&quot;</td><td>null</td><td>null</td><td>-0.003877</td><td>0.016862</td><td>null</td><td>null</td><td>null</td><td>null</td><td>null</td><td>null</td><td>null</td><td>null</td><td>-0.325232</td><td>null</td><td>null</td><td>null</td><td>null</td><td>null</td><td>null</td><td>null</td><td>null</td><td>-1.838476</td><td>null</td><td>null</td><td>null</td><td>null</td><td>null</td><td>null</td><td>0.598015</td><td>-1.480804</td><td>null</td><td>-0.098042</td><td>null</td><td>null</td><td>0.097266</td><td>&hellip;</td><td>null</td><td>null</td><td>null</td><td>null</td><td>0.0</td><td>0.288081</td><td>-0.223286</td><td>null</td><td>null</td><td>null</td><td>null</td><td>null</td><td>null</td><td>0.040382</td><td>null</td><td>null</td><td>null</td><td>-0.109511</td><td>null</td><td>null</td><td>null</td><td>null</td><td>null</td><td>-0.251513</td><td>null</td><td>null</td><td>null</td><td>null</td><td>null</td><td>null</td><td>null</td><td>null</td><td>null</td><td>0.698178</td><td>null</td><td>null</td><td>null</td></tr><tr><td>93436</td><td>&quot;202405&quot;</td><td>null</td><td>null</td><td>-0.003877</td><td>0.016862</td><td>null</td><td>null</td><td>null</td><td>null</td><td>null</td><td>null</td><td>null</td><td>null</td><td>-0.325232</td><td>null</td><td>null</td><td>null</td><td>null</td><td>null</td><td>null</td><td>null</td><td>null</td><td>-1.838476</td><td>null</td><td>null</td><td>null</td><td>null</td><td>null</td><td>null</td><td>0.598015</td><td>-1.480804</td><td>null</td><td>-0.098042</td><td>null</td><td>null</td><td>0.097266</td><td>&hellip;</td><td>null</td><td>null</td><td>null</td><td>null</td><td>0.0</td><td>0.288081</td><td>-0.223286</td><td>null</td><td>null</td><td>null</td><td>null</td><td>null</td><td>null</td><td>0.040382</td><td>null</td><td>null</td><td>null</td><td>-0.109511</td><td>null</td><td>null</td><td>null</td><td>null</td><td>null</td><td>-0.251513</td><td>null</td><td>null</td><td>null</td><td>null</td><td>null</td><td>null</td><td>null</td><td>null</td><td>null</td><td>0.698178</td><td>null</td><td>null</td><td>null</td></tr></tbody></table></div>"
      ],
      "text/plain": [
       "shape: (5_156_870, 211)\n",
       "┌────────┬────────┬──────┬──────┬───┬──────────┬───────────┬───────────────┬────────────────┐\n",
       "│ permno ┆ yyyymm ┆ AM   ┆ AOP  ┆ … ┆ tang     ┆ zerotrade ┆ zerotradeAlt1 ┆ zerotradeAlt12 │\n",
       "│ ---    ┆ ---    ┆ ---  ┆ ---  ┆   ┆ ---      ┆ ---       ┆ ---           ┆ ---            │\n",
       "│ i64    ┆ str    ┆ f64  ┆ f64  ┆   ┆ f64      ┆ f64       ┆ f64           ┆ f64            │\n",
       "╞════════╪════════╪══════╪══════╪═══╪══════════╪═══════════╪═══════════════╪════════════════╡\n",
       "│ 10000  ┆ 198601 ┆ null ┆ null ┆ … ┆ null     ┆ null      ┆ null          ┆ null           │\n",
       "│ 10000  ┆ 198602 ┆ null ┆ null ┆ … ┆ null     ┆ null      ┆ 4.7852e-8     ┆ null           │\n",
       "│ 10000  ┆ 198603 ┆ null ┆ null ┆ … ┆ null     ┆ null      ┆ 1.0234e-7     ┆ null           │\n",
       "│ 10000  ┆ 198604 ┆ null ┆ null ┆ … ┆ null     ┆ null      ┆ 7.4675e-8     ┆ null           │\n",
       "│ 10000  ┆ 198605 ┆ null ┆ null ┆ … ┆ null     ┆ null      ┆ 7.6496e-8     ┆ null           │\n",
       "│ …      ┆ …      ┆ …    ┆ …    ┆ … ┆ …        ┆ …         ┆ …             ┆ …              │\n",
       "│ 93436  ┆ 202401 ┆ null ┆ null ┆ … ┆ 0.698178 ┆ null      ┆ null          ┆ null           │\n",
       "│ 93436  ┆ 202402 ┆ null ┆ null ┆ … ┆ 0.698178 ┆ null      ┆ null          ┆ null           │\n",
       "│ 93436  ┆ 202403 ┆ null ┆ null ┆ … ┆ 0.698178 ┆ null      ┆ null          ┆ null           │\n",
       "│ 93436  ┆ 202404 ┆ null ┆ null ┆ … ┆ 0.698178 ┆ null      ┆ null          ┆ null           │\n",
       "│ 93436  ┆ 202405 ┆ null ┆ null ┆ … ┆ 0.698178 ┆ null      ┆ null          ┆ null           │\n",
       "└────────┴────────┴──────┴──────┴───┴──────────┴───────────┴───────────────┴────────────────┘"
      ]
     },
     "execution_count": 4,
     "metadata": {},
     "output_type": "execute_result"
    }
   ],
   "source": [
    "data"
   ]
  },
  {
   "cell_type": "code",
   "execution_count": 18,
   "metadata": {},
   "outputs": [],
   "source": [
    "# Handle missing values\n",
    "imputer = SimpleImputer(strategy=\"mean\")\n",
    "all_predictors_imputed = imputer.fit_transform(data)"
   ]
  },
  {
   "cell_type": "code",
   "execution_count": 21,
   "metadata": {},
   "outputs": [],
   "source": [
    "with open(get_data_file_path(\"all_predictors_imputed.pkl\"), \"wb\") as f:\n",
    "    pickle.dump(all_predictors_imputed, f)"
   ]
  },
  {
   "cell_type": "code",
   "execution_count": 3,
   "metadata": {},
   "outputs": [],
   "source": [
    "with open(get_data_file_path(\"all_predictors_imputed.pkl\"), \"rb\") as f:\n",
    "    all_predictors_imputed = pickle.load(f)"
   ]
  },
  {
   "cell_type": "code",
   "execution_count": 5,
   "metadata": {},
   "outputs": [],
   "source": [
    "data_imputed = pl.DataFrame(all_predictors_imputed, schema=SIGNED_PREDICTORS_ENTRY_SCHEMA)"
   ]
  },
  {
   "cell_type": "code",
   "execution_count": 6,
   "metadata": {},
   "outputs": [
    {
     "name": "stderr",
     "output_type": "stream",
     "text": [
      "/var/folders/qk/3qb7y7bs23l46_jb_xbrk_zw0000gn/T/ipykernel_19284/83776391.py:1: DeprecationWarning: `replace` is deprecated. DataFrame.replace is deprecated and will be removed in a future version. Please use\n",
      "    df = df.with_columns(new_column.alias(column_name))\n",
      "instead.\n",
      "  _ = data_imputed.replace(\"yyyymm\", data_imputed.get_column(\"yyyymm\").str.strip_chars(\".0\"))\n"
     ]
    }
   ],
   "source": [
    "_ = data_imputed.replace(\"yyyymm\", data_imputed.get_column(\"yyyymm\").str.strip_chars(\".0\"))\n",
    "del _"
   ]
  },
  {
   "cell_type": "code",
   "execution_count": 8,
   "metadata": {},
   "outputs": [],
   "source": [
    "with open(get_data_file_path(\"all_predictors_imputed_df.pkl\"), \"wb\") as f:\n",
    "    pickle.dump(data_imputed, f)"
   ]
  },
  {
   "cell_type": "code",
   "execution_count": 3,
   "metadata": {},
   "outputs": [],
   "source": [
    "with open(get_data_file_path(\"all_predictors_imputed_df.pkl\"), \"rb\") as f:\n",
    "    data_imputed: pl.DataFrame = pickle.load(f)"
   ]
  },
  {
   "cell_type": "code",
   "execution_count": 4,
   "metadata": {},
   "outputs": [
    {
     "data": {
      "text/html": [
       "<div><style>\n",
       ".dataframe > thead > tr,\n",
       ".dataframe > tbody > tr {\n",
       "  text-align: right;\n",
       "  white-space: pre-wrap;\n",
       "}\n",
       "</style>\n",
       "<small>shape: (5_156_870, 211)</small><table border=\"1\" class=\"dataframe\"><thead><tr><th>permno</th><th>yyyymm</th><th>AM</th><th>AOP</th><th>AbnormalAccruals</th><th>Accruals</th><th>AccrualsBM</th><th>Activism1</th><th>Activism2</th><th>AdExp</th><th>AgeIPO</th><th>AnalystRevision</th><th>AnalystValue</th><th>AnnouncementReturn</th><th>AssetGrowth</th><th>BM</th><th>BMdec</th><th>BPEBM</th><th>Beta</th><th>BetaFP</th><th>BetaLiquidityPS</th><th>BetaTailRisk</th><th>BidAskSpread</th><th>BookLeverage</th><th>BrandInvest</th><th>CBOperProf</th><th>CF</th><th>CPVolSpread</th><th>Cash</th><th>CashProd</th><th>ChAssetTurnover</th><th>ChEQ</th><th>ChForecastAccrual</th><th>ChInv</th><th>ChInvIA</th><th>ChNAnalyst</th><th>ChNNCOA</th><th>&hellip;</th><th>ShareVol</th><th>ShortInterest</th><th>SmileSlope</th><th>Spinoff</th><th>SurpriseRD</th><th>Tax</th><th>TotalAccruals</th><th>TrendFactor</th><th>UpRecomm</th><th>VarCF</th><th>VolMkt</th><th>VolSD</th><th>VolumeTrend</th><th>XFIN</th><th>betaVIX</th><th>cfp</th><th>dCPVolSpread</th><th>dNoa</th><th>dVolCall</th><th>dVolPut</th><th>fgr5yrLag</th><th>grcapx</th><th>grcapx3y</th><th>hire</th><th>iomom_cust</th><th>iomom_supp</th><th>realestate</th><th>retConglomerate</th><th>roaq</th><th>sfe</th><th>sinAlgo</th><th>skew1</th><th>std_turn</th><th>tang</th><th>zerotrade</th><th>zerotradeAlt1</th><th>zerotradeAlt12</th></tr><tr><td>i64</td><td>str</td><td>f64</td><td>f64</td><td>f64</td><td>f64</td><td>f64</td><td>f64</td><td>f64</td><td>f64</td><td>f64</td><td>f64</td><td>f64</td><td>f64</td><td>f64</td><td>f64</td><td>f64</td><td>f64</td><td>f64</td><td>f64</td><td>f64</td><td>f64</td><td>f64</td><td>f64</td><td>f64</td><td>f64</td><td>f64</td><td>f64</td><td>f64</td><td>f64</td><td>f64</td><td>f64</td><td>f64</td><td>f64</td><td>f64</td><td>f64</td><td>f64</td><td>&hellip;</td><td>f64</td><td>f64</td><td>f64</td><td>f64</td><td>f64</td><td>f64</td><td>f64</td><td>f64</td><td>f64</td><td>f64</td><td>f64</td><td>f64</td><td>f64</td><td>f64</td><td>f64</td><td>f64</td><td>f64</td><td>f64</td><td>f64</td><td>f64</td><td>f64</td><td>f64</td><td>f64</td><td>f64</td><td>f64</td><td>f64</td><td>f64</td><td>f64</td><td>f64</td><td>f64</td><td>f64</td><td>f64</td><td>f64</td><td>f64</td><td>f64</td><td>f64</td><td>f64</td></tr></thead><tbody><tr><td>10000</td><td>&quot;198601&quot;</td><td>3.679108</td><td>-165.572065</td><td>0.000082</td><td>0.031046</td><td>0.483201</td><td>14.8865</td><td>9.263089</td><td>0.075071</td><td>18.541335</td><td>1.006447</td><td>0.756109</td><td>0.00265</td><td>-0.176024</td><td>-0.726098</td><td>2.955261</td><td>0.010867</td><td>0.989357</td><td>0.973176</td><td>-0.000942</td><td>0.641241</td><td>0.016827</td><td>-4.025639</td><td>-2575.475564</td><td>0.093091</td><td>0.009326</td><td>-0.009441</td><td>0.163636</td><td>12.959522</td><td>-0.05317</td><td>-1.314422</td><td>0.4765</td><td>-0.010126</td><td>1184.389561</td><td>-0.145632</td><td>0.003044</td><td>&hellip;</td><td>-1.0</td><td>-32793.262891</td><td>-0.005706</td><td>0.0</td><td>0.287186</td><td>1.166194</td><td>-0.003901</td><td>0.215255</td><td>0.352181</td><td>-0.86924</td><td>-0.170444</td><td>-4.679102</td><td>-0.005833</td><td>-0.062235</td><td>-0.005234</td><td>0.004548</td><td>0.000138</td><td>-0.098494</td><td>0.000396</td><td>-0.000534</td><td>-16.780281</td><td>-3.378635</td><td>-3.0530e10</td><td>-0.036986</td><td>1.725571</td><td>1.59892</td><td>-5.7231e-11</td><td>0.010997</td><td>-0.007297</td><td>-0.002534</td><td>0.17759</td><td>-0.067404</td><td>-0.168298</td><td>0.692479</td><td>1.483897</td><td>1.569696</td><td>1.417246</td></tr><tr><td>10000</td><td>&quot;198602&quot;</td><td>3.679108</td><td>-165.572065</td><td>0.000082</td><td>0.031046</td><td>0.483201</td><td>14.8865</td><td>9.263089</td><td>0.075071</td><td>18.541335</td><td>1.006447</td><td>0.756109</td><td>0.00265</td><td>-0.176024</td><td>-0.726098</td><td>2.955261</td><td>0.010867</td><td>0.989357</td><td>0.973176</td><td>-0.000942</td><td>0.641241</td><td>0.016827</td><td>-4.025639</td><td>-2575.475564</td><td>0.093091</td><td>0.009326</td><td>-0.009441</td><td>0.163636</td><td>12.959522</td><td>-0.05317</td><td>-1.314422</td><td>0.4765</td><td>-0.010126</td><td>1184.389561</td><td>-0.145632</td><td>0.003044</td><td>&hellip;</td><td>-1.0</td><td>-32793.262891</td><td>-0.005706</td><td>0.0</td><td>0.287186</td><td>1.166194</td><td>-0.003901</td><td>0.215255</td><td>0.352181</td><td>-0.86924</td><td>-0.170444</td><td>-4.679102</td><td>-0.005833</td><td>-0.062235</td><td>-0.003488</td><td>0.004548</td><td>0.000138</td><td>-0.098494</td><td>0.000396</td><td>-0.000534</td><td>-16.780281</td><td>-3.378635</td><td>-3.0530e10</td><td>-0.036986</td><td>1.725571</td><td>1.59892</td><td>-5.7231e-11</td><td>0.010997</td><td>-0.007297</td><td>-0.002534</td><td>0.17759</td><td>-0.067404</td><td>-0.168298</td><td>0.692479</td><td>1.483897</td><td>4.7852e-8</td><td>1.417246</td></tr><tr><td>10000</td><td>&quot;198603&quot;</td><td>3.679108</td><td>-165.572065</td><td>0.000082</td><td>0.031046</td><td>0.483201</td><td>14.8865</td><td>9.263089</td><td>0.075071</td><td>18.541335</td><td>1.006447</td><td>0.756109</td><td>0.00265</td><td>-0.176024</td><td>-0.726098</td><td>2.955261</td><td>0.010867</td><td>0.989357</td><td>0.973176</td><td>-0.000942</td><td>0.641241</td><td>0.016827</td><td>-4.025639</td><td>-2575.475564</td><td>0.093091</td><td>0.009326</td><td>-0.009441</td><td>0.163636</td><td>12.959522</td><td>-0.05317</td><td>-1.314422</td><td>0.4765</td><td>-0.010126</td><td>1184.389561</td><td>-0.145632</td><td>0.003044</td><td>&hellip;</td><td>0.0</td><td>-32793.262891</td><td>-0.005706</td><td>0.0</td><td>0.287186</td><td>1.166194</td><td>-0.003901</td><td>0.215255</td><td>0.352181</td><td>-0.86924</td><td>-0.170444</td><td>-4.679102</td><td>-0.005833</td><td>-0.062235</td><td>-0.002715</td><td>0.004548</td><td>0.000138</td><td>-0.098494</td><td>0.000396</td><td>-0.000534</td><td>-16.780281</td><td>-3.378635</td><td>-3.0530e10</td><td>-0.036986</td><td>1.725571</td><td>1.59892</td><td>-5.7231e-11</td><td>0.010997</td><td>-0.007297</td><td>-0.002534</td><td>0.17759</td><td>-0.067404</td><td>-0.168298</td><td>0.692479</td><td>1.483897</td><td>1.0234e-7</td><td>1.417246</td></tr><tr><td>10000</td><td>&quot;198604&quot;</td><td>3.679108</td><td>-165.572065</td><td>0.000082</td><td>0.031046</td><td>0.483201</td><td>14.8865</td><td>9.263089</td><td>0.075071</td><td>18.541335</td><td>1.006447</td><td>0.756109</td><td>0.00265</td><td>-0.176024</td><td>-0.726098</td><td>2.955261</td><td>0.010867</td><td>0.989357</td><td>0.973176</td><td>-0.000942</td><td>0.641241</td><td>0.016827</td><td>-4.025639</td><td>-2575.475564</td><td>0.093091</td><td>0.009326</td><td>-0.009441</td><td>0.163636</td><td>12.959522</td><td>-0.05317</td><td>-1.314422</td><td>0.4765</td><td>-0.010126</td><td>1184.389561</td><td>-0.145632</td><td>0.003044</td><td>&hellip;</td><td>-0.30328</td><td>-32793.262891</td><td>-0.005706</td><td>0.0</td><td>0.287186</td><td>1.166194</td><td>-0.003901</td><td>0.215255</td><td>0.352181</td><td>-0.86924</td><td>-0.170444</td><td>-4.679102</td><td>-0.005833</td><td>-0.062235</td><td>0.000877</td><td>0.004548</td><td>0.000138</td><td>-0.098494</td><td>0.000396</td><td>-0.000534</td><td>-16.780281</td><td>-3.378635</td><td>-3.0530e10</td><td>-0.036986</td><td>1.725571</td><td>1.59892</td><td>-5.7231e-11</td><td>0.010997</td><td>-0.007297</td><td>-0.002534</td><td>0.17759</td><td>-0.067404</td><td>-0.168298</td><td>0.692479</td><td>1.483897</td><td>7.4675e-8</td><td>1.417246</td></tr><tr><td>10000</td><td>&quot;198605&quot;</td><td>3.679108</td><td>-165.572065</td><td>0.000082</td><td>0.031046</td><td>0.483201</td><td>14.8865</td><td>9.263089</td><td>0.075071</td><td>18.541335</td><td>1.006447</td><td>0.756109</td><td>0.00265</td><td>-0.176024</td><td>-0.726098</td><td>2.955261</td><td>0.010867</td><td>0.989357</td><td>0.973176</td><td>-0.000942</td><td>0.641241</td><td>0.016827</td><td>-4.025639</td><td>-2575.475564</td><td>0.093091</td><td>0.009326</td><td>-0.009441</td><td>0.163636</td><td>12.959522</td><td>-0.05317</td><td>-1.314422</td><td>0.4765</td><td>-0.010126</td><td>1184.389561</td><td>-0.145632</td><td>0.003044</td><td>&hellip;</td><td>-0.30328</td><td>-32793.262891</td><td>-0.005706</td><td>0.0</td><td>0.287186</td><td>1.166194</td><td>-0.003901</td><td>0.215255</td><td>0.352181</td><td>-0.86924</td><td>-0.170444</td><td>-4.679102</td><td>-0.005833</td><td>-0.062235</td><td>0.008818</td><td>0.004548</td><td>0.000138</td><td>-0.098494</td><td>0.000396</td><td>-0.000534</td><td>-16.780281</td><td>-3.378635</td><td>-3.0530e10</td><td>-0.036986</td><td>1.725571</td><td>1.59892</td><td>-5.7231e-11</td><td>0.010997</td><td>-0.007297</td><td>-0.002534</td><td>0.17759</td><td>-0.067404</td><td>-0.168298</td><td>0.692479</td><td>1.483897</td><td>7.6496e-8</td><td>1.417246</td></tr><tr><td>&hellip;</td><td>&hellip;</td><td>&hellip;</td><td>&hellip;</td><td>&hellip;</td><td>&hellip;</td><td>&hellip;</td><td>&hellip;</td><td>&hellip;</td><td>&hellip;</td><td>&hellip;</td><td>&hellip;</td><td>&hellip;</td><td>&hellip;</td><td>&hellip;</td><td>&hellip;</td><td>&hellip;</td><td>&hellip;</td><td>&hellip;</td><td>&hellip;</td><td>&hellip;</td><td>&hellip;</td><td>&hellip;</td><td>&hellip;</td><td>&hellip;</td><td>&hellip;</td><td>&hellip;</td><td>&hellip;</td><td>&hellip;</td><td>&hellip;</td><td>&hellip;</td><td>&hellip;</td><td>&hellip;</td><td>&hellip;</td><td>&hellip;</td><td>&hellip;</td><td>&hellip;</td><td>&hellip;</td><td>&hellip;</td><td>&hellip;</td><td>&hellip;</td><td>&hellip;</td><td>&hellip;</td><td>&hellip;</td><td>&hellip;</td><td>&hellip;</td><td>&hellip;</td><td>&hellip;</td><td>&hellip;</td><td>&hellip;</td><td>&hellip;</td><td>&hellip;</td><td>&hellip;</td><td>&hellip;</td><td>&hellip;</td><td>&hellip;</td><td>&hellip;</td><td>&hellip;</td><td>&hellip;</td><td>&hellip;</td><td>&hellip;</td><td>&hellip;</td><td>&hellip;</td><td>&hellip;</td><td>&hellip;</td><td>&hellip;</td><td>&hellip;</td><td>&hellip;</td><td>&hellip;</td><td>&hellip;</td><td>&hellip;</td><td>&hellip;</td><td>&hellip;</td><td>&hellip;</td><td>&hellip;</td></tr><tr><td>93436</td><td>&quot;202401&quot;</td><td>3.679108</td><td>-165.572065</td><td>-0.003877</td><td>0.016862</td><td>0.483201</td><td>14.8865</td><td>9.263089</td><td>0.075071</td><td>18.541335</td><td>1.006447</td><td>0.756109</td><td>0.00265</td><td>-0.325232</td><td>-0.726098</td><td>2.955261</td><td>0.010867</td><td>0.989357</td><td>0.973176</td><td>-0.000942</td><td>0.641241</td><td>0.016827</td><td>-1.838476</td><td>-2575.475564</td><td>0.093091</td><td>0.009326</td><td>-0.009441</td><td>0.163636</td><td>12.959522</td><td>0.598015</td><td>-1.480804</td><td>0.4765</td><td>-0.098042</td><td>1184.389561</td><td>-0.145632</td><td>0.097266</td><td>&hellip;</td><td>-0.30328</td><td>-32793.262891</td><td>-0.005706</td><td>0.025074</td><td>0.0</td><td>0.288081</td><td>-0.223286</td><td>0.215255</td><td>0.352181</td><td>-0.86924</td><td>-0.170444</td><td>-4.679102</td><td>-0.005833</td><td>0.040382</td><td>-0.00046</td><td>0.004548</td><td>0.000138</td><td>-0.109511</td><td>0.000396</td><td>-0.000534</td><td>-16.780281</td><td>-3.378635</td><td>-3.0530e10</td><td>-0.251513</td><td>1.725571</td><td>1.59892</td><td>-5.7231e-11</td><td>0.010997</td><td>-0.007297</td><td>-0.002534</td><td>0.17759</td><td>-0.067404</td><td>-0.168298</td><td>0.698178</td><td>1.483897</td><td>1.569696</td><td>1.417246</td></tr><tr><td>93436</td><td>&quot;202402&quot;</td><td>3.679108</td><td>-165.572065</td><td>-0.003877</td><td>0.016862</td><td>0.483201</td><td>14.8865</td><td>9.263089</td><td>0.075071</td><td>18.541335</td><td>1.006447</td><td>0.756109</td><td>0.00265</td><td>-0.325232</td><td>-0.726098</td><td>2.955261</td><td>0.010867</td><td>0.989357</td><td>0.973176</td><td>-0.000942</td><td>0.641241</td><td>0.016827</td><td>-1.838476</td><td>-2575.475564</td><td>0.093091</td><td>0.009326</td><td>-0.009441</td><td>0.163636</td><td>12.959522</td><td>0.598015</td><td>-1.480804</td><td>0.4765</td><td>-0.098042</td><td>1184.389561</td><td>-0.145632</td><td>0.097266</td><td>&hellip;</td><td>-0.30328</td><td>-32793.262891</td><td>-0.005706</td><td>0.025074</td><td>0.0</td><td>0.288081</td><td>-0.223286</td><td>0.215255</td><td>0.352181</td><td>-0.86924</td><td>-0.170444</td><td>-4.679102</td><td>-0.005833</td><td>0.040382</td><td>-0.00046</td><td>0.004548</td><td>0.000138</td><td>-0.109511</td><td>0.000396</td><td>-0.000534</td><td>-16.780281</td><td>-3.378635</td><td>-3.0530e10</td><td>-0.251513</td><td>1.725571</td><td>1.59892</td><td>-5.7231e-11</td><td>0.010997</td><td>-0.007297</td><td>-0.002534</td><td>0.17759</td><td>-0.067404</td><td>-0.168298</td><td>0.698178</td><td>1.483897</td><td>1.569696</td><td>1.417246</td></tr><tr><td>93436</td><td>&quot;202403&quot;</td><td>3.679108</td><td>-165.572065</td><td>-0.003877</td><td>0.016862</td><td>0.483201</td><td>14.8865</td><td>9.263089</td><td>0.075071</td><td>18.541335</td><td>1.006447</td><td>0.756109</td><td>0.00265</td><td>-0.325232</td><td>-0.726098</td><td>2.955261</td><td>0.010867</td><td>0.989357</td><td>0.973176</td><td>-0.000942</td><td>0.641241</td><td>0.016827</td><td>-1.838476</td><td>-2575.475564</td><td>0.093091</td><td>0.009326</td><td>-0.009441</td><td>0.163636</td><td>12.959522</td><td>0.598015</td><td>-1.480804</td><td>0.4765</td><td>-0.098042</td><td>1184.389561</td><td>-0.145632</td><td>0.097266</td><td>&hellip;</td><td>-0.30328</td><td>-32793.262891</td><td>-0.005706</td><td>0.025074</td><td>0.0</td><td>0.288081</td><td>-0.223286</td><td>0.215255</td><td>0.352181</td><td>-0.86924</td><td>-0.170444</td><td>-4.679102</td><td>-0.005833</td><td>0.040382</td><td>-0.00046</td><td>0.004548</td><td>0.000138</td><td>-0.109511</td><td>0.000396</td><td>-0.000534</td><td>-16.780281</td><td>-3.378635</td><td>-3.0530e10</td><td>-0.251513</td><td>1.725571</td><td>1.59892</td><td>-5.7231e-11</td><td>0.010997</td><td>-0.007297</td><td>-0.002534</td><td>0.17759</td><td>-0.067404</td><td>-0.168298</td><td>0.698178</td><td>1.483897</td><td>1.569696</td><td>1.417246</td></tr><tr><td>93436</td><td>&quot;202404&quot;</td><td>3.679108</td><td>-165.572065</td><td>-0.003877</td><td>0.016862</td><td>0.483201</td><td>14.8865</td><td>9.263089</td><td>0.075071</td><td>18.541335</td><td>1.006447</td><td>0.756109</td><td>0.00265</td><td>-0.325232</td><td>-0.726098</td><td>2.955261</td><td>0.010867</td><td>0.989357</td><td>0.973176</td><td>-0.000942</td><td>0.641241</td><td>0.016827</td><td>-1.838476</td><td>-2575.475564</td><td>0.093091</td><td>0.009326</td><td>-0.009441</td><td>0.163636</td><td>12.959522</td><td>0.598015</td><td>-1.480804</td><td>0.4765</td><td>-0.098042</td><td>1184.389561</td><td>-0.145632</td><td>0.097266</td><td>&hellip;</td><td>-0.30328</td><td>-32793.262891</td><td>-0.005706</td><td>0.025074</td><td>0.0</td><td>0.288081</td><td>-0.223286</td><td>0.215255</td><td>0.352181</td><td>-0.86924</td><td>-0.170444</td><td>-4.679102</td><td>-0.005833</td><td>0.040382</td><td>-0.00046</td><td>0.004548</td><td>0.000138</td><td>-0.109511</td><td>0.000396</td><td>-0.000534</td><td>-16.780281</td><td>-3.378635</td><td>-3.0530e10</td><td>-0.251513</td><td>1.725571</td><td>1.59892</td><td>-5.7231e-11</td><td>0.010997</td><td>-0.007297</td><td>-0.002534</td><td>0.17759</td><td>-0.067404</td><td>-0.168298</td><td>0.698178</td><td>1.483897</td><td>1.569696</td><td>1.417246</td></tr><tr><td>93436</td><td>&quot;202405&quot;</td><td>3.679108</td><td>-165.572065</td><td>-0.003877</td><td>0.016862</td><td>0.483201</td><td>14.8865</td><td>9.263089</td><td>0.075071</td><td>18.541335</td><td>1.006447</td><td>0.756109</td><td>0.00265</td><td>-0.325232</td><td>-0.726098</td><td>2.955261</td><td>0.010867</td><td>0.989357</td><td>0.973176</td><td>-0.000942</td><td>0.641241</td><td>0.016827</td><td>-1.838476</td><td>-2575.475564</td><td>0.093091</td><td>0.009326</td><td>-0.009441</td><td>0.163636</td><td>12.959522</td><td>0.598015</td><td>-1.480804</td><td>0.4765</td><td>-0.098042</td><td>1184.389561</td><td>-0.145632</td><td>0.097266</td><td>&hellip;</td><td>-0.30328</td><td>-32793.262891</td><td>-0.005706</td><td>0.025074</td><td>0.0</td><td>0.288081</td><td>-0.223286</td><td>0.215255</td><td>0.352181</td><td>-0.86924</td><td>-0.170444</td><td>-4.679102</td><td>-0.005833</td><td>0.040382</td><td>-0.00046</td><td>0.004548</td><td>0.000138</td><td>-0.109511</td><td>0.000396</td><td>-0.000534</td><td>-16.780281</td><td>-3.378635</td><td>-3.0530e10</td><td>-0.251513</td><td>1.725571</td><td>1.59892</td><td>-5.7231e-11</td><td>0.010997</td><td>-0.007297</td><td>-0.002534</td><td>0.17759</td><td>-0.067404</td><td>-0.168298</td><td>0.698178</td><td>1.483897</td><td>1.569696</td><td>1.417246</td></tr></tbody></table></div>"
      ],
      "text/plain": [
       "shape: (5_156_870, 211)\n",
       "┌────────┬────────┬──────────┬─────────────┬───┬──────────┬───────────┬──────────────┬─────────────┐\n",
       "│ permno ┆ yyyymm ┆ AM       ┆ AOP         ┆ … ┆ tang     ┆ zerotrade ┆ zerotradeAlt ┆ zerotradeAl │\n",
       "│ ---    ┆ ---    ┆ ---      ┆ ---         ┆   ┆ ---      ┆ ---       ┆ 1            ┆ t12         │\n",
       "│ i64    ┆ str    ┆ f64      ┆ f64         ┆   ┆ f64      ┆ f64       ┆ ---          ┆ ---         │\n",
       "│        ┆        ┆          ┆             ┆   ┆          ┆           ┆ f64          ┆ f64         │\n",
       "╞════════╪════════╪══════════╪═════════════╪═══╪══════════╪═══════════╪══════════════╪═════════════╡\n",
       "│ 10000  ┆ 198601 ┆ 3.679108 ┆ -165.572065 ┆ … ┆ 0.692479 ┆ 1.483897  ┆ 1.569696     ┆ 1.417246    │\n",
       "│ 10000  ┆ 198602 ┆ 3.679108 ┆ -165.572065 ┆ … ┆ 0.692479 ┆ 1.483897  ┆ 4.7852e-8    ┆ 1.417246    │\n",
       "│ 10000  ┆ 198603 ┆ 3.679108 ┆ -165.572065 ┆ … ┆ 0.692479 ┆ 1.483897  ┆ 1.0234e-7    ┆ 1.417246    │\n",
       "│ 10000  ┆ 198604 ┆ 3.679108 ┆ -165.572065 ┆ … ┆ 0.692479 ┆ 1.483897  ┆ 7.4675e-8    ┆ 1.417246    │\n",
       "│ 10000  ┆ 198605 ┆ 3.679108 ┆ -165.572065 ┆ … ┆ 0.692479 ┆ 1.483897  ┆ 7.6496e-8    ┆ 1.417246    │\n",
       "│ …      ┆ …      ┆ …        ┆ …           ┆ … ┆ …        ┆ …         ┆ …            ┆ …           │\n",
       "│ 93436  ┆ 202401 ┆ 3.679108 ┆ -165.572065 ┆ … ┆ 0.698178 ┆ 1.483897  ┆ 1.569696     ┆ 1.417246    │\n",
       "│ 93436  ┆ 202402 ┆ 3.679108 ┆ -165.572065 ┆ … ┆ 0.698178 ┆ 1.483897  ┆ 1.569696     ┆ 1.417246    │\n",
       "│ 93436  ┆ 202403 ┆ 3.679108 ┆ -165.572065 ┆ … ┆ 0.698178 ┆ 1.483897  ┆ 1.569696     ┆ 1.417246    │\n",
       "│ 93436  ┆ 202404 ┆ 3.679108 ┆ -165.572065 ┆ … ┆ 0.698178 ┆ 1.483897  ┆ 1.569696     ┆ 1.417246    │\n",
       "│ 93436  ┆ 202405 ┆ 3.679108 ┆ -165.572065 ┆ … ┆ 0.698178 ┆ 1.483897  ┆ 1.569696     ┆ 1.417246    │\n",
       "└────────┴────────┴──────────┴─────────────┴───┴──────────┴───────────┴──────────────┴─────────────┘"
      ]
     },
     "execution_count": 4,
     "metadata": {},
     "output_type": "execute_result"
    }
   ],
   "source": [
    "data_imputed"
   ]
  },
  {
   "cell_type": "code",
   "execution_count": 6,
   "metadata": {},
   "outputs": [],
   "source": [
    "ret = pl.read_csv(get_data_file_path(\"PredictorPortsFull.csv\"), null_values=(\"NA\",), dtypes=PREDICTOR_PORTS_ENTRY_SCHEMA)"
   ]
  },
  {
   "cell_type": "code",
   "execution_count": 7,
   "metadata": {},
   "outputs": [
    {
     "data": {
      "text/html": [
       "<div><style>\n",
       ".dataframe > thead > tr,\n",
       ".dataframe > tbody > tr {\n",
       "  text-align: right;\n",
       "  white-space: pre-wrap;\n",
       "}\n",
       "</style>\n",
       "<small>shape: (1_183_286, 7)</small><table border=\"1\" class=\"dataframe\"><thead><tr><th>signalname</th><th>port</th><th>date</th><th>ret</th><th>signallag</th><th>Nlong</th><th>Nshort</th></tr><tr><td>str</td><td>str</td><td>date</td><td>f64</td><td>f64</td><td>i64</td><td>i64</td></tr></thead><tbody><tr><td>&quot;AM&quot;</td><td>&quot;01&quot;</td><td>1951-07-31</td><td>7.661648</td><td>0.681619</td><td>67</td><td>0</td></tr><tr><td>&quot;AM&quot;</td><td>&quot;01&quot;</td><td>1951-08-31</td><td>4.273648</td><td>0.639816</td><td>67</td><td>0</td></tr><tr><td>&quot;AM&quot;</td><td>&quot;01&quot;</td><td>1951-09-28</td><td>1.31527</td><td>0.617079</td><td>67</td><td>0</td></tr><tr><td>&quot;AM&quot;</td><td>&quot;01&quot;</td><td>1951-10-31</td><td>-3.94298</td><td>0.612266</td><td>67</td><td>0</td></tr><tr><td>&quot;AM&quot;</td><td>&quot;01&quot;</td><td>1951-11-30</td><td>1.02867</td><td>0.63771</td><td>67</td><td>0</td></tr><tr><td>&hellip;</td><td>&hellip;</td><td>&hellip;</td><td>&hellip;</td><td>&hellip;</td><td>&hellip;</td><td>&hellip;</td></tr><tr><td>&quot;zerotradeAlt12&quot;</td><td>&quot;LS&quot;</td><td>2022-08-31</td><td>-1.467892</td><td>null</td><td>491</td><td>492</td></tr><tr><td>&quot;zerotradeAlt12&quot;</td><td>&quot;LS&quot;</td><td>2022-09-30</td><td>4.607782</td><td>null</td><td>490</td><td>491</td></tr><tr><td>&quot;zerotradeAlt12&quot;</td><td>&quot;LS&quot;</td><td>2022-10-31</td><td>-5.81855</td><td>null</td><td>492</td><td>492</td></tr><tr><td>&quot;zerotradeAlt12&quot;</td><td>&quot;LS&quot;</td><td>2022-11-30</td><td>-2.581228</td><td>null</td><td>491</td><td>492</td></tr><tr><td>&quot;zerotradeAlt12&quot;</td><td>&quot;LS&quot;</td><td>2022-12-30</td><td>5.437231</td><td>null</td><td>492</td><td>492</td></tr></tbody></table></div>"
      ],
      "text/plain": [
       "shape: (1_183_286, 7)\n",
       "┌────────────────┬──────┬────────────┬───────────┬───────────┬───────┬────────┐\n",
       "│ signalname     ┆ port ┆ date       ┆ ret       ┆ signallag ┆ Nlong ┆ Nshort │\n",
       "│ ---            ┆ ---  ┆ ---        ┆ ---       ┆ ---       ┆ ---   ┆ ---    │\n",
       "│ str            ┆ str  ┆ date       ┆ f64       ┆ f64       ┆ i64   ┆ i64    │\n",
       "╞════════════════╪══════╪════════════╪═══════════╪═══════════╪═══════╪════════╡\n",
       "│ AM             ┆ 01   ┆ 1951-07-31 ┆ 7.661648  ┆ 0.681619  ┆ 67    ┆ 0      │\n",
       "│ AM             ┆ 01   ┆ 1951-08-31 ┆ 4.273648  ┆ 0.639816  ┆ 67    ┆ 0      │\n",
       "│ AM             ┆ 01   ┆ 1951-09-28 ┆ 1.31527   ┆ 0.617079  ┆ 67    ┆ 0      │\n",
       "│ AM             ┆ 01   ┆ 1951-10-31 ┆ -3.94298  ┆ 0.612266  ┆ 67    ┆ 0      │\n",
       "│ AM             ┆ 01   ┆ 1951-11-30 ┆ 1.02867   ┆ 0.63771   ┆ 67    ┆ 0      │\n",
       "│ …              ┆ …    ┆ …          ┆ …         ┆ …         ┆ …     ┆ …      │\n",
       "│ zerotradeAlt12 ┆ LS   ┆ 2022-08-31 ┆ -1.467892 ┆ null      ┆ 491   ┆ 492    │\n",
       "│ zerotradeAlt12 ┆ LS   ┆ 2022-09-30 ┆ 4.607782  ┆ null      ┆ 490   ┆ 491    │\n",
       "│ zerotradeAlt12 ┆ LS   ┆ 2022-10-31 ┆ -5.81855  ┆ null      ┆ 492   ┆ 492    │\n",
       "│ zerotradeAlt12 ┆ LS   ┆ 2022-11-30 ┆ -2.581228 ┆ null      ┆ 491   ┆ 492    │\n",
       "│ zerotradeAlt12 ┆ LS   ┆ 2022-12-30 ┆ 5.437231  ┆ null      ┆ 492   ┆ 492    │\n",
       "└────────────────┴──────┴────────────┴───────────┴───────────┴───────┴────────┘"
      ]
     },
     "execution_count": 7,
     "metadata": {},
     "output_type": "execute_result"
    }
   ],
   "source": [
    "ret"
   ]
  },
  {
   "cell_type": "code",
   "execution_count": 8,
   "metadata": {},
   "outputs": [
    {
     "name": "stderr",
     "output_type": "stream",
     "text": [
      "/var/folders/qk/3qb7y7bs23l46_jb_xbrk_zw0000gn/T/ipykernel_89187/3833254137.py:1: DeprecationWarning: `apply` is deprecated. It has been renamed to `map_elements`.\n",
      "  ret.insert_column(3, pl.Series(\"yyyymm\", ret.get_column(\"date\").apply(lambda x: x.strftime(\"%Y%m\"))))\n",
      "/var/folders/qk/3qb7y7bs23l46_jb_xbrk_zw0000gn/T/ipykernel_89187/3833254137.py:1: MapWithoutReturnDtypeWarning: Calling `map_elements` without specifying `return_dtype` can lead to unpredictable results. Specify `return_dtype` to silence this warning.\n",
      "  ret.insert_column(3, pl.Series(\"yyyymm\", ret.get_column(\"date\").apply(lambda x: x.strftime(\"%Y%m\"))))\n"
     ]
    },
    {
     "data": {
      "text/html": [
       "<div><style>\n",
       ".dataframe > thead > tr,\n",
       ".dataframe > tbody > tr {\n",
       "  text-align: right;\n",
       "  white-space: pre-wrap;\n",
       "}\n",
       "</style>\n",
       "<small>shape: (1_183_286, 8)</small><table border=\"1\" class=\"dataframe\"><thead><tr><th>signalname</th><th>port</th><th>date</th><th>yyyymm</th><th>ret</th><th>signallag</th><th>Nlong</th><th>Nshort</th></tr><tr><td>str</td><td>str</td><td>date</td><td>str</td><td>f64</td><td>f64</td><td>i64</td><td>i64</td></tr></thead><tbody><tr><td>&quot;AM&quot;</td><td>&quot;01&quot;</td><td>1951-07-31</td><td>&quot;195107&quot;</td><td>7.661648</td><td>0.681619</td><td>67</td><td>0</td></tr><tr><td>&quot;AM&quot;</td><td>&quot;01&quot;</td><td>1951-08-31</td><td>&quot;195108&quot;</td><td>4.273648</td><td>0.639816</td><td>67</td><td>0</td></tr><tr><td>&quot;AM&quot;</td><td>&quot;01&quot;</td><td>1951-09-28</td><td>&quot;195109&quot;</td><td>1.31527</td><td>0.617079</td><td>67</td><td>0</td></tr><tr><td>&quot;AM&quot;</td><td>&quot;01&quot;</td><td>1951-10-31</td><td>&quot;195110&quot;</td><td>-3.94298</td><td>0.612266</td><td>67</td><td>0</td></tr><tr><td>&quot;AM&quot;</td><td>&quot;01&quot;</td><td>1951-11-30</td><td>&quot;195111&quot;</td><td>1.02867</td><td>0.63771</td><td>67</td><td>0</td></tr><tr><td>&hellip;</td><td>&hellip;</td><td>&hellip;</td><td>&hellip;</td><td>&hellip;</td><td>&hellip;</td><td>&hellip;</td><td>&hellip;</td></tr><tr><td>&quot;zerotradeAlt12&quot;</td><td>&quot;LS&quot;</td><td>2022-08-31</td><td>&quot;202208&quot;</td><td>-1.467892</td><td>null</td><td>491</td><td>492</td></tr><tr><td>&quot;zerotradeAlt12&quot;</td><td>&quot;LS&quot;</td><td>2022-09-30</td><td>&quot;202209&quot;</td><td>4.607782</td><td>null</td><td>490</td><td>491</td></tr><tr><td>&quot;zerotradeAlt12&quot;</td><td>&quot;LS&quot;</td><td>2022-10-31</td><td>&quot;202210&quot;</td><td>-5.81855</td><td>null</td><td>492</td><td>492</td></tr><tr><td>&quot;zerotradeAlt12&quot;</td><td>&quot;LS&quot;</td><td>2022-11-30</td><td>&quot;202211&quot;</td><td>-2.581228</td><td>null</td><td>491</td><td>492</td></tr><tr><td>&quot;zerotradeAlt12&quot;</td><td>&quot;LS&quot;</td><td>2022-12-30</td><td>&quot;202212&quot;</td><td>5.437231</td><td>null</td><td>492</td><td>492</td></tr></tbody></table></div>"
      ],
      "text/plain": [
       "shape: (1_183_286, 8)\n",
       "┌────────────────┬──────┬────────────┬────────┬───────────┬───────────┬───────┬────────┐\n",
       "│ signalname     ┆ port ┆ date       ┆ yyyymm ┆ ret       ┆ signallag ┆ Nlong ┆ Nshort │\n",
       "│ ---            ┆ ---  ┆ ---        ┆ ---    ┆ ---       ┆ ---       ┆ ---   ┆ ---    │\n",
       "│ str            ┆ str  ┆ date       ┆ str    ┆ f64       ┆ f64       ┆ i64   ┆ i64    │\n",
       "╞════════════════╪══════╪════════════╪════════╪═══════════╪═══════════╪═══════╪════════╡\n",
       "│ AM             ┆ 01   ┆ 1951-07-31 ┆ 195107 ┆ 7.661648  ┆ 0.681619  ┆ 67    ┆ 0      │\n",
       "│ AM             ┆ 01   ┆ 1951-08-31 ┆ 195108 ┆ 4.273648  ┆ 0.639816  ┆ 67    ┆ 0      │\n",
       "│ AM             ┆ 01   ┆ 1951-09-28 ┆ 195109 ┆ 1.31527   ┆ 0.617079  ┆ 67    ┆ 0      │\n",
       "│ AM             ┆ 01   ┆ 1951-10-31 ┆ 195110 ┆ -3.94298  ┆ 0.612266  ┆ 67    ┆ 0      │\n",
       "│ AM             ┆ 01   ┆ 1951-11-30 ┆ 195111 ┆ 1.02867   ┆ 0.63771   ┆ 67    ┆ 0      │\n",
       "│ …              ┆ …    ┆ …          ┆ …      ┆ …         ┆ …         ┆ …     ┆ …      │\n",
       "│ zerotradeAlt12 ┆ LS   ┆ 2022-08-31 ┆ 202208 ┆ -1.467892 ┆ null      ┆ 491   ┆ 492    │\n",
       "│ zerotradeAlt12 ┆ LS   ┆ 2022-09-30 ┆ 202209 ┆ 4.607782  ┆ null      ┆ 490   ┆ 491    │\n",
       "│ zerotradeAlt12 ┆ LS   ┆ 2022-10-31 ┆ 202210 ┆ -5.81855  ┆ null      ┆ 492   ┆ 492    │\n",
       "│ zerotradeAlt12 ┆ LS   ┆ 2022-11-30 ┆ 202211 ┆ -2.581228 ┆ null      ┆ 491   ┆ 492    │\n",
       "│ zerotradeAlt12 ┆ LS   ┆ 2022-12-30 ┆ 202212 ┆ 5.437231  ┆ null      ┆ 492   ┆ 492    │\n",
       "└────────────────┴──────┴────────────┴────────┴───────────┴───────────┴───────┴────────┘"
      ]
     },
     "execution_count": 8,
     "metadata": {},
     "output_type": "execute_result"
    }
   ],
   "source": [
    "ret.insert_column(3, pl.Series(\"yyyymm\", ret.get_column(\"date\").apply(lambda x: x.strftime(\"%Y%m\"))))"
   ]
  },
  {
   "cell_type": "code",
   "execution_count": 9,
   "metadata": {},
   "outputs": [
    {
     "data": {
      "text/html": [
       "<div><style>\n",
       ".dataframe > thead > tr,\n",
       ".dataframe > tbody > tr {\n",
       "  text-align: right;\n",
       "  white-space: pre-wrap;\n",
       "}\n",
       "</style>\n",
       "<small>shape: (1_183_286, 8)</small><table border=\"1\" class=\"dataframe\"><thead><tr><th>signalname</th><th>port</th><th>date</th><th>yyyymm</th><th>ret</th><th>signallag</th><th>Nlong</th><th>Nshort</th></tr><tr><td>str</td><td>str</td><td>date</td><td>str</td><td>f64</td><td>f64</td><td>i64</td><td>i64</td></tr></thead><tbody><tr><td>&quot;AM&quot;</td><td>&quot;01&quot;</td><td>1951-07-31</td><td>&quot;195107&quot;</td><td>7.661648</td><td>0.681619</td><td>67</td><td>0</td></tr><tr><td>&quot;AM&quot;</td><td>&quot;01&quot;</td><td>1951-08-31</td><td>&quot;195108&quot;</td><td>4.273648</td><td>0.639816</td><td>67</td><td>0</td></tr><tr><td>&quot;AM&quot;</td><td>&quot;01&quot;</td><td>1951-09-28</td><td>&quot;195109&quot;</td><td>1.31527</td><td>0.617079</td><td>67</td><td>0</td></tr><tr><td>&quot;AM&quot;</td><td>&quot;01&quot;</td><td>1951-10-31</td><td>&quot;195110&quot;</td><td>-3.94298</td><td>0.612266</td><td>67</td><td>0</td></tr><tr><td>&quot;AM&quot;</td><td>&quot;01&quot;</td><td>1951-11-30</td><td>&quot;195111&quot;</td><td>1.02867</td><td>0.63771</td><td>67</td><td>0</td></tr><tr><td>&hellip;</td><td>&hellip;</td><td>&hellip;</td><td>&hellip;</td><td>&hellip;</td><td>&hellip;</td><td>&hellip;</td><td>&hellip;</td></tr><tr><td>&quot;zerotradeAlt12&quot;</td><td>&quot;LS&quot;</td><td>2022-08-31</td><td>&quot;202208&quot;</td><td>-1.467892</td><td>null</td><td>491</td><td>492</td></tr><tr><td>&quot;zerotradeAlt12&quot;</td><td>&quot;LS&quot;</td><td>2022-09-30</td><td>&quot;202209&quot;</td><td>4.607782</td><td>null</td><td>490</td><td>491</td></tr><tr><td>&quot;zerotradeAlt12&quot;</td><td>&quot;LS&quot;</td><td>2022-10-31</td><td>&quot;202210&quot;</td><td>-5.81855</td><td>null</td><td>492</td><td>492</td></tr><tr><td>&quot;zerotradeAlt12&quot;</td><td>&quot;LS&quot;</td><td>2022-11-30</td><td>&quot;202211&quot;</td><td>-2.581228</td><td>null</td><td>491</td><td>492</td></tr><tr><td>&quot;zerotradeAlt12&quot;</td><td>&quot;LS&quot;</td><td>2022-12-30</td><td>&quot;202212&quot;</td><td>5.437231</td><td>null</td><td>492</td><td>492</td></tr></tbody></table></div>"
      ],
      "text/plain": [
       "shape: (1_183_286, 8)\n",
       "┌────────────────┬──────┬────────────┬────────┬───────────┬───────────┬───────┬────────┐\n",
       "│ signalname     ┆ port ┆ date       ┆ yyyymm ┆ ret       ┆ signallag ┆ Nlong ┆ Nshort │\n",
       "│ ---            ┆ ---  ┆ ---        ┆ ---    ┆ ---       ┆ ---       ┆ ---   ┆ ---    │\n",
       "│ str            ┆ str  ┆ date       ┆ str    ┆ f64       ┆ f64       ┆ i64   ┆ i64    │\n",
       "╞════════════════╪══════╪════════════╪════════╪═══════════╪═══════════╪═══════╪════════╡\n",
       "│ AM             ┆ 01   ┆ 1951-07-31 ┆ 195107 ┆ 7.661648  ┆ 0.681619  ┆ 67    ┆ 0      │\n",
       "│ AM             ┆ 01   ┆ 1951-08-31 ┆ 195108 ┆ 4.273648  ┆ 0.639816  ┆ 67    ┆ 0      │\n",
       "│ AM             ┆ 01   ┆ 1951-09-28 ┆ 195109 ┆ 1.31527   ┆ 0.617079  ┆ 67    ┆ 0      │\n",
       "│ AM             ┆ 01   ┆ 1951-10-31 ┆ 195110 ┆ -3.94298  ┆ 0.612266  ┆ 67    ┆ 0      │\n",
       "│ AM             ┆ 01   ┆ 1951-11-30 ┆ 195111 ┆ 1.02867   ┆ 0.63771   ┆ 67    ┆ 0      │\n",
       "│ …              ┆ …    ┆ …          ┆ …      ┆ …         ┆ …         ┆ …     ┆ …      │\n",
       "│ zerotradeAlt12 ┆ LS   ┆ 2022-08-31 ┆ 202208 ┆ -1.467892 ┆ null      ┆ 491   ┆ 492    │\n",
       "│ zerotradeAlt12 ┆ LS   ┆ 2022-09-30 ┆ 202209 ┆ 4.607782  ┆ null      ┆ 490   ┆ 491    │\n",
       "│ zerotradeAlt12 ┆ LS   ┆ 2022-10-31 ┆ 202210 ┆ -5.81855  ┆ null      ┆ 492   ┆ 492    │\n",
       "│ zerotradeAlt12 ┆ LS   ┆ 2022-11-30 ┆ 202211 ┆ -2.581228 ┆ null      ┆ 491   ┆ 492    │\n",
       "│ zerotradeAlt12 ┆ LS   ┆ 2022-12-30 ┆ 202212 ┆ 5.437231  ┆ null      ┆ 492   ┆ 492    │\n",
       "└────────────────┴──────┴────────────┴────────┴───────────┴───────────┴───────┴────────┘"
      ]
     },
     "execution_count": 9,
     "metadata": {},
     "output_type": "execute_result"
    }
   ],
   "source": [
    "ret"
   ]
  },
  {
   "cell_type": "markdown",
   "metadata": {},
   "source": [
    "# MAIN START"
   ]
  },
  {
   "cell_type": "code",
   "execution_count": 2,
   "metadata": {},
   "outputs": [],
   "source": [
    "full_data = pl.read_csv(get_data_file_path(\"COMPLETE_DATASET.csv\"))"
   ]
  },
  {
   "cell_type": "code",
   "execution_count": 3,
   "metadata": {},
   "outputs": [
    {
     "data": {
      "text/html": [
       "<div><style>\n",
       ".dataframe > thead > tr,\n",
       ".dataframe > tbody > tr {\n",
       "  text-align: right;\n",
       "  white-space: pre-wrap;\n",
       "}\n",
       "</style>\n",
       "<small>shape: (3_487_273, 216)</small><table border=\"1\" class=\"dataframe\"><thead><tr><th>permno</th><th>yyyymm</th><th>AM</th><th>AOP</th><th>AbnormalAccruals</th><th>Accruals</th><th>AccrualsBM</th><th>Activism1</th><th>Activism2</th><th>AdExp</th><th>AgeIPO</th><th>AnalystRevision</th><th>AnalystValue</th><th>AnnouncementReturn</th><th>AssetGrowth</th><th>BM</th><th>BMdec</th><th>BPEBM</th><th>Beta</th><th>BetaFP</th><th>BetaLiquidityPS</th><th>BetaTailRisk</th><th>BidAskSpread</th><th>BookLeverage</th><th>BrandInvest</th><th>CBOperProf</th><th>CF</th><th>CPVolSpread</th><th>Cash</th><th>CashProd</th><th>ChAssetTurnover</th><th>ChEQ</th><th>ChForecastAccrual</th><th>ChInv</th><th>ChInvIA</th><th>ChNAnalyst</th><th>ChNNCOA</th><th>&hellip;</th><th>Tax</th><th>TotalAccruals</th><th>TrendFactor</th><th>UpRecomm</th><th>VarCF</th><th>VolMkt</th><th>VolSD</th><th>VolumeTrend</th><th>XFIN</th><th>betaVIX</th><th>cfp</th><th>dCPVolSpread</th><th>dNoa</th><th>dVolCall</th><th>dVolPut</th><th>fgr5yrLag</th><th>grcapx</th><th>grcapx3y</th><th>hire</th><th>iomom_cust</th><th>iomom_supp</th><th>realestate</th><th>retConglomerate</th><th>roaq</th><th>sfe</th><th>sinAlgo</th><th>skew1</th><th>std_turn</th><th>tang</th><th>zerotrade</th><th>zerotradeAlt1</th><th>zerotradeAlt12</th><th>STreversal</th><th>Price</th><th>Size</th><th>date</th><th>ret</th></tr><tr><td>i64</td><td>i64</td><td>f64</td><td>str</td><td>f64</td><td>f64</td><td>str</td><td>str</td><td>str</td><td>f64</td><td>str</td><td>f64</td><td>str</td><td>f64</td><td>f64</td><td>f64</td><td>f64</td><td>f64</td><td>f64</td><td>f64</td><td>f64</td><td>f64</td><td>f64</td><td>f64</td><td>str</td><td>f64</td><td>f64</td><td>str</td><td>f64</td><td>f64</td><td>f64</td><td>f64</td><td>f64</td><td>f64</td><td>f64</td><td>f64</td><td>f64</td><td>&hellip;</td><td>f64</td><td>f64</td><td>str</td><td>str</td><td>f64</td><td>f64</td><td>f64</td><td>f64</td><td>f64</td><td>f64</td><td>f64</td><td>str</td><td>f64</td><td>str</td><td>str</td><td>str</td><td>f64</td><td>f64</td><td>f64</td><td>f64</td><td>f64</td><td>str</td><td>str</td><td>f64</td><td>str</td><td>str</td><td>str</td><td>f64</td><td>f64</td><td>f64</td><td>f64</td><td>f64</td><td>f64</td><td>f64</td><td>f64</td><td>str</td><td>f64</td></tr></thead><tbody><tr><td>10000</td><td>198601</td><td>null</td><td>null</td><td>null</td><td>null</td><td>null</td><td>null</td><td>null</td><td>null</td><td>null</td><td>null</td><td>null</td><td>null</td><td>null</td><td>null</td><td>null</td><td>null</td><td>null</td><td>null</td><td>null</td><td>null</td><td>null</td><td>null</td><td>null</td><td>null</td><td>null</td><td>null</td><td>null</td><td>null</td><td>null</td><td>null</td><td>null</td><td>null</td><td>null</td><td>null</td><td>null</td><td>&hellip;</td><td>null</td><td>null</td><td>null</td><td>null</td><td>null</td><td>null</td><td>null</td><td>null</td><td>null</td><td>-0.005234</td><td>null</td><td>null</td><td>null</td><td>null</td><td>null</td><td>null</td><td>null</td><td>null</td><td>null</td><td>null</td><td>null</td><td>null</td><td>null</td><td>null</td><td>null</td><td>null</td><td>null</td><td>null</td><td>null</td><td>null</td><td>null</td><td>null</td><td>0.0</td><td>-1.475907</td><td>-9.686575</td><td>&quot;1986-01-31&quot;</td><td>null</td></tr><tr><td>10000</td><td>198602</td><td>null</td><td>null</td><td>null</td><td>null</td><td>null</td><td>null</td><td>null</td><td>null</td><td>null</td><td>null</td><td>null</td><td>null</td><td>null</td><td>null</td><td>null</td><td>null</td><td>null</td><td>null</td><td>null</td><td>null</td><td>null</td><td>null</td><td>null</td><td>null</td><td>null</td><td>null</td><td>null</td><td>null</td><td>null</td><td>null</td><td>null</td><td>null</td><td>null</td><td>null</td><td>null</td><td>&hellip;</td><td>null</td><td>null</td><td>null</td><td>null</td><td>null</td><td>null</td><td>null</td><td>null</td><td>null</td><td>-0.003488</td><td>null</td><td>null</td><td>null</td><td>null</td><td>null</td><td>null</td><td>null</td><td>null</td><td>null</td><td>null</td><td>null</td><td>null</td><td>null</td><td>null</td><td>null</td><td>null</td><td>null</td><td>null</td><td>null</td><td>null</td><td>4.7852e-8</td><td>null</td><td>25.7143</td><td>-1.178655</td><td>-9.389323</td><td>&quot;1986-02-28&quot;</td><td>-0.257143</td></tr><tr><td>10000</td><td>198603</td><td>null</td><td>null</td><td>null</td><td>null</td><td>null</td><td>null</td><td>null</td><td>null</td><td>null</td><td>null</td><td>null</td><td>null</td><td>null</td><td>null</td><td>null</td><td>null</td><td>null</td><td>null</td><td>null</td><td>null</td><td>null</td><td>null</td><td>null</td><td>null</td><td>null</td><td>null</td><td>null</td><td>null</td><td>null</td><td>null</td><td>null</td><td>null</td><td>null</td><td>null</td><td>null</td><td>&hellip;</td><td>null</td><td>null</td><td>null</td><td>null</td><td>null</td><td>null</td><td>null</td><td>null</td><td>null</td><td>-0.002715</td><td>null</td><td>null</td><td>null</td><td>null</td><td>null</td><td>null</td><td>null</td><td>null</td><td>null</td><td>null</td><td>null</td><td>null</td><td>null</td><td>null</td><td>null</td><td>null</td><td>null</td><td>null</td><td>null</td><td>null</td><td>1.0234e-7</td><td>null</td><td>-36.5385</td><td>-1.490091</td><td>-9.700759</td><td>&quot;1986-03-31&quot;</td><td>0.365385</td></tr><tr><td>10000</td><td>198604</td><td>null</td><td>null</td><td>null</td><td>null</td><td>null</td><td>null</td><td>null</td><td>null</td><td>null</td><td>null</td><td>null</td><td>null</td><td>null</td><td>null</td><td>null</td><td>null</td><td>null</td><td>null</td><td>null</td><td>null</td><td>null</td><td>null</td><td>null</td><td>null</td><td>null</td><td>null</td><td>null</td><td>null</td><td>null</td><td>null</td><td>null</td><td>null</td><td>null</td><td>null</td><td>null</td><td>&hellip;</td><td>null</td><td>null</td><td>null</td><td>null</td><td>null</td><td>null</td><td>null</td><td>null</td><td>null</td><td>0.000877</td><td>null</td><td>null</td><td>null</td><td>null</td><td>null</td><td>null</td><td>null</td><td>null</td><td>null</td><td>null</td><td>null</td><td>null</td><td>null</td><td>null</td><td>null</td><td>null</td><td>null</td><td>null</td><td>null</td><td>null</td><td>7.4675e-8</td><td>null</td><td>9.8592</td><td>-1.386294</td><td>-9.627207</td><td>&quot;1986-04-30&quot;</td><td>-0.098592</td></tr><tr><td>10000</td><td>198605</td><td>null</td><td>null</td><td>null</td><td>null</td><td>null</td><td>null</td><td>null</td><td>null</td><td>null</td><td>null</td><td>null</td><td>null</td><td>null</td><td>null</td><td>null</td><td>null</td><td>null</td><td>null</td><td>null</td><td>null</td><td>null</td><td>null</td><td>null</td><td>null</td><td>null</td><td>null</td><td>null</td><td>null</td><td>null</td><td>null</td><td>null</td><td>null</td><td>null</td><td>null</td><td>null</td><td>&hellip;</td><td>null</td><td>null</td><td>null</td><td>null</td><td>null</td><td>null</td><td>null</td><td>null</td><td>null</td><td>0.008818</td><td>null</td><td>null</td><td>null</td><td>null</td><td>null</td><td>null</td><td>null</td><td>null</td><td>null</td><td>null</td><td>null</td><td>null</td><td>null</td><td>null</td><td>null</td><td>null</td><td>null</td><td>null</td><td>null</td><td>null</td><td>7.6496e-8</td><td>null</td><td>22.2656</td><td>-1.134423</td><td>-9.375336</td><td>&quot;1986-05-30&quot;</td><td>-0.222656</td></tr><tr><td>&hellip;</td><td>&hellip;</td><td>&hellip;</td><td>&hellip;</td><td>&hellip;</td><td>&hellip;</td><td>&hellip;</td><td>&hellip;</td><td>&hellip;</td><td>&hellip;</td><td>&hellip;</td><td>&hellip;</td><td>&hellip;</td><td>&hellip;</td><td>&hellip;</td><td>&hellip;</td><td>&hellip;</td><td>&hellip;</td><td>&hellip;</td><td>&hellip;</td><td>&hellip;</td><td>&hellip;</td><td>&hellip;</td><td>&hellip;</td><td>&hellip;</td><td>&hellip;</td><td>&hellip;</td><td>&hellip;</td><td>&hellip;</td><td>&hellip;</td><td>&hellip;</td><td>&hellip;</td><td>&hellip;</td><td>&hellip;</td><td>&hellip;</td><td>&hellip;</td><td>&hellip;</td><td>&hellip;</td><td>&hellip;</td><td>&hellip;</td><td>&hellip;</td><td>&hellip;</td><td>&hellip;</td><td>&hellip;</td><td>&hellip;</td><td>&hellip;</td><td>&hellip;</td><td>&hellip;</td><td>&hellip;</td><td>&hellip;</td><td>&hellip;</td><td>&hellip;</td><td>&hellip;</td><td>&hellip;</td><td>&hellip;</td><td>&hellip;</td><td>&hellip;</td><td>&hellip;</td><td>&hellip;</td><td>&hellip;</td><td>&hellip;</td><td>&hellip;</td><td>&hellip;</td><td>&hellip;</td><td>&hellip;</td><td>&hellip;</td><td>&hellip;</td><td>&hellip;</td><td>&hellip;</td><td>&hellip;</td><td>&hellip;</td><td>&hellip;</td><td>&hellip;</td><td>&hellip;</td><td>&hellip;</td></tr><tr><td>93433</td><td>201005</td><td>null</td><td>null</td><td>null</td><td>null</td><td>null</td><td>null</td><td>null</td><td>null</td><td>null</td><td>null</td><td>null</td><td>null</td><td>null</td><td>null</td><td>null</td><td>null</td><td>null</td><td>null</td><td>null</td><td>null</td><td>null</td><td>null</td><td>null</td><td>null</td><td>null</td><td>null</td><td>null</td><td>null</td><td>null</td><td>null</td><td>null</td><td>null</td><td>null</td><td>null</td><td>null</td><td>&hellip;</td><td>null</td><td>null</td><td>null</td><td>null</td><td>null</td><td>null</td><td>null</td><td>null</td><td>null</td><td>null</td><td>null</td><td>null</td><td>null</td><td>null</td><td>null</td><td>null</td><td>null</td><td>null</td><td>null</td><td>null</td><td>null</td><td>null</td><td>null</td><td>null</td><td>null</td><td>null</td><td>null</td><td>null</td><td>null</td><td>null</td><td>null</td><td>null</td><td>0.0</td><td>null</td><td>null</td><td>&quot;2010-05-28&quot;</td><td>null</td></tr><tr><td>93434</td><td>201005</td><td>null</td><td>null</td><td>null</td><td>null</td><td>null</td><td>null</td><td>null</td><td>null</td><td>null</td><td>null</td><td>null</td><td>null</td><td>null</td><td>null</td><td>null</td><td>null</td><td>null</td><td>null</td><td>null</td><td>null</td><td>null</td><td>null</td><td>null</td><td>null</td><td>null</td><td>null</td><td>null</td><td>null</td><td>null</td><td>null</td><td>null</td><td>null</td><td>null</td><td>null</td><td>null</td><td>&hellip;</td><td>null</td><td>null</td><td>null</td><td>null</td><td>null</td><td>null</td><td>null</td><td>null</td><td>null</td><td>null</td><td>null</td><td>null</td><td>null</td><td>null</td><td>null</td><td>null</td><td>null</td><td>null</td><td>null</td><td>null</td><td>null</td><td>null</td><td>null</td><td>null</td><td>null</td><td>null</td><td>null</td><td>null</td><td>null</td><td>null</td><td>null</td><td>null</td><td>0.0</td><td>null</td><td>null</td><td>&quot;2010-05-28&quot;</td><td>null</td></tr><tr><td>93434</td><td>202312</td><td>null</td><td>null</td><td>null</td><td>null</td><td>null</td><td>null</td><td>null</td><td>null</td><td>null</td><td>null</td><td>null</td><td>null</td><td>null</td><td>null</td><td>null</td><td>null</td><td>null</td><td>null</td><td>null</td><td>null</td><td>null</td><td>null</td><td>null</td><td>null</td><td>null</td><td>null</td><td>null</td><td>null</td><td>null</td><td>null</td><td>null</td><td>null</td><td>null</td><td>null</td><td>null</td><td>&hellip;</td><td>null</td><td>null</td><td>null</td><td>null</td><td>null</td><td>null</td><td>null</td><td>null</td><td>null</td><td>null</td><td>null</td><td>null</td><td>null</td><td>null</td><td>null</td><td>null</td><td>null</td><td>null</td><td>null</td><td>null</td><td>null</td><td>null</td><td>null</td><td>null</td><td>null</td><td>null</td><td>null</td><td>null</td><td>null</td><td>null</td><td>null</td><td>null</td><td>-6.5449</td><td>0.356675</td><td>-10.313187</td><td>&quot;2023-12-29&quot;</td><td>0.065449</td></tr><tr><td>93435</td><td>201005</td><td>null</td><td>null</td><td>null</td><td>null</td><td>null</td><td>null</td><td>null</td><td>null</td><td>null</td><td>null</td><td>null</td><td>null</td><td>null</td><td>null</td><td>null</td><td>null</td><td>null</td><td>null</td><td>null</td><td>null</td><td>null</td><td>null</td><td>null</td><td>null</td><td>null</td><td>null</td><td>null</td><td>null</td><td>null</td><td>null</td><td>null</td><td>null</td><td>null</td><td>null</td><td>null</td><td>&hellip;</td><td>null</td><td>null</td><td>null</td><td>null</td><td>null</td><td>null</td><td>null</td><td>null</td><td>null</td><td>null</td><td>null</td><td>null</td><td>null</td><td>null</td><td>null</td><td>null</td><td>null</td><td>null</td><td>null</td><td>null</td><td>null</td><td>null</td><td>null</td><td>null</td><td>null</td><td>null</td><td>null</td><td>null</td><td>null</td><td>null</td><td>null</td><td>null</td><td>0.0</td><td>null</td><td>null</td><td>&quot;2010-05-28&quot;</td><td>null</td></tr><tr><td>93436</td><td>201005</td><td>null</td><td>null</td><td>null</td><td>null</td><td>null</td><td>null</td><td>null</td><td>null</td><td>null</td><td>null</td><td>null</td><td>null</td><td>null</td><td>null</td><td>null</td><td>null</td><td>null</td><td>null</td><td>null</td><td>null</td><td>null</td><td>null</td><td>null</td><td>null</td><td>null</td><td>null</td><td>null</td><td>null</td><td>null</td><td>null</td><td>null</td><td>null</td><td>null</td><td>null</td><td>null</td><td>&hellip;</td><td>null</td><td>null</td><td>null</td><td>null</td><td>null</td><td>null</td><td>null</td><td>null</td><td>null</td><td>null</td><td>null</td><td>null</td><td>null</td><td>null</td><td>null</td><td>null</td><td>null</td><td>null</td><td>null</td><td>null</td><td>null</td><td>null</td><td>null</td><td>null</td><td>null</td><td>null</td><td>null</td><td>null</td><td>null</td><td>null</td><td>null</td><td>null</td><td>0.0</td><td>null</td><td>null</td><td>&quot;2010-05-28&quot;</td><td>null</td></tr></tbody></table></div>"
      ],
      "text/plain": [
       "shape: (3_487_273, 216)\n",
       "┌────────┬────────┬──────┬──────┬───┬───────────┬────────────┬────────────┬───────────┐\n",
       "│ permno ┆ yyyymm ┆ AM   ┆ AOP  ┆ … ┆ Price     ┆ Size       ┆ date       ┆ ret       │\n",
       "│ ---    ┆ ---    ┆ ---  ┆ ---  ┆   ┆ ---       ┆ ---        ┆ ---        ┆ ---       │\n",
       "│ i64    ┆ i64    ┆ f64  ┆ str  ┆   ┆ f64       ┆ f64        ┆ str        ┆ f64       │\n",
       "╞════════╪════════╪══════╪══════╪═══╪═══════════╪════════════╪════════════╪═══════════╡\n",
       "│ 10000  ┆ 198601 ┆ null ┆ null ┆ … ┆ -1.475907 ┆ -9.686575  ┆ 1986-01-31 ┆ null      │\n",
       "│ 10000  ┆ 198602 ┆ null ┆ null ┆ … ┆ -1.178655 ┆ -9.389323  ┆ 1986-02-28 ┆ -0.257143 │\n",
       "│ 10000  ┆ 198603 ┆ null ┆ null ┆ … ┆ -1.490091 ┆ -9.700759  ┆ 1986-03-31 ┆ 0.365385  │\n",
       "│ 10000  ┆ 198604 ┆ null ┆ null ┆ … ┆ -1.386294 ┆ -9.627207  ┆ 1986-04-30 ┆ -0.098592 │\n",
       "│ 10000  ┆ 198605 ┆ null ┆ null ┆ … ┆ -1.134423 ┆ -9.375336  ┆ 1986-05-30 ┆ -0.222656 │\n",
       "│ …      ┆ …      ┆ …    ┆ …    ┆ … ┆ …         ┆ …          ┆ …          ┆ …         │\n",
       "│ 93433  ┆ 201005 ┆ null ┆ null ┆ … ┆ null      ┆ null       ┆ 2010-05-28 ┆ null      │\n",
       "│ 93434  ┆ 201005 ┆ null ┆ null ┆ … ┆ null      ┆ null       ┆ 2010-05-28 ┆ null      │\n",
       "│ 93434  ┆ 202312 ┆ null ┆ null ┆ … ┆ 0.356675  ┆ -10.313187 ┆ 2023-12-29 ┆ 0.065449  │\n",
       "│ 93435  ┆ 201005 ┆ null ┆ null ┆ … ┆ null      ┆ null       ┆ 2010-05-28 ┆ null      │\n",
       "│ 93436  ┆ 201005 ┆ null ┆ null ┆ … ┆ null      ┆ null       ┆ 2010-05-28 ┆ null      │\n",
       "└────────┴────────┴──────┴──────┴───┴───────────┴────────────┴────────────┴───────────┘"
      ]
     },
     "execution_count": 3,
     "metadata": {},
     "output_type": "execute_result"
    }
   ],
   "source": [
    "full_data"
   ]
  },
  {
   "cell_type": "code",
   "execution_count": 4,
   "metadata": {},
   "outputs": [
    {
     "data": {
      "text/html": [
       "<div><style>\n",
       ".dataframe > thead > tr,\n",
       ".dataframe > tbody > tr {\n",
       "  text-align: right;\n",
       "  white-space: pre-wrap;\n",
       "}\n",
       "</style>\n",
       "<small>shape: (1, 216)</small><table border=\"1\" class=\"dataframe\"><thead><tr><th>permno</th><th>yyyymm</th><th>AM</th><th>AOP</th><th>AbnormalAccruals</th><th>Accruals</th><th>AccrualsBM</th><th>Activism1</th><th>Activism2</th><th>AdExp</th><th>AgeIPO</th><th>AnalystRevision</th><th>AnalystValue</th><th>AnnouncementReturn</th><th>AssetGrowth</th><th>BM</th><th>BMdec</th><th>BPEBM</th><th>Beta</th><th>BetaFP</th><th>BetaLiquidityPS</th><th>BetaTailRisk</th><th>BidAskSpread</th><th>BookLeverage</th><th>BrandInvest</th><th>CBOperProf</th><th>CF</th><th>CPVolSpread</th><th>Cash</th><th>CashProd</th><th>ChAssetTurnover</th><th>ChEQ</th><th>ChForecastAccrual</th><th>ChInv</th><th>ChInvIA</th><th>ChNAnalyst</th><th>ChNNCOA</th><th>&hellip;</th><th>Tax</th><th>TotalAccruals</th><th>TrendFactor</th><th>UpRecomm</th><th>VarCF</th><th>VolMkt</th><th>VolSD</th><th>VolumeTrend</th><th>XFIN</th><th>betaVIX</th><th>cfp</th><th>dCPVolSpread</th><th>dNoa</th><th>dVolCall</th><th>dVolPut</th><th>fgr5yrLag</th><th>grcapx</th><th>grcapx3y</th><th>hire</th><th>iomom_cust</th><th>iomom_supp</th><th>realestate</th><th>retConglomerate</th><th>roaq</th><th>sfe</th><th>sinAlgo</th><th>skew1</th><th>std_turn</th><th>tang</th><th>zerotrade</th><th>zerotradeAlt1</th><th>zerotradeAlt12</th><th>STreversal</th><th>Price</th><th>Size</th><th>date</th><th>ret</th></tr><tr><td>f64</td><td>f64</td><td>f64</td><td>f64</td><td>f64</td><td>f64</td><td>f64</td><td>f64</td><td>f64</td><td>f64</td><td>f64</td><td>f64</td><td>f64</td><td>f64</td><td>f64</td><td>f64</td><td>f64</td><td>f64</td><td>f64</td><td>f64</td><td>f64</td><td>f64</td><td>f64</td><td>f64</td><td>f64</td><td>f64</td><td>f64</td><td>f64</td><td>f64</td><td>f64</td><td>f64</td><td>f64</td><td>f64</td><td>f64</td><td>f64</td><td>f64</td><td>f64</td><td>&hellip;</td><td>f64</td><td>f64</td><td>f64</td><td>f64</td><td>f64</td><td>f64</td><td>f64</td><td>f64</td><td>f64</td><td>f64</td><td>f64</td><td>f64</td><td>f64</td><td>f64</td><td>f64</td><td>f64</td><td>f64</td><td>f64</td><td>f64</td><td>f64</td><td>f64</td><td>f64</td><td>f64</td><td>f64</td><td>f64</td><td>f64</td><td>f64</td><td>f64</td><td>f64</td><td>f64</td><td>f64</td><td>f64</td><td>f64</td><td>f64</td><td>f64</td><td>f64</td><td>f64</td></tr></thead><tbody><tr><td>1.0</td><td>1.0</td><td>0.606123</td><td>0.299546</td><td>0.551415</td><td>0.637375</td><td>0.044407</td><td>0.031179</td><td>0.008651</td><td>0.216638</td><td>0.0839</td><td>0.461049</td><td>0.299546</td><td>0.674647</td><td>0.640398</td><td>0.53409</td><td>0.617441</td><td>0.602105</td><td>0.808998</td><td>0.717246</td><td>0.716446</td><td>0.403281</td><td>0.906246</td><td>0.70211</td><td>0.095517</td><td>0.449682</td><td>0.606123</td><td>0.190793</td><td>0.489377</td><td>0.601554</td><td>0.473897</td><td>0.611098</td><td>0.14819</td><td>0.64041</td><td>0.536361</td><td>0.044802</td><td>0.635248</td><td>&hellip;</td><td>0.622181</td><td>0.605137</td><td>0.336718</td><td>0.12718</td><td>0.513814</td><td>0.874562</td><td>0.789564</td><td>0.735561</td><td>0.62337</td><td>0.900945</td><td>0.566054</td><td>0.228818</td><td>0.639837</td><td>0.228818</td><td>0.228818</td><td>0.225556</td><td>0.489308</td><td>0.449548</td><td>0.691628</td><td>0.449334</td><td>0.449607</td><td>0.300931</td><td>0.185339</td><td>0.575195</td><td>0.143186</td><td>0.03551</td><td>0.131394</td><td>0.448143</td><td>0.271994</td><td>0.904986</td><td>0.937796</td><td>0.853177</td><td>1.0</td><td>0.973384</td><td>0.973384</td><td>1.0</td><td>0.965786</td></tr></tbody></table></div>"
      ],
      "text/plain": [
       "shape: (1, 216)\n",
       "┌────────┬────────┬──────────┬──────────┬───┬──────────┬──────────┬──────┬──────────┐\n",
       "│ permno ┆ yyyymm ┆ AM       ┆ AOP      ┆ … ┆ Price    ┆ Size     ┆ date ┆ ret      │\n",
       "│ ---    ┆ ---    ┆ ---      ┆ ---      ┆   ┆ ---      ┆ ---      ┆ ---  ┆ ---      │\n",
       "│ f64    ┆ f64    ┆ f64      ┆ f64      ┆   ┆ f64      ┆ f64      ┆ f64  ┆ f64      │\n",
       "╞════════╪════════╪══════════╪══════════╪═══╪══════════╪══════════╪══════╪══════════╡\n",
       "│ 1.0    ┆ 1.0    ┆ 0.606123 ┆ 0.299546 ┆ … ┆ 0.973384 ┆ 0.973384 ┆ 1.0  ┆ 0.965786 │\n",
       "└────────┴────────┴──────────┴──────────┴───┴──────────┴──────────┴──────┴──────────┘"
      ]
     },
     "execution_count": 4,
     "metadata": {},
     "output_type": "execute_result"
    }
   ],
   "source": [
    "# Get number of non-null elements\n",
    "full_data.count() / len(full_data)"
   ]
  },
  {
   "cell_type": "code",
   "execution_count": 5,
   "metadata": {},
   "outputs": [
    {
     "data": {
      "text/html": [
       "<div><style>\n",
       ".dataframe > thead > tr,\n",
       ".dataframe > tbody > tr {\n",
       "  text-align: right;\n",
       "  white-space: pre-wrap;\n",
       "}\n",
       "</style>\n",
       "<small>shape: (3_487_273, 216)</small><table border=\"1\" class=\"dataframe\"><thead><tr><th>permno</th><th>yyyymm</th><th>AM</th><th>AOP</th><th>AbnormalAccruals</th><th>Accruals</th><th>AccrualsBM</th><th>Activism1</th><th>Activism2</th><th>AdExp</th><th>AgeIPO</th><th>AnalystRevision</th><th>AnalystValue</th><th>AnnouncementReturn</th><th>AssetGrowth</th><th>BM</th><th>BMdec</th><th>BPEBM</th><th>Beta</th><th>BetaFP</th><th>BetaLiquidityPS</th><th>BetaTailRisk</th><th>BidAskSpread</th><th>BookLeverage</th><th>BrandInvest</th><th>CBOperProf</th><th>CF</th><th>CPVolSpread</th><th>Cash</th><th>CashProd</th><th>ChAssetTurnover</th><th>ChEQ</th><th>ChForecastAccrual</th><th>ChInv</th><th>ChInvIA</th><th>ChNAnalyst</th><th>ChNNCOA</th><th>&hellip;</th><th>Tax</th><th>TotalAccruals</th><th>TrendFactor</th><th>UpRecomm</th><th>VarCF</th><th>VolMkt</th><th>VolSD</th><th>VolumeTrend</th><th>XFIN</th><th>betaVIX</th><th>cfp</th><th>dCPVolSpread</th><th>dNoa</th><th>dVolCall</th><th>dVolPut</th><th>fgr5yrLag</th><th>grcapx</th><th>grcapx3y</th><th>hire</th><th>iomom_cust</th><th>iomom_supp</th><th>realestate</th><th>retConglomerate</th><th>roaq</th><th>sfe</th><th>sinAlgo</th><th>skew1</th><th>std_turn</th><th>tang</th><th>zerotrade</th><th>zerotradeAlt1</th><th>zerotradeAlt12</th><th>STreversal</th><th>Price</th><th>Size</th><th>date</th><th>ret</th></tr><tr><td>i64</td><td>i64</td><td>f64</td><td>str</td><td>f64</td><td>f64</td><td>str</td><td>str</td><td>str</td><td>f64</td><td>str</td><td>f64</td><td>str</td><td>f64</td><td>f64</td><td>f64</td><td>f64</td><td>f64</td><td>f64</td><td>f64</td><td>f64</td><td>f64</td><td>f64</td><td>f64</td><td>str</td><td>f64</td><td>f64</td><td>str</td><td>f64</td><td>f64</td><td>f64</td><td>f64</td><td>f64</td><td>f64</td><td>f64</td><td>f64</td><td>f64</td><td>&hellip;</td><td>f64</td><td>f64</td><td>str</td><td>str</td><td>f64</td><td>f64</td><td>f64</td><td>f64</td><td>f64</td><td>f64</td><td>f64</td><td>str</td><td>f64</td><td>str</td><td>str</td><td>str</td><td>f64</td><td>f64</td><td>f64</td><td>f64</td><td>f64</td><td>str</td><td>str</td><td>f64</td><td>str</td><td>str</td><td>str</td><td>f64</td><td>f64</td><td>f64</td><td>f64</td><td>f64</td><td>f64</td><td>f64</td><td>f64</td><td>str</td><td>f64</td></tr></thead><tbody><tr><td>10000</td><td>198601</td><td>null</td><td>null</td><td>null</td><td>null</td><td>null</td><td>null</td><td>null</td><td>null</td><td>null</td><td>null</td><td>null</td><td>null</td><td>null</td><td>null</td><td>null</td><td>null</td><td>null</td><td>null</td><td>null</td><td>null</td><td>null</td><td>null</td><td>null</td><td>null</td><td>null</td><td>null</td><td>null</td><td>null</td><td>null</td><td>null</td><td>null</td><td>null</td><td>null</td><td>null</td><td>null</td><td>&hellip;</td><td>null</td><td>null</td><td>null</td><td>null</td><td>null</td><td>null</td><td>null</td><td>null</td><td>null</td><td>-0.005234</td><td>null</td><td>null</td><td>null</td><td>null</td><td>null</td><td>null</td><td>null</td><td>null</td><td>null</td><td>null</td><td>null</td><td>null</td><td>null</td><td>null</td><td>null</td><td>null</td><td>null</td><td>null</td><td>null</td><td>null</td><td>null</td><td>null</td><td>0.0</td><td>-1.475907</td><td>-9.686575</td><td>&quot;1986-01-31&quot;</td><td>null</td></tr><tr><td>10000</td><td>198602</td><td>null</td><td>null</td><td>null</td><td>null</td><td>null</td><td>null</td><td>null</td><td>null</td><td>null</td><td>null</td><td>null</td><td>null</td><td>null</td><td>null</td><td>null</td><td>null</td><td>null</td><td>null</td><td>null</td><td>null</td><td>null</td><td>null</td><td>null</td><td>null</td><td>null</td><td>null</td><td>null</td><td>null</td><td>null</td><td>null</td><td>null</td><td>null</td><td>null</td><td>null</td><td>null</td><td>&hellip;</td><td>null</td><td>null</td><td>null</td><td>null</td><td>null</td><td>null</td><td>null</td><td>null</td><td>null</td><td>-0.003488</td><td>null</td><td>null</td><td>null</td><td>null</td><td>null</td><td>null</td><td>null</td><td>null</td><td>null</td><td>null</td><td>null</td><td>null</td><td>null</td><td>null</td><td>null</td><td>null</td><td>null</td><td>null</td><td>null</td><td>null</td><td>4.7852e-8</td><td>null</td><td>25.7143</td><td>-1.178655</td><td>-9.389323</td><td>&quot;1986-02-28&quot;</td><td>-0.257143</td></tr><tr><td>10000</td><td>198603</td><td>null</td><td>null</td><td>null</td><td>null</td><td>null</td><td>null</td><td>null</td><td>null</td><td>null</td><td>null</td><td>null</td><td>null</td><td>null</td><td>null</td><td>null</td><td>null</td><td>null</td><td>null</td><td>null</td><td>null</td><td>null</td><td>null</td><td>null</td><td>null</td><td>null</td><td>null</td><td>null</td><td>null</td><td>null</td><td>null</td><td>null</td><td>null</td><td>null</td><td>null</td><td>null</td><td>&hellip;</td><td>null</td><td>null</td><td>null</td><td>null</td><td>null</td><td>null</td><td>null</td><td>null</td><td>null</td><td>-0.002715</td><td>null</td><td>null</td><td>null</td><td>null</td><td>null</td><td>null</td><td>null</td><td>null</td><td>null</td><td>null</td><td>null</td><td>null</td><td>null</td><td>null</td><td>null</td><td>null</td><td>null</td><td>null</td><td>null</td><td>null</td><td>1.0234e-7</td><td>null</td><td>-36.5385</td><td>-1.490091</td><td>-9.700759</td><td>&quot;1986-03-31&quot;</td><td>0.365385</td></tr><tr><td>10000</td><td>198604</td><td>null</td><td>null</td><td>null</td><td>null</td><td>null</td><td>null</td><td>null</td><td>null</td><td>null</td><td>null</td><td>null</td><td>null</td><td>null</td><td>null</td><td>null</td><td>null</td><td>null</td><td>null</td><td>null</td><td>null</td><td>null</td><td>null</td><td>null</td><td>null</td><td>null</td><td>null</td><td>null</td><td>null</td><td>null</td><td>null</td><td>null</td><td>null</td><td>null</td><td>null</td><td>null</td><td>&hellip;</td><td>null</td><td>null</td><td>null</td><td>null</td><td>null</td><td>null</td><td>null</td><td>null</td><td>null</td><td>0.000877</td><td>null</td><td>null</td><td>null</td><td>null</td><td>null</td><td>null</td><td>null</td><td>null</td><td>null</td><td>null</td><td>null</td><td>null</td><td>null</td><td>null</td><td>null</td><td>null</td><td>null</td><td>null</td><td>null</td><td>null</td><td>7.4675e-8</td><td>null</td><td>9.8592</td><td>-1.386294</td><td>-9.627207</td><td>&quot;1986-04-30&quot;</td><td>-0.098592</td></tr><tr><td>10000</td><td>198605</td><td>null</td><td>null</td><td>null</td><td>null</td><td>null</td><td>null</td><td>null</td><td>null</td><td>null</td><td>null</td><td>null</td><td>null</td><td>null</td><td>null</td><td>null</td><td>null</td><td>null</td><td>null</td><td>null</td><td>null</td><td>null</td><td>null</td><td>null</td><td>null</td><td>null</td><td>null</td><td>null</td><td>null</td><td>null</td><td>null</td><td>null</td><td>null</td><td>null</td><td>null</td><td>null</td><td>&hellip;</td><td>null</td><td>null</td><td>null</td><td>null</td><td>null</td><td>null</td><td>null</td><td>null</td><td>null</td><td>0.008818</td><td>null</td><td>null</td><td>null</td><td>null</td><td>null</td><td>null</td><td>null</td><td>null</td><td>null</td><td>null</td><td>null</td><td>null</td><td>null</td><td>null</td><td>null</td><td>null</td><td>null</td><td>null</td><td>null</td><td>null</td><td>7.6496e-8</td><td>null</td><td>22.2656</td><td>-1.134423</td><td>-9.375336</td><td>&quot;1986-05-30&quot;</td><td>-0.222656</td></tr><tr><td>&hellip;</td><td>&hellip;</td><td>&hellip;</td><td>&hellip;</td><td>&hellip;</td><td>&hellip;</td><td>&hellip;</td><td>&hellip;</td><td>&hellip;</td><td>&hellip;</td><td>&hellip;</td><td>&hellip;</td><td>&hellip;</td><td>&hellip;</td><td>&hellip;</td><td>&hellip;</td><td>&hellip;</td><td>&hellip;</td><td>&hellip;</td><td>&hellip;</td><td>&hellip;</td><td>&hellip;</td><td>&hellip;</td><td>&hellip;</td><td>&hellip;</td><td>&hellip;</td><td>&hellip;</td><td>&hellip;</td><td>&hellip;</td><td>&hellip;</td><td>&hellip;</td><td>&hellip;</td><td>&hellip;</td><td>&hellip;</td><td>&hellip;</td><td>&hellip;</td><td>&hellip;</td><td>&hellip;</td><td>&hellip;</td><td>&hellip;</td><td>&hellip;</td><td>&hellip;</td><td>&hellip;</td><td>&hellip;</td><td>&hellip;</td><td>&hellip;</td><td>&hellip;</td><td>&hellip;</td><td>&hellip;</td><td>&hellip;</td><td>&hellip;</td><td>&hellip;</td><td>&hellip;</td><td>&hellip;</td><td>&hellip;</td><td>&hellip;</td><td>&hellip;</td><td>&hellip;</td><td>&hellip;</td><td>&hellip;</td><td>&hellip;</td><td>&hellip;</td><td>&hellip;</td><td>&hellip;</td><td>&hellip;</td><td>&hellip;</td><td>&hellip;</td><td>&hellip;</td><td>&hellip;</td><td>&hellip;</td><td>&hellip;</td><td>&hellip;</td><td>&hellip;</td><td>&hellip;</td><td>&hellip;</td></tr><tr><td>93433</td><td>201005</td><td>null</td><td>null</td><td>null</td><td>null</td><td>null</td><td>null</td><td>null</td><td>null</td><td>null</td><td>null</td><td>null</td><td>null</td><td>null</td><td>null</td><td>null</td><td>null</td><td>null</td><td>null</td><td>null</td><td>null</td><td>null</td><td>null</td><td>null</td><td>null</td><td>null</td><td>null</td><td>null</td><td>null</td><td>null</td><td>null</td><td>null</td><td>null</td><td>null</td><td>null</td><td>null</td><td>&hellip;</td><td>null</td><td>null</td><td>null</td><td>null</td><td>null</td><td>null</td><td>null</td><td>null</td><td>null</td><td>null</td><td>null</td><td>null</td><td>null</td><td>null</td><td>null</td><td>null</td><td>null</td><td>null</td><td>null</td><td>null</td><td>null</td><td>null</td><td>null</td><td>null</td><td>null</td><td>null</td><td>null</td><td>null</td><td>null</td><td>null</td><td>null</td><td>null</td><td>0.0</td><td>null</td><td>null</td><td>&quot;2010-05-28&quot;</td><td>null</td></tr><tr><td>93434</td><td>201005</td><td>null</td><td>null</td><td>null</td><td>null</td><td>null</td><td>null</td><td>null</td><td>null</td><td>null</td><td>null</td><td>null</td><td>null</td><td>null</td><td>null</td><td>null</td><td>null</td><td>null</td><td>null</td><td>null</td><td>null</td><td>null</td><td>null</td><td>null</td><td>null</td><td>null</td><td>null</td><td>null</td><td>null</td><td>null</td><td>null</td><td>null</td><td>null</td><td>null</td><td>null</td><td>null</td><td>&hellip;</td><td>null</td><td>null</td><td>null</td><td>null</td><td>null</td><td>null</td><td>null</td><td>null</td><td>null</td><td>null</td><td>null</td><td>null</td><td>null</td><td>null</td><td>null</td><td>null</td><td>null</td><td>null</td><td>null</td><td>null</td><td>null</td><td>null</td><td>null</td><td>null</td><td>null</td><td>null</td><td>null</td><td>null</td><td>null</td><td>null</td><td>null</td><td>null</td><td>0.0</td><td>null</td><td>null</td><td>&quot;2010-05-28&quot;</td><td>null</td></tr><tr><td>93434</td><td>202312</td><td>null</td><td>null</td><td>null</td><td>null</td><td>null</td><td>null</td><td>null</td><td>null</td><td>null</td><td>null</td><td>null</td><td>null</td><td>null</td><td>null</td><td>null</td><td>null</td><td>null</td><td>null</td><td>null</td><td>null</td><td>null</td><td>null</td><td>null</td><td>null</td><td>null</td><td>null</td><td>null</td><td>null</td><td>null</td><td>null</td><td>null</td><td>null</td><td>null</td><td>null</td><td>null</td><td>&hellip;</td><td>null</td><td>null</td><td>null</td><td>null</td><td>null</td><td>null</td><td>null</td><td>null</td><td>null</td><td>null</td><td>null</td><td>null</td><td>null</td><td>null</td><td>null</td><td>null</td><td>null</td><td>null</td><td>null</td><td>null</td><td>null</td><td>null</td><td>null</td><td>null</td><td>null</td><td>null</td><td>null</td><td>null</td><td>null</td><td>null</td><td>null</td><td>null</td><td>-6.5449</td><td>0.356675</td><td>-10.313187</td><td>&quot;2023-12-29&quot;</td><td>0.065449</td></tr><tr><td>93435</td><td>201005</td><td>null</td><td>null</td><td>null</td><td>null</td><td>null</td><td>null</td><td>null</td><td>null</td><td>null</td><td>null</td><td>null</td><td>null</td><td>null</td><td>null</td><td>null</td><td>null</td><td>null</td><td>null</td><td>null</td><td>null</td><td>null</td><td>null</td><td>null</td><td>null</td><td>null</td><td>null</td><td>null</td><td>null</td><td>null</td><td>null</td><td>null</td><td>null</td><td>null</td><td>null</td><td>null</td><td>&hellip;</td><td>null</td><td>null</td><td>null</td><td>null</td><td>null</td><td>null</td><td>null</td><td>null</td><td>null</td><td>null</td><td>null</td><td>null</td><td>null</td><td>null</td><td>null</td><td>null</td><td>null</td><td>null</td><td>null</td><td>null</td><td>null</td><td>null</td><td>null</td><td>null</td><td>null</td><td>null</td><td>null</td><td>null</td><td>null</td><td>null</td><td>null</td><td>null</td><td>0.0</td><td>null</td><td>null</td><td>&quot;2010-05-28&quot;</td><td>null</td></tr><tr><td>93436</td><td>201005</td><td>null</td><td>null</td><td>null</td><td>null</td><td>null</td><td>null</td><td>null</td><td>null</td><td>null</td><td>null</td><td>null</td><td>null</td><td>null</td><td>null</td><td>null</td><td>null</td><td>null</td><td>null</td><td>null</td><td>null</td><td>null</td><td>null</td><td>null</td><td>null</td><td>null</td><td>null</td><td>null</td><td>null</td><td>null</td><td>null</td><td>null</td><td>null</td><td>null</td><td>null</td><td>null</td><td>&hellip;</td><td>null</td><td>null</td><td>null</td><td>null</td><td>null</td><td>null</td><td>null</td><td>null</td><td>null</td><td>null</td><td>null</td><td>null</td><td>null</td><td>null</td><td>null</td><td>null</td><td>null</td><td>null</td><td>null</td><td>null</td><td>null</td><td>null</td><td>null</td><td>null</td><td>null</td><td>null</td><td>null</td><td>null</td><td>null</td><td>null</td><td>null</td><td>null</td><td>0.0</td><td>null</td><td>null</td><td>&quot;2010-05-28&quot;</td><td>null</td></tr></tbody></table></div>"
      ],
      "text/plain": [
       "shape: (3_487_273, 216)\n",
       "┌────────┬────────┬──────┬──────┬───┬───────────┬────────────┬────────────┬───────────┐\n",
       "│ permno ┆ yyyymm ┆ AM   ┆ AOP  ┆ … ┆ Price     ┆ Size       ┆ date       ┆ ret       │\n",
       "│ ---    ┆ ---    ┆ ---  ┆ ---  ┆   ┆ ---       ┆ ---        ┆ ---        ┆ ---       │\n",
       "│ i64    ┆ i64    ┆ f64  ┆ str  ┆   ┆ f64       ┆ f64        ┆ str        ┆ f64       │\n",
       "╞════════╪════════╪══════╪══════╪═══╪═══════════╪════════════╪════════════╪═══════════╡\n",
       "│ 10000  ┆ 198601 ┆ null ┆ null ┆ … ┆ -1.475907 ┆ -9.686575  ┆ 1986-01-31 ┆ null      │\n",
       "│ 10000  ┆ 198602 ┆ null ┆ null ┆ … ┆ -1.178655 ┆ -9.389323  ┆ 1986-02-28 ┆ -0.257143 │\n",
       "│ 10000  ┆ 198603 ┆ null ┆ null ┆ … ┆ -1.490091 ┆ -9.700759  ┆ 1986-03-31 ┆ 0.365385  │\n",
       "│ 10000  ┆ 198604 ┆ null ┆ null ┆ … ┆ -1.386294 ┆ -9.627207  ┆ 1986-04-30 ┆ -0.098592 │\n",
       "│ 10000  ┆ 198605 ┆ null ┆ null ┆ … ┆ -1.134423 ┆ -9.375336  ┆ 1986-05-30 ┆ -0.222656 │\n",
       "│ …      ┆ …      ┆ …    ┆ …    ┆ … ┆ …         ┆ …          ┆ …          ┆ …         │\n",
       "│ 93433  ┆ 201005 ┆ null ┆ null ┆ … ┆ null      ┆ null       ┆ 2010-05-28 ┆ null      │\n",
       "│ 93434  ┆ 201005 ┆ null ┆ null ┆ … ┆ null      ┆ null       ┆ 2010-05-28 ┆ null      │\n",
       "│ 93434  ┆ 202312 ┆ null ┆ null ┆ … ┆ 0.356675  ┆ -10.313187 ┆ 2023-12-29 ┆ 0.065449  │\n",
       "│ 93435  ┆ 201005 ┆ null ┆ null ┆ … ┆ null      ┆ null       ┆ 2010-05-28 ┆ null      │\n",
       "│ 93436  ┆ 201005 ┆ null ┆ null ┆ … ┆ null      ┆ null       ┆ 2010-05-28 ┆ null      │\n",
       "└────────┴────────┴──────┴──────┴───┴───────────┴────────────┴────────────┴───────────┘"
      ]
     },
     "execution_count": 5,
     "metadata": {},
     "output_type": "execute_result"
    }
   ],
   "source": [
    "full_data"
   ]
  },
  {
   "cell_type": "code",
   "execution_count": null,
   "metadata": {},
   "outputs": [],
   "source": [
    "full_data.select"
   ]
  },
  {
   "cell_type": "code",
   "execution_count": null,
   "metadata": {},
   "outputs": [],
   "source": [
    "def run_models_and_plot(df, target_column):\n",
    "    # Separate features (X) and target (y)\n",
    "    X = df.drop(target_column, axis=1)\n",
    "    y = df[target_column]\n",
    "\n",
    "    # Normalize the features\n",
    "    scaler = StandardScaler()\n",
    "    X = scaler.fit_transform(X)\n",
    "\n",
    "    # Split the data into training and test sets\n",
    "    X_train, X_test, y_train, y_test = train_test_split(X, y, test_size=0.2, random_state=42)\n",
    "\n",
    "    # Create and fit models\n",
    "    models = [\n",
    "        LinearRegression(),\n",
    "        Ridge(),\n",
    "        Lasso(alpha=0.1),\n",
    "        RandomForestRegressor(),\n",
    "        AdaBoostRegressor(),\n",
    "        XGBRegressor(objective =\"reg:squarederror\")\n",
    "    ]\n",
    "    model_names = [\"LinearRegression\", \"Ridge\", \"Lasso\", \"RandomForestRegressor\", \"AdaBoostRegressor\", \"XGBRegressor\"]\n",
    "\n",
    "    # Make predictions using each model and plot observed vs fitted values\n",
    "    for model, name in zip(models, model_names):\n",
    "        model.fit(X_train, y_train)\n",
    "        if name == \"Lasso\":\n",
    "            print(model.coef_)\n",
    "        predictions = model.predict(X_test)\n",
    "\n",
    "        # Plot observed vs fitted values\n",
    "        plt.figure(figsize=(6, 6))\n",
    "        plt.scatter(y_test, predictions)\n",
    "        plt.plot([y_test.min(), y_test.max()], [y_test.min(), y_test.max()], \"k--\", lw=4)\n",
    "        plt.xlabel(\"Observed\")\n",
    "        plt.ylabel(\"Fitted\")\n",
    "        plt.title(name)\n",
    "        plt.show()\n",
    "\n",
    "run_models_and_plot(listings_1, \"price\")"
   ]
  }
 ],
 "metadata": {
  "kernelspec": {
   "display_name": "Python 3",
   "language": "python",
   "name": "python3"
  },
  "language_info": {
   "codemirror_mode": {
    "name": "ipython",
    "version": 3
   },
   "file_extension": ".py",
   "mimetype": "text/x-python",
   "name": "python",
   "nbconvert_exporter": "python",
   "pygments_lexer": "ipython3",
   "version": "3.12.3"
  }
 },
 "nbformat": 4,
 "nbformat_minor": 2
}
