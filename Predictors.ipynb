{
 "cells": [
  {
   "cell_type": "code",
   "execution_count": 1,
   "metadata": {},
   "outputs": [],
   "source": [
    "import pandas as pd\n",
    "import polars as pl\n",
    "from data import *\n",
    "import numpy as np\n",
    "import matplotlib.pyplot as plt\n",
    "import seaborn as sns\n",
    "import pickle\n",
    "import pyarrow\n",
    "import sklearn\n",
    "from sklearn.impute import SimpleImputer\n",
    "from sklearn.decomposition import PCA\n",
    "from sklearn.linear_model import LinearRegression, Ridge, Lasso\n",
    "from sklearn.ensemble import RandomForestRegressor, AdaBoostRegressor\n",
    "from sklearn.model_selection import train_test_split\n",
    "from sklearn.preprocessing import StandardScaler\n",
    "from sklearn.metrics import mean_squared_error, r2_score\n",
    "import sys\n",
    "import numpy as np\n",
    "from scipy import stats\n",
    "from typing import cast\n",
    "from utils import *\n",
    "import wrds"
   ]
  },
  {
   "cell_type": "markdown",
   "metadata": {},
   "source": [
    "# 0. Preprocessing"
   ]
  },
  {
   "cell_type": "code",
   "execution_count": 2,
   "metadata": {},
   "outputs": [
    {
     "data": {
      "text/html": [
       "<div><style>\n",
       ".dataframe > thead > tr,\n",
       ".dataframe > tbody > tr {\n",
       "  text-align: right;\n",
       "  white-space: pre-wrap;\n",
       "}\n",
       "</style>\n",
       "<small>shape: (5_249_456, 215)</small><table border=\"1\" class=\"dataframe\"><thead><tr><th>permno</th><th>yyyymm</th><th>AM</th><th>AOP</th><th>AbnormalAccruals</th><th>Accruals</th><th>AccrualsBM</th><th>Activism1</th><th>Activism2</th><th>AdExp</th><th>AgeIPO</th><th>AnalystRevision</th><th>AnalystValue</th><th>AnnouncementReturn</th><th>AssetGrowth</th><th>BM</th><th>BMdec</th><th>BPEBM</th><th>Beta</th><th>BetaFP</th><th>BetaLiquidityPS</th><th>BetaTailRisk</th><th>BidAskSpread</th><th>BookLeverage</th><th>BrandInvest</th><th>CBOperProf</th><th>CF</th><th>CPVolSpread</th><th>Cash</th><th>CashProd</th><th>ChAssetTurnover</th><th>ChEQ</th><th>ChForecastAccrual</th><th>ChInv</th><th>ChInvIA</th><th>ChNAnalyst</th><th>ChNNCOA</th><th>&hellip;</th><th>SurpriseRD</th><th>Tax</th><th>TotalAccruals</th><th>TrendFactor</th><th>UpRecomm</th><th>VarCF</th><th>VolMkt</th><th>VolSD</th><th>VolumeTrend</th><th>XFIN</th><th>betaVIX</th><th>cfp</th><th>dCPVolSpread</th><th>dNoa</th><th>dVolCall</th><th>dVolPut</th><th>fgr5yrLag</th><th>grcapx</th><th>grcapx3y</th><th>hire</th><th>iomom_cust</th><th>iomom_supp</th><th>realestate</th><th>retConglomerate</th><th>roaq</th><th>sfe</th><th>sinAlgo</th><th>skew1</th><th>std_turn</th><th>tang</th><th>zerotrade</th><th>zerotradeAlt1</th><th>zerotradeAlt12</th><th>STreversal</th><th>Price</th><th>Size</th><th>date</th></tr><tr><td>i64</td><td>str</td><td>f64</td><td>f64</td><td>f64</td><td>f64</td><td>f64</td><td>f64</td><td>f64</td><td>f64</td><td>f64</td><td>f64</td><td>f64</td><td>f64</td><td>f64</td><td>f64</td><td>f64</td><td>f64</td><td>f64</td><td>f64</td><td>f64</td><td>f64</td><td>f64</td><td>f64</td><td>f64</td><td>f64</td><td>f64</td><td>f64</td><td>f64</td><td>f64</td><td>f64</td><td>f64</td><td>f64</td><td>f64</td><td>f64</td><td>f64</td><td>f64</td><td>&hellip;</td><td>f64</td><td>f64</td><td>f64</td><td>f64</td><td>f64</td><td>f64</td><td>f64</td><td>f64</td><td>f64</td><td>f64</td><td>f64</td><td>f64</td><td>f64</td><td>f64</td><td>f64</td><td>f64</td><td>f64</td><td>f64</td><td>f64</td><td>f64</td><td>f64</td><td>f64</td><td>f64</td><td>f64</td><td>f64</td><td>f64</td><td>f64</td><td>f64</td><td>f64</td><td>f64</td><td>f64</td><td>f64</td><td>f64</td><td>f64</td><td>f64</td><td>f64</td><td>date</td></tr></thead><tbody><tr><td>10000</td><td>&quot;198512&quot;</td><td>null</td><td>null</td><td>null</td><td>null</td><td>null</td><td>null</td><td>null</td><td>null</td><td>null</td><td>null</td><td>null</td><td>null</td><td>null</td><td>null</td><td>null</td><td>null</td><td>null</td><td>null</td><td>null</td><td>null</td><td>null</td><td>null</td><td>null</td><td>null</td><td>null</td><td>null</td><td>null</td><td>null</td><td>null</td><td>null</td><td>null</td><td>null</td><td>null</td><td>null</td><td>null</td><td>&hellip;</td><td>null</td><td>null</td><td>null</td><td>null</td><td>null</td><td>null</td><td>null</td><td>null</td><td>null</td><td>null</td><td>null</td><td>null</td><td>null</td><td>null</td><td>null</td><td>null</td><td>null</td><td>null</td><td>null</td><td>null</td><td>null</td><td>null</td><td>null</td><td>null</td><td>null</td><td>null</td><td>null</td><td>null</td><td>null</td><td>null</td><td>null</td><td>null</td><td>null</td><td>0.0</td><td>null</td><td>null</td><td>1985-12-01</td></tr><tr><td>10000</td><td>&quot;198601&quot;</td><td>null</td><td>null</td><td>null</td><td>null</td><td>null</td><td>null</td><td>null</td><td>null</td><td>null</td><td>null</td><td>null</td><td>null</td><td>null</td><td>null</td><td>null</td><td>null</td><td>null</td><td>null</td><td>null</td><td>null</td><td>null</td><td>null</td><td>null</td><td>null</td><td>null</td><td>null</td><td>null</td><td>null</td><td>null</td><td>null</td><td>null</td><td>null</td><td>null</td><td>null</td><td>null</td><td>&hellip;</td><td>null</td><td>null</td><td>null</td><td>null</td><td>null</td><td>null</td><td>null</td><td>null</td><td>null</td><td>null</td><td>-0.005234</td><td>null</td><td>null</td><td>null</td><td>null</td><td>null</td><td>null</td><td>null</td><td>null</td><td>null</td><td>null</td><td>null</td><td>null</td><td>null</td><td>null</td><td>null</td><td>null</td><td>null</td><td>null</td><td>null</td><td>null</td><td>null</td><td>null</td><td>0.0</td><td>-1.475907</td><td>-9.686575</td><td>1986-01-01</td></tr><tr><td>10000</td><td>&quot;198602&quot;</td><td>null</td><td>null</td><td>null</td><td>null</td><td>null</td><td>null</td><td>null</td><td>null</td><td>null</td><td>null</td><td>null</td><td>null</td><td>null</td><td>null</td><td>null</td><td>null</td><td>null</td><td>null</td><td>null</td><td>null</td><td>null</td><td>null</td><td>null</td><td>null</td><td>null</td><td>null</td><td>null</td><td>null</td><td>null</td><td>null</td><td>null</td><td>null</td><td>null</td><td>null</td><td>null</td><td>&hellip;</td><td>null</td><td>null</td><td>null</td><td>null</td><td>null</td><td>null</td><td>null</td><td>null</td><td>null</td><td>null</td><td>-0.003488</td><td>null</td><td>null</td><td>null</td><td>null</td><td>null</td><td>null</td><td>null</td><td>null</td><td>null</td><td>null</td><td>null</td><td>null</td><td>null</td><td>null</td><td>null</td><td>null</td><td>null</td><td>null</td><td>null</td><td>null</td><td>4.7852e-8</td><td>null</td><td>25.7143</td><td>-1.178655</td><td>-9.389323</td><td>1986-02-01</td></tr><tr><td>10000</td><td>&quot;198603&quot;</td><td>null</td><td>null</td><td>null</td><td>null</td><td>null</td><td>null</td><td>null</td><td>null</td><td>null</td><td>null</td><td>null</td><td>null</td><td>null</td><td>null</td><td>null</td><td>null</td><td>null</td><td>null</td><td>null</td><td>null</td><td>null</td><td>null</td><td>null</td><td>null</td><td>null</td><td>null</td><td>null</td><td>null</td><td>null</td><td>null</td><td>null</td><td>null</td><td>null</td><td>null</td><td>null</td><td>&hellip;</td><td>null</td><td>null</td><td>null</td><td>null</td><td>null</td><td>null</td><td>null</td><td>null</td><td>null</td><td>null</td><td>-0.002715</td><td>null</td><td>null</td><td>null</td><td>null</td><td>null</td><td>null</td><td>null</td><td>null</td><td>null</td><td>null</td><td>null</td><td>null</td><td>null</td><td>null</td><td>null</td><td>null</td><td>null</td><td>null</td><td>null</td><td>null</td><td>1.0234e-7</td><td>null</td><td>-36.5385</td><td>-1.490091</td><td>-9.700759</td><td>1986-03-01</td></tr><tr><td>10000</td><td>&quot;198604&quot;</td><td>null</td><td>null</td><td>null</td><td>null</td><td>null</td><td>null</td><td>null</td><td>null</td><td>null</td><td>null</td><td>null</td><td>null</td><td>null</td><td>null</td><td>null</td><td>null</td><td>null</td><td>null</td><td>null</td><td>null</td><td>null</td><td>null</td><td>null</td><td>null</td><td>null</td><td>null</td><td>null</td><td>null</td><td>null</td><td>null</td><td>null</td><td>null</td><td>null</td><td>null</td><td>null</td><td>&hellip;</td><td>null</td><td>null</td><td>null</td><td>null</td><td>null</td><td>null</td><td>null</td><td>null</td><td>null</td><td>null</td><td>0.000877</td><td>null</td><td>null</td><td>null</td><td>null</td><td>null</td><td>null</td><td>null</td><td>null</td><td>null</td><td>null</td><td>null</td><td>null</td><td>null</td><td>null</td><td>null</td><td>null</td><td>null</td><td>null</td><td>null</td><td>null</td><td>7.4675e-8</td><td>null</td><td>9.8592</td><td>-1.386294</td><td>-9.627207</td><td>1986-04-01</td></tr><tr><td>&hellip;</td><td>&hellip;</td><td>&hellip;</td><td>&hellip;</td><td>&hellip;</td><td>&hellip;</td><td>&hellip;</td><td>&hellip;</td><td>&hellip;</td><td>&hellip;</td><td>&hellip;</td><td>&hellip;</td><td>&hellip;</td><td>&hellip;</td><td>&hellip;</td><td>&hellip;</td><td>&hellip;</td><td>&hellip;</td><td>&hellip;</td><td>&hellip;</td><td>&hellip;</td><td>&hellip;</td><td>&hellip;</td><td>&hellip;</td><td>&hellip;</td><td>&hellip;</td><td>&hellip;</td><td>&hellip;</td><td>&hellip;</td><td>&hellip;</td><td>&hellip;</td><td>&hellip;</td><td>&hellip;</td><td>&hellip;</td><td>&hellip;</td><td>&hellip;</td><td>&hellip;</td><td>&hellip;</td><td>&hellip;</td><td>&hellip;</td><td>&hellip;</td><td>&hellip;</td><td>&hellip;</td><td>&hellip;</td><td>&hellip;</td><td>&hellip;</td><td>&hellip;</td><td>&hellip;</td><td>&hellip;</td><td>&hellip;</td><td>&hellip;</td><td>&hellip;</td><td>&hellip;</td><td>&hellip;</td><td>&hellip;</td><td>&hellip;</td><td>&hellip;</td><td>&hellip;</td><td>&hellip;</td><td>&hellip;</td><td>&hellip;</td><td>&hellip;</td><td>&hellip;</td><td>&hellip;</td><td>&hellip;</td><td>&hellip;</td><td>&hellip;</td><td>&hellip;</td><td>&hellip;</td><td>&hellip;</td><td>&hellip;</td><td>&hellip;</td><td>&hellip;</td><td>&hellip;</td><td>&hellip;</td></tr><tr><td>93436</td><td>&quot;202401&quot;</td><td>null</td><td>null</td><td>-0.003877</td><td>0.016862</td><td>null</td><td>null</td><td>null</td><td>null</td><td>null</td><td>null</td><td>null</td><td>null</td><td>-0.325232</td><td>null</td><td>null</td><td>null</td><td>null</td><td>null</td><td>null</td><td>null</td><td>null</td><td>-1.838476</td><td>null</td><td>null</td><td>null</td><td>null</td><td>null</td><td>null</td><td>0.598015</td><td>-1.480804</td><td>null</td><td>-0.098042</td><td>null</td><td>null</td><td>0.097266</td><td>&hellip;</td><td>0.0</td><td>0.288081</td><td>-0.223286</td><td>null</td><td>null</td><td>null</td><td>null</td><td>null</td><td>null</td><td>0.040382</td><td>null</td><td>null</td><td>null</td><td>-0.109511</td><td>null</td><td>null</td><td>null</td><td>null</td><td>null</td><td>-0.251513</td><td>null</td><td>null</td><td>null</td><td>null</td><td>null</td><td>null</td><td>null</td><td>null</td><td>null</td><td>0.698178</td><td>null</td><td>null</td><td>null</td><td>null</td><td>null</td><td>null</td><td>2024-01-01</td></tr><tr><td>93436</td><td>&quot;202402&quot;</td><td>null</td><td>null</td><td>-0.003877</td><td>0.016862</td><td>null</td><td>null</td><td>null</td><td>null</td><td>null</td><td>null</td><td>null</td><td>null</td><td>-0.325232</td><td>null</td><td>null</td><td>null</td><td>null</td><td>null</td><td>null</td><td>null</td><td>null</td><td>-1.838476</td><td>null</td><td>null</td><td>null</td><td>null</td><td>null</td><td>null</td><td>0.598015</td><td>-1.480804</td><td>null</td><td>-0.098042</td><td>null</td><td>null</td><td>0.097266</td><td>&hellip;</td><td>0.0</td><td>0.288081</td><td>-0.223286</td><td>null</td><td>null</td><td>null</td><td>null</td><td>null</td><td>null</td><td>0.040382</td><td>null</td><td>null</td><td>null</td><td>-0.109511</td><td>null</td><td>null</td><td>null</td><td>null</td><td>null</td><td>-0.251513</td><td>null</td><td>null</td><td>null</td><td>null</td><td>null</td><td>null</td><td>null</td><td>null</td><td>null</td><td>0.698178</td><td>null</td><td>null</td><td>null</td><td>null</td><td>null</td><td>null</td><td>2024-02-01</td></tr><tr><td>93436</td><td>&quot;202403&quot;</td><td>null</td><td>null</td><td>-0.003877</td><td>0.016862</td><td>null</td><td>null</td><td>null</td><td>null</td><td>null</td><td>null</td><td>null</td><td>null</td><td>-0.325232</td><td>null</td><td>null</td><td>null</td><td>null</td><td>null</td><td>null</td><td>null</td><td>null</td><td>-1.838476</td><td>null</td><td>null</td><td>null</td><td>null</td><td>null</td><td>null</td><td>0.598015</td><td>-1.480804</td><td>null</td><td>-0.098042</td><td>null</td><td>null</td><td>0.097266</td><td>&hellip;</td><td>0.0</td><td>0.288081</td><td>-0.223286</td><td>null</td><td>null</td><td>null</td><td>null</td><td>null</td><td>null</td><td>0.040382</td><td>null</td><td>null</td><td>null</td><td>-0.109511</td><td>null</td><td>null</td><td>null</td><td>null</td><td>null</td><td>-0.251513</td><td>null</td><td>null</td><td>null</td><td>null</td><td>null</td><td>null</td><td>null</td><td>null</td><td>null</td><td>0.698178</td><td>null</td><td>null</td><td>null</td><td>null</td><td>null</td><td>null</td><td>2024-03-01</td></tr><tr><td>93436</td><td>&quot;202404&quot;</td><td>null</td><td>null</td><td>-0.003877</td><td>0.016862</td><td>null</td><td>null</td><td>null</td><td>null</td><td>null</td><td>null</td><td>null</td><td>null</td><td>-0.325232</td><td>null</td><td>null</td><td>null</td><td>null</td><td>null</td><td>null</td><td>null</td><td>null</td><td>-1.838476</td><td>null</td><td>null</td><td>null</td><td>null</td><td>null</td><td>null</td><td>0.598015</td><td>-1.480804</td><td>null</td><td>-0.098042</td><td>null</td><td>null</td><td>0.097266</td><td>&hellip;</td><td>0.0</td><td>0.288081</td><td>-0.223286</td><td>null</td><td>null</td><td>null</td><td>null</td><td>null</td><td>null</td><td>0.040382</td><td>null</td><td>null</td><td>null</td><td>-0.109511</td><td>null</td><td>null</td><td>null</td><td>null</td><td>null</td><td>-0.251513</td><td>null</td><td>null</td><td>null</td><td>null</td><td>null</td><td>null</td><td>null</td><td>null</td><td>null</td><td>0.698178</td><td>null</td><td>null</td><td>null</td><td>null</td><td>null</td><td>null</td><td>2024-04-01</td></tr><tr><td>93436</td><td>&quot;202405&quot;</td><td>null</td><td>null</td><td>-0.003877</td><td>0.016862</td><td>null</td><td>null</td><td>null</td><td>null</td><td>null</td><td>null</td><td>null</td><td>null</td><td>-0.325232</td><td>null</td><td>null</td><td>null</td><td>null</td><td>null</td><td>null</td><td>null</td><td>null</td><td>-1.838476</td><td>null</td><td>null</td><td>null</td><td>null</td><td>null</td><td>null</td><td>0.598015</td><td>-1.480804</td><td>null</td><td>-0.098042</td><td>null</td><td>null</td><td>0.097266</td><td>&hellip;</td><td>0.0</td><td>0.288081</td><td>-0.223286</td><td>null</td><td>null</td><td>null</td><td>null</td><td>null</td><td>null</td><td>0.040382</td><td>null</td><td>null</td><td>null</td><td>-0.109511</td><td>null</td><td>null</td><td>null</td><td>null</td><td>null</td><td>-0.251513</td><td>null</td><td>null</td><td>null</td><td>null</td><td>null</td><td>null</td><td>null</td><td>null</td><td>null</td><td>0.698178</td><td>null</td><td>null</td><td>null</td><td>null</td><td>null</td><td>null</td><td>2024-05-01</td></tr></tbody></table></div>"
      ],
      "text/plain": [
       "shape: (5_249_456, 215)\n",
       "┌────────┬────────┬──────┬──────┬───┬────────────┬───────────┬───────────┬────────────┐\n",
       "│ permno ┆ yyyymm ┆ AM   ┆ AOP  ┆ … ┆ STreversal ┆ Price     ┆ Size      ┆ date       │\n",
       "│ ---    ┆ ---    ┆ ---  ┆ ---  ┆   ┆ ---        ┆ ---       ┆ ---       ┆ ---        │\n",
       "│ i64    ┆ str    ┆ f64  ┆ f64  ┆   ┆ f64        ┆ f64       ┆ f64       ┆ date       │\n",
       "╞════════╪════════╪══════╪══════╪═══╪════════════╪═══════════╪═══════════╪════════════╡\n",
       "│ 10000  ┆ 198512 ┆ null ┆ null ┆ … ┆ 0.0        ┆ null      ┆ null      ┆ 1985-12-01 │\n",
       "│ 10000  ┆ 198601 ┆ null ┆ null ┆ … ┆ 0.0        ┆ -1.475907 ┆ -9.686575 ┆ 1986-01-01 │\n",
       "│ 10000  ┆ 198602 ┆ null ┆ null ┆ … ┆ 25.7143    ┆ -1.178655 ┆ -9.389323 ┆ 1986-02-01 │\n",
       "│ 10000  ┆ 198603 ┆ null ┆ null ┆ … ┆ -36.5385   ┆ -1.490091 ┆ -9.700759 ┆ 1986-03-01 │\n",
       "│ 10000  ┆ 198604 ┆ null ┆ null ┆ … ┆ 9.8592     ┆ -1.386294 ┆ -9.627207 ┆ 1986-04-01 │\n",
       "│ …      ┆ …      ┆ …    ┆ …    ┆ … ┆ …          ┆ …         ┆ …         ┆ …          │\n",
       "│ 93436  ┆ 202401 ┆ null ┆ null ┆ … ┆ null       ┆ null      ┆ null      ┆ 2024-01-01 │\n",
       "│ 93436  ┆ 202402 ┆ null ┆ null ┆ … ┆ null       ┆ null      ┆ null      ┆ 2024-02-01 │\n",
       "│ 93436  ┆ 202403 ┆ null ┆ null ┆ … ┆ null       ┆ null      ┆ null      ┆ 2024-03-01 │\n",
       "│ 93436  ┆ 202404 ┆ null ┆ null ┆ … ┆ null       ┆ null      ┆ null      ┆ 2024-04-01 │\n",
       "│ 93436  ┆ 202405 ┆ null ┆ null ┆ … ┆ null       ┆ null      ┆ null      ┆ 2024-05-01 │\n",
       "└────────┴────────┴──────┴──────┴───┴────────────┴───────────┴───────────┴────────────┘"
      ]
     },
     "execution_count": 2,
     "metadata": {},
     "output_type": "execute_result"
    }
   ],
   "source": [
    "full_data = pl.read_csv(get_data_file_path(\"signed_predictors_all_wide.csv\"), dtypes=ALL_DATA_ENTRY_SCHEMA)\n",
    "full_data = full_data.sort(by=[\"permno\", \"yyyymm\"], maintain_order=True)\n",
    "full_data = full_data.with_columns(full_data[\"yyyymm\"].str.to_date(\"%Y%m\").alias(\"date\"))\n",
    "full_data"
   ]
  },
  {
   "cell_type": "code",
   "execution_count": 4,
   "metadata": {},
   "outputs": [],
   "source": [
    "MIN_DATE = full_data[\"date\"].min()\n",
    "MAX_DATE = full_data[\"date\"].max()\n",
    "MIN_PERMNO = full_data[\"permno\"].min()\n",
    "MAX_PERMNO = full_data[\"permno\"].max()"
   ]
  },
  {
   "cell_type": "code",
   "execution_count": 7,
   "metadata": {},
   "outputs": [
    {
     "name": "stdout",
     "output_type": "stream",
     "text": [
      "Loading library list...\n",
      "Done\n"
     ]
    }
   ],
   "source": [
    "db = wrds.Connection(wrds_username=get_env(\"WRDS_USERNAME\"))\n",
    "\n",
    "# Query to get the stock returns\n",
    "query = f\"\"\"\n",
    "SELECT permno, date, ret\n",
    "FROM crsp.msf\n",
    "WHERE permno BETWEEN {MIN_PERMNO} AND {MAX_PERMNO}\n",
    "AND date BETWEEN '{MIN_DATE.strftime(\"%Y-%m-%d\")}' AND '{MAX_DATE.strftime(\"%Y-%m-%d\")}'\n",
    "\"\"\"\n",
    "\n",
    "# Execute the query\n",
    "all_returns_data = db.raw_sql(query)\n",
    "\n",
    "# Close the connection\n",
    "db.close()"
   ]
  },
  {
   "cell_type": "code",
   "execution_count": 17,
   "metadata": {},
   "outputs": [
    {
     "data": {
      "text/html": [
       "<div>\n",
       "<style scoped>\n",
       "    .dataframe tbody tr th:only-of-type {\n",
       "        vertical-align: middle;\n",
       "    }\n",
       "\n",
       "    .dataframe tbody tr th {\n",
       "        vertical-align: top;\n",
       "    }\n",
       "\n",
       "    .dataframe thead th {\n",
       "        text-align: right;\n",
       "    }\n",
       "</style>\n",
       "<table border=\"1\" class=\"dataframe\">\n",
       "  <thead>\n",
       "    <tr style=\"text-align: right;\">\n",
       "      <th></th>\n",
       "      <th>permno</th>\n",
       "      <th>date</th>\n",
       "      <th>ret</th>\n",
       "    </tr>\n",
       "  </thead>\n",
       "  <tbody>\n",
       "    <tr>\n",
       "      <th>0</th>\n",
       "      <td>10000</td>\n",
       "      <td>1985-12-31</td>\n",
       "      <td>NaN</td>\n",
       "    </tr>\n",
       "    <tr>\n",
       "      <th>1</th>\n",
       "      <td>10000</td>\n",
       "      <td>1986-01-31</td>\n",
       "      <td>NaN</td>\n",
       "    </tr>\n",
       "    <tr>\n",
       "      <th>2</th>\n",
       "      <td>10000</td>\n",
       "      <td>1986-02-28</td>\n",
       "      <td>-0.257143</td>\n",
       "    </tr>\n",
       "    <tr>\n",
       "      <th>3</th>\n",
       "      <td>10000</td>\n",
       "      <td>1986-03-31</td>\n",
       "      <td>0.365385</td>\n",
       "    </tr>\n",
       "    <tr>\n",
       "      <th>4</th>\n",
       "      <td>10000</td>\n",
       "      <td>1986-04-30</td>\n",
       "      <td>-0.098592</td>\n",
       "    </tr>\n",
       "    <tr>\n",
       "      <th>...</th>\n",
       "      <td>...</td>\n",
       "      <td>...</td>\n",
       "      <td>...</td>\n",
       "    </tr>\n",
       "    <tr>\n",
       "      <th>37348</th>\n",
       "      <td>93436</td>\n",
       "      <td>2023-08-31</td>\n",
       "      <td>-0.034962</td>\n",
       "    </tr>\n",
       "    <tr>\n",
       "      <th>37349</th>\n",
       "      <td>93436</td>\n",
       "      <td>2023-09-29</td>\n",
       "      <td>-0.030456</td>\n",
       "    </tr>\n",
       "    <tr>\n",
       "      <th>37350</th>\n",
       "      <td>93436</td>\n",
       "      <td>2023-10-31</td>\n",
       "      <td>-0.197346</td>\n",
       "    </tr>\n",
       "    <tr>\n",
       "      <th>37351</th>\n",
       "      <td>93436</td>\n",
       "      <td>2023-11-30</td>\n",
       "      <td>0.195379</td>\n",
       "    </tr>\n",
       "    <tr>\n",
       "      <th>37352</th>\n",
       "      <td>93436</td>\n",
       "      <td>2023-12-29</td>\n",
       "      <td>0.034988</td>\n",
       "    </tr>\n",
       "  </tbody>\n",
       "</table>\n",
       "<p>5037353 rows × 3 columns</p>\n",
       "</div>"
      ],
      "text/plain": [
       "       permno        date       ret\n",
       "0       10000  1985-12-31       NaN\n",
       "1       10000  1986-01-31       NaN\n",
       "2       10000  1986-02-28 -0.257143\n",
       "3       10000  1986-03-31  0.365385\n",
       "4       10000  1986-04-30 -0.098592\n",
       "...       ...         ...       ...\n",
       "37348   93436  2023-08-31 -0.034962\n",
       "37349   93436  2023-09-29 -0.030456\n",
       "37350   93436  2023-10-31 -0.197346\n",
       "37351   93436  2023-11-30  0.195379\n",
       "37352   93436  2023-12-29  0.034988\n",
       "\n",
       "[5037353 rows x 3 columns]"
      ]
     },
     "execution_count": 17,
     "metadata": {},
     "output_type": "execute_result"
    }
   ],
   "source": [
    "all_returns_data"
   ]
  },
  {
   "cell_type": "code",
   "execution_count": 12,
   "metadata": {},
   "outputs": [
    {
     "name": "stdout",
     "output_type": "stream",
     "text": [
      "Loading library list...\n",
      "Done\n"
     ]
    }
   ],
   "source": [
    "db = wrds.Connection(wrds_username=get_env(\"WRDS_USERNAME\"))\n",
    "\n",
    "# Query to get the stock returns\n",
    "query = f\"\"\"\n",
    "SELECT permno, mthcaldt, mthret\n",
    "FROM crsp.msf_v2\n",
    "WHERE permno BETWEEN {MIN_PERMNO} AND {MAX_PERMNO}\n",
    "AND mthcaldt BETWEEN '{MIN_DATE.strftime(\"%Y-%m-%d\")}' AND '{MAX_DATE.strftime(\"%Y-%m-%d\")}'\n",
    "\"\"\"\n",
    "\n",
    "# Execute the query\n",
    "all_returns_data_v2 = db.raw_sql(query)\n",
    "\n",
    "# Close the connection\n",
    "db.close()"
   ]
  },
  {
   "cell_type": "code",
   "execution_count": 23,
   "metadata": {},
   "outputs": [
    {
     "data": {
      "text/html": [
       "<div><style>\n",
       ".dataframe > thead > tr,\n",
       ".dataframe > tbody > tr {\n",
       "  text-align: right;\n",
       "  white-space: pre-wrap;\n",
       "}\n",
       "</style>\n",
       "<small>shape: (5_001_721, 3)</small><table border=\"1\" class=\"dataframe\"><thead><tr><th>permno</th><th>mthcaldt</th><th>mthret</th></tr><tr><td>i64</td><td>date</td><td>f64</td></tr></thead><tbody><tr><td>10000</td><td>1986-01-31</td><td>0.707317</td></tr><tr><td>10000</td><td>1986-02-28</td><td>-0.257143</td></tr><tr><td>10000</td><td>1986-03-31</td><td>0.365385</td></tr><tr><td>10000</td><td>1986-04-30</td><td>-0.098592</td></tr><tr><td>10000</td><td>1986-05-30</td><td>-0.222656</td></tr><tr><td>&hellip;</td><td>&hellip;</td><td>&hellip;</td></tr><tr><td>93436</td><td>2023-08-31</td><td>-0.034962</td></tr><tr><td>93436</td><td>2023-09-29</td><td>-0.030456</td></tr><tr><td>93436</td><td>2023-10-31</td><td>-0.197346</td></tr><tr><td>93436</td><td>2023-11-30</td><td>0.195379</td></tr><tr><td>93436</td><td>2023-12-29</td><td>0.034988</td></tr></tbody></table></div>"
      ],
      "text/plain": [
       "shape: (5_001_721, 3)\n",
       "┌────────┬────────────┬───────────┐\n",
       "│ permno ┆ mthcaldt   ┆ mthret    │\n",
       "│ ---    ┆ ---        ┆ ---       │\n",
       "│ i64    ┆ date       ┆ f64       │\n",
       "╞════════╪════════════╪═══════════╡\n",
       "│ 10000  ┆ 1986-01-31 ┆ 0.707317  │\n",
       "│ 10000  ┆ 1986-02-28 ┆ -0.257143 │\n",
       "│ 10000  ┆ 1986-03-31 ┆ 0.365385  │\n",
       "│ 10000  ┆ 1986-04-30 ┆ -0.098592 │\n",
       "│ 10000  ┆ 1986-05-30 ┆ -0.222656 │\n",
       "│ …      ┆ …          ┆ …         │\n",
       "│ 93436  ┆ 2023-08-31 ┆ -0.034962 │\n",
       "│ 93436  ┆ 2023-09-29 ┆ -0.030456 │\n",
       "│ 93436  ┆ 2023-10-31 ┆ -0.197346 │\n",
       "│ 93436  ┆ 2023-11-30 ┆ 0.195379  │\n",
       "│ 93436  ┆ 2023-12-29 ┆ 0.034988  │\n",
       "└────────┴────────────┴───────────┘"
      ]
     },
     "execution_count": 23,
     "metadata": {},
     "output_type": "execute_result"
    }
   ],
   "source": [
    "all_returns_data_v2 = pl.DataFrame(all_returns_data_v2)\n",
    "all_returns_data_v2"
   ]
  },
  {
   "cell_type": "code",
   "execution_count": null,
   "metadata": {},
   "outputs": [],
   "source": [
    "all_returns_data.to_csv(get_data_file_path(\"all_returns_values.csv\")) # type: ignore"
   ]
  },
  {
   "cell_type": "code",
   "execution_count": null,
   "metadata": {},
   "outputs": [],
   "source": [
    "all_returns_df = pl.read_csv(get_data_file_path(\"all_returns_values.csv\"), dtypes={\"permno\": pl.Int64, \"date\": pl.Date, \"ret\": pl.Float64})"
   ]
  },
  {
   "cell_type": "code",
   "execution_count": null,
   "metadata": {},
   "outputs": [
    {
     "data": {
      "text/html": [
       "<div><style>\n",
       ".dataframe > thead > tr,\n",
       ".dataframe > tbody > tr {\n",
       "  text-align: right;\n",
       "  white-space: pre-wrap;\n",
       "}\n",
       "</style>\n",
       "<small>shape: (3_487_273, 4)</small><table border=\"1\" class=\"dataframe\"><thead><tr><th></th><th>permno</th><th>date</th><th>ret</th></tr><tr><td>i64</td><td>i64</td><td>date</td><td>f64</td></tr></thead><tbody><tr><td>0</td><td>10000</td><td>1986-01-31</td><td>null</td></tr><tr><td>1</td><td>10000</td><td>1986-02-28</td><td>-0.257143</td></tr><tr><td>2</td><td>10000</td><td>1986-03-31</td><td>0.365385</td></tr><tr><td>3</td><td>10000</td><td>1986-04-30</td><td>-0.098592</td></tr><tr><td>4</td><td>10000</td><td>1986-05-30</td><td>-0.222656</td></tr><tr><td>&hellip;</td><td>&hellip;</td><td>&hellip;</td><td>&hellip;</td></tr><tr><td>487268</td><td>93436</td><td>2023-08-31</td><td>-0.034962</td></tr><tr><td>487269</td><td>93436</td><td>2023-09-29</td><td>-0.030456</td></tr><tr><td>487270</td><td>93436</td><td>2023-10-31</td><td>-0.197346</td></tr><tr><td>487271</td><td>93436</td><td>2023-11-30</td><td>0.195379</td></tr><tr><td>487272</td><td>93436</td><td>2023-12-29</td><td>0.034988</td></tr></tbody></table></div>"
      ],
      "text/plain": [
       "shape: (3_487_273, 4)\n",
       "┌────────┬────────┬────────────┬───────────┐\n",
       "│        ┆ permno ┆ date       ┆ ret       │\n",
       "│ ---    ┆ ---    ┆ ---        ┆ ---       │\n",
       "│ i64    ┆ i64    ┆ date       ┆ f64       │\n",
       "╞════════╪════════╪════════════╪═══════════╡\n",
       "│ 0      ┆ 10000  ┆ 1986-01-31 ┆ null      │\n",
       "│ 1      ┆ 10000  ┆ 1986-02-28 ┆ -0.257143 │\n",
       "│ 2      ┆ 10000  ┆ 1986-03-31 ┆ 0.365385  │\n",
       "│ 3      ┆ 10000  ┆ 1986-04-30 ┆ -0.098592 │\n",
       "│ 4      ┆ 10000  ┆ 1986-05-30 ┆ -0.222656 │\n",
       "│ …      ┆ …      ┆ …          ┆ …         │\n",
       "│ 487268 ┆ 93436  ┆ 2023-08-31 ┆ -0.034962 │\n",
       "│ 487269 ┆ 93436  ┆ 2023-09-29 ┆ -0.030456 │\n",
       "│ 487270 ┆ 93436  ┆ 2023-10-31 ┆ -0.197346 │\n",
       "│ 487271 ┆ 93436  ┆ 2023-11-30 ┆ 0.195379  │\n",
       "│ 487272 ┆ 93436  ┆ 2023-12-29 ┆ 0.034988  │\n",
       "└────────┴────────┴────────────┴───────────┘"
      ]
     },
     "execution_count": 10,
     "metadata": {},
     "output_type": "execute_result"
    }
   ],
   "source": [
    "all_returns_df"
   ]
  },
  {
   "cell_type": "code",
   "execution_count": null,
   "metadata": {},
   "outputs": [
    {
     "name": "stderr",
     "output_type": "stream",
     "text": [
      "/var/folders/qk/3qb7y7bs23l46_jb_xbrk_zw0000gn/T/ipykernel_99231/1299984043.py:1: DeprecationWarning: `apply` is deprecated. It has been renamed to `map_elements`.\n",
      "  all_returns_df.insert_column(2, pl.Series(\"yyyymm\", all_returns_df.get_column(\"date\").apply(lambda x: x.strftime(\"%Y%m\"))))\n",
      "/var/folders/qk/3qb7y7bs23l46_jb_xbrk_zw0000gn/T/ipykernel_99231/1299984043.py:1: MapWithoutReturnDtypeWarning: Calling `map_elements` without specifying `return_dtype` can lead to unpredictable results. Specify `return_dtype` to silence this warning.\n",
      "  all_returns_df.insert_column(2, pl.Series(\"yyyymm\", all_returns_df.get_column(\"date\").apply(lambda x: x.strftime(\"%Y%m\"))))\n"
     ]
    },
    {
     "data": {
      "text/html": [
       "<div><style>\n",
       ".dataframe > thead > tr,\n",
       ".dataframe > tbody > tr {\n",
       "  text-align: right;\n",
       "  white-space: pre-wrap;\n",
       "}\n",
       "</style>\n",
       "<small>shape: (3_487_273, 5)</small><table border=\"1\" class=\"dataframe\"><thead><tr><th></th><th>permno</th><th>yyyymm</th><th>date</th><th>ret</th></tr><tr><td>i64</td><td>i64</td><td>str</td><td>date</td><td>f64</td></tr></thead><tbody><tr><td>0</td><td>10000</td><td>&quot;198601&quot;</td><td>1986-01-31</td><td>null</td></tr><tr><td>1</td><td>10000</td><td>&quot;198602&quot;</td><td>1986-02-28</td><td>-0.257143</td></tr><tr><td>2</td><td>10000</td><td>&quot;198603&quot;</td><td>1986-03-31</td><td>0.365385</td></tr><tr><td>3</td><td>10000</td><td>&quot;198604&quot;</td><td>1986-04-30</td><td>-0.098592</td></tr><tr><td>4</td><td>10000</td><td>&quot;198605&quot;</td><td>1986-05-30</td><td>-0.222656</td></tr><tr><td>&hellip;</td><td>&hellip;</td><td>&hellip;</td><td>&hellip;</td><td>&hellip;</td></tr><tr><td>487268</td><td>93436</td><td>&quot;202308&quot;</td><td>2023-08-31</td><td>-0.034962</td></tr><tr><td>487269</td><td>93436</td><td>&quot;202309&quot;</td><td>2023-09-29</td><td>-0.030456</td></tr><tr><td>487270</td><td>93436</td><td>&quot;202310&quot;</td><td>2023-10-31</td><td>-0.197346</td></tr><tr><td>487271</td><td>93436</td><td>&quot;202311&quot;</td><td>2023-11-30</td><td>0.195379</td></tr><tr><td>487272</td><td>93436</td><td>&quot;202312&quot;</td><td>2023-12-29</td><td>0.034988</td></tr></tbody></table></div>"
      ],
      "text/plain": [
       "shape: (3_487_273, 5)\n",
       "┌────────┬────────┬────────┬────────────┬───────────┐\n",
       "│        ┆ permno ┆ yyyymm ┆ date       ┆ ret       │\n",
       "│ ---    ┆ ---    ┆ ---    ┆ ---        ┆ ---       │\n",
       "│ i64    ┆ i64    ┆ str    ┆ date       ┆ f64       │\n",
       "╞════════╪════════╪════════╪════════════╪═══════════╡\n",
       "│ 0      ┆ 10000  ┆ 198601 ┆ 1986-01-31 ┆ null      │\n",
       "│ 1      ┆ 10000  ┆ 198602 ┆ 1986-02-28 ┆ -0.257143 │\n",
       "│ 2      ┆ 10000  ┆ 198603 ┆ 1986-03-31 ┆ 0.365385  │\n",
       "│ 3      ┆ 10000  ┆ 198604 ┆ 1986-04-30 ┆ -0.098592 │\n",
       "│ 4      ┆ 10000  ┆ 198605 ┆ 1986-05-30 ┆ -0.222656 │\n",
       "│ …      ┆ …      ┆ …      ┆ …          ┆ …         │\n",
       "│ 487268 ┆ 93436  ┆ 202308 ┆ 2023-08-31 ┆ -0.034962 │\n",
       "│ 487269 ┆ 93436  ┆ 202309 ┆ 2023-09-29 ┆ -0.030456 │\n",
       "│ 487270 ┆ 93436  ┆ 202310 ┆ 2023-10-31 ┆ -0.197346 │\n",
       "│ 487271 ┆ 93436  ┆ 202311 ┆ 2023-11-30 ┆ 0.195379  │\n",
       "│ 487272 ┆ 93436  ┆ 202312 ┆ 2023-12-29 ┆ 0.034988  │\n",
       "└────────┴────────┴────────┴────────────┴───────────┘"
      ]
     },
     "execution_count": 11,
     "metadata": {},
     "output_type": "execute_result"
    }
   ],
   "source": [
    "all_returns_df.insert_column(2, pl.Series(\"yyyymm\", all_returns_df.get_column(\"date\").apply(lambda x: x.strftime(\"%Y%m\"))))"
   ]
  },
  {
   "cell_type": "code",
   "execution_count": null,
   "metadata": {},
   "outputs": [
    {
     "data": {
      "text/html": [
       "<div><style>\n",
       ".dataframe > thead > tr,\n",
       ".dataframe > tbody > tr {\n",
       "  text-align: right;\n",
       "  white-space: pre-wrap;\n",
       "}\n",
       "</style>\n",
       "<small>shape: (3_487_273,)</small><table border=\"1\" class=\"dataframe\"><thead><tr><th></th></tr><tr><td>i64</td></tr></thead><tbody><tr><td>0</td></tr><tr><td>1</td></tr><tr><td>2</td></tr><tr><td>3</td></tr><tr><td>4</td></tr><tr><td>&hellip;</td></tr><tr><td>487268</td></tr><tr><td>487269</td></tr><tr><td>487270</td></tr><tr><td>487271</td></tr><tr><td>487272</td></tr></tbody></table></div>"
      ],
      "text/plain": [
       "shape: (3_487_273,)\n",
       "Series: '' [i64]\n",
       "[\n",
       "\t0\n",
       "\t1\n",
       "\t2\n",
       "\t3\n",
       "\t4\n",
       "\t…\n",
       "\t487268\n",
       "\t487269\n",
       "\t487270\n",
       "\t487271\n",
       "\t487272\n",
       "]"
      ]
     },
     "execution_count": 15,
     "metadata": {},
     "output_type": "execute_result"
    }
   ],
   "source": [
    "all_returns_df.drop_in_place(\"\")"
   ]
  },
  {
   "cell_type": "code",
   "execution_count": null,
   "metadata": {},
   "outputs": [
    {
     "data": {
      "text/html": [
       "<div><style>\n",
       ".dataframe > thead > tr,\n",
       ".dataframe > tbody > tr {\n",
       "  text-align: right;\n",
       "  white-space: pre-wrap;\n",
       "}\n",
       "</style>\n",
       "<small>shape: (3_487_273, 4)</small><table border=\"1\" class=\"dataframe\"><thead><tr><th>permno</th><th>yyyymm</th><th>date</th><th>ret</th></tr><tr><td>i64</td><td>str</td><td>date</td><td>f64</td></tr></thead><tbody><tr><td>10000</td><td>&quot;198601&quot;</td><td>1986-01-31</td><td>null</td></tr><tr><td>10000</td><td>&quot;198602&quot;</td><td>1986-02-28</td><td>-0.257143</td></tr><tr><td>10000</td><td>&quot;198603&quot;</td><td>1986-03-31</td><td>0.365385</td></tr><tr><td>10000</td><td>&quot;198604&quot;</td><td>1986-04-30</td><td>-0.098592</td></tr><tr><td>10000</td><td>&quot;198605&quot;</td><td>1986-05-30</td><td>-0.222656</td></tr><tr><td>&hellip;</td><td>&hellip;</td><td>&hellip;</td><td>&hellip;</td></tr><tr><td>93436</td><td>&quot;202308&quot;</td><td>2023-08-31</td><td>-0.034962</td></tr><tr><td>93436</td><td>&quot;202309&quot;</td><td>2023-09-29</td><td>-0.030456</td></tr><tr><td>93436</td><td>&quot;202310&quot;</td><td>2023-10-31</td><td>-0.197346</td></tr><tr><td>93436</td><td>&quot;202311&quot;</td><td>2023-11-30</td><td>0.195379</td></tr><tr><td>93436</td><td>&quot;202312&quot;</td><td>2023-12-29</td><td>0.034988</td></tr></tbody></table></div>"
      ],
      "text/plain": [
       "shape: (3_487_273, 4)\n",
       "┌────────┬────────┬────────────┬───────────┐\n",
       "│ permno ┆ yyyymm ┆ date       ┆ ret       │\n",
       "│ ---    ┆ ---    ┆ ---        ┆ ---       │\n",
       "│ i64    ┆ str    ┆ date       ┆ f64       │\n",
       "╞════════╪════════╪════════════╪═══════════╡\n",
       "│ 10000  ┆ 198601 ┆ 1986-01-31 ┆ null      │\n",
       "│ 10000  ┆ 198602 ┆ 1986-02-28 ┆ -0.257143 │\n",
       "│ 10000  ┆ 198603 ┆ 1986-03-31 ┆ 0.365385  │\n",
       "│ 10000  ┆ 198604 ┆ 1986-04-30 ┆ -0.098592 │\n",
       "│ 10000  ┆ 198605 ┆ 1986-05-30 ┆ -0.222656 │\n",
       "│ …      ┆ …      ┆ …          ┆ …         │\n",
       "│ 93436  ┆ 202308 ┆ 2023-08-31 ┆ -0.034962 │\n",
       "│ 93436  ┆ 202309 ┆ 2023-09-29 ┆ -0.030456 │\n",
       "│ 93436  ┆ 202310 ┆ 2023-10-31 ┆ -0.197346 │\n",
       "│ 93436  ┆ 202311 ┆ 2023-11-30 ┆ 0.195379  │\n",
       "│ 93436  ┆ 202312 ┆ 2023-12-29 ┆ 0.034988  │\n",
       "└────────┴────────┴────────────┴───────────┘"
      ]
     },
     "execution_count": 19,
     "metadata": {},
     "output_type": "execute_result"
    }
   ],
   "source": [
    "all_returns_df"
   ]
  },
  {
   "cell_type": "code",
   "execution_count": null,
   "metadata": {},
   "outputs": [],
   "source": [
    "full_data = full_data.join(all_returns_df, on=(\"permno\", \"yyyymm\"))"
   ]
  },
  {
   "cell_type": "code",
   "execution_count": null,
   "metadata": {},
   "outputs": [],
   "source": [
    "full_data.write_csv(get_data_file_path(\"COMPLETE_DATASET.csv\"))"
   ]
  },
  {
   "cell_type": "code",
   "execution_count": null,
   "metadata": {},
   "outputs": [],
   "source": [
    "data = pl.read_csv(get_data_file_path(\"signed_predictors_dl_wide.csv\"), dtypes=SIGNED_PREDICTORS_ENTRY_SCHEMA)\n",
    "# data = pd.read_csv(get_data_file_path(\"signed_predictors_dl_wide.csv\"), dtype=SIGNED_PREDICTORS_ENTRY_SCHEMA)"
   ]
  },
  {
   "cell_type": "code",
   "execution_count": null,
   "metadata": {},
   "outputs": [
    {
     "data": {
      "text/html": [
       "<div><style>\n",
       ".dataframe > thead > tr,\n",
       ".dataframe > tbody > tr {\n",
       "  text-align: right;\n",
       "  white-space: pre-wrap;\n",
       "}\n",
       "</style>\n",
       "<small>shape: (5_156_870, 211)</small><table border=\"1\" class=\"dataframe\"><thead><tr><th>permno</th><th>yyyymm</th><th>AM</th><th>AOP</th><th>AbnormalAccruals</th><th>Accruals</th><th>AccrualsBM</th><th>Activism1</th><th>Activism2</th><th>AdExp</th><th>AgeIPO</th><th>AnalystRevision</th><th>AnalystValue</th><th>AnnouncementReturn</th><th>AssetGrowth</th><th>BM</th><th>BMdec</th><th>BPEBM</th><th>Beta</th><th>BetaFP</th><th>BetaLiquidityPS</th><th>BetaTailRisk</th><th>BidAskSpread</th><th>BookLeverage</th><th>BrandInvest</th><th>CBOperProf</th><th>CF</th><th>CPVolSpread</th><th>Cash</th><th>CashProd</th><th>ChAssetTurnover</th><th>ChEQ</th><th>ChForecastAccrual</th><th>ChInv</th><th>ChInvIA</th><th>ChNAnalyst</th><th>ChNNCOA</th><th>&hellip;</th><th>ShareVol</th><th>ShortInterest</th><th>SmileSlope</th><th>Spinoff</th><th>SurpriseRD</th><th>Tax</th><th>TotalAccruals</th><th>TrendFactor</th><th>UpRecomm</th><th>VarCF</th><th>VolMkt</th><th>VolSD</th><th>VolumeTrend</th><th>XFIN</th><th>betaVIX</th><th>cfp</th><th>dCPVolSpread</th><th>dNoa</th><th>dVolCall</th><th>dVolPut</th><th>fgr5yrLag</th><th>grcapx</th><th>grcapx3y</th><th>hire</th><th>iomom_cust</th><th>iomom_supp</th><th>realestate</th><th>retConglomerate</th><th>roaq</th><th>sfe</th><th>sinAlgo</th><th>skew1</th><th>std_turn</th><th>tang</th><th>zerotrade</th><th>zerotradeAlt1</th><th>zerotradeAlt12</th></tr><tr><td>i64</td><td>str</td><td>f64</td><td>f64</td><td>f64</td><td>f64</td><td>f64</td><td>f64</td><td>f64</td><td>f64</td><td>f64</td><td>f64</td><td>f64</td><td>f64</td><td>f64</td><td>f64</td><td>f64</td><td>f64</td><td>f64</td><td>f64</td><td>f64</td><td>f64</td><td>f64</td><td>f64</td><td>f64</td><td>f64</td><td>f64</td><td>f64</td><td>f64</td><td>f64</td><td>f64</td><td>f64</td><td>f64</td><td>f64</td><td>f64</td><td>f64</td><td>f64</td><td>&hellip;</td><td>f64</td><td>f64</td><td>f64</td><td>f64</td><td>f64</td><td>f64</td><td>f64</td><td>f64</td><td>f64</td><td>f64</td><td>f64</td><td>f64</td><td>f64</td><td>f64</td><td>f64</td><td>f64</td><td>f64</td><td>f64</td><td>f64</td><td>f64</td><td>f64</td><td>f64</td><td>f64</td><td>f64</td><td>f64</td><td>f64</td><td>f64</td><td>f64</td><td>f64</td><td>f64</td><td>f64</td><td>f64</td><td>f64</td><td>f64</td><td>f64</td><td>f64</td><td>f64</td></tr></thead><tbody><tr><td>10000</td><td>&quot;198601&quot;</td><td>null</td><td>null</td><td>null</td><td>null</td><td>null</td><td>null</td><td>null</td><td>null</td><td>null</td><td>null</td><td>null</td><td>null</td><td>null</td><td>null</td><td>null</td><td>null</td><td>null</td><td>null</td><td>null</td><td>null</td><td>null</td><td>null</td><td>null</td><td>null</td><td>null</td><td>null</td><td>null</td><td>null</td><td>null</td><td>null</td><td>null</td><td>null</td><td>null</td><td>null</td><td>null</td><td>&hellip;</td><td>-1.0</td><td>null</td><td>null</td><td>0.0</td><td>null</td><td>null</td><td>null</td><td>null</td><td>null</td><td>null</td><td>null</td><td>null</td><td>null</td><td>null</td><td>-0.005234</td><td>null</td><td>null</td><td>null</td><td>null</td><td>null</td><td>null</td><td>null</td><td>null</td><td>null</td><td>null</td><td>null</td><td>null</td><td>null</td><td>null</td><td>null</td><td>null</td><td>null</td><td>null</td><td>null</td><td>null</td><td>null</td><td>null</td></tr><tr><td>10000</td><td>&quot;198602&quot;</td><td>null</td><td>null</td><td>null</td><td>null</td><td>null</td><td>null</td><td>null</td><td>null</td><td>null</td><td>null</td><td>null</td><td>null</td><td>null</td><td>null</td><td>null</td><td>null</td><td>null</td><td>null</td><td>null</td><td>null</td><td>null</td><td>null</td><td>null</td><td>null</td><td>null</td><td>null</td><td>null</td><td>null</td><td>null</td><td>null</td><td>null</td><td>null</td><td>null</td><td>null</td><td>null</td><td>&hellip;</td><td>-1.0</td><td>null</td><td>null</td><td>0.0</td><td>null</td><td>null</td><td>null</td><td>null</td><td>null</td><td>null</td><td>null</td><td>null</td><td>null</td><td>null</td><td>-0.003488</td><td>null</td><td>null</td><td>null</td><td>null</td><td>null</td><td>null</td><td>null</td><td>null</td><td>null</td><td>null</td><td>null</td><td>null</td><td>null</td><td>null</td><td>null</td><td>null</td><td>null</td><td>null</td><td>null</td><td>null</td><td>4.7852e-8</td><td>null</td></tr><tr><td>10000</td><td>&quot;198603&quot;</td><td>null</td><td>null</td><td>null</td><td>null</td><td>null</td><td>null</td><td>null</td><td>null</td><td>null</td><td>null</td><td>null</td><td>null</td><td>null</td><td>null</td><td>null</td><td>null</td><td>null</td><td>null</td><td>null</td><td>null</td><td>null</td><td>null</td><td>null</td><td>null</td><td>null</td><td>null</td><td>null</td><td>null</td><td>null</td><td>null</td><td>null</td><td>null</td><td>null</td><td>null</td><td>null</td><td>&hellip;</td><td>0.0</td><td>null</td><td>null</td><td>0.0</td><td>null</td><td>null</td><td>null</td><td>null</td><td>null</td><td>null</td><td>null</td><td>null</td><td>null</td><td>null</td><td>-0.002715</td><td>null</td><td>null</td><td>null</td><td>null</td><td>null</td><td>null</td><td>null</td><td>null</td><td>null</td><td>null</td><td>null</td><td>null</td><td>null</td><td>null</td><td>null</td><td>null</td><td>null</td><td>null</td><td>null</td><td>null</td><td>1.0234e-7</td><td>null</td></tr><tr><td>10000</td><td>&quot;198604&quot;</td><td>null</td><td>null</td><td>null</td><td>null</td><td>null</td><td>null</td><td>null</td><td>null</td><td>null</td><td>null</td><td>null</td><td>null</td><td>null</td><td>null</td><td>null</td><td>null</td><td>null</td><td>null</td><td>null</td><td>null</td><td>null</td><td>null</td><td>null</td><td>null</td><td>null</td><td>null</td><td>null</td><td>null</td><td>null</td><td>null</td><td>null</td><td>null</td><td>null</td><td>null</td><td>null</td><td>&hellip;</td><td>null</td><td>null</td><td>null</td><td>0.0</td><td>null</td><td>null</td><td>null</td><td>null</td><td>null</td><td>null</td><td>null</td><td>null</td><td>null</td><td>null</td><td>0.000877</td><td>null</td><td>null</td><td>null</td><td>null</td><td>null</td><td>null</td><td>null</td><td>null</td><td>null</td><td>null</td><td>null</td><td>null</td><td>null</td><td>null</td><td>null</td><td>null</td><td>null</td><td>null</td><td>null</td><td>null</td><td>7.4675e-8</td><td>null</td></tr><tr><td>10000</td><td>&quot;198605&quot;</td><td>null</td><td>null</td><td>null</td><td>null</td><td>null</td><td>null</td><td>null</td><td>null</td><td>null</td><td>null</td><td>null</td><td>null</td><td>null</td><td>null</td><td>null</td><td>null</td><td>null</td><td>null</td><td>null</td><td>null</td><td>null</td><td>null</td><td>null</td><td>null</td><td>null</td><td>null</td><td>null</td><td>null</td><td>null</td><td>null</td><td>null</td><td>null</td><td>null</td><td>null</td><td>null</td><td>&hellip;</td><td>null</td><td>null</td><td>null</td><td>0.0</td><td>null</td><td>null</td><td>null</td><td>null</td><td>null</td><td>null</td><td>null</td><td>null</td><td>null</td><td>null</td><td>0.008818</td><td>null</td><td>null</td><td>null</td><td>null</td><td>null</td><td>null</td><td>null</td><td>null</td><td>null</td><td>null</td><td>null</td><td>null</td><td>null</td><td>null</td><td>null</td><td>null</td><td>null</td><td>null</td><td>null</td><td>null</td><td>7.6496e-8</td><td>null</td></tr><tr><td>&hellip;</td><td>&hellip;</td><td>&hellip;</td><td>&hellip;</td><td>&hellip;</td><td>&hellip;</td><td>&hellip;</td><td>&hellip;</td><td>&hellip;</td><td>&hellip;</td><td>&hellip;</td><td>&hellip;</td><td>&hellip;</td><td>&hellip;</td><td>&hellip;</td><td>&hellip;</td><td>&hellip;</td><td>&hellip;</td><td>&hellip;</td><td>&hellip;</td><td>&hellip;</td><td>&hellip;</td><td>&hellip;</td><td>&hellip;</td><td>&hellip;</td><td>&hellip;</td><td>&hellip;</td><td>&hellip;</td><td>&hellip;</td><td>&hellip;</td><td>&hellip;</td><td>&hellip;</td><td>&hellip;</td><td>&hellip;</td><td>&hellip;</td><td>&hellip;</td><td>&hellip;</td><td>&hellip;</td><td>&hellip;</td><td>&hellip;</td><td>&hellip;</td><td>&hellip;</td><td>&hellip;</td><td>&hellip;</td><td>&hellip;</td><td>&hellip;</td><td>&hellip;</td><td>&hellip;</td><td>&hellip;</td><td>&hellip;</td><td>&hellip;</td><td>&hellip;</td><td>&hellip;</td><td>&hellip;</td><td>&hellip;</td><td>&hellip;</td><td>&hellip;</td><td>&hellip;</td><td>&hellip;</td><td>&hellip;</td><td>&hellip;</td><td>&hellip;</td><td>&hellip;</td><td>&hellip;</td><td>&hellip;</td><td>&hellip;</td><td>&hellip;</td><td>&hellip;</td><td>&hellip;</td><td>&hellip;</td><td>&hellip;</td><td>&hellip;</td><td>&hellip;</td><td>&hellip;</td><td>&hellip;</td></tr><tr><td>93436</td><td>&quot;202401&quot;</td><td>null</td><td>null</td><td>-0.003877</td><td>0.016862</td><td>null</td><td>null</td><td>null</td><td>null</td><td>null</td><td>null</td><td>null</td><td>null</td><td>-0.325232</td><td>null</td><td>null</td><td>null</td><td>null</td><td>null</td><td>null</td><td>null</td><td>null</td><td>-1.838476</td><td>null</td><td>null</td><td>null</td><td>null</td><td>null</td><td>null</td><td>0.598015</td><td>-1.480804</td><td>null</td><td>-0.098042</td><td>null</td><td>null</td><td>0.097266</td><td>&hellip;</td><td>null</td><td>null</td><td>null</td><td>null</td><td>0.0</td><td>0.288081</td><td>-0.223286</td><td>null</td><td>null</td><td>null</td><td>null</td><td>null</td><td>null</td><td>0.040382</td><td>null</td><td>null</td><td>null</td><td>-0.109511</td><td>null</td><td>null</td><td>null</td><td>null</td><td>null</td><td>-0.251513</td><td>null</td><td>null</td><td>null</td><td>null</td><td>null</td><td>null</td><td>null</td><td>null</td><td>null</td><td>0.698178</td><td>null</td><td>null</td><td>null</td></tr><tr><td>93436</td><td>&quot;202402&quot;</td><td>null</td><td>null</td><td>-0.003877</td><td>0.016862</td><td>null</td><td>null</td><td>null</td><td>null</td><td>null</td><td>null</td><td>null</td><td>null</td><td>-0.325232</td><td>null</td><td>null</td><td>null</td><td>null</td><td>null</td><td>null</td><td>null</td><td>null</td><td>-1.838476</td><td>null</td><td>null</td><td>null</td><td>null</td><td>null</td><td>null</td><td>0.598015</td><td>-1.480804</td><td>null</td><td>-0.098042</td><td>null</td><td>null</td><td>0.097266</td><td>&hellip;</td><td>null</td><td>null</td><td>null</td><td>null</td><td>0.0</td><td>0.288081</td><td>-0.223286</td><td>null</td><td>null</td><td>null</td><td>null</td><td>null</td><td>null</td><td>0.040382</td><td>null</td><td>null</td><td>null</td><td>-0.109511</td><td>null</td><td>null</td><td>null</td><td>null</td><td>null</td><td>-0.251513</td><td>null</td><td>null</td><td>null</td><td>null</td><td>null</td><td>null</td><td>null</td><td>null</td><td>null</td><td>0.698178</td><td>null</td><td>null</td><td>null</td></tr><tr><td>93436</td><td>&quot;202403&quot;</td><td>null</td><td>null</td><td>-0.003877</td><td>0.016862</td><td>null</td><td>null</td><td>null</td><td>null</td><td>null</td><td>null</td><td>null</td><td>null</td><td>-0.325232</td><td>null</td><td>null</td><td>null</td><td>null</td><td>null</td><td>null</td><td>null</td><td>null</td><td>-1.838476</td><td>null</td><td>null</td><td>null</td><td>null</td><td>null</td><td>null</td><td>0.598015</td><td>-1.480804</td><td>null</td><td>-0.098042</td><td>null</td><td>null</td><td>0.097266</td><td>&hellip;</td><td>null</td><td>null</td><td>null</td><td>null</td><td>0.0</td><td>0.288081</td><td>-0.223286</td><td>null</td><td>null</td><td>null</td><td>null</td><td>null</td><td>null</td><td>0.040382</td><td>null</td><td>null</td><td>null</td><td>-0.109511</td><td>null</td><td>null</td><td>null</td><td>null</td><td>null</td><td>-0.251513</td><td>null</td><td>null</td><td>null</td><td>null</td><td>null</td><td>null</td><td>null</td><td>null</td><td>null</td><td>0.698178</td><td>null</td><td>null</td><td>null</td></tr><tr><td>93436</td><td>&quot;202404&quot;</td><td>null</td><td>null</td><td>-0.003877</td><td>0.016862</td><td>null</td><td>null</td><td>null</td><td>null</td><td>null</td><td>null</td><td>null</td><td>null</td><td>-0.325232</td><td>null</td><td>null</td><td>null</td><td>null</td><td>null</td><td>null</td><td>null</td><td>null</td><td>-1.838476</td><td>null</td><td>null</td><td>null</td><td>null</td><td>null</td><td>null</td><td>0.598015</td><td>-1.480804</td><td>null</td><td>-0.098042</td><td>null</td><td>null</td><td>0.097266</td><td>&hellip;</td><td>null</td><td>null</td><td>null</td><td>null</td><td>0.0</td><td>0.288081</td><td>-0.223286</td><td>null</td><td>null</td><td>null</td><td>null</td><td>null</td><td>null</td><td>0.040382</td><td>null</td><td>null</td><td>null</td><td>-0.109511</td><td>null</td><td>null</td><td>null</td><td>null</td><td>null</td><td>-0.251513</td><td>null</td><td>null</td><td>null</td><td>null</td><td>null</td><td>null</td><td>null</td><td>null</td><td>null</td><td>0.698178</td><td>null</td><td>null</td><td>null</td></tr><tr><td>93436</td><td>&quot;202405&quot;</td><td>null</td><td>null</td><td>-0.003877</td><td>0.016862</td><td>null</td><td>null</td><td>null</td><td>null</td><td>null</td><td>null</td><td>null</td><td>null</td><td>-0.325232</td><td>null</td><td>null</td><td>null</td><td>null</td><td>null</td><td>null</td><td>null</td><td>null</td><td>-1.838476</td><td>null</td><td>null</td><td>null</td><td>null</td><td>null</td><td>null</td><td>0.598015</td><td>-1.480804</td><td>null</td><td>-0.098042</td><td>null</td><td>null</td><td>0.097266</td><td>&hellip;</td><td>null</td><td>null</td><td>null</td><td>null</td><td>0.0</td><td>0.288081</td><td>-0.223286</td><td>null</td><td>null</td><td>null</td><td>null</td><td>null</td><td>null</td><td>0.040382</td><td>null</td><td>null</td><td>null</td><td>-0.109511</td><td>null</td><td>null</td><td>null</td><td>null</td><td>null</td><td>-0.251513</td><td>null</td><td>null</td><td>null</td><td>null</td><td>null</td><td>null</td><td>null</td><td>null</td><td>null</td><td>0.698178</td><td>null</td><td>null</td><td>null</td></tr></tbody></table></div>"
      ],
      "text/plain": [
       "shape: (5_156_870, 211)\n",
       "┌────────┬────────┬──────┬──────┬───┬──────────┬───────────┬───────────────┬────────────────┐\n",
       "│ permno ┆ yyyymm ┆ AM   ┆ AOP  ┆ … ┆ tang     ┆ zerotrade ┆ zerotradeAlt1 ┆ zerotradeAlt12 │\n",
       "│ ---    ┆ ---    ┆ ---  ┆ ---  ┆   ┆ ---      ┆ ---       ┆ ---           ┆ ---            │\n",
       "│ i64    ┆ str    ┆ f64  ┆ f64  ┆   ┆ f64      ┆ f64       ┆ f64           ┆ f64            │\n",
       "╞════════╪════════╪══════╪══════╪═══╪══════════╪═══════════╪═══════════════╪════════════════╡\n",
       "│ 10000  ┆ 198601 ┆ null ┆ null ┆ … ┆ null     ┆ null      ┆ null          ┆ null           │\n",
       "│ 10000  ┆ 198602 ┆ null ┆ null ┆ … ┆ null     ┆ null      ┆ 4.7852e-8     ┆ null           │\n",
       "│ 10000  ┆ 198603 ┆ null ┆ null ┆ … ┆ null     ┆ null      ┆ 1.0234e-7     ┆ null           │\n",
       "│ 10000  ┆ 198604 ┆ null ┆ null ┆ … ┆ null     ┆ null      ┆ 7.4675e-8     ┆ null           │\n",
       "│ 10000  ┆ 198605 ┆ null ┆ null ┆ … ┆ null     ┆ null      ┆ 7.6496e-8     ┆ null           │\n",
       "│ …      ┆ …      ┆ …    ┆ …    ┆ … ┆ …        ┆ …         ┆ …             ┆ …              │\n",
       "│ 93436  ┆ 202401 ┆ null ┆ null ┆ … ┆ 0.698178 ┆ null      ┆ null          ┆ null           │\n",
       "│ 93436  ┆ 202402 ┆ null ┆ null ┆ … ┆ 0.698178 ┆ null      ┆ null          ┆ null           │\n",
       "│ 93436  ┆ 202403 ┆ null ┆ null ┆ … ┆ 0.698178 ┆ null      ┆ null          ┆ null           │\n",
       "│ 93436  ┆ 202404 ┆ null ┆ null ┆ … ┆ 0.698178 ┆ null      ┆ null          ┆ null           │\n",
       "│ 93436  ┆ 202405 ┆ null ┆ null ┆ … ┆ 0.698178 ┆ null      ┆ null          ┆ null           │\n",
       "└────────┴────────┴──────┴──────┴───┴──────────┴───────────┴───────────────┴────────────────┘"
      ]
     },
     "execution_count": 4,
     "metadata": {},
     "output_type": "execute_result"
    }
   ],
   "source": [
    "data"
   ]
  },
  {
   "cell_type": "code",
   "execution_count": null,
   "metadata": {},
   "outputs": [],
   "source": [
    "# Handle missing values\n",
    "imputer = SimpleImputer(strategy=\"mean\")\n",
    "all_predictors_imputed = imputer.fit_transform(data)"
   ]
  },
  {
   "cell_type": "code",
   "execution_count": null,
   "metadata": {},
   "outputs": [],
   "source": [
    "with open(get_data_file_path(\"all_predictors_imputed.pkl\"), \"wb\") as f:\n",
    "    pickle.dump(all_predictors_imputed, f)"
   ]
  },
  {
   "cell_type": "code",
   "execution_count": null,
   "metadata": {},
   "outputs": [],
   "source": [
    "with open(get_data_file_path(\"all_predictors_imputed.pkl\"), \"rb\") as f:\n",
    "    all_predictors_imputed = pickle.load(f)"
   ]
  },
  {
   "cell_type": "code",
   "execution_count": null,
   "metadata": {},
   "outputs": [],
   "source": [
    "data_imputed = pl.DataFrame(all_predictors_imputed, schema=SIGNED_PREDICTORS_ENTRY_SCHEMA)"
   ]
  },
  {
   "cell_type": "code",
   "execution_count": null,
   "metadata": {},
   "outputs": [
    {
     "name": "stderr",
     "output_type": "stream",
     "text": [
      "/var/folders/qk/3qb7y7bs23l46_jb_xbrk_zw0000gn/T/ipykernel_19284/83776391.py:1: DeprecationWarning: `replace` is deprecated. DataFrame.replace is deprecated and will be removed in a future version. Please use\n",
      "    df = df.with_columns(new_column.alias(column_name))\n",
      "instead.\n",
      "  _ = data_imputed.replace(\"yyyymm\", data_imputed.get_column(\"yyyymm\").str.strip_chars(\".0\"))\n"
     ]
    }
   ],
   "source": [
    "_ = data_imputed.replace(\"yyyymm\", data_imputed.get_column(\"yyyymm\").str.strip_chars(\".0\"))\n",
    "del _"
   ]
  },
  {
   "cell_type": "code",
   "execution_count": null,
   "metadata": {},
   "outputs": [],
   "source": [
    "with open(get_data_file_path(\"all_predictors_imputed_df.pkl\"), \"wb\") as f:\n",
    "    pickle.dump(data_imputed, f)"
   ]
  },
  {
   "cell_type": "code",
   "execution_count": null,
   "metadata": {},
   "outputs": [],
   "source": [
    "with open(get_data_file_path(\"all_predictors_imputed_df.pkl\"), \"rb\") as f:\n",
    "    data_imputed: pl.DataFrame = pickle.load(f)"
   ]
  },
  {
   "cell_type": "code",
   "execution_count": null,
   "metadata": {},
   "outputs": [
    {
     "data": {
      "text/html": [
       "<div><style>\n",
       ".dataframe > thead > tr,\n",
       ".dataframe > tbody > tr {\n",
       "  text-align: right;\n",
       "  white-space: pre-wrap;\n",
       "}\n",
       "</style>\n",
       "<small>shape: (5_156_870, 211)</small><table border=\"1\" class=\"dataframe\"><thead><tr><th>permno</th><th>yyyymm</th><th>AM</th><th>AOP</th><th>AbnormalAccruals</th><th>Accruals</th><th>AccrualsBM</th><th>Activism1</th><th>Activism2</th><th>AdExp</th><th>AgeIPO</th><th>AnalystRevision</th><th>AnalystValue</th><th>AnnouncementReturn</th><th>AssetGrowth</th><th>BM</th><th>BMdec</th><th>BPEBM</th><th>Beta</th><th>BetaFP</th><th>BetaLiquidityPS</th><th>BetaTailRisk</th><th>BidAskSpread</th><th>BookLeverage</th><th>BrandInvest</th><th>CBOperProf</th><th>CF</th><th>CPVolSpread</th><th>Cash</th><th>CashProd</th><th>ChAssetTurnover</th><th>ChEQ</th><th>ChForecastAccrual</th><th>ChInv</th><th>ChInvIA</th><th>ChNAnalyst</th><th>ChNNCOA</th><th>&hellip;</th><th>ShareVol</th><th>ShortInterest</th><th>SmileSlope</th><th>Spinoff</th><th>SurpriseRD</th><th>Tax</th><th>TotalAccruals</th><th>TrendFactor</th><th>UpRecomm</th><th>VarCF</th><th>VolMkt</th><th>VolSD</th><th>VolumeTrend</th><th>XFIN</th><th>betaVIX</th><th>cfp</th><th>dCPVolSpread</th><th>dNoa</th><th>dVolCall</th><th>dVolPut</th><th>fgr5yrLag</th><th>grcapx</th><th>grcapx3y</th><th>hire</th><th>iomom_cust</th><th>iomom_supp</th><th>realestate</th><th>retConglomerate</th><th>roaq</th><th>sfe</th><th>sinAlgo</th><th>skew1</th><th>std_turn</th><th>tang</th><th>zerotrade</th><th>zerotradeAlt1</th><th>zerotradeAlt12</th></tr><tr><td>i64</td><td>str</td><td>f64</td><td>f64</td><td>f64</td><td>f64</td><td>f64</td><td>f64</td><td>f64</td><td>f64</td><td>f64</td><td>f64</td><td>f64</td><td>f64</td><td>f64</td><td>f64</td><td>f64</td><td>f64</td><td>f64</td><td>f64</td><td>f64</td><td>f64</td><td>f64</td><td>f64</td><td>f64</td><td>f64</td><td>f64</td><td>f64</td><td>f64</td><td>f64</td><td>f64</td><td>f64</td><td>f64</td><td>f64</td><td>f64</td><td>f64</td><td>f64</td><td>&hellip;</td><td>f64</td><td>f64</td><td>f64</td><td>f64</td><td>f64</td><td>f64</td><td>f64</td><td>f64</td><td>f64</td><td>f64</td><td>f64</td><td>f64</td><td>f64</td><td>f64</td><td>f64</td><td>f64</td><td>f64</td><td>f64</td><td>f64</td><td>f64</td><td>f64</td><td>f64</td><td>f64</td><td>f64</td><td>f64</td><td>f64</td><td>f64</td><td>f64</td><td>f64</td><td>f64</td><td>f64</td><td>f64</td><td>f64</td><td>f64</td><td>f64</td><td>f64</td><td>f64</td></tr></thead><tbody><tr><td>10000</td><td>&quot;198601&quot;</td><td>3.679108</td><td>-165.572065</td><td>0.000082</td><td>0.031046</td><td>0.483201</td><td>14.8865</td><td>9.263089</td><td>0.075071</td><td>18.541335</td><td>1.006447</td><td>0.756109</td><td>0.00265</td><td>-0.176024</td><td>-0.726098</td><td>2.955261</td><td>0.010867</td><td>0.989357</td><td>0.973176</td><td>-0.000942</td><td>0.641241</td><td>0.016827</td><td>-4.025639</td><td>-2575.475564</td><td>0.093091</td><td>0.009326</td><td>-0.009441</td><td>0.163636</td><td>12.959522</td><td>-0.05317</td><td>-1.314422</td><td>0.4765</td><td>-0.010126</td><td>1184.389561</td><td>-0.145632</td><td>0.003044</td><td>&hellip;</td><td>-1.0</td><td>-32793.262891</td><td>-0.005706</td><td>0.0</td><td>0.287186</td><td>1.166194</td><td>-0.003901</td><td>0.215255</td><td>0.352181</td><td>-0.86924</td><td>-0.170444</td><td>-4.679102</td><td>-0.005833</td><td>-0.062235</td><td>-0.005234</td><td>0.004548</td><td>0.000138</td><td>-0.098494</td><td>0.000396</td><td>-0.000534</td><td>-16.780281</td><td>-3.378635</td><td>-3.0530e10</td><td>-0.036986</td><td>1.725571</td><td>1.59892</td><td>-5.7231e-11</td><td>0.010997</td><td>-0.007297</td><td>-0.002534</td><td>0.17759</td><td>-0.067404</td><td>-0.168298</td><td>0.692479</td><td>1.483897</td><td>1.569696</td><td>1.417246</td></tr><tr><td>10000</td><td>&quot;198602&quot;</td><td>3.679108</td><td>-165.572065</td><td>0.000082</td><td>0.031046</td><td>0.483201</td><td>14.8865</td><td>9.263089</td><td>0.075071</td><td>18.541335</td><td>1.006447</td><td>0.756109</td><td>0.00265</td><td>-0.176024</td><td>-0.726098</td><td>2.955261</td><td>0.010867</td><td>0.989357</td><td>0.973176</td><td>-0.000942</td><td>0.641241</td><td>0.016827</td><td>-4.025639</td><td>-2575.475564</td><td>0.093091</td><td>0.009326</td><td>-0.009441</td><td>0.163636</td><td>12.959522</td><td>-0.05317</td><td>-1.314422</td><td>0.4765</td><td>-0.010126</td><td>1184.389561</td><td>-0.145632</td><td>0.003044</td><td>&hellip;</td><td>-1.0</td><td>-32793.262891</td><td>-0.005706</td><td>0.0</td><td>0.287186</td><td>1.166194</td><td>-0.003901</td><td>0.215255</td><td>0.352181</td><td>-0.86924</td><td>-0.170444</td><td>-4.679102</td><td>-0.005833</td><td>-0.062235</td><td>-0.003488</td><td>0.004548</td><td>0.000138</td><td>-0.098494</td><td>0.000396</td><td>-0.000534</td><td>-16.780281</td><td>-3.378635</td><td>-3.0530e10</td><td>-0.036986</td><td>1.725571</td><td>1.59892</td><td>-5.7231e-11</td><td>0.010997</td><td>-0.007297</td><td>-0.002534</td><td>0.17759</td><td>-0.067404</td><td>-0.168298</td><td>0.692479</td><td>1.483897</td><td>4.7852e-8</td><td>1.417246</td></tr><tr><td>10000</td><td>&quot;198603&quot;</td><td>3.679108</td><td>-165.572065</td><td>0.000082</td><td>0.031046</td><td>0.483201</td><td>14.8865</td><td>9.263089</td><td>0.075071</td><td>18.541335</td><td>1.006447</td><td>0.756109</td><td>0.00265</td><td>-0.176024</td><td>-0.726098</td><td>2.955261</td><td>0.010867</td><td>0.989357</td><td>0.973176</td><td>-0.000942</td><td>0.641241</td><td>0.016827</td><td>-4.025639</td><td>-2575.475564</td><td>0.093091</td><td>0.009326</td><td>-0.009441</td><td>0.163636</td><td>12.959522</td><td>-0.05317</td><td>-1.314422</td><td>0.4765</td><td>-0.010126</td><td>1184.389561</td><td>-0.145632</td><td>0.003044</td><td>&hellip;</td><td>0.0</td><td>-32793.262891</td><td>-0.005706</td><td>0.0</td><td>0.287186</td><td>1.166194</td><td>-0.003901</td><td>0.215255</td><td>0.352181</td><td>-0.86924</td><td>-0.170444</td><td>-4.679102</td><td>-0.005833</td><td>-0.062235</td><td>-0.002715</td><td>0.004548</td><td>0.000138</td><td>-0.098494</td><td>0.000396</td><td>-0.000534</td><td>-16.780281</td><td>-3.378635</td><td>-3.0530e10</td><td>-0.036986</td><td>1.725571</td><td>1.59892</td><td>-5.7231e-11</td><td>0.010997</td><td>-0.007297</td><td>-0.002534</td><td>0.17759</td><td>-0.067404</td><td>-0.168298</td><td>0.692479</td><td>1.483897</td><td>1.0234e-7</td><td>1.417246</td></tr><tr><td>10000</td><td>&quot;198604&quot;</td><td>3.679108</td><td>-165.572065</td><td>0.000082</td><td>0.031046</td><td>0.483201</td><td>14.8865</td><td>9.263089</td><td>0.075071</td><td>18.541335</td><td>1.006447</td><td>0.756109</td><td>0.00265</td><td>-0.176024</td><td>-0.726098</td><td>2.955261</td><td>0.010867</td><td>0.989357</td><td>0.973176</td><td>-0.000942</td><td>0.641241</td><td>0.016827</td><td>-4.025639</td><td>-2575.475564</td><td>0.093091</td><td>0.009326</td><td>-0.009441</td><td>0.163636</td><td>12.959522</td><td>-0.05317</td><td>-1.314422</td><td>0.4765</td><td>-0.010126</td><td>1184.389561</td><td>-0.145632</td><td>0.003044</td><td>&hellip;</td><td>-0.30328</td><td>-32793.262891</td><td>-0.005706</td><td>0.0</td><td>0.287186</td><td>1.166194</td><td>-0.003901</td><td>0.215255</td><td>0.352181</td><td>-0.86924</td><td>-0.170444</td><td>-4.679102</td><td>-0.005833</td><td>-0.062235</td><td>0.000877</td><td>0.004548</td><td>0.000138</td><td>-0.098494</td><td>0.000396</td><td>-0.000534</td><td>-16.780281</td><td>-3.378635</td><td>-3.0530e10</td><td>-0.036986</td><td>1.725571</td><td>1.59892</td><td>-5.7231e-11</td><td>0.010997</td><td>-0.007297</td><td>-0.002534</td><td>0.17759</td><td>-0.067404</td><td>-0.168298</td><td>0.692479</td><td>1.483897</td><td>7.4675e-8</td><td>1.417246</td></tr><tr><td>10000</td><td>&quot;198605&quot;</td><td>3.679108</td><td>-165.572065</td><td>0.000082</td><td>0.031046</td><td>0.483201</td><td>14.8865</td><td>9.263089</td><td>0.075071</td><td>18.541335</td><td>1.006447</td><td>0.756109</td><td>0.00265</td><td>-0.176024</td><td>-0.726098</td><td>2.955261</td><td>0.010867</td><td>0.989357</td><td>0.973176</td><td>-0.000942</td><td>0.641241</td><td>0.016827</td><td>-4.025639</td><td>-2575.475564</td><td>0.093091</td><td>0.009326</td><td>-0.009441</td><td>0.163636</td><td>12.959522</td><td>-0.05317</td><td>-1.314422</td><td>0.4765</td><td>-0.010126</td><td>1184.389561</td><td>-0.145632</td><td>0.003044</td><td>&hellip;</td><td>-0.30328</td><td>-32793.262891</td><td>-0.005706</td><td>0.0</td><td>0.287186</td><td>1.166194</td><td>-0.003901</td><td>0.215255</td><td>0.352181</td><td>-0.86924</td><td>-0.170444</td><td>-4.679102</td><td>-0.005833</td><td>-0.062235</td><td>0.008818</td><td>0.004548</td><td>0.000138</td><td>-0.098494</td><td>0.000396</td><td>-0.000534</td><td>-16.780281</td><td>-3.378635</td><td>-3.0530e10</td><td>-0.036986</td><td>1.725571</td><td>1.59892</td><td>-5.7231e-11</td><td>0.010997</td><td>-0.007297</td><td>-0.002534</td><td>0.17759</td><td>-0.067404</td><td>-0.168298</td><td>0.692479</td><td>1.483897</td><td>7.6496e-8</td><td>1.417246</td></tr><tr><td>&hellip;</td><td>&hellip;</td><td>&hellip;</td><td>&hellip;</td><td>&hellip;</td><td>&hellip;</td><td>&hellip;</td><td>&hellip;</td><td>&hellip;</td><td>&hellip;</td><td>&hellip;</td><td>&hellip;</td><td>&hellip;</td><td>&hellip;</td><td>&hellip;</td><td>&hellip;</td><td>&hellip;</td><td>&hellip;</td><td>&hellip;</td><td>&hellip;</td><td>&hellip;</td><td>&hellip;</td><td>&hellip;</td><td>&hellip;</td><td>&hellip;</td><td>&hellip;</td><td>&hellip;</td><td>&hellip;</td><td>&hellip;</td><td>&hellip;</td><td>&hellip;</td><td>&hellip;</td><td>&hellip;</td><td>&hellip;</td><td>&hellip;</td><td>&hellip;</td><td>&hellip;</td><td>&hellip;</td><td>&hellip;</td><td>&hellip;</td><td>&hellip;</td><td>&hellip;</td><td>&hellip;</td><td>&hellip;</td><td>&hellip;</td><td>&hellip;</td><td>&hellip;</td><td>&hellip;</td><td>&hellip;</td><td>&hellip;</td><td>&hellip;</td><td>&hellip;</td><td>&hellip;</td><td>&hellip;</td><td>&hellip;</td><td>&hellip;</td><td>&hellip;</td><td>&hellip;</td><td>&hellip;</td><td>&hellip;</td><td>&hellip;</td><td>&hellip;</td><td>&hellip;</td><td>&hellip;</td><td>&hellip;</td><td>&hellip;</td><td>&hellip;</td><td>&hellip;</td><td>&hellip;</td><td>&hellip;</td><td>&hellip;</td><td>&hellip;</td><td>&hellip;</td><td>&hellip;</td><td>&hellip;</td></tr><tr><td>93436</td><td>&quot;202401&quot;</td><td>3.679108</td><td>-165.572065</td><td>-0.003877</td><td>0.016862</td><td>0.483201</td><td>14.8865</td><td>9.263089</td><td>0.075071</td><td>18.541335</td><td>1.006447</td><td>0.756109</td><td>0.00265</td><td>-0.325232</td><td>-0.726098</td><td>2.955261</td><td>0.010867</td><td>0.989357</td><td>0.973176</td><td>-0.000942</td><td>0.641241</td><td>0.016827</td><td>-1.838476</td><td>-2575.475564</td><td>0.093091</td><td>0.009326</td><td>-0.009441</td><td>0.163636</td><td>12.959522</td><td>0.598015</td><td>-1.480804</td><td>0.4765</td><td>-0.098042</td><td>1184.389561</td><td>-0.145632</td><td>0.097266</td><td>&hellip;</td><td>-0.30328</td><td>-32793.262891</td><td>-0.005706</td><td>0.025074</td><td>0.0</td><td>0.288081</td><td>-0.223286</td><td>0.215255</td><td>0.352181</td><td>-0.86924</td><td>-0.170444</td><td>-4.679102</td><td>-0.005833</td><td>0.040382</td><td>-0.00046</td><td>0.004548</td><td>0.000138</td><td>-0.109511</td><td>0.000396</td><td>-0.000534</td><td>-16.780281</td><td>-3.378635</td><td>-3.0530e10</td><td>-0.251513</td><td>1.725571</td><td>1.59892</td><td>-5.7231e-11</td><td>0.010997</td><td>-0.007297</td><td>-0.002534</td><td>0.17759</td><td>-0.067404</td><td>-0.168298</td><td>0.698178</td><td>1.483897</td><td>1.569696</td><td>1.417246</td></tr><tr><td>93436</td><td>&quot;202402&quot;</td><td>3.679108</td><td>-165.572065</td><td>-0.003877</td><td>0.016862</td><td>0.483201</td><td>14.8865</td><td>9.263089</td><td>0.075071</td><td>18.541335</td><td>1.006447</td><td>0.756109</td><td>0.00265</td><td>-0.325232</td><td>-0.726098</td><td>2.955261</td><td>0.010867</td><td>0.989357</td><td>0.973176</td><td>-0.000942</td><td>0.641241</td><td>0.016827</td><td>-1.838476</td><td>-2575.475564</td><td>0.093091</td><td>0.009326</td><td>-0.009441</td><td>0.163636</td><td>12.959522</td><td>0.598015</td><td>-1.480804</td><td>0.4765</td><td>-0.098042</td><td>1184.389561</td><td>-0.145632</td><td>0.097266</td><td>&hellip;</td><td>-0.30328</td><td>-32793.262891</td><td>-0.005706</td><td>0.025074</td><td>0.0</td><td>0.288081</td><td>-0.223286</td><td>0.215255</td><td>0.352181</td><td>-0.86924</td><td>-0.170444</td><td>-4.679102</td><td>-0.005833</td><td>0.040382</td><td>-0.00046</td><td>0.004548</td><td>0.000138</td><td>-0.109511</td><td>0.000396</td><td>-0.000534</td><td>-16.780281</td><td>-3.378635</td><td>-3.0530e10</td><td>-0.251513</td><td>1.725571</td><td>1.59892</td><td>-5.7231e-11</td><td>0.010997</td><td>-0.007297</td><td>-0.002534</td><td>0.17759</td><td>-0.067404</td><td>-0.168298</td><td>0.698178</td><td>1.483897</td><td>1.569696</td><td>1.417246</td></tr><tr><td>93436</td><td>&quot;202403&quot;</td><td>3.679108</td><td>-165.572065</td><td>-0.003877</td><td>0.016862</td><td>0.483201</td><td>14.8865</td><td>9.263089</td><td>0.075071</td><td>18.541335</td><td>1.006447</td><td>0.756109</td><td>0.00265</td><td>-0.325232</td><td>-0.726098</td><td>2.955261</td><td>0.010867</td><td>0.989357</td><td>0.973176</td><td>-0.000942</td><td>0.641241</td><td>0.016827</td><td>-1.838476</td><td>-2575.475564</td><td>0.093091</td><td>0.009326</td><td>-0.009441</td><td>0.163636</td><td>12.959522</td><td>0.598015</td><td>-1.480804</td><td>0.4765</td><td>-0.098042</td><td>1184.389561</td><td>-0.145632</td><td>0.097266</td><td>&hellip;</td><td>-0.30328</td><td>-32793.262891</td><td>-0.005706</td><td>0.025074</td><td>0.0</td><td>0.288081</td><td>-0.223286</td><td>0.215255</td><td>0.352181</td><td>-0.86924</td><td>-0.170444</td><td>-4.679102</td><td>-0.005833</td><td>0.040382</td><td>-0.00046</td><td>0.004548</td><td>0.000138</td><td>-0.109511</td><td>0.000396</td><td>-0.000534</td><td>-16.780281</td><td>-3.378635</td><td>-3.0530e10</td><td>-0.251513</td><td>1.725571</td><td>1.59892</td><td>-5.7231e-11</td><td>0.010997</td><td>-0.007297</td><td>-0.002534</td><td>0.17759</td><td>-0.067404</td><td>-0.168298</td><td>0.698178</td><td>1.483897</td><td>1.569696</td><td>1.417246</td></tr><tr><td>93436</td><td>&quot;202404&quot;</td><td>3.679108</td><td>-165.572065</td><td>-0.003877</td><td>0.016862</td><td>0.483201</td><td>14.8865</td><td>9.263089</td><td>0.075071</td><td>18.541335</td><td>1.006447</td><td>0.756109</td><td>0.00265</td><td>-0.325232</td><td>-0.726098</td><td>2.955261</td><td>0.010867</td><td>0.989357</td><td>0.973176</td><td>-0.000942</td><td>0.641241</td><td>0.016827</td><td>-1.838476</td><td>-2575.475564</td><td>0.093091</td><td>0.009326</td><td>-0.009441</td><td>0.163636</td><td>12.959522</td><td>0.598015</td><td>-1.480804</td><td>0.4765</td><td>-0.098042</td><td>1184.389561</td><td>-0.145632</td><td>0.097266</td><td>&hellip;</td><td>-0.30328</td><td>-32793.262891</td><td>-0.005706</td><td>0.025074</td><td>0.0</td><td>0.288081</td><td>-0.223286</td><td>0.215255</td><td>0.352181</td><td>-0.86924</td><td>-0.170444</td><td>-4.679102</td><td>-0.005833</td><td>0.040382</td><td>-0.00046</td><td>0.004548</td><td>0.000138</td><td>-0.109511</td><td>0.000396</td><td>-0.000534</td><td>-16.780281</td><td>-3.378635</td><td>-3.0530e10</td><td>-0.251513</td><td>1.725571</td><td>1.59892</td><td>-5.7231e-11</td><td>0.010997</td><td>-0.007297</td><td>-0.002534</td><td>0.17759</td><td>-0.067404</td><td>-0.168298</td><td>0.698178</td><td>1.483897</td><td>1.569696</td><td>1.417246</td></tr><tr><td>93436</td><td>&quot;202405&quot;</td><td>3.679108</td><td>-165.572065</td><td>-0.003877</td><td>0.016862</td><td>0.483201</td><td>14.8865</td><td>9.263089</td><td>0.075071</td><td>18.541335</td><td>1.006447</td><td>0.756109</td><td>0.00265</td><td>-0.325232</td><td>-0.726098</td><td>2.955261</td><td>0.010867</td><td>0.989357</td><td>0.973176</td><td>-0.000942</td><td>0.641241</td><td>0.016827</td><td>-1.838476</td><td>-2575.475564</td><td>0.093091</td><td>0.009326</td><td>-0.009441</td><td>0.163636</td><td>12.959522</td><td>0.598015</td><td>-1.480804</td><td>0.4765</td><td>-0.098042</td><td>1184.389561</td><td>-0.145632</td><td>0.097266</td><td>&hellip;</td><td>-0.30328</td><td>-32793.262891</td><td>-0.005706</td><td>0.025074</td><td>0.0</td><td>0.288081</td><td>-0.223286</td><td>0.215255</td><td>0.352181</td><td>-0.86924</td><td>-0.170444</td><td>-4.679102</td><td>-0.005833</td><td>0.040382</td><td>-0.00046</td><td>0.004548</td><td>0.000138</td><td>-0.109511</td><td>0.000396</td><td>-0.000534</td><td>-16.780281</td><td>-3.378635</td><td>-3.0530e10</td><td>-0.251513</td><td>1.725571</td><td>1.59892</td><td>-5.7231e-11</td><td>0.010997</td><td>-0.007297</td><td>-0.002534</td><td>0.17759</td><td>-0.067404</td><td>-0.168298</td><td>0.698178</td><td>1.483897</td><td>1.569696</td><td>1.417246</td></tr></tbody></table></div>"
      ],
      "text/plain": [
       "shape: (5_156_870, 211)\n",
       "┌────────┬────────┬──────────┬─────────────┬───┬──────────┬───────────┬──────────────┬─────────────┐\n",
       "│ permno ┆ yyyymm ┆ AM       ┆ AOP         ┆ … ┆ tang     ┆ zerotrade ┆ zerotradeAlt ┆ zerotradeAl │\n",
       "│ ---    ┆ ---    ┆ ---      ┆ ---         ┆   ┆ ---      ┆ ---       ┆ 1            ┆ t12         │\n",
       "│ i64    ┆ str    ┆ f64      ┆ f64         ┆   ┆ f64      ┆ f64       ┆ ---          ┆ ---         │\n",
       "│        ┆        ┆          ┆             ┆   ┆          ┆           ┆ f64          ┆ f64         │\n",
       "╞════════╪════════╪══════════╪═════════════╪═══╪══════════╪═══════════╪══════════════╪═════════════╡\n",
       "│ 10000  ┆ 198601 ┆ 3.679108 ┆ -165.572065 ┆ … ┆ 0.692479 ┆ 1.483897  ┆ 1.569696     ┆ 1.417246    │\n",
       "│ 10000  ┆ 198602 ┆ 3.679108 ┆ -165.572065 ┆ … ┆ 0.692479 ┆ 1.483897  ┆ 4.7852e-8    ┆ 1.417246    │\n",
       "│ 10000  ┆ 198603 ┆ 3.679108 ┆ -165.572065 ┆ … ┆ 0.692479 ┆ 1.483897  ┆ 1.0234e-7    ┆ 1.417246    │\n",
       "│ 10000  ┆ 198604 ┆ 3.679108 ┆ -165.572065 ┆ … ┆ 0.692479 ┆ 1.483897  ┆ 7.4675e-8    ┆ 1.417246    │\n",
       "│ 10000  ┆ 198605 ┆ 3.679108 ┆ -165.572065 ┆ … ┆ 0.692479 ┆ 1.483897  ┆ 7.6496e-8    ┆ 1.417246    │\n",
       "│ …      ┆ …      ┆ …        ┆ …           ┆ … ┆ …        ┆ …         ┆ …            ┆ …           │\n",
       "│ 93436  ┆ 202401 ┆ 3.679108 ┆ -165.572065 ┆ … ┆ 0.698178 ┆ 1.483897  ┆ 1.569696     ┆ 1.417246    │\n",
       "│ 93436  ┆ 202402 ┆ 3.679108 ┆ -165.572065 ┆ … ┆ 0.698178 ┆ 1.483897  ┆ 1.569696     ┆ 1.417246    │\n",
       "│ 93436  ┆ 202403 ┆ 3.679108 ┆ -165.572065 ┆ … ┆ 0.698178 ┆ 1.483897  ┆ 1.569696     ┆ 1.417246    │\n",
       "│ 93436  ┆ 202404 ┆ 3.679108 ┆ -165.572065 ┆ … ┆ 0.698178 ┆ 1.483897  ┆ 1.569696     ┆ 1.417246    │\n",
       "│ 93436  ┆ 202405 ┆ 3.679108 ┆ -165.572065 ┆ … ┆ 0.698178 ┆ 1.483897  ┆ 1.569696     ┆ 1.417246    │\n",
       "└────────┴────────┴──────────┴─────────────┴───┴──────────┴───────────┴──────────────┴─────────────┘"
      ]
     },
     "execution_count": 4,
     "metadata": {},
     "output_type": "execute_result"
    }
   ],
   "source": [
    "data_imputed"
   ]
  },
  {
   "cell_type": "code",
   "execution_count": null,
   "metadata": {},
   "outputs": [],
   "source": [
    "ret = pl.read_csv(get_data_file_path(\"PredictorPortsFull.csv\"), null_values=(\"NA\",), dtypes=PREDICTOR_PORTS_ENTRY_SCHEMA)"
   ]
  },
  {
   "cell_type": "code",
   "execution_count": null,
   "metadata": {},
   "outputs": [
    {
     "data": {
      "text/html": [
       "<div><style>\n",
       ".dataframe > thead > tr,\n",
       ".dataframe > tbody > tr {\n",
       "  text-align: right;\n",
       "  white-space: pre-wrap;\n",
       "}\n",
       "</style>\n",
       "<small>shape: (1_183_286, 7)</small><table border=\"1\" class=\"dataframe\"><thead><tr><th>signalname</th><th>port</th><th>date</th><th>ret</th><th>signallag</th><th>Nlong</th><th>Nshort</th></tr><tr><td>str</td><td>str</td><td>date</td><td>f64</td><td>f64</td><td>i64</td><td>i64</td></tr></thead><tbody><tr><td>&quot;AM&quot;</td><td>&quot;01&quot;</td><td>1951-07-31</td><td>7.661648</td><td>0.681619</td><td>67</td><td>0</td></tr><tr><td>&quot;AM&quot;</td><td>&quot;01&quot;</td><td>1951-08-31</td><td>4.273648</td><td>0.639816</td><td>67</td><td>0</td></tr><tr><td>&quot;AM&quot;</td><td>&quot;01&quot;</td><td>1951-09-28</td><td>1.31527</td><td>0.617079</td><td>67</td><td>0</td></tr><tr><td>&quot;AM&quot;</td><td>&quot;01&quot;</td><td>1951-10-31</td><td>-3.94298</td><td>0.612266</td><td>67</td><td>0</td></tr><tr><td>&quot;AM&quot;</td><td>&quot;01&quot;</td><td>1951-11-30</td><td>1.02867</td><td>0.63771</td><td>67</td><td>0</td></tr><tr><td>&hellip;</td><td>&hellip;</td><td>&hellip;</td><td>&hellip;</td><td>&hellip;</td><td>&hellip;</td><td>&hellip;</td></tr><tr><td>&quot;zerotradeAlt12&quot;</td><td>&quot;LS&quot;</td><td>2022-08-31</td><td>-1.467892</td><td>null</td><td>491</td><td>492</td></tr><tr><td>&quot;zerotradeAlt12&quot;</td><td>&quot;LS&quot;</td><td>2022-09-30</td><td>4.607782</td><td>null</td><td>490</td><td>491</td></tr><tr><td>&quot;zerotradeAlt12&quot;</td><td>&quot;LS&quot;</td><td>2022-10-31</td><td>-5.81855</td><td>null</td><td>492</td><td>492</td></tr><tr><td>&quot;zerotradeAlt12&quot;</td><td>&quot;LS&quot;</td><td>2022-11-30</td><td>-2.581228</td><td>null</td><td>491</td><td>492</td></tr><tr><td>&quot;zerotradeAlt12&quot;</td><td>&quot;LS&quot;</td><td>2022-12-30</td><td>5.437231</td><td>null</td><td>492</td><td>492</td></tr></tbody></table></div>"
      ],
      "text/plain": [
       "shape: (1_183_286, 7)\n",
       "┌────────────────┬──────┬────────────┬───────────┬───────────┬───────┬────────┐\n",
       "│ signalname     ┆ port ┆ date       ┆ ret       ┆ signallag ┆ Nlong ┆ Nshort │\n",
       "│ ---            ┆ ---  ┆ ---        ┆ ---       ┆ ---       ┆ ---   ┆ ---    │\n",
       "│ str            ┆ str  ┆ date       ┆ f64       ┆ f64       ┆ i64   ┆ i64    │\n",
       "╞════════════════╪══════╪════════════╪═══════════╪═══════════╪═══════╪════════╡\n",
       "│ AM             ┆ 01   ┆ 1951-07-31 ┆ 7.661648  ┆ 0.681619  ┆ 67    ┆ 0      │\n",
       "│ AM             ┆ 01   ┆ 1951-08-31 ┆ 4.273648  ┆ 0.639816  ┆ 67    ┆ 0      │\n",
       "│ AM             ┆ 01   ┆ 1951-09-28 ┆ 1.31527   ┆ 0.617079  ┆ 67    ┆ 0      │\n",
       "│ AM             ┆ 01   ┆ 1951-10-31 ┆ -3.94298  ┆ 0.612266  ┆ 67    ┆ 0      │\n",
       "│ AM             ┆ 01   ┆ 1951-11-30 ┆ 1.02867   ┆ 0.63771   ┆ 67    ┆ 0      │\n",
       "│ …              ┆ …    ┆ …          ┆ …         ┆ …         ┆ …     ┆ …      │\n",
       "│ zerotradeAlt12 ┆ LS   ┆ 2022-08-31 ┆ -1.467892 ┆ null      ┆ 491   ┆ 492    │\n",
       "│ zerotradeAlt12 ┆ LS   ┆ 2022-09-30 ┆ 4.607782  ┆ null      ┆ 490   ┆ 491    │\n",
       "│ zerotradeAlt12 ┆ LS   ┆ 2022-10-31 ┆ -5.81855  ┆ null      ┆ 492   ┆ 492    │\n",
       "│ zerotradeAlt12 ┆ LS   ┆ 2022-11-30 ┆ -2.581228 ┆ null      ┆ 491   ┆ 492    │\n",
       "│ zerotradeAlt12 ┆ LS   ┆ 2022-12-30 ┆ 5.437231  ┆ null      ┆ 492   ┆ 492    │\n",
       "└────────────────┴──────┴────────────┴───────────┴───────────┴───────┴────────┘"
      ]
     },
     "execution_count": 7,
     "metadata": {},
     "output_type": "execute_result"
    }
   ],
   "source": [
    "ret"
   ]
  },
  {
   "cell_type": "code",
   "execution_count": null,
   "metadata": {},
   "outputs": [
    {
     "name": "stderr",
     "output_type": "stream",
     "text": [
      "/var/folders/qk/3qb7y7bs23l46_jb_xbrk_zw0000gn/T/ipykernel_89187/3833254137.py:1: DeprecationWarning: `apply` is deprecated. It has been renamed to `map_elements`.\n",
      "  ret.insert_column(3, pl.Series(\"yyyymm\", ret.get_column(\"date\").apply(lambda x: x.strftime(\"%Y%m\"))))\n",
      "/var/folders/qk/3qb7y7bs23l46_jb_xbrk_zw0000gn/T/ipykernel_89187/3833254137.py:1: MapWithoutReturnDtypeWarning: Calling `map_elements` without specifying `return_dtype` can lead to unpredictable results. Specify `return_dtype` to silence this warning.\n",
      "  ret.insert_column(3, pl.Series(\"yyyymm\", ret.get_column(\"date\").apply(lambda x: x.strftime(\"%Y%m\"))))\n"
     ]
    },
    {
     "data": {
      "text/html": [
       "<div><style>\n",
       ".dataframe > thead > tr,\n",
       ".dataframe > tbody > tr {\n",
       "  text-align: right;\n",
       "  white-space: pre-wrap;\n",
       "}\n",
       "</style>\n",
       "<small>shape: (1_183_286, 8)</small><table border=\"1\" class=\"dataframe\"><thead><tr><th>signalname</th><th>port</th><th>date</th><th>yyyymm</th><th>ret</th><th>signallag</th><th>Nlong</th><th>Nshort</th></tr><tr><td>str</td><td>str</td><td>date</td><td>str</td><td>f64</td><td>f64</td><td>i64</td><td>i64</td></tr></thead><tbody><tr><td>&quot;AM&quot;</td><td>&quot;01&quot;</td><td>1951-07-31</td><td>&quot;195107&quot;</td><td>7.661648</td><td>0.681619</td><td>67</td><td>0</td></tr><tr><td>&quot;AM&quot;</td><td>&quot;01&quot;</td><td>1951-08-31</td><td>&quot;195108&quot;</td><td>4.273648</td><td>0.639816</td><td>67</td><td>0</td></tr><tr><td>&quot;AM&quot;</td><td>&quot;01&quot;</td><td>1951-09-28</td><td>&quot;195109&quot;</td><td>1.31527</td><td>0.617079</td><td>67</td><td>0</td></tr><tr><td>&quot;AM&quot;</td><td>&quot;01&quot;</td><td>1951-10-31</td><td>&quot;195110&quot;</td><td>-3.94298</td><td>0.612266</td><td>67</td><td>0</td></tr><tr><td>&quot;AM&quot;</td><td>&quot;01&quot;</td><td>1951-11-30</td><td>&quot;195111&quot;</td><td>1.02867</td><td>0.63771</td><td>67</td><td>0</td></tr><tr><td>&hellip;</td><td>&hellip;</td><td>&hellip;</td><td>&hellip;</td><td>&hellip;</td><td>&hellip;</td><td>&hellip;</td><td>&hellip;</td></tr><tr><td>&quot;zerotradeAlt12&quot;</td><td>&quot;LS&quot;</td><td>2022-08-31</td><td>&quot;202208&quot;</td><td>-1.467892</td><td>null</td><td>491</td><td>492</td></tr><tr><td>&quot;zerotradeAlt12&quot;</td><td>&quot;LS&quot;</td><td>2022-09-30</td><td>&quot;202209&quot;</td><td>4.607782</td><td>null</td><td>490</td><td>491</td></tr><tr><td>&quot;zerotradeAlt12&quot;</td><td>&quot;LS&quot;</td><td>2022-10-31</td><td>&quot;202210&quot;</td><td>-5.81855</td><td>null</td><td>492</td><td>492</td></tr><tr><td>&quot;zerotradeAlt12&quot;</td><td>&quot;LS&quot;</td><td>2022-11-30</td><td>&quot;202211&quot;</td><td>-2.581228</td><td>null</td><td>491</td><td>492</td></tr><tr><td>&quot;zerotradeAlt12&quot;</td><td>&quot;LS&quot;</td><td>2022-12-30</td><td>&quot;202212&quot;</td><td>5.437231</td><td>null</td><td>492</td><td>492</td></tr></tbody></table></div>"
      ],
      "text/plain": [
       "shape: (1_183_286, 8)\n",
       "┌────────────────┬──────┬────────────┬────────┬───────────┬───────────┬───────┬────────┐\n",
       "│ signalname     ┆ port ┆ date       ┆ yyyymm ┆ ret       ┆ signallag ┆ Nlong ┆ Nshort │\n",
       "│ ---            ┆ ---  ┆ ---        ┆ ---    ┆ ---       ┆ ---       ┆ ---   ┆ ---    │\n",
       "│ str            ┆ str  ┆ date       ┆ str    ┆ f64       ┆ f64       ┆ i64   ┆ i64    │\n",
       "╞════════════════╪══════╪════════════╪════════╪═══════════╪═══════════╪═══════╪════════╡\n",
       "│ AM             ┆ 01   ┆ 1951-07-31 ┆ 195107 ┆ 7.661648  ┆ 0.681619  ┆ 67    ┆ 0      │\n",
       "│ AM             ┆ 01   ┆ 1951-08-31 ┆ 195108 ┆ 4.273648  ┆ 0.639816  ┆ 67    ┆ 0      │\n",
       "│ AM             ┆ 01   ┆ 1951-09-28 ┆ 195109 ┆ 1.31527   ┆ 0.617079  ┆ 67    ┆ 0      │\n",
       "│ AM             ┆ 01   ┆ 1951-10-31 ┆ 195110 ┆ -3.94298  ┆ 0.612266  ┆ 67    ┆ 0      │\n",
       "│ AM             ┆ 01   ┆ 1951-11-30 ┆ 195111 ┆ 1.02867   ┆ 0.63771   ┆ 67    ┆ 0      │\n",
       "│ …              ┆ …    ┆ …          ┆ …      ┆ …         ┆ …         ┆ …     ┆ …      │\n",
       "│ zerotradeAlt12 ┆ LS   ┆ 2022-08-31 ┆ 202208 ┆ -1.467892 ┆ null      ┆ 491   ┆ 492    │\n",
       "│ zerotradeAlt12 ┆ LS   ┆ 2022-09-30 ┆ 202209 ┆ 4.607782  ┆ null      ┆ 490   ┆ 491    │\n",
       "│ zerotradeAlt12 ┆ LS   ┆ 2022-10-31 ┆ 202210 ┆ -5.81855  ┆ null      ┆ 492   ┆ 492    │\n",
       "│ zerotradeAlt12 ┆ LS   ┆ 2022-11-30 ┆ 202211 ┆ -2.581228 ┆ null      ┆ 491   ┆ 492    │\n",
       "│ zerotradeAlt12 ┆ LS   ┆ 2022-12-30 ┆ 202212 ┆ 5.437231  ┆ null      ┆ 492   ┆ 492    │\n",
       "└────────────────┴──────┴────────────┴────────┴───────────┴───────────┴───────┴────────┘"
      ]
     },
     "execution_count": 8,
     "metadata": {},
     "output_type": "execute_result"
    }
   ],
   "source": [
    "ret.insert_column(3, pl.Series(\"yyyymm\", ret.get_column(\"date\").apply(lambda x: x.strftime(\"%Y%m\"))))"
   ]
  },
  {
   "cell_type": "code",
   "execution_count": null,
   "metadata": {},
   "outputs": [
    {
     "data": {
      "text/html": [
       "<div><style>\n",
       ".dataframe > thead > tr,\n",
       ".dataframe > tbody > tr {\n",
       "  text-align: right;\n",
       "  white-space: pre-wrap;\n",
       "}\n",
       "</style>\n",
       "<small>shape: (1_183_286, 8)</small><table border=\"1\" class=\"dataframe\"><thead><tr><th>signalname</th><th>port</th><th>date</th><th>yyyymm</th><th>ret</th><th>signallag</th><th>Nlong</th><th>Nshort</th></tr><tr><td>str</td><td>str</td><td>date</td><td>str</td><td>f64</td><td>f64</td><td>i64</td><td>i64</td></tr></thead><tbody><tr><td>&quot;AM&quot;</td><td>&quot;01&quot;</td><td>1951-07-31</td><td>&quot;195107&quot;</td><td>7.661648</td><td>0.681619</td><td>67</td><td>0</td></tr><tr><td>&quot;AM&quot;</td><td>&quot;01&quot;</td><td>1951-08-31</td><td>&quot;195108&quot;</td><td>4.273648</td><td>0.639816</td><td>67</td><td>0</td></tr><tr><td>&quot;AM&quot;</td><td>&quot;01&quot;</td><td>1951-09-28</td><td>&quot;195109&quot;</td><td>1.31527</td><td>0.617079</td><td>67</td><td>0</td></tr><tr><td>&quot;AM&quot;</td><td>&quot;01&quot;</td><td>1951-10-31</td><td>&quot;195110&quot;</td><td>-3.94298</td><td>0.612266</td><td>67</td><td>0</td></tr><tr><td>&quot;AM&quot;</td><td>&quot;01&quot;</td><td>1951-11-30</td><td>&quot;195111&quot;</td><td>1.02867</td><td>0.63771</td><td>67</td><td>0</td></tr><tr><td>&hellip;</td><td>&hellip;</td><td>&hellip;</td><td>&hellip;</td><td>&hellip;</td><td>&hellip;</td><td>&hellip;</td><td>&hellip;</td></tr><tr><td>&quot;zerotradeAlt12&quot;</td><td>&quot;LS&quot;</td><td>2022-08-31</td><td>&quot;202208&quot;</td><td>-1.467892</td><td>null</td><td>491</td><td>492</td></tr><tr><td>&quot;zerotradeAlt12&quot;</td><td>&quot;LS&quot;</td><td>2022-09-30</td><td>&quot;202209&quot;</td><td>4.607782</td><td>null</td><td>490</td><td>491</td></tr><tr><td>&quot;zerotradeAlt12&quot;</td><td>&quot;LS&quot;</td><td>2022-10-31</td><td>&quot;202210&quot;</td><td>-5.81855</td><td>null</td><td>492</td><td>492</td></tr><tr><td>&quot;zerotradeAlt12&quot;</td><td>&quot;LS&quot;</td><td>2022-11-30</td><td>&quot;202211&quot;</td><td>-2.581228</td><td>null</td><td>491</td><td>492</td></tr><tr><td>&quot;zerotradeAlt12&quot;</td><td>&quot;LS&quot;</td><td>2022-12-30</td><td>&quot;202212&quot;</td><td>5.437231</td><td>null</td><td>492</td><td>492</td></tr></tbody></table></div>"
      ],
      "text/plain": [
       "shape: (1_183_286, 8)\n",
       "┌────────────────┬──────┬────────────┬────────┬───────────┬───────────┬───────┬────────┐\n",
       "│ signalname     ┆ port ┆ date       ┆ yyyymm ┆ ret       ┆ signallag ┆ Nlong ┆ Nshort │\n",
       "│ ---            ┆ ---  ┆ ---        ┆ ---    ┆ ---       ┆ ---       ┆ ---   ┆ ---    │\n",
       "│ str            ┆ str  ┆ date       ┆ str    ┆ f64       ┆ f64       ┆ i64   ┆ i64    │\n",
       "╞════════════════╪══════╪════════════╪════════╪═══════════╪═══════════╪═══════╪════════╡\n",
       "│ AM             ┆ 01   ┆ 1951-07-31 ┆ 195107 ┆ 7.661648  ┆ 0.681619  ┆ 67    ┆ 0      │\n",
       "│ AM             ┆ 01   ┆ 1951-08-31 ┆ 195108 ┆ 4.273648  ┆ 0.639816  ┆ 67    ┆ 0      │\n",
       "│ AM             ┆ 01   ┆ 1951-09-28 ┆ 195109 ┆ 1.31527   ┆ 0.617079  ┆ 67    ┆ 0      │\n",
       "│ AM             ┆ 01   ┆ 1951-10-31 ┆ 195110 ┆ -3.94298  ┆ 0.612266  ┆ 67    ┆ 0      │\n",
       "│ AM             ┆ 01   ┆ 1951-11-30 ┆ 195111 ┆ 1.02867   ┆ 0.63771   ┆ 67    ┆ 0      │\n",
       "│ …              ┆ …    ┆ …          ┆ …      ┆ …         ┆ …         ┆ …     ┆ …      │\n",
       "│ zerotradeAlt12 ┆ LS   ┆ 2022-08-31 ┆ 202208 ┆ -1.467892 ┆ null      ┆ 491   ┆ 492    │\n",
       "│ zerotradeAlt12 ┆ LS   ┆ 2022-09-30 ┆ 202209 ┆ 4.607782  ┆ null      ┆ 490   ┆ 491    │\n",
       "│ zerotradeAlt12 ┆ LS   ┆ 2022-10-31 ┆ 202210 ┆ -5.81855  ┆ null      ┆ 492   ┆ 492    │\n",
       "│ zerotradeAlt12 ┆ LS   ┆ 2022-11-30 ┆ 202211 ┆ -2.581228 ┆ null      ┆ 491   ┆ 492    │\n",
       "│ zerotradeAlt12 ┆ LS   ┆ 2022-12-30 ┆ 202212 ┆ 5.437231  ┆ null      ┆ 492   ┆ 492    │\n",
       "└────────────────┴──────┴────────────┴────────┴───────────┴───────────┴───────┴────────┘"
      ]
     },
     "execution_count": 9,
     "metadata": {},
     "output_type": "execute_result"
    }
   ],
   "source": [
    "ret"
   ]
  },
  {
   "cell_type": "markdown",
   "metadata": {},
   "source": [
    "<hr>\n",
    "\n",
    "# MAIN START"
   ]
  },
  {
   "cell_type": "markdown",
   "metadata": {},
   "source": [
    "## 1. Analysis of data\n",
    "\n",
    "Retrieving the previously computed data and analyzing it."
   ]
  },
  {
   "cell_type": "code",
   "execution_count": 2,
   "metadata": {},
   "outputs": [],
   "source": [
    "# Retrieve data from csv file\n",
    "full_data = pl.read_csv(get_data_file_path(\"COMPLETE_DATASET.csv\"), dtypes=ALL_DATA_ENTRY_SCHEMA)"
   ]
  },
  {
   "cell_type": "code",
   "execution_count": 3,
   "metadata": {},
   "outputs": [
    {
     "data": {
      "text/html": [
       "<div><style>\n",
       ".dataframe > thead > tr,\n",
       ".dataframe > tbody > tr {\n",
       "  text-align: right;\n",
       "  white-space: pre-wrap;\n",
       "}\n",
       "</style>\n",
       "<small>shape: (3_487_273, 216)</small><table border=\"1\" class=\"dataframe\"><thead><tr><th>permno</th><th>yyyymm</th><th>AM</th><th>AOP</th><th>AbnormalAccruals</th><th>Accruals</th><th>AccrualsBM</th><th>Activism1</th><th>Activism2</th><th>AdExp</th><th>AgeIPO</th><th>AnalystRevision</th><th>AnalystValue</th><th>AnnouncementReturn</th><th>AssetGrowth</th><th>BM</th><th>BMdec</th><th>BPEBM</th><th>Beta</th><th>BetaFP</th><th>BetaLiquidityPS</th><th>BetaTailRisk</th><th>BidAskSpread</th><th>BookLeverage</th><th>BrandInvest</th><th>CBOperProf</th><th>CF</th><th>CPVolSpread</th><th>Cash</th><th>CashProd</th><th>ChAssetTurnover</th><th>ChEQ</th><th>ChForecastAccrual</th><th>ChInv</th><th>ChInvIA</th><th>ChNAnalyst</th><th>ChNNCOA</th><th>&hellip;</th><th>Tax</th><th>TotalAccruals</th><th>TrendFactor</th><th>UpRecomm</th><th>VarCF</th><th>VolMkt</th><th>VolSD</th><th>VolumeTrend</th><th>XFIN</th><th>betaVIX</th><th>cfp</th><th>dCPVolSpread</th><th>dNoa</th><th>dVolCall</th><th>dVolPut</th><th>fgr5yrLag</th><th>grcapx</th><th>grcapx3y</th><th>hire</th><th>iomom_cust</th><th>iomom_supp</th><th>realestate</th><th>retConglomerate</th><th>roaq</th><th>sfe</th><th>sinAlgo</th><th>skew1</th><th>std_turn</th><th>tang</th><th>zerotrade</th><th>zerotradeAlt1</th><th>zerotradeAlt12</th><th>STreversal</th><th>Price</th><th>Size</th><th>date</th><th>ret</th></tr><tr><td>i64</td><td>str</td><td>f64</td><td>f64</td><td>f64</td><td>f64</td><td>f64</td><td>f64</td><td>f64</td><td>f64</td><td>f64</td><td>f64</td><td>f64</td><td>f64</td><td>f64</td><td>f64</td><td>f64</td><td>f64</td><td>f64</td><td>f64</td><td>f64</td><td>f64</td><td>f64</td><td>f64</td><td>f64</td><td>f64</td><td>f64</td><td>f64</td><td>f64</td><td>f64</td><td>f64</td><td>f64</td><td>f64</td><td>f64</td><td>f64</td><td>f64</td><td>f64</td><td>&hellip;</td><td>f64</td><td>f64</td><td>f64</td><td>f64</td><td>f64</td><td>f64</td><td>f64</td><td>f64</td><td>f64</td><td>f64</td><td>f64</td><td>f64</td><td>f64</td><td>f64</td><td>f64</td><td>f64</td><td>f64</td><td>f64</td><td>f64</td><td>f64</td><td>f64</td><td>f64</td><td>f64</td><td>f64</td><td>f64</td><td>f64</td><td>f64</td><td>f64</td><td>f64</td><td>f64</td><td>f64</td><td>f64</td><td>f64</td><td>f64</td><td>f64</td><td>str</td><td>f64</td></tr></thead><tbody><tr><td>10000</td><td>&quot;198601&quot;</td><td>null</td><td>null</td><td>null</td><td>null</td><td>null</td><td>null</td><td>null</td><td>null</td><td>null</td><td>null</td><td>null</td><td>null</td><td>null</td><td>null</td><td>null</td><td>null</td><td>null</td><td>null</td><td>null</td><td>null</td><td>null</td><td>null</td><td>null</td><td>null</td><td>null</td><td>null</td><td>null</td><td>null</td><td>null</td><td>null</td><td>null</td><td>null</td><td>null</td><td>null</td><td>null</td><td>&hellip;</td><td>null</td><td>null</td><td>null</td><td>null</td><td>null</td><td>null</td><td>null</td><td>null</td><td>null</td><td>-0.005234</td><td>null</td><td>null</td><td>null</td><td>null</td><td>null</td><td>null</td><td>null</td><td>null</td><td>null</td><td>null</td><td>null</td><td>null</td><td>null</td><td>null</td><td>null</td><td>null</td><td>null</td><td>null</td><td>null</td><td>null</td><td>null</td><td>null</td><td>0.0</td><td>-1.475907</td><td>-9.686575</td><td>&quot;1986-01-31&quot;</td><td>null</td></tr><tr><td>10000</td><td>&quot;198602&quot;</td><td>null</td><td>null</td><td>null</td><td>null</td><td>null</td><td>null</td><td>null</td><td>null</td><td>null</td><td>null</td><td>null</td><td>null</td><td>null</td><td>null</td><td>null</td><td>null</td><td>null</td><td>null</td><td>null</td><td>null</td><td>null</td><td>null</td><td>null</td><td>null</td><td>null</td><td>null</td><td>null</td><td>null</td><td>null</td><td>null</td><td>null</td><td>null</td><td>null</td><td>null</td><td>null</td><td>&hellip;</td><td>null</td><td>null</td><td>null</td><td>null</td><td>null</td><td>null</td><td>null</td><td>null</td><td>null</td><td>-0.003488</td><td>null</td><td>null</td><td>null</td><td>null</td><td>null</td><td>null</td><td>null</td><td>null</td><td>null</td><td>null</td><td>null</td><td>null</td><td>null</td><td>null</td><td>null</td><td>null</td><td>null</td><td>null</td><td>null</td><td>null</td><td>4.7852e-8</td><td>null</td><td>25.7143</td><td>-1.178655</td><td>-9.389323</td><td>&quot;1986-02-28&quot;</td><td>-0.257143</td></tr><tr><td>10000</td><td>&quot;198603&quot;</td><td>null</td><td>null</td><td>null</td><td>null</td><td>null</td><td>null</td><td>null</td><td>null</td><td>null</td><td>null</td><td>null</td><td>null</td><td>null</td><td>null</td><td>null</td><td>null</td><td>null</td><td>null</td><td>null</td><td>null</td><td>null</td><td>null</td><td>null</td><td>null</td><td>null</td><td>null</td><td>null</td><td>null</td><td>null</td><td>null</td><td>null</td><td>null</td><td>null</td><td>null</td><td>null</td><td>&hellip;</td><td>null</td><td>null</td><td>null</td><td>null</td><td>null</td><td>null</td><td>null</td><td>null</td><td>null</td><td>-0.002715</td><td>null</td><td>null</td><td>null</td><td>null</td><td>null</td><td>null</td><td>null</td><td>null</td><td>null</td><td>null</td><td>null</td><td>null</td><td>null</td><td>null</td><td>null</td><td>null</td><td>null</td><td>null</td><td>null</td><td>null</td><td>1.0234e-7</td><td>null</td><td>-36.5385</td><td>-1.490091</td><td>-9.700759</td><td>&quot;1986-03-31&quot;</td><td>0.365385</td></tr><tr><td>10000</td><td>&quot;198604&quot;</td><td>null</td><td>null</td><td>null</td><td>null</td><td>null</td><td>null</td><td>null</td><td>null</td><td>null</td><td>null</td><td>null</td><td>null</td><td>null</td><td>null</td><td>null</td><td>null</td><td>null</td><td>null</td><td>null</td><td>null</td><td>null</td><td>null</td><td>null</td><td>null</td><td>null</td><td>null</td><td>null</td><td>null</td><td>null</td><td>null</td><td>null</td><td>null</td><td>null</td><td>null</td><td>null</td><td>&hellip;</td><td>null</td><td>null</td><td>null</td><td>null</td><td>null</td><td>null</td><td>null</td><td>null</td><td>null</td><td>0.000877</td><td>null</td><td>null</td><td>null</td><td>null</td><td>null</td><td>null</td><td>null</td><td>null</td><td>null</td><td>null</td><td>null</td><td>null</td><td>null</td><td>null</td><td>null</td><td>null</td><td>null</td><td>null</td><td>null</td><td>null</td><td>7.4675e-8</td><td>null</td><td>9.8592</td><td>-1.386294</td><td>-9.627207</td><td>&quot;1986-04-30&quot;</td><td>-0.098592</td></tr><tr><td>10000</td><td>&quot;198605&quot;</td><td>null</td><td>null</td><td>null</td><td>null</td><td>null</td><td>null</td><td>null</td><td>null</td><td>null</td><td>null</td><td>null</td><td>null</td><td>null</td><td>null</td><td>null</td><td>null</td><td>null</td><td>null</td><td>null</td><td>null</td><td>null</td><td>null</td><td>null</td><td>null</td><td>null</td><td>null</td><td>null</td><td>null</td><td>null</td><td>null</td><td>null</td><td>null</td><td>null</td><td>null</td><td>null</td><td>&hellip;</td><td>null</td><td>null</td><td>null</td><td>null</td><td>null</td><td>null</td><td>null</td><td>null</td><td>null</td><td>0.008818</td><td>null</td><td>null</td><td>null</td><td>null</td><td>null</td><td>null</td><td>null</td><td>null</td><td>null</td><td>null</td><td>null</td><td>null</td><td>null</td><td>null</td><td>null</td><td>null</td><td>null</td><td>null</td><td>null</td><td>null</td><td>7.6496e-8</td><td>null</td><td>22.2656</td><td>-1.134423</td><td>-9.375336</td><td>&quot;1986-05-30&quot;</td><td>-0.222656</td></tr><tr><td>&hellip;</td><td>&hellip;</td><td>&hellip;</td><td>&hellip;</td><td>&hellip;</td><td>&hellip;</td><td>&hellip;</td><td>&hellip;</td><td>&hellip;</td><td>&hellip;</td><td>&hellip;</td><td>&hellip;</td><td>&hellip;</td><td>&hellip;</td><td>&hellip;</td><td>&hellip;</td><td>&hellip;</td><td>&hellip;</td><td>&hellip;</td><td>&hellip;</td><td>&hellip;</td><td>&hellip;</td><td>&hellip;</td><td>&hellip;</td><td>&hellip;</td><td>&hellip;</td><td>&hellip;</td><td>&hellip;</td><td>&hellip;</td><td>&hellip;</td><td>&hellip;</td><td>&hellip;</td><td>&hellip;</td><td>&hellip;</td><td>&hellip;</td><td>&hellip;</td><td>&hellip;</td><td>&hellip;</td><td>&hellip;</td><td>&hellip;</td><td>&hellip;</td><td>&hellip;</td><td>&hellip;</td><td>&hellip;</td><td>&hellip;</td><td>&hellip;</td><td>&hellip;</td><td>&hellip;</td><td>&hellip;</td><td>&hellip;</td><td>&hellip;</td><td>&hellip;</td><td>&hellip;</td><td>&hellip;</td><td>&hellip;</td><td>&hellip;</td><td>&hellip;</td><td>&hellip;</td><td>&hellip;</td><td>&hellip;</td><td>&hellip;</td><td>&hellip;</td><td>&hellip;</td><td>&hellip;</td><td>&hellip;</td><td>&hellip;</td><td>&hellip;</td><td>&hellip;</td><td>&hellip;</td><td>&hellip;</td><td>&hellip;</td><td>&hellip;</td><td>&hellip;</td><td>&hellip;</td><td>&hellip;</td></tr><tr><td>93433</td><td>&quot;201005&quot;</td><td>null</td><td>null</td><td>null</td><td>null</td><td>null</td><td>null</td><td>null</td><td>null</td><td>null</td><td>null</td><td>null</td><td>null</td><td>null</td><td>null</td><td>null</td><td>null</td><td>null</td><td>null</td><td>null</td><td>null</td><td>null</td><td>null</td><td>null</td><td>null</td><td>null</td><td>null</td><td>null</td><td>null</td><td>null</td><td>null</td><td>null</td><td>null</td><td>null</td><td>null</td><td>null</td><td>&hellip;</td><td>null</td><td>null</td><td>null</td><td>null</td><td>null</td><td>null</td><td>null</td><td>null</td><td>null</td><td>null</td><td>null</td><td>null</td><td>null</td><td>null</td><td>null</td><td>null</td><td>null</td><td>null</td><td>null</td><td>null</td><td>null</td><td>null</td><td>null</td><td>null</td><td>null</td><td>null</td><td>null</td><td>null</td><td>null</td><td>null</td><td>null</td><td>null</td><td>0.0</td><td>null</td><td>null</td><td>&quot;2010-05-28&quot;</td><td>null</td></tr><tr><td>93434</td><td>&quot;201005&quot;</td><td>null</td><td>null</td><td>null</td><td>null</td><td>null</td><td>null</td><td>null</td><td>null</td><td>null</td><td>null</td><td>null</td><td>null</td><td>null</td><td>null</td><td>null</td><td>null</td><td>null</td><td>null</td><td>null</td><td>null</td><td>null</td><td>null</td><td>null</td><td>null</td><td>null</td><td>null</td><td>null</td><td>null</td><td>null</td><td>null</td><td>null</td><td>null</td><td>null</td><td>null</td><td>null</td><td>&hellip;</td><td>null</td><td>null</td><td>null</td><td>null</td><td>null</td><td>null</td><td>null</td><td>null</td><td>null</td><td>null</td><td>null</td><td>null</td><td>null</td><td>null</td><td>null</td><td>null</td><td>null</td><td>null</td><td>null</td><td>null</td><td>null</td><td>null</td><td>null</td><td>null</td><td>null</td><td>null</td><td>null</td><td>null</td><td>null</td><td>null</td><td>null</td><td>null</td><td>0.0</td><td>null</td><td>null</td><td>&quot;2010-05-28&quot;</td><td>null</td></tr><tr><td>93434</td><td>&quot;202312&quot;</td><td>null</td><td>null</td><td>null</td><td>null</td><td>null</td><td>null</td><td>null</td><td>null</td><td>null</td><td>null</td><td>null</td><td>null</td><td>null</td><td>null</td><td>null</td><td>null</td><td>null</td><td>null</td><td>null</td><td>null</td><td>null</td><td>null</td><td>null</td><td>null</td><td>null</td><td>null</td><td>null</td><td>null</td><td>null</td><td>null</td><td>null</td><td>null</td><td>null</td><td>null</td><td>null</td><td>&hellip;</td><td>null</td><td>null</td><td>null</td><td>null</td><td>null</td><td>null</td><td>null</td><td>null</td><td>null</td><td>null</td><td>null</td><td>null</td><td>null</td><td>null</td><td>null</td><td>null</td><td>null</td><td>null</td><td>null</td><td>null</td><td>null</td><td>null</td><td>null</td><td>null</td><td>null</td><td>null</td><td>null</td><td>null</td><td>null</td><td>null</td><td>null</td><td>null</td><td>-6.5449</td><td>0.356675</td><td>-10.313187</td><td>&quot;2023-12-29&quot;</td><td>0.065449</td></tr><tr><td>93435</td><td>&quot;201005&quot;</td><td>null</td><td>null</td><td>null</td><td>null</td><td>null</td><td>null</td><td>null</td><td>null</td><td>null</td><td>null</td><td>null</td><td>null</td><td>null</td><td>null</td><td>null</td><td>null</td><td>null</td><td>null</td><td>null</td><td>null</td><td>null</td><td>null</td><td>null</td><td>null</td><td>null</td><td>null</td><td>null</td><td>null</td><td>null</td><td>null</td><td>null</td><td>null</td><td>null</td><td>null</td><td>null</td><td>&hellip;</td><td>null</td><td>null</td><td>null</td><td>null</td><td>null</td><td>null</td><td>null</td><td>null</td><td>null</td><td>null</td><td>null</td><td>null</td><td>null</td><td>null</td><td>null</td><td>null</td><td>null</td><td>null</td><td>null</td><td>null</td><td>null</td><td>null</td><td>null</td><td>null</td><td>null</td><td>null</td><td>null</td><td>null</td><td>null</td><td>null</td><td>null</td><td>null</td><td>0.0</td><td>null</td><td>null</td><td>&quot;2010-05-28&quot;</td><td>null</td></tr><tr><td>93436</td><td>&quot;201005&quot;</td><td>null</td><td>null</td><td>null</td><td>null</td><td>null</td><td>null</td><td>null</td><td>null</td><td>null</td><td>null</td><td>null</td><td>null</td><td>null</td><td>null</td><td>null</td><td>null</td><td>null</td><td>null</td><td>null</td><td>null</td><td>null</td><td>null</td><td>null</td><td>null</td><td>null</td><td>null</td><td>null</td><td>null</td><td>null</td><td>null</td><td>null</td><td>null</td><td>null</td><td>null</td><td>null</td><td>&hellip;</td><td>null</td><td>null</td><td>null</td><td>null</td><td>null</td><td>null</td><td>null</td><td>null</td><td>null</td><td>null</td><td>null</td><td>null</td><td>null</td><td>null</td><td>null</td><td>null</td><td>null</td><td>null</td><td>null</td><td>null</td><td>null</td><td>null</td><td>null</td><td>null</td><td>null</td><td>null</td><td>null</td><td>null</td><td>null</td><td>null</td><td>null</td><td>null</td><td>0.0</td><td>null</td><td>null</td><td>&quot;2010-05-28&quot;</td><td>null</td></tr></tbody></table></div>"
      ],
      "text/plain": [
       "shape: (3_487_273, 216)\n",
       "┌────────┬────────┬──────┬──────┬───┬───────────┬────────────┬────────────┬───────────┐\n",
       "│ permno ┆ yyyymm ┆ AM   ┆ AOP  ┆ … ┆ Price     ┆ Size       ┆ date       ┆ ret       │\n",
       "│ ---    ┆ ---    ┆ ---  ┆ ---  ┆   ┆ ---       ┆ ---        ┆ ---        ┆ ---       │\n",
       "│ i64    ┆ str    ┆ f64  ┆ f64  ┆   ┆ f64       ┆ f64        ┆ str        ┆ f64       │\n",
       "╞════════╪════════╪══════╪══════╪═══╪═══════════╪════════════╪════════════╪═══════════╡\n",
       "│ 10000  ┆ 198601 ┆ null ┆ null ┆ … ┆ -1.475907 ┆ -9.686575  ┆ 1986-01-31 ┆ null      │\n",
       "│ 10000  ┆ 198602 ┆ null ┆ null ┆ … ┆ -1.178655 ┆ -9.389323  ┆ 1986-02-28 ┆ -0.257143 │\n",
       "│ 10000  ┆ 198603 ┆ null ┆ null ┆ … ┆ -1.490091 ┆ -9.700759  ┆ 1986-03-31 ┆ 0.365385  │\n",
       "│ 10000  ┆ 198604 ┆ null ┆ null ┆ … ┆ -1.386294 ┆ -9.627207  ┆ 1986-04-30 ┆ -0.098592 │\n",
       "│ 10000  ┆ 198605 ┆ null ┆ null ┆ … ┆ -1.134423 ┆ -9.375336  ┆ 1986-05-30 ┆ -0.222656 │\n",
       "│ …      ┆ …      ┆ …    ┆ …    ┆ … ┆ …         ┆ …          ┆ …          ┆ …         │\n",
       "│ 93433  ┆ 201005 ┆ null ┆ null ┆ … ┆ null      ┆ null       ┆ 2010-05-28 ┆ null      │\n",
       "│ 93434  ┆ 201005 ┆ null ┆ null ┆ … ┆ null      ┆ null       ┆ 2010-05-28 ┆ null      │\n",
       "│ 93434  ┆ 202312 ┆ null ┆ null ┆ … ┆ 0.356675  ┆ -10.313187 ┆ 2023-12-29 ┆ 0.065449  │\n",
       "│ 93435  ┆ 201005 ┆ null ┆ null ┆ … ┆ null      ┆ null       ┆ 2010-05-28 ┆ null      │\n",
       "│ 93436  ┆ 201005 ┆ null ┆ null ┆ … ┆ null      ┆ null       ┆ 2010-05-28 ┆ null      │\n",
       "└────────┴────────┴──────┴──────┴───┴───────────┴────────────┴────────────┴───────────┘"
      ]
     },
     "execution_count": 3,
     "metadata": {},
     "output_type": "execute_result"
    }
   ],
   "source": [
    "# Peek at data\n",
    "full_data"
   ]
  },
  {
   "cell_type": "code",
   "execution_count": 4,
   "metadata": {},
   "outputs": [
    {
     "data": {
      "text/html": [
       "<div><style>\n",
       ".dataframe > thead > tr,\n",
       ".dataframe > tbody > tr {\n",
       "  text-align: right;\n",
       "  white-space: pre-wrap;\n",
       "}\n",
       "</style>\n",
       "<small>shape: (1, 216)</small><table border=\"1\" class=\"dataframe\"><thead><tr><th>permno</th><th>yyyymm</th><th>AM</th><th>AOP</th><th>AbnormalAccruals</th><th>Accruals</th><th>AccrualsBM</th><th>Activism1</th><th>Activism2</th><th>AdExp</th><th>AgeIPO</th><th>AnalystRevision</th><th>AnalystValue</th><th>AnnouncementReturn</th><th>AssetGrowth</th><th>BM</th><th>BMdec</th><th>BPEBM</th><th>Beta</th><th>BetaFP</th><th>BetaLiquidityPS</th><th>BetaTailRisk</th><th>BidAskSpread</th><th>BookLeverage</th><th>BrandInvest</th><th>CBOperProf</th><th>CF</th><th>CPVolSpread</th><th>Cash</th><th>CashProd</th><th>ChAssetTurnover</th><th>ChEQ</th><th>ChForecastAccrual</th><th>ChInv</th><th>ChInvIA</th><th>ChNAnalyst</th><th>ChNNCOA</th><th>&hellip;</th><th>Tax</th><th>TotalAccruals</th><th>TrendFactor</th><th>UpRecomm</th><th>VarCF</th><th>VolMkt</th><th>VolSD</th><th>VolumeTrend</th><th>XFIN</th><th>betaVIX</th><th>cfp</th><th>dCPVolSpread</th><th>dNoa</th><th>dVolCall</th><th>dVolPut</th><th>fgr5yrLag</th><th>grcapx</th><th>grcapx3y</th><th>hire</th><th>iomom_cust</th><th>iomom_supp</th><th>realestate</th><th>retConglomerate</th><th>roaq</th><th>sfe</th><th>sinAlgo</th><th>skew1</th><th>std_turn</th><th>tang</th><th>zerotrade</th><th>zerotradeAlt1</th><th>zerotradeAlt12</th><th>STreversal</th><th>Price</th><th>Size</th><th>date</th><th>ret</th></tr><tr><td>u32</td><td>u32</td><td>u32</td><td>u32</td><td>u32</td><td>u32</td><td>u32</td><td>u32</td><td>u32</td><td>u32</td><td>u32</td><td>u32</td><td>u32</td><td>u32</td><td>u32</td><td>u32</td><td>u32</td><td>u32</td><td>u32</td><td>u32</td><td>u32</td><td>u32</td><td>u32</td><td>u32</td><td>u32</td><td>u32</td><td>u32</td><td>u32</td><td>u32</td><td>u32</td><td>u32</td><td>u32</td><td>u32</td><td>u32</td><td>u32</td><td>u32</td><td>u32</td><td>&hellip;</td><td>u32</td><td>u32</td><td>u32</td><td>u32</td><td>u32</td><td>u32</td><td>u32</td><td>u32</td><td>u32</td><td>u32</td><td>u32</td><td>u32</td><td>u32</td><td>u32</td><td>u32</td><td>u32</td><td>u32</td><td>u32</td><td>u32</td><td>u32</td><td>u32</td><td>u32</td><td>u32</td><td>u32</td><td>u32</td><td>u32</td><td>u32</td><td>u32</td><td>u32</td><td>u32</td><td>u32</td><td>u32</td><td>u32</td><td>u32</td><td>u32</td><td>u32</td><td>u32</td></tr></thead><tbody><tr><td>0</td><td>0</td><td>1373556</td><td>2442675</td><td>1564337</td><td>1264573</td><td>3332414</td><td>3378542</td><td>3457103</td><td>2731797</td><td>3194692</td><td>1879470</td><td>2442675</td><td>1134594</td><td>1254031</td><td>1624757</td><td>1334089</td><td>1387569</td><td>666077</td><td>986042</td><td>988830</td><td>2080923</td><td>326946</td><td>1038824</td><td>3154180</td><td>1919110</td><td>1373556</td><td>2821927</td><td>1780683</td><td>1389489</td><td>1834666</td><td>1356206</td><td>2970493</td><td>1253989</td><td>1616836</td><td>3331035</td><td>1271991</td><td>&hellip;</td><td>1317559</td><td>1376996</td><td>2313046</td><td>3043760</td><td>1695464</td><td>437438</td><td>733847</td><td>922172</td><td>1313412</td><td>345432</td><td>1513287</td><td>2689323</td><td>1255987</td><td>2689323</td><td>2689323</td><td>2700697</td><td>1780924</td><td>1919576</td><td>1075377</td><td>1920323</td><td>1919371</td><td>2437845</td><td>2840946</td><td>1481410</td><td>2987944</td><td>3363441</td><td>3029065</td><td>1924475</td><td>2538756</td><td>331339</td><td>216923</td><td>512011</td><td>0</td><td>92818</td><td>92818</td><td>0</td><td>119315</td></tr></tbody></table></div>"
      ],
      "text/plain": [
       "shape: (1, 216)\n",
       "┌────────┬────────┬─────────┬─────────┬───┬───────┬───────┬──────┬────────┐\n",
       "│ permno ┆ yyyymm ┆ AM      ┆ AOP     ┆ … ┆ Price ┆ Size  ┆ date ┆ ret    │\n",
       "│ ---    ┆ ---    ┆ ---     ┆ ---     ┆   ┆ ---   ┆ ---   ┆ ---  ┆ ---    │\n",
       "│ u32    ┆ u32    ┆ u32     ┆ u32     ┆   ┆ u32   ┆ u32   ┆ u32  ┆ u32    │\n",
       "╞════════╪════════╪═════════╪═════════╪═══╪═══════╪═══════╪══════╪════════╡\n",
       "│ 0      ┆ 0      ┆ 1373556 ┆ 2442675 ┆ … ┆ 92818 ┆ 92818 ┆ 0    ┆ 119315 │\n",
       "└────────┴────────┴─────────┴─────────┴───┴───────┴───────┴──────┴────────┘"
      ]
     },
     "execution_count": 4,
     "metadata": {},
     "output_type": "execute_result"
    }
   ],
   "source": [
    "# Get number of nulls in each column\n",
    "full_data.null_count()"
   ]
  },
  {
   "cell_type": "code",
   "execution_count": 5,
   "metadata": {},
   "outputs": [
    {
     "data": {
      "text/html": [
       "<div><style>\n",
       ".dataframe > thead > tr,\n",
       ".dataframe > tbody > tr {\n",
       "  text-align: right;\n",
       "  white-space: pre-wrap;\n",
       "}\n",
       "</style>\n",
       "<small>shape: (1, 216)</small><table border=\"1\" class=\"dataframe\"><thead><tr><th>permno</th><th>yyyymm</th><th>AM</th><th>AOP</th><th>AbnormalAccruals</th><th>Accruals</th><th>AccrualsBM</th><th>Activism1</th><th>Activism2</th><th>AdExp</th><th>AgeIPO</th><th>AnalystRevision</th><th>AnalystValue</th><th>AnnouncementReturn</th><th>AssetGrowth</th><th>BM</th><th>BMdec</th><th>BPEBM</th><th>Beta</th><th>BetaFP</th><th>BetaLiquidityPS</th><th>BetaTailRisk</th><th>BidAskSpread</th><th>BookLeverage</th><th>BrandInvest</th><th>CBOperProf</th><th>CF</th><th>CPVolSpread</th><th>Cash</th><th>CashProd</th><th>ChAssetTurnover</th><th>ChEQ</th><th>ChForecastAccrual</th><th>ChInv</th><th>ChInvIA</th><th>ChNAnalyst</th><th>ChNNCOA</th><th>&hellip;</th><th>Tax</th><th>TotalAccruals</th><th>TrendFactor</th><th>UpRecomm</th><th>VarCF</th><th>VolMkt</th><th>VolSD</th><th>VolumeTrend</th><th>XFIN</th><th>betaVIX</th><th>cfp</th><th>dCPVolSpread</th><th>dNoa</th><th>dVolCall</th><th>dVolPut</th><th>fgr5yrLag</th><th>grcapx</th><th>grcapx3y</th><th>hire</th><th>iomom_cust</th><th>iomom_supp</th><th>realestate</th><th>retConglomerate</th><th>roaq</th><th>sfe</th><th>sinAlgo</th><th>skew1</th><th>std_turn</th><th>tang</th><th>zerotrade</th><th>zerotradeAlt1</th><th>zerotradeAlt12</th><th>STreversal</th><th>Price</th><th>Size</th><th>date</th><th>ret</th></tr><tr><td>f64</td><td>f64</td><td>f64</td><td>f64</td><td>f64</td><td>f64</td><td>f64</td><td>f64</td><td>f64</td><td>f64</td><td>f64</td><td>f64</td><td>f64</td><td>f64</td><td>f64</td><td>f64</td><td>f64</td><td>f64</td><td>f64</td><td>f64</td><td>f64</td><td>f64</td><td>f64</td><td>f64</td><td>f64</td><td>f64</td><td>f64</td><td>f64</td><td>f64</td><td>f64</td><td>f64</td><td>f64</td><td>f64</td><td>f64</td><td>f64</td><td>f64</td><td>f64</td><td>&hellip;</td><td>f64</td><td>f64</td><td>f64</td><td>f64</td><td>f64</td><td>f64</td><td>f64</td><td>f64</td><td>f64</td><td>f64</td><td>f64</td><td>f64</td><td>f64</td><td>f64</td><td>f64</td><td>f64</td><td>f64</td><td>f64</td><td>f64</td><td>f64</td><td>f64</td><td>f64</td><td>f64</td><td>f64</td><td>f64</td><td>f64</td><td>f64</td><td>f64</td><td>f64</td><td>f64</td><td>f64</td><td>f64</td><td>f64</td><td>f64</td><td>f64</td><td>f64</td><td>f64</td></tr></thead><tbody><tr><td>1.0</td><td>1.0</td><td>0.606123</td><td>0.299546</td><td>0.551415</td><td>0.637375</td><td>0.044407</td><td>0.031179</td><td>0.008651</td><td>0.216638</td><td>0.0839</td><td>0.461049</td><td>0.299546</td><td>0.674647</td><td>0.640398</td><td>0.53409</td><td>0.617441</td><td>0.602105</td><td>0.808998</td><td>0.717246</td><td>0.716446</td><td>0.403281</td><td>0.906246</td><td>0.70211</td><td>0.095517</td><td>0.449682</td><td>0.606123</td><td>0.190793</td><td>0.489377</td><td>0.601554</td><td>0.473897</td><td>0.611098</td><td>0.14819</td><td>0.64041</td><td>0.536361</td><td>0.044802</td><td>0.635248</td><td>&hellip;</td><td>0.622181</td><td>0.605137</td><td>0.336718</td><td>0.12718</td><td>0.513814</td><td>0.874562</td><td>0.789564</td><td>0.735561</td><td>0.62337</td><td>0.900945</td><td>0.566054</td><td>0.228818</td><td>0.639837</td><td>0.228818</td><td>0.228818</td><td>0.225556</td><td>0.489308</td><td>0.449548</td><td>0.691628</td><td>0.449334</td><td>0.449607</td><td>0.300931</td><td>0.185339</td><td>0.575195</td><td>0.143186</td><td>0.03551</td><td>0.131394</td><td>0.448143</td><td>0.271994</td><td>0.904986</td><td>0.937796</td><td>0.853177</td><td>1.0</td><td>0.973384</td><td>0.973384</td><td>1.0</td><td>0.965786</td></tr></tbody></table></div>"
      ],
      "text/plain": [
       "shape: (1, 216)\n",
       "┌────────┬────────┬──────────┬──────────┬───┬──────────┬──────────┬──────┬──────────┐\n",
       "│ permno ┆ yyyymm ┆ AM       ┆ AOP      ┆ … ┆ Price    ┆ Size     ┆ date ┆ ret      │\n",
       "│ ---    ┆ ---    ┆ ---      ┆ ---      ┆   ┆ ---      ┆ ---      ┆ ---  ┆ ---      │\n",
       "│ f64    ┆ f64    ┆ f64      ┆ f64      ┆   ┆ f64      ┆ f64      ┆ f64  ┆ f64      │\n",
       "╞════════╪════════╪══════════╪══════════╪═══╪══════════╪══════════╪══════╪══════════╡\n",
       "│ 1.0    ┆ 1.0    ┆ 0.606123 ┆ 0.299546 ┆ … ┆ 0.973384 ┆ 0.973384 ┆ 1.0  ┆ 0.965786 │\n",
       "└────────┴────────┴──────────┴──────────┴───┴──────────┴──────────┴──────┴──────────┘"
      ]
     },
     "execution_count": 5,
     "metadata": {},
     "output_type": "execute_result"
    }
   ],
   "source": [
    "# Get percentage of non-null elements in each column\n",
    "full_data.count() / len(full_data)"
   ]
  },
  {
   "cell_type": "markdown",
   "metadata": {},
   "source": [
    "## 2. Cleaning of nulls\n",
    "\n",
    "Removing columns with a high number of nulls."
   ]
  },
  {
   "cell_type": "code",
   "execution_count": 6,
   "metadata": {},
   "outputs": [],
   "source": [
    "def drop_high_null_columns(data: pl.DataFrame, /, *, null_threshold: float) -> pl.DataFrame:\n",
    "    \"\"\"Function that returns a new dataframe where columns exceeding a certain percentage of nulls are dropped.\n",
    "    The function is out-of-place and does not modify the original data.\n",
    "\n",
    "    :param data: The dataframe to analyze.\n",
    "    :param null_threshold: The threshold of nulls to use, columns with a higher percentage will be dropped in the result.\n",
    "    :return: The dataframe with high-nulls columns dropped.\n",
    "    \"\"\"\n",
    "    if null_threshold < 0.0 or null_threshold > 1.0:\n",
    "        raise ValueError(\"Null threshold should be between 0 and 1\")\n",
    "    missing_percentage = data.select(pl.all().is_null().mean()).to_pandas().iloc[0]\n",
    "    columns_to_drop = missing_percentage[missing_percentage > null_threshold].index\n",
    "    return data.drop(columns_to_drop)"
   ]
  },
  {
   "cell_type": "code",
   "execution_count": 7,
   "metadata": {},
   "outputs": [],
   "source": [
    "# Drop columns with over 50% of nulls\n",
    "full_data = drop_high_null_columns(full_data, null_threshold=0.5)"
   ]
  },
  {
   "cell_type": "code",
   "execution_count": 8,
   "metadata": {},
   "outputs": [
    {
     "data": {
      "text/html": [
       "<div><style>\n",
       ".dataframe > thead > tr,\n",
       ".dataframe > tbody > tr {\n",
       "  text-align: right;\n",
       "  white-space: pre-wrap;\n",
       "}\n",
       "</style>\n",
       "<small>shape: (3_487_273, 107)</small><table border=\"1\" class=\"dataframe\"><thead><tr><th>permno</th><th>yyyymm</th><th>AM</th><th>AbnormalAccruals</th><th>Accruals</th><th>AnnouncementReturn</th><th>AssetGrowth</th><th>BM</th><th>BMdec</th><th>BPEBM</th><th>Beta</th><th>BetaFP</th><th>BetaLiquidityPS</th><th>BidAskSpread</th><th>BookLeverage</th><th>CF</th><th>CashProd</th><th>ChEQ</th><th>ChInv</th><th>ChInvIA</th><th>ChNNCOA</th><th>ChNWC</th><th>ChTax</th><th>ConvDebt</th><th>CoskewACX</th><th>Coskewness</th><th>CredRatDG</th><th>DebtIssuance</th><th>DelCOA</th><th>DelCOL</th><th>DelEqu</th><th>DelFINL</th><th>DelLTI</th><th>DelNetFin</th><th>DivInit</th><th>DivOmit</th><th>DolVol</th><th>&hellip;</th><th>OPLeverage</th><th>PctAcc</th><th>PctTotAcc</th><th>PriceDelayRsq</th><th>PriceDelaySlope</th><th>PriceDelayTstat</th><th>RDIPO</th><th>RDS</th><th>RealizedVol</th><th>ResidualMomentum</th><th>ReturnSkew</th><th>ReturnSkew3F</th><th>RoE</th><th>SP</th><th>ShareIss1Y</th><th>ShareRepurchase</th><th>Spinoff</th><th>Tax</th><th>TotalAccruals</th><th>VarCF</th><th>VolMkt</th><th>VolSD</th><th>VolumeTrend</th><th>XFIN</th><th>betaVIX</th><th>cfp</th><th>dNoa</th><th>hire</th><th>roaq</th><th>zerotrade</th><th>zerotradeAlt1</th><th>zerotradeAlt12</th><th>STreversal</th><th>Price</th><th>Size</th><th>date</th><th>ret</th></tr><tr><td>i64</td><td>str</td><td>f64</td><td>f64</td><td>f64</td><td>f64</td><td>f64</td><td>f64</td><td>f64</td><td>f64</td><td>f64</td><td>f64</td><td>f64</td><td>f64</td><td>f64</td><td>f64</td><td>f64</td><td>f64</td><td>f64</td><td>f64</td><td>f64</td><td>f64</td><td>f64</td><td>f64</td><td>f64</td><td>f64</td><td>f64</td><td>f64</td><td>f64</td><td>f64</td><td>f64</td><td>f64</td><td>f64</td><td>f64</td><td>f64</td><td>f64</td><td>f64</td><td>&hellip;</td><td>f64</td><td>f64</td><td>f64</td><td>f64</td><td>f64</td><td>f64</td><td>f64</td><td>f64</td><td>f64</td><td>f64</td><td>f64</td><td>f64</td><td>f64</td><td>f64</td><td>f64</td><td>f64</td><td>f64</td><td>f64</td><td>f64</td><td>f64</td><td>f64</td><td>f64</td><td>f64</td><td>f64</td><td>f64</td><td>f64</td><td>f64</td><td>f64</td><td>f64</td><td>f64</td><td>f64</td><td>f64</td><td>f64</td><td>f64</td><td>f64</td><td>str</td><td>f64</td></tr></thead><tbody><tr><td>10000</td><td>&quot;198601&quot;</td><td>null</td><td>null</td><td>null</td><td>null</td><td>null</td><td>null</td><td>null</td><td>null</td><td>null</td><td>null</td><td>null</td><td>null</td><td>null</td><td>null</td><td>null</td><td>null</td><td>null</td><td>null</td><td>null</td><td>null</td><td>null</td><td>null</td><td>null</td><td>null</td><td>null</td><td>null</td><td>null</td><td>null</td><td>null</td><td>null</td><td>null</td><td>null</td><td>0.0</td><td>0.0</td><td>null</td><td>&hellip;</td><td>null</td><td>null</td><td>null</td><td>null</td><td>null</td><td>null</td><td>null</td><td>null</td><td>-0.065278</td><td>null</td><td>-2.23832</td><td>-2.103353</td><td>null</td><td>null</td><td>null</td><td>null</td><td>0.0</td><td>null</td><td>null</td><td>null</td><td>null</td><td>null</td><td>null</td><td>null</td><td>-0.005234</td><td>null</td><td>null</td><td>null</td><td>null</td><td>null</td><td>null</td><td>null</td><td>0.0</td><td>-1.475907</td><td>-9.686575</td><td>&quot;1986-01-31&quot;</td><td>null</td></tr><tr><td>10000</td><td>&quot;198602&quot;</td><td>null</td><td>null</td><td>null</td><td>null</td><td>null</td><td>null</td><td>null</td><td>null</td><td>null</td><td>null</td><td>null</td><td>null</td><td>null</td><td>null</td><td>null</td><td>null</td><td>null</td><td>null</td><td>null</td><td>null</td><td>null</td><td>null</td><td>null</td><td>null</td><td>null</td><td>null</td><td>null</td><td>null</td><td>null</td><td>null</td><td>null</td><td>null</td><td>0.0</td><td>0.0</td><td>null</td><td>&hellip;</td><td>null</td><td>null</td><td>null</td><td>null</td><td>null</td><td>null</td><td>null</td><td>null</td><td>-0.031004</td><td>null</td><td>0.729555</td><td>0.810187</td><td>null</td><td>null</td><td>null</td><td>null</td><td>0.0</td><td>null</td><td>null</td><td>null</td><td>null</td><td>null</td><td>null</td><td>null</td><td>-0.003488</td><td>null</td><td>null</td><td>null</td><td>null</td><td>null</td><td>4.7852e-8</td><td>null</td><td>25.7143</td><td>-1.178655</td><td>-9.389323</td><td>&quot;1986-02-28&quot;</td><td>-0.257143</td></tr><tr><td>10000</td><td>&quot;198603&quot;</td><td>null</td><td>null</td><td>null</td><td>null</td><td>null</td><td>null</td><td>null</td><td>null</td><td>null</td><td>null</td><td>null</td><td>null</td><td>null</td><td>null</td><td>null</td><td>null</td><td>null</td><td>null</td><td>null</td><td>null</td><td>null</td><td>null</td><td>null</td><td>null</td><td>null</td><td>null</td><td>null</td><td>null</td><td>null</td><td>null</td><td>null</td><td>null</td><td>0.0</td><td>0.0</td><td>0.255134</td><td>&hellip;</td><td>null</td><td>null</td><td>null</td><td>null</td><td>null</td><td>null</td><td>null</td><td>null</td><td>-0.044548</td><td>null</td><td>-1.6879</td><td>-1.038325</td><td>null</td><td>null</td><td>null</td><td>null</td><td>0.0</td><td>null</td><td>null</td><td>null</td><td>null</td><td>null</td><td>null</td><td>null</td><td>-0.002715</td><td>null</td><td>null</td><td>null</td><td>null</td><td>null</td><td>1.0234e-7</td><td>null</td><td>-36.5385</td><td>-1.490091</td><td>-9.700759</td><td>&quot;1986-03-31&quot;</td><td>0.365385</td></tr><tr><td>10000</td><td>&quot;198604&quot;</td><td>null</td><td>null</td><td>null</td><td>null</td><td>null</td><td>null</td><td>null</td><td>null</td><td>null</td><td>null</td><td>null</td><td>null</td><td>null</td><td>null</td><td>null</td><td>null</td><td>null</td><td>null</td><td>null</td><td>null</td><td>null</td><td>null</td><td>null</td><td>null</td><td>null</td><td>null</td><td>null</td><td>null</td><td>null</td><td>null</td><td>null</td><td>null</td><td>0.0</td><td>0.0</td><td>1.3126723</td><td>&hellip;</td><td>null</td><td>null</td><td>null</td><td>null</td><td>null</td><td>null</td><td>null</td><td>null</td><td>-0.011246</td><td>null</td><td>0.276167</td><td>0.068097</td><td>null</td><td>null</td><td>null</td><td>null</td><td>0.0</td><td>null</td><td>null</td><td>null</td><td>null</td><td>null</td><td>null</td><td>null</td><td>0.000877</td><td>null</td><td>null</td><td>null</td><td>null</td><td>null</td><td>7.4675e-8</td><td>null</td><td>9.8592</td><td>-1.386294</td><td>-9.627207</td><td>&quot;1986-04-30&quot;</td><td>-0.098592</td></tr><tr><td>10000</td><td>&quot;198605&quot;</td><td>null</td><td>null</td><td>null</td><td>null</td><td>null</td><td>null</td><td>null</td><td>null</td><td>null</td><td>null</td><td>null</td><td>null</td><td>null</td><td>null</td><td>null</td><td>null</td><td>null</td><td>null</td><td>null</td><td>null</td><td>null</td><td>null</td><td>null</td><td>null</td><td>null</td><td>null</td><td>null</td><td>null</td><td>null</td><td>null</td><td>null</td><td>null</td><td>0.0</td><td>0.0</td><td>0.737386</td><td>&hellip;</td><td>null</td><td>null</td><td>null</td><td>null</td><td>null</td><td>null</td><td>null</td><td>null</td><td>-0.038863</td><td>null</td><td>-1.289032</td><td>-0.738724</td><td>null</td><td>null</td><td>null</td><td>null</td><td>0.0</td><td>null</td><td>null</td><td>null</td><td>null</td><td>null</td><td>null</td><td>null</td><td>0.008818</td><td>null</td><td>null</td><td>null</td><td>null</td><td>null</td><td>7.6496e-8</td><td>null</td><td>22.2656</td><td>-1.134423</td><td>-9.375336</td><td>&quot;1986-05-30&quot;</td><td>-0.222656</td></tr><tr><td>&hellip;</td><td>&hellip;</td><td>&hellip;</td><td>&hellip;</td><td>&hellip;</td><td>&hellip;</td><td>&hellip;</td><td>&hellip;</td><td>&hellip;</td><td>&hellip;</td><td>&hellip;</td><td>&hellip;</td><td>&hellip;</td><td>&hellip;</td><td>&hellip;</td><td>&hellip;</td><td>&hellip;</td><td>&hellip;</td><td>&hellip;</td><td>&hellip;</td><td>&hellip;</td><td>&hellip;</td><td>&hellip;</td><td>&hellip;</td><td>&hellip;</td><td>&hellip;</td><td>&hellip;</td><td>&hellip;</td><td>&hellip;</td><td>&hellip;</td><td>&hellip;</td><td>&hellip;</td><td>&hellip;</td><td>&hellip;</td><td>&hellip;</td><td>&hellip;</td><td>&hellip;</td><td>&hellip;</td><td>&hellip;</td><td>&hellip;</td><td>&hellip;</td><td>&hellip;</td><td>&hellip;</td><td>&hellip;</td><td>&hellip;</td><td>&hellip;</td><td>&hellip;</td><td>&hellip;</td><td>&hellip;</td><td>&hellip;</td><td>&hellip;</td><td>&hellip;</td><td>&hellip;</td><td>&hellip;</td><td>&hellip;</td><td>&hellip;</td><td>&hellip;</td><td>&hellip;</td><td>&hellip;</td><td>&hellip;</td><td>&hellip;</td><td>&hellip;</td><td>&hellip;</td><td>&hellip;</td><td>&hellip;</td><td>&hellip;</td><td>&hellip;</td><td>&hellip;</td><td>&hellip;</td><td>&hellip;</td><td>&hellip;</td><td>&hellip;</td><td>&hellip;</td><td>&hellip;</td><td>&hellip;</td></tr><tr><td>93433</td><td>&quot;201005&quot;</td><td>null</td><td>null</td><td>null</td><td>null</td><td>null</td><td>null</td><td>null</td><td>null</td><td>null</td><td>null</td><td>null</td><td>null</td><td>null</td><td>null</td><td>null</td><td>null</td><td>null</td><td>null</td><td>null</td><td>null</td><td>null</td><td>null</td><td>null</td><td>null</td><td>null</td><td>null</td><td>null</td><td>null</td><td>null</td><td>null</td><td>null</td><td>null</td><td>null</td><td>null</td><td>null</td><td>&hellip;</td><td>null</td><td>null</td><td>null</td><td>null</td><td>null</td><td>null</td><td>null</td><td>null</td><td>null</td><td>null</td><td>null</td><td>null</td><td>null</td><td>null</td><td>null</td><td>null</td><td>null</td><td>null</td><td>null</td><td>null</td><td>null</td><td>null</td><td>null</td><td>null</td><td>null</td><td>null</td><td>null</td><td>null</td><td>null</td><td>null</td><td>null</td><td>null</td><td>0.0</td><td>null</td><td>null</td><td>&quot;2010-05-28&quot;</td><td>null</td></tr><tr><td>93434</td><td>&quot;201005&quot;</td><td>null</td><td>null</td><td>null</td><td>null</td><td>null</td><td>null</td><td>null</td><td>null</td><td>null</td><td>null</td><td>null</td><td>null</td><td>null</td><td>null</td><td>null</td><td>null</td><td>null</td><td>null</td><td>null</td><td>null</td><td>null</td><td>null</td><td>null</td><td>null</td><td>null</td><td>null</td><td>null</td><td>null</td><td>null</td><td>null</td><td>null</td><td>null</td><td>null</td><td>null</td><td>null</td><td>&hellip;</td><td>null</td><td>null</td><td>null</td><td>null</td><td>null</td><td>null</td><td>null</td><td>null</td><td>null</td><td>null</td><td>null</td><td>null</td><td>null</td><td>null</td><td>null</td><td>null</td><td>null</td><td>null</td><td>null</td><td>null</td><td>null</td><td>null</td><td>null</td><td>null</td><td>null</td><td>null</td><td>null</td><td>null</td><td>null</td><td>null</td><td>null</td><td>null</td><td>0.0</td><td>null</td><td>null</td><td>&quot;2010-05-28&quot;</td><td>null</td></tr><tr><td>93434</td><td>&quot;202312&quot;</td><td>null</td><td>null</td><td>null</td><td>null</td><td>null</td><td>null</td><td>null</td><td>null</td><td>null</td><td>null</td><td>null</td><td>null</td><td>null</td><td>null</td><td>null</td><td>null</td><td>null</td><td>null</td><td>null</td><td>null</td><td>null</td><td>null</td><td>null</td><td>null</td><td>null</td><td>null</td><td>null</td><td>null</td><td>null</td><td>null</td><td>null</td><td>null</td><td>null</td><td>null</td><td>null</td><td>&hellip;</td><td>null</td><td>null</td><td>null</td><td>null</td><td>null</td><td>null</td><td>null</td><td>null</td><td>null</td><td>null</td><td>null</td><td>null</td><td>null</td><td>null</td><td>null</td><td>null</td><td>null</td><td>null</td><td>null</td><td>null</td><td>null</td><td>null</td><td>null</td><td>null</td><td>null</td><td>null</td><td>null</td><td>null</td><td>null</td><td>null</td><td>null</td><td>null</td><td>-6.5449</td><td>0.356675</td><td>-10.313187</td><td>&quot;2023-12-29&quot;</td><td>0.065449</td></tr><tr><td>93435</td><td>&quot;201005&quot;</td><td>null</td><td>null</td><td>null</td><td>null</td><td>null</td><td>null</td><td>null</td><td>null</td><td>null</td><td>null</td><td>null</td><td>null</td><td>null</td><td>null</td><td>null</td><td>null</td><td>null</td><td>null</td><td>null</td><td>null</td><td>null</td><td>null</td><td>null</td><td>null</td><td>null</td><td>null</td><td>null</td><td>null</td><td>null</td><td>null</td><td>null</td><td>null</td><td>null</td><td>null</td><td>null</td><td>&hellip;</td><td>null</td><td>null</td><td>null</td><td>null</td><td>null</td><td>null</td><td>null</td><td>null</td><td>null</td><td>null</td><td>null</td><td>null</td><td>null</td><td>null</td><td>null</td><td>null</td><td>null</td><td>null</td><td>null</td><td>null</td><td>null</td><td>null</td><td>null</td><td>null</td><td>null</td><td>null</td><td>null</td><td>null</td><td>null</td><td>null</td><td>null</td><td>null</td><td>0.0</td><td>null</td><td>null</td><td>&quot;2010-05-28&quot;</td><td>null</td></tr><tr><td>93436</td><td>&quot;201005&quot;</td><td>null</td><td>null</td><td>null</td><td>null</td><td>null</td><td>null</td><td>null</td><td>null</td><td>null</td><td>null</td><td>null</td><td>null</td><td>null</td><td>null</td><td>null</td><td>null</td><td>null</td><td>null</td><td>null</td><td>null</td><td>null</td><td>null</td><td>null</td><td>null</td><td>null</td><td>null</td><td>null</td><td>null</td><td>null</td><td>null</td><td>null</td><td>null</td><td>null</td><td>null</td><td>null</td><td>&hellip;</td><td>null</td><td>null</td><td>null</td><td>null</td><td>null</td><td>null</td><td>null</td><td>null</td><td>null</td><td>null</td><td>null</td><td>null</td><td>null</td><td>null</td><td>null</td><td>null</td><td>null</td><td>null</td><td>null</td><td>null</td><td>null</td><td>null</td><td>null</td><td>null</td><td>null</td><td>null</td><td>null</td><td>null</td><td>null</td><td>null</td><td>null</td><td>null</td><td>0.0</td><td>null</td><td>null</td><td>&quot;2010-05-28&quot;</td><td>null</td></tr></tbody></table></div>"
      ],
      "text/plain": [
       "shape: (3_487_273, 107)\n",
       "┌────────┬────────┬──────┬──────────────────┬───┬───────────┬────────────┬────────────┬───────────┐\n",
       "│ permno ┆ yyyymm ┆ AM   ┆ AbnormalAccruals ┆ … ┆ Price     ┆ Size       ┆ date       ┆ ret       │\n",
       "│ ---    ┆ ---    ┆ ---  ┆ ---              ┆   ┆ ---       ┆ ---        ┆ ---        ┆ ---       │\n",
       "│ i64    ┆ str    ┆ f64  ┆ f64              ┆   ┆ f64       ┆ f64        ┆ str        ┆ f64       │\n",
       "╞════════╪════════╪══════╪══════════════════╪═══╪═══════════╪════════════╪════════════╪═══════════╡\n",
       "│ 10000  ┆ 198601 ┆ null ┆ null             ┆ … ┆ -1.475907 ┆ -9.686575  ┆ 1986-01-31 ┆ null      │\n",
       "│ 10000  ┆ 198602 ┆ null ┆ null             ┆ … ┆ -1.178655 ┆ -9.389323  ┆ 1986-02-28 ┆ -0.257143 │\n",
       "│ 10000  ┆ 198603 ┆ null ┆ null             ┆ … ┆ -1.490091 ┆ -9.700759  ┆ 1986-03-31 ┆ 0.365385  │\n",
       "│ 10000  ┆ 198604 ┆ null ┆ null             ┆ … ┆ -1.386294 ┆ -9.627207  ┆ 1986-04-30 ┆ -0.098592 │\n",
       "│ 10000  ┆ 198605 ┆ null ┆ null             ┆ … ┆ -1.134423 ┆ -9.375336  ┆ 1986-05-30 ┆ -0.222656 │\n",
       "│ …      ┆ …      ┆ …    ┆ …                ┆ … ┆ …         ┆ …          ┆ …          ┆ …         │\n",
       "│ 93433  ┆ 201005 ┆ null ┆ null             ┆ … ┆ null      ┆ null       ┆ 2010-05-28 ┆ null      │\n",
       "│ 93434  ┆ 201005 ┆ null ┆ null             ┆ … ┆ null      ┆ null       ┆ 2010-05-28 ┆ null      │\n",
       "│ 93434  ┆ 202312 ┆ null ┆ null             ┆ … ┆ 0.356675  ┆ -10.313187 ┆ 2023-12-29 ┆ 0.065449  │\n",
       "│ 93435  ┆ 201005 ┆ null ┆ null             ┆ … ┆ null      ┆ null       ┆ 2010-05-28 ┆ null      │\n",
       "│ 93436  ┆ 201005 ┆ null ┆ null             ┆ … ┆ null      ┆ null       ┆ 2010-05-28 ┆ null      │\n",
       "└────────┴────────┴──────┴──────────────────┴───┴───────────┴────────────┴────────────┴───────────┘"
      ]
     },
     "execution_count": 8,
     "metadata": {},
     "output_type": "execute_result"
    }
   ],
   "source": [
    "# Peek new data\n",
    "full_data"
   ]
  },
  {
   "cell_type": "code",
   "execution_count": 9,
   "metadata": {},
   "outputs": [
    {
     "data": {
      "text/html": [
       "<div><style>\n",
       ".dataframe > thead > tr,\n",
       ".dataframe > tbody > tr {\n",
       "  text-align: right;\n",
       "  white-space: pre-wrap;\n",
       "}\n",
       "</style>\n",
       "<small>shape: (1, 107)</small><table border=\"1\" class=\"dataframe\"><thead><tr><th>permno</th><th>yyyymm</th><th>AM</th><th>AbnormalAccruals</th><th>Accruals</th><th>AnnouncementReturn</th><th>AssetGrowth</th><th>BM</th><th>BMdec</th><th>BPEBM</th><th>Beta</th><th>BetaFP</th><th>BetaLiquidityPS</th><th>BidAskSpread</th><th>BookLeverage</th><th>CF</th><th>CashProd</th><th>ChEQ</th><th>ChInv</th><th>ChInvIA</th><th>ChNNCOA</th><th>ChNWC</th><th>ChTax</th><th>ConvDebt</th><th>CoskewACX</th><th>Coskewness</th><th>CredRatDG</th><th>DebtIssuance</th><th>DelCOA</th><th>DelCOL</th><th>DelEqu</th><th>DelFINL</th><th>DelLTI</th><th>DelNetFin</th><th>DivInit</th><th>DivOmit</th><th>DolVol</th><th>&hellip;</th><th>OPLeverage</th><th>PctAcc</th><th>PctTotAcc</th><th>PriceDelayRsq</th><th>PriceDelaySlope</th><th>PriceDelayTstat</th><th>RDIPO</th><th>RDS</th><th>RealizedVol</th><th>ResidualMomentum</th><th>ReturnSkew</th><th>ReturnSkew3F</th><th>RoE</th><th>SP</th><th>ShareIss1Y</th><th>ShareRepurchase</th><th>Spinoff</th><th>Tax</th><th>TotalAccruals</th><th>VarCF</th><th>VolMkt</th><th>VolSD</th><th>VolumeTrend</th><th>XFIN</th><th>betaVIX</th><th>cfp</th><th>dNoa</th><th>hire</th><th>roaq</th><th>zerotrade</th><th>zerotradeAlt1</th><th>zerotradeAlt12</th><th>STreversal</th><th>Price</th><th>Size</th><th>date</th><th>ret</th></tr><tr><td>f64</td><td>f64</td><td>f64</td><td>f64</td><td>f64</td><td>f64</td><td>f64</td><td>f64</td><td>f64</td><td>f64</td><td>f64</td><td>f64</td><td>f64</td><td>f64</td><td>f64</td><td>f64</td><td>f64</td><td>f64</td><td>f64</td><td>f64</td><td>f64</td><td>f64</td><td>f64</td><td>f64</td><td>f64</td><td>f64</td><td>f64</td><td>f64</td><td>f64</td><td>f64</td><td>f64</td><td>f64</td><td>f64</td><td>f64</td><td>f64</td><td>f64</td><td>f64</td><td>&hellip;</td><td>f64</td><td>f64</td><td>f64</td><td>f64</td><td>f64</td><td>f64</td><td>f64</td><td>f64</td><td>f64</td><td>f64</td><td>f64</td><td>f64</td><td>f64</td><td>f64</td><td>f64</td><td>f64</td><td>f64</td><td>f64</td><td>f64</td><td>f64</td><td>f64</td><td>f64</td><td>f64</td><td>f64</td><td>f64</td><td>f64</td><td>f64</td><td>f64</td><td>f64</td><td>f64</td><td>f64</td><td>f64</td><td>f64</td><td>f64</td><td>f64</td><td>f64</td><td>f64</td></tr></thead><tbody><tr><td>1.0</td><td>1.0</td><td>0.606123</td><td>0.551415</td><td>0.637375</td><td>0.674647</td><td>0.640398</td><td>0.53409</td><td>0.617441</td><td>0.602105</td><td>0.808998</td><td>0.717246</td><td>0.716446</td><td>0.906246</td><td>0.70211</td><td>0.606123</td><td>0.601554</td><td>0.611098</td><td>0.64041</td><td>0.536361</td><td>0.635248</td><td>0.637346</td><td>0.613077</td><td>0.702679</td><td>0.855454</td><td>0.868442</td><td>0.526879</td><td>0.552492</td><td>0.64041</td><td>0.637375</td><td>0.639849</td><td>0.635295</td><td>0.64041</td><td>0.635295</td><td>0.708684</td><td>0.708684</td><td>0.930882</td><td>&hellip;</td><td>0.701142</td><td>0.660432</td><td>0.611556</td><td>0.864119</td><td>0.864119</td><td>0.8458</td><td>0.702679</td><td>0.606669</td><td>0.938747</td><td>0.657581</td><td>0.933662</td><td>0.937246</td><td>0.702095</td><td>0.604698</td><td>0.617642</td><td>0.702679</td><td>0.708684</td><td>0.622181</td><td>0.605137</td><td>0.513814</td><td>0.874562</td><td>0.789564</td><td>0.735561</td><td>0.62337</td><td>0.900945</td><td>0.566054</td><td>0.639837</td><td>0.691628</td><td>0.575195</td><td>0.904986</td><td>0.937796</td><td>0.853177</td><td>1.0</td><td>0.973384</td><td>0.973384</td><td>1.0</td><td>0.965786</td></tr></tbody></table></div>"
      ],
      "text/plain": [
       "shape: (1, 107)\n",
       "┌────────┬────────┬──────────┬──────────────────┬───┬──────────┬──────────┬──────┬──────────┐\n",
       "│ permno ┆ yyyymm ┆ AM       ┆ AbnormalAccruals ┆ … ┆ Price    ┆ Size     ┆ date ┆ ret      │\n",
       "│ ---    ┆ ---    ┆ ---      ┆ ---              ┆   ┆ ---      ┆ ---      ┆ ---  ┆ ---      │\n",
       "│ f64    ┆ f64    ┆ f64      ┆ f64              ┆   ┆ f64      ┆ f64      ┆ f64  ┆ f64      │\n",
       "╞════════╪════════╪══════════╪══════════════════╪═══╪══════════╪══════════╪══════╪══════════╡\n",
       "│ 1.0    ┆ 1.0    ┆ 0.606123 ┆ 0.551415         ┆ … ┆ 0.973384 ┆ 0.973384 ┆ 1.0  ┆ 0.965786 │\n",
       "└────────┴────────┴──────────┴──────────────────┴───┴──────────┴──────────┴──────┴──────────┘"
      ]
     },
     "execution_count": 9,
     "metadata": {},
     "output_type": "execute_result"
    }
   ],
   "source": [
    "# Get percentage of non-null elements in each column\n",
    "full_data.count() / len(full_data)"
   ]
  },
  {
   "cell_type": "markdown",
   "metadata": {},
   "source": [
    "## 3. Imputation of data\n",
    "\n",
    "We're using `Global BF-XS` to impute the data, the best performing data imputation method according to the paper."
   ]
  },
  {
   "cell_type": "code",
   "execution_count": 10,
   "metadata": {},
   "outputs": [],
   "source": [
    "def _pca_impute(data: pl.DataFrame, /, *, n_components: int) -> pl.DataFrame:\n",
    "    logger = get_logger(\"PCA Impute\")\n",
    "    logger.debug(\"Starting PCA imputing...\")\n",
    "\n",
    "    # Removing str columns\n",
    "    data_dropped = data.drop(\"permno\", \"yyyymm\", \"date\")\n",
    "\n",
    "    # Normalizing\n",
    "    data_mean = data_dropped.select(pl.all().mean()).to_numpy()\n",
    "    data_std = data_dropped.select(pl.all().std()).to_numpy()\n",
    "    data_normalized = data_dropped.with_columns([(pl.all() - pl.all().mean()) / pl.all().std()])\n",
    "\n",
    "    # Fit PCA\n",
    "    pca = PCA(n_components=n_components, svd_solver=\"full\")\n",
    "    zero_filled_pd = data_normalized.fill_nan(0).fill_null(0).to_pandas()\n",
    "    logger.debug(\"Starting PCA fit transformation...\")\n",
    "    data_pca = pca.fit_transform(zero_filled_pd)\n",
    "\n",
    "    # Inverse transform to get back to original space\n",
    "    logger.debug(\"Starting inverse PCA transformation...\")\n",
    "    data_filled = pca.inverse_transform(data_pca)\n",
    "    logger.debug(\"Computing data filled...\")\n",
    "    data_filled = data_filled * data_std + data_mean\n",
    "\n",
    "    # Impute missing values\n",
    "    logger.debug(\"Converting to numpy...\")\n",
    "    data_np = data_dropped.to_numpy()\n",
    "    logger.debug(\"Filtering data filled...\")\n",
    "    data_imputed_np = np.where(np.isnan(data_np), data_filled, data_np)\n",
    "\n",
    "    # Convert back to Polars DataFrame\n",
    "    logger.debug(\"Returning as polars dataframe...\")\n",
    "    return pl.DataFrame(data_imputed_np, schema=data_dropped.columns, nan_to_null=True)\n",
    "\n",
    "\n",
    "def _ridge_time_series_impute(data: pl.DataFrame, /, *, alpha: float) -> pl.DataFrame:\n",
    "    logger = get_logger(\"Ridge Time Series Impute\")\n",
    "    logger.debug(\"Starting Ridge Time Series Imputation...\")\n",
    "    data_imputed = data.clone()\n",
    "\n",
    "    # Loop through all columns\n",
    "    for col in data.columns:\n",
    "        mask = data[col].is_null()\n",
    "        if mask.sum() == 0:\n",
    "            continue\n",
    "\n",
    "        logger.debug(\"Sum not 0...\")\n",
    "        train_data = data_imputed.filter(~mask).drop(col)\n",
    "        train_target = data_imputed.filter(~mask).select(col)\n",
    "        test_data = data_imputed.filter(mask).drop(col)\n",
    "\n",
    "        # Convert Polars DataFrame to Numpy array for Ridge Regression\n",
    "        train_data_np = train_data.to_numpy()\n",
    "        train_target_np = train_target.to_numpy().ravel()\n",
    "        test_data_np = test_data.to_numpy()\n",
    "\n",
    "        train_target_np = np.clip(train_target_np, -1e100, 1e100)\n",
    "\n",
    "        # Fit Ridge Regression\n",
    "        ridge = Ridge(alpha=alpha)\n",
    "        ridge.fit(train_data_np, train_target_np)\n",
    "\n",
    "        # Predict missing values\n",
    "        predicted_values = ridge.predict(test_data_np)\n",
    "\n",
    "        # Impute missing values\n",
    "        imputed_series = pl.Series(name=col, values=data[col].to_numpy())\n",
    "        imputed_series[mask.to_numpy()] = predicted_values\n",
    "        data_imputed = data_imputed.with_columns(imputed_series)\n",
    "\n",
    "    # Return\n",
    "    logger.debug(\"Returning final result...\")\n",
    "    return data_imputed\n",
    "\n",
    "\n",
    "def global_bf_xs_impute(data: pl.DataFrame, /, *, n_components: int = 10, alpha: float = 1.0) -> pl.DataFrame:\n",
    "    return _ridge_time_series_impute(_pca_impute(data, n_components=n_components), alpha=alpha)"
   ]
  },
  {
   "cell_type": "code",
   "execution_count": 11,
   "metadata": {},
   "outputs": [
    {
     "data": {
      "text/html": [
       "<pre style=\"white-space:pre;overflow-x:auto;line-height:normal;font-family:Menlo,'DejaVu Sans Mono',consolas,'Courier New',monospace\"><span style=\"color: #7fbfbf; text-decoration-color: #7fbfbf\">[13:34:45] </span><span style=\"color: #008000; text-decoration-color: #008000\">DEBUG   </span> Starting PCA imputing<span style=\"color: #808000; text-decoration-color: #808000\">...</span>                                                        <a href=\"file:///var/folders/qk/3qb7y7bs23l46_jb_xbrk_zw0000gn/T/ipykernel_59967/1637316257.py\" target=\"_blank\"><span style=\"color: #7f7f7f; text-decoration-color: #7f7f7f\">1637316257.py</span></a><span style=\"color: #7f7f7f; text-decoration-color: #7f7f7f\">:</span><a href=\"file:///var/folders/qk/3qb7y7bs23l46_jb_xbrk_zw0000gn/T/ipykernel_59967/1637316257.py#3\" target=\"_blank\"><span style=\"color: #7f7f7f; text-decoration-color: #7f7f7f\">3</span></a>\n",
       "</pre>\n"
      ],
      "text/plain": [
       "\u001b[2;36m[13:34:45]\u001b[0m\u001b[2;36m \u001b[0m\u001b[32mDEBUG   \u001b[0m Starting PCA imputing\u001b[33m...\u001b[0m                                                        \u001b]8;id=977996;file:///var/folders/qk/3qb7y7bs23l46_jb_xbrk_zw0000gn/T/ipykernel_59967/1637316257.py\u001b\\\u001b[2m1637316257.py\u001b[0m\u001b]8;;\u001b\\\u001b[2m:\u001b[0m\u001b]8;id=711805;file:///var/folders/qk/3qb7y7bs23l46_jb_xbrk_zw0000gn/T/ipykernel_59967/1637316257.py#3\u001b\\\u001b[2m3\u001b[0m\u001b]8;;\u001b\\\n"
      ]
     },
     "metadata": {},
     "output_type": "display_data"
    },
    {
     "data": {
      "text/html": [
       "<pre style=\"white-space:pre;overflow-x:auto;line-height:normal;font-family:Menlo,'DejaVu Sans Mono',consolas,'Courier New',monospace\"><span style=\"color: #7fbfbf; text-decoration-color: #7fbfbf\">[13:34:49] </span><span style=\"color: #008000; text-decoration-color: #008000\">DEBUG   </span> Starting PCA fit transformation<span style=\"color: #808000; text-decoration-color: #808000\">...</span>                                             <a href=\"file:///var/folders/qk/3qb7y7bs23l46_jb_xbrk_zw0000gn/T/ipykernel_59967/1637316257.py\" target=\"_blank\"><span style=\"color: #7f7f7f; text-decoration-color: #7f7f7f\">1637316257.py</span></a><span style=\"color: #7f7f7f; text-decoration-color: #7f7f7f\">:</span><a href=\"file:///var/folders/qk/3qb7y7bs23l46_jb_xbrk_zw0000gn/T/ipykernel_59967/1637316257.py#16\" target=\"_blank\"><span style=\"color: #7f7f7f; text-decoration-color: #7f7f7f\">16</span></a>\n",
       "</pre>\n"
      ],
      "text/plain": [
       "\u001b[2;36m[13:34:49]\u001b[0m\u001b[2;36m \u001b[0m\u001b[32mDEBUG   \u001b[0m Starting PCA fit transformation\u001b[33m...\u001b[0m                                             \u001b]8;id=654578;file:///var/folders/qk/3qb7y7bs23l46_jb_xbrk_zw0000gn/T/ipykernel_59967/1637316257.py\u001b\\\u001b[2m1637316257.py\u001b[0m\u001b]8;;\u001b\\\u001b[2m:\u001b[0m\u001b]8;id=523376;file:///var/folders/qk/3qb7y7bs23l46_jb_xbrk_zw0000gn/T/ipykernel_59967/1637316257.py#16\u001b\\\u001b[2m16\u001b[0m\u001b]8;;\u001b\\\n"
      ]
     },
     "metadata": {},
     "output_type": "display_data"
    },
    {
     "data": {
      "text/html": [
       "<pre style=\"white-space:pre;overflow-x:auto;line-height:normal;font-family:Menlo,'DejaVu Sans Mono',consolas,'Courier New',monospace\"><span style=\"color: #7fbfbf; text-decoration-color: #7fbfbf\">[13:35:08] </span><span style=\"color: #008000; text-decoration-color: #008000\">DEBUG   </span> Starting inverse PCA transformation<span style=\"color: #808000; text-decoration-color: #808000\">...</span>                                         <a href=\"file:///var/folders/qk/3qb7y7bs23l46_jb_xbrk_zw0000gn/T/ipykernel_59967/1637316257.py\" target=\"_blank\"><span style=\"color: #7f7f7f; text-decoration-color: #7f7f7f\">1637316257.py</span></a><span style=\"color: #7f7f7f; text-decoration-color: #7f7f7f\">:</span><a href=\"file:///var/folders/qk/3qb7y7bs23l46_jb_xbrk_zw0000gn/T/ipykernel_59967/1637316257.py#20\" target=\"_blank\"><span style=\"color: #7f7f7f; text-decoration-color: #7f7f7f\">20</span></a>\n",
       "</pre>\n"
      ],
      "text/plain": [
       "\u001b[2;36m[13:35:08]\u001b[0m\u001b[2;36m \u001b[0m\u001b[32mDEBUG   \u001b[0m Starting inverse PCA transformation\u001b[33m...\u001b[0m                                         \u001b]8;id=35884;file:///var/folders/qk/3qb7y7bs23l46_jb_xbrk_zw0000gn/T/ipykernel_59967/1637316257.py\u001b\\\u001b[2m1637316257.py\u001b[0m\u001b]8;;\u001b\\\u001b[2m:\u001b[0m\u001b]8;id=601338;file:///var/folders/qk/3qb7y7bs23l46_jb_xbrk_zw0000gn/T/ipykernel_59967/1637316257.py#20\u001b\\\u001b[2m20\u001b[0m\u001b]8;;\u001b\\\n"
      ]
     },
     "metadata": {},
     "output_type": "display_data"
    },
    {
     "data": {
      "text/html": [
       "<pre style=\"white-space:pre;overflow-x:auto;line-height:normal;font-family:Menlo,'DejaVu Sans Mono',consolas,'Courier New',monospace\"><span style=\"color: #7fbfbf; text-decoration-color: #7fbfbf\">[13:35:12] </span><span style=\"color: #008000; text-decoration-color: #008000\">DEBUG   </span> Computing data filled<span style=\"color: #808000; text-decoration-color: #808000\">...</span>                                                       <a href=\"file:///var/folders/qk/3qb7y7bs23l46_jb_xbrk_zw0000gn/T/ipykernel_59967/1637316257.py\" target=\"_blank\"><span style=\"color: #7f7f7f; text-decoration-color: #7f7f7f\">1637316257.py</span></a><span style=\"color: #7f7f7f; text-decoration-color: #7f7f7f\">:</span><a href=\"file:///var/folders/qk/3qb7y7bs23l46_jb_xbrk_zw0000gn/T/ipykernel_59967/1637316257.py#22\" target=\"_blank\"><span style=\"color: #7f7f7f; text-decoration-color: #7f7f7f\">22</span></a>\n",
       "</pre>\n"
      ],
      "text/plain": [
       "\u001b[2;36m[13:35:12]\u001b[0m\u001b[2;36m \u001b[0m\u001b[32mDEBUG   \u001b[0m Computing data filled\u001b[33m...\u001b[0m                                                       \u001b]8;id=1840;file:///var/folders/qk/3qb7y7bs23l46_jb_xbrk_zw0000gn/T/ipykernel_59967/1637316257.py\u001b\\\u001b[2m1637316257.py\u001b[0m\u001b]8;;\u001b\\\u001b[2m:\u001b[0m\u001b]8;id=424144;file:///var/folders/qk/3qb7y7bs23l46_jb_xbrk_zw0000gn/T/ipykernel_59967/1637316257.py#22\u001b\\\u001b[2m22\u001b[0m\u001b]8;;\u001b\\\n"
      ]
     },
     "metadata": {},
     "output_type": "display_data"
    },
    {
     "data": {
      "text/html": [
       "<pre style=\"white-space:pre;overflow-x:auto;line-height:normal;font-family:Menlo,'DejaVu Sans Mono',consolas,'Courier New',monospace\"><span style=\"color: #7fbfbf; text-decoration-color: #7fbfbf\">[13:35:16] </span><span style=\"color: #008000; text-decoration-color: #008000\">DEBUG   </span> Converting to numpy<span style=\"color: #808000; text-decoration-color: #808000\">...</span>                                                         <a href=\"file:///var/folders/qk/3qb7y7bs23l46_jb_xbrk_zw0000gn/T/ipykernel_59967/1637316257.py\" target=\"_blank\"><span style=\"color: #7f7f7f; text-decoration-color: #7f7f7f\">1637316257.py</span></a><span style=\"color: #7f7f7f; text-decoration-color: #7f7f7f\">:</span><a href=\"file:///var/folders/qk/3qb7y7bs23l46_jb_xbrk_zw0000gn/T/ipykernel_59967/1637316257.py#26\" target=\"_blank\"><span style=\"color: #7f7f7f; text-decoration-color: #7f7f7f\">26</span></a>\n",
       "</pre>\n"
      ],
      "text/plain": [
       "\u001b[2;36m[13:35:16]\u001b[0m\u001b[2;36m \u001b[0m\u001b[32mDEBUG   \u001b[0m Converting to numpy\u001b[33m...\u001b[0m                                                         \u001b]8;id=184980;file:///var/folders/qk/3qb7y7bs23l46_jb_xbrk_zw0000gn/T/ipykernel_59967/1637316257.py\u001b\\\u001b[2m1637316257.py\u001b[0m\u001b]8;;\u001b\\\u001b[2m:\u001b[0m\u001b]8;id=594404;file:///var/folders/qk/3qb7y7bs23l46_jb_xbrk_zw0000gn/T/ipykernel_59967/1637316257.py#26\u001b\\\u001b[2m26\u001b[0m\u001b]8;;\u001b\\\n"
      ]
     },
     "metadata": {},
     "output_type": "display_data"
    },
    {
     "data": {
      "text/html": [
       "<pre style=\"white-space:pre;overflow-x:auto;line-height:normal;font-family:Menlo,'DejaVu Sans Mono',consolas,'Courier New',monospace\"><span style=\"color: #7fbfbf; text-decoration-color: #7fbfbf\">[13:35:24] </span><span style=\"color: #008000; text-decoration-color: #008000\">DEBUG   </span> Filtering data filled<span style=\"color: #808000; text-decoration-color: #808000\">...</span>                                                       <a href=\"file:///var/folders/qk/3qb7y7bs23l46_jb_xbrk_zw0000gn/T/ipykernel_59967/1637316257.py\" target=\"_blank\"><span style=\"color: #7f7f7f; text-decoration-color: #7f7f7f\">1637316257.py</span></a><span style=\"color: #7f7f7f; text-decoration-color: #7f7f7f\">:</span><a href=\"file:///var/folders/qk/3qb7y7bs23l46_jb_xbrk_zw0000gn/T/ipykernel_59967/1637316257.py#28\" target=\"_blank\"><span style=\"color: #7f7f7f; text-decoration-color: #7f7f7f\">28</span></a>\n",
       "</pre>\n"
      ],
      "text/plain": [
       "\u001b[2;36m[13:35:24]\u001b[0m\u001b[2;36m \u001b[0m\u001b[32mDEBUG   \u001b[0m Filtering data filled\u001b[33m...\u001b[0m                                                       \u001b]8;id=238320;file:///var/folders/qk/3qb7y7bs23l46_jb_xbrk_zw0000gn/T/ipykernel_59967/1637316257.py\u001b\\\u001b[2m1637316257.py\u001b[0m\u001b]8;;\u001b\\\u001b[2m:\u001b[0m\u001b]8;id=246883;file:///var/folders/qk/3qb7y7bs23l46_jb_xbrk_zw0000gn/T/ipykernel_59967/1637316257.py#28\u001b\\\u001b[2m28\u001b[0m\u001b]8;;\u001b\\\n"
      ]
     },
     "metadata": {},
     "output_type": "display_data"
    },
    {
     "data": {
      "text/html": [
       "<pre style=\"white-space:pre;overflow-x:auto;line-height:normal;font-family:Menlo,'DejaVu Sans Mono',consolas,'Courier New',monospace\"><span style=\"color: #7fbfbf; text-decoration-color: #7fbfbf\">[13:35:27] </span><span style=\"color: #008000; text-decoration-color: #008000\">DEBUG   </span> Returning as polars dataframe<span style=\"color: #808000; text-decoration-color: #808000\">...</span>                                               <a href=\"file:///var/folders/qk/3qb7y7bs23l46_jb_xbrk_zw0000gn/T/ipykernel_59967/1637316257.py\" target=\"_blank\"><span style=\"color: #7f7f7f; text-decoration-color: #7f7f7f\">1637316257.py</span></a><span style=\"color: #7f7f7f; text-decoration-color: #7f7f7f\">:</span><a href=\"file:///var/folders/qk/3qb7y7bs23l46_jb_xbrk_zw0000gn/T/ipykernel_59967/1637316257.py#32\" target=\"_blank\"><span style=\"color: #7f7f7f; text-decoration-color: #7f7f7f\">32</span></a>\n",
       "</pre>\n"
      ],
      "text/plain": [
       "\u001b[2;36m[13:35:27]\u001b[0m\u001b[2;36m \u001b[0m\u001b[32mDEBUG   \u001b[0m Returning as polars dataframe\u001b[33m...\u001b[0m                                               \u001b]8;id=449305;file:///var/folders/qk/3qb7y7bs23l46_jb_xbrk_zw0000gn/T/ipykernel_59967/1637316257.py\u001b\\\u001b[2m1637316257.py\u001b[0m\u001b]8;;\u001b\\\u001b[2m:\u001b[0m\u001b]8;id=742979;file:///var/folders/qk/3qb7y7bs23l46_jb_xbrk_zw0000gn/T/ipykernel_59967/1637316257.py#32\u001b\\\u001b[2m32\u001b[0m\u001b]8;;\u001b\\\n"
      ]
     },
     "metadata": {},
     "output_type": "display_data"
    },
    {
     "data": {
      "text/html": [
       "<pre style=\"white-space:pre;overflow-x:auto;line-height:normal;font-family:Menlo,'DejaVu Sans Mono',consolas,'Courier New',monospace\"><span style=\"color: #7fbfbf; text-decoration-color: #7fbfbf\">[13:35:34] </span><span style=\"color: #008000; text-decoration-color: #008000\">DEBUG   </span> Starting Ridge Time Series Imputation<span style=\"color: #808000; text-decoration-color: #808000\">...</span>                                       <a href=\"file:///var/folders/qk/3qb7y7bs23l46_jb_xbrk_zw0000gn/T/ipykernel_59967/1637316257.py\" target=\"_blank\"><span style=\"color: #7f7f7f; text-decoration-color: #7f7f7f\">1637316257.py</span></a><span style=\"color: #7f7f7f; text-decoration-color: #7f7f7f\">:</span><a href=\"file:///var/folders/qk/3qb7y7bs23l46_jb_xbrk_zw0000gn/T/ipykernel_59967/1637316257.py#38\" target=\"_blank\"><span style=\"color: #7f7f7f; text-decoration-color: #7f7f7f\">38</span></a>\n",
       "</pre>\n"
      ],
      "text/plain": [
       "\u001b[2;36m[13:35:34]\u001b[0m\u001b[2;36m \u001b[0m\u001b[32mDEBUG   \u001b[0m Starting Ridge Time Series Imputation\u001b[33m...\u001b[0m                                       \u001b]8;id=618059;file:///var/folders/qk/3qb7y7bs23l46_jb_xbrk_zw0000gn/T/ipykernel_59967/1637316257.py\u001b\\\u001b[2m1637316257.py\u001b[0m\u001b]8;;\u001b\\\u001b[2m:\u001b[0m\u001b]8;id=66514;file:///var/folders/qk/3qb7y7bs23l46_jb_xbrk_zw0000gn/T/ipykernel_59967/1637316257.py#38\u001b\\\u001b[2m38\u001b[0m\u001b]8;;\u001b\\\n"
      ]
     },
     "metadata": {},
     "output_type": "display_data"
    },
    {
     "data": {
      "text/html": [
       "<pre style=\"white-space:pre;overflow-x:auto;line-height:normal;font-family:Menlo,'DejaVu Sans Mono',consolas,'Courier New',monospace\"><span style=\"color: #7fbfbf; text-decoration-color: #7fbfbf\">           </span><span style=\"color: #008000; text-decoration-color: #008000\">DEBUG   </span> Sum not <span style=\"color: #008080; text-decoration-color: #008080; font-weight: bold\">0</span><span style=\"color: #808000; text-decoration-color: #808000\">...</span>                                                                   <a href=\"file:///var/folders/qk/3qb7y7bs23l46_jb_xbrk_zw0000gn/T/ipykernel_59967/1637316257.py\" target=\"_blank\"><span style=\"color: #7f7f7f; text-decoration-color: #7f7f7f\">1637316257.py</span></a><span style=\"color: #7f7f7f; text-decoration-color: #7f7f7f\">:</span><a href=\"file:///var/folders/qk/3qb7y7bs23l46_jb_xbrk_zw0000gn/T/ipykernel_59967/1637316257.py#47\" target=\"_blank\"><span style=\"color: #7f7f7f; text-decoration-color: #7f7f7f\">47</span></a>\n",
       "</pre>\n"
      ],
      "text/plain": [
       "\u001b[2;36m          \u001b[0m\u001b[2;36m \u001b[0m\u001b[32mDEBUG   \u001b[0m Sum not \u001b[1;36m0\u001b[0m\u001b[33m...\u001b[0m                                                                   \u001b]8;id=684887;file:///var/folders/qk/3qb7y7bs23l46_jb_xbrk_zw0000gn/T/ipykernel_59967/1637316257.py\u001b\\\u001b[2m1637316257.py\u001b[0m\u001b]8;;\u001b\\\u001b[2m:\u001b[0m\u001b]8;id=638614;file:///var/folders/qk/3qb7y7bs23l46_jb_xbrk_zw0000gn/T/ipykernel_59967/1637316257.py#47\u001b\\\u001b[2m47\u001b[0m\u001b]8;;\u001b\\\n"
      ]
     },
     "metadata": {},
     "output_type": "display_data"
    },
    {
     "name": "stderr",
     "output_type": "stream",
     "text": [
      "/Library/Frameworks/Python.framework/Versions/3.12/lib/python3.12/site-packages/sklearn/linear_model/_ridge.py:216: LinAlgWarning: Ill-conditioned matrix (rcond=2.6361e-35): result may not be accurate.\n",
      "  return linalg.solve(A, Xy, assume_a=\"pos\", overwrite_a=True).T\n"
     ]
    },
    {
     "data": {
      "text/html": [
       "<pre style=\"white-space:pre;overflow-x:auto;line-height:normal;font-family:Menlo,'DejaVu Sans Mono',consolas,'Courier New',monospace\"><span style=\"color: #7fbfbf; text-decoration-color: #7fbfbf\">[13:35:39] </span><span style=\"color: #008000; text-decoration-color: #008000\">DEBUG   </span> Returning final result<span style=\"color: #808000; text-decoration-color: #808000\">...</span>                                                      <a href=\"file:///var/folders/qk/3qb7y7bs23l46_jb_xbrk_zw0000gn/T/ipykernel_59967/1637316257.py\" target=\"_blank\"><span style=\"color: #7f7f7f; text-decoration-color: #7f7f7f\">1637316257.py</span></a><span style=\"color: #7f7f7f; text-decoration-color: #7f7f7f\">:</span><a href=\"file:///var/folders/qk/3qb7y7bs23l46_jb_xbrk_zw0000gn/T/ipykernel_59967/1637316257.py#72\" target=\"_blank\"><span style=\"color: #7f7f7f; text-decoration-color: #7f7f7f\">72</span></a>\n",
       "</pre>\n"
      ],
      "text/plain": [
       "\u001b[2;36m[13:35:39]\u001b[0m\u001b[2;36m \u001b[0m\u001b[32mDEBUG   \u001b[0m Returning final result\u001b[33m...\u001b[0m                                                      \u001b]8;id=20943;file:///var/folders/qk/3qb7y7bs23l46_jb_xbrk_zw0000gn/T/ipykernel_59967/1637316257.py\u001b\\\u001b[2m1637316257.py\u001b[0m\u001b]8;;\u001b\\\u001b[2m:\u001b[0m\u001b]8;id=617834;file:///var/folders/qk/3qb7y7bs23l46_jb_xbrk_zw0000gn/T/ipykernel_59967/1637316257.py#72\u001b\\\u001b[2m72\u001b[0m\u001b]8;;\u001b\\\n"
      ]
     },
     "metadata": {},
     "output_type": "display_data"
    }
   ],
   "source": [
    "data_imputed = global_bf_xs_impute(full_data)"
   ]
  },
  {
   "cell_type": "code",
   "execution_count": 13,
   "metadata": {},
   "outputs": [
    {
     "name": "stderr",
     "output_type": "stream",
     "text": [
      "/var/folders/qk/3qb7y7bs23l46_jb_xbrk_zw0000gn/T/ipykernel_59967/1876382847.py:1: DeprecationWarning: `with_row_count` is deprecated. Use `with_row_index` instead. Note that the default column name has changed from 'row_nr' to 'index'.\n",
      "  data_imputed = pl.DataFrame(data_imputed, schema=full_data.drop(\"permno\", \"yyyymm\", \"date\").columns).with_row_count(\"index\").join(full_data.with_row_count(\"index\").select([\"index\", \"permno\", \"yyyymm\", \"date\"]), on=\"index\")\n"
     ]
    }
   ],
   "source": [
    "data_imputed = pl.DataFrame(data_imputed, schema=full_data.drop(\"permno\", \"yyyymm\", \"date\").columns).with_row_count(\"index\").join(full_data.with_row_count(\"index\").select([\"index\", \"permno\", \"yyyymm\", \"date\"]), on=\"index\")\n",
    "data_imputed = data_imputed.drop(\"index\")"
   ]
  },
  {
   "cell_type": "code",
   "execution_count": 17,
   "metadata": {},
   "outputs": [
    {
     "data": {
      "text/html": [
       "<div><style>\n",
       ".dataframe > thead > tr,\n",
       ".dataframe > tbody > tr {\n",
       "  text-align: right;\n",
       "  white-space: pre-wrap;\n",
       "}\n",
       "</style>\n",
       "<small>shape: (3_487_273, 107)</small><table border=\"1\" class=\"dataframe\"><thead><tr><th>AM</th><th>AbnormalAccruals</th><th>Accruals</th><th>AnnouncementReturn</th><th>AssetGrowth</th><th>BM</th><th>BMdec</th><th>BPEBM</th><th>Beta</th><th>BetaFP</th><th>BetaLiquidityPS</th><th>BidAskSpread</th><th>BookLeverage</th><th>CF</th><th>CashProd</th><th>ChEQ</th><th>ChInv</th><th>ChInvIA</th><th>ChNNCOA</th><th>ChNWC</th><th>ChTax</th><th>ConvDebt</th><th>CoskewACX</th><th>Coskewness</th><th>CredRatDG</th><th>DebtIssuance</th><th>DelCOA</th><th>DelCOL</th><th>DelEqu</th><th>DelFINL</th><th>DelLTI</th><th>DelNetFin</th><th>DivInit</th><th>DivOmit</th><th>DolVol</th><th>EBM</th><th>EarningsSurprise</th><th>&hellip;</th><th>PctTotAcc</th><th>PriceDelayRsq</th><th>PriceDelaySlope</th><th>PriceDelayTstat</th><th>RDIPO</th><th>RDS</th><th>RealizedVol</th><th>ResidualMomentum</th><th>ReturnSkew</th><th>ReturnSkew3F</th><th>RoE</th><th>SP</th><th>ShareIss1Y</th><th>ShareRepurchase</th><th>Spinoff</th><th>Tax</th><th>TotalAccruals</th><th>VarCF</th><th>VolMkt</th><th>VolSD</th><th>VolumeTrend</th><th>XFIN</th><th>betaVIX</th><th>cfp</th><th>dNoa</th><th>hire</th><th>roaq</th><th>zerotrade</th><th>zerotradeAlt1</th><th>zerotradeAlt12</th><th>STreversal</th><th>Price</th><th>Size</th><th>ret</th><th>permno</th><th>yyyymm</th><th>date</th></tr><tr><td>f64</td><td>f64</td><td>f64</td><td>f64</td><td>f64</td><td>f64</td><td>f64</td><td>f64</td><td>f64</td><td>f64</td><td>f64</td><td>f64</td><td>f64</td><td>f64</td><td>f64</td><td>f64</td><td>f64</td><td>f64</td><td>f64</td><td>f64</td><td>f64</td><td>f64</td><td>f64</td><td>f64</td><td>f64</td><td>f64</td><td>f64</td><td>f64</td><td>f64</td><td>f64</td><td>f64</td><td>f64</td><td>f64</td><td>f64</td><td>f64</td><td>f64</td><td>f64</td><td>&hellip;</td><td>f64</td><td>f64</td><td>f64</td><td>f64</td><td>f64</td><td>f64</td><td>f64</td><td>f64</td><td>f64</td><td>f64</td><td>f64</td><td>f64</td><td>f64</td><td>f64</td><td>f64</td><td>f64</td><td>f64</td><td>f64</td><td>f64</td><td>f64</td><td>f64</td><td>f64</td><td>f64</td><td>f64</td><td>f64</td><td>f64</td><td>f64</td><td>f64</td><td>f64</td><td>f64</td><td>f64</td><td>f64</td><td>f64</td><td>f64</td><td>i64</td><td>str</td><td>str</td></tr></thead><tbody><tr><td>7.001128</td><td>0.006849</td><td>0.037038</td><td>0.027895</td><td>-0.200706</td><td>-0.933438</td><td>4.365937</td><td>-1.474361</td><td>1.558752</td><td>1.199701</td><td>-0.011071</td><td>0.031711</td><td>-3.55688</td><td>-0.369301</td><td>16.417263</td><td>-1.57609</td><td>-0.009028</td><td>-4.0202e9</td><td>-0.026663</td><td>-0.011968</td><td>-0.018995</td><td>-0.155542</td><td>0.203796</td><td>0.325541</td><td>-0.021278</td><td>-0.469517</td><td>-0.024636</td><td>-0.017632</td><td>-0.049977</td><td>-0.017856</td><td>-0.002983</td><td>-0.011635</td><td>0.0</td><td>0.0</td><td>-1.876211</td><td>-0.783592</td><td>1.8655e10</td><td>&hellip;</td><td>-2.709733</td><td>0.398978</td><td>-0.201488</td><td>1.316417</td><td>-0.009136</td><td>-53.169038</td><td>-0.065278</td><td>-0.059397</td><td>-2.23832</td><td>-2.103353</td><td>-0.312708</td><td>3.224296</td><td>-0.382112</td><td>0.262342</td><td>0.0</td><td>1.039741</td><td>0.004562</td><td>-5.508604</td><td>-0.442826</td><td>-11.488449</td><td>-0.008308</td><td>-0.122807</td><td>-0.005234</td><td>-0.018525</td><td>-0.102385</td><td>-0.048615</td><td>-0.031407</td><td>1.42601</td><td>1.513613</td><td>1.347789</td><td>0.0</td><td>-1.475907</td><td>-9.686575</td><td>0.164573</td><td>10000</td><td>&quot;198601&quot;</td><td>&quot;1986-01-31&quot;</td></tr><tr><td>4.422268</td><td>0.004699</td><td>0.040654</td><td>-0.02882</td><td>-0.244965</td><td>-0.917169</td><td>3.137262</td><td>0.435059</td><td>1.024039</td><td>0.902381</td><td>-0.000944</td><td>0.021297</td><td>-6.089692</td><td>-0.158117</td><td>22.61442</td><td>-1.440656</td><td>-0.005389</td><td>-5.9807e9</td><td>-0.005398</td><td>0.005968</td><td>0.007321</td><td>-0.111807</td><td>0.166011</td><td>0.23915</td><td>-0.016656</td><td>-0.47921</td><td>-0.015011</td><td>-0.015161</td><td>-0.013843</td><td>-0.030942</td><td>-0.008467</td><td>-0.020292</td><td>0.0</td><td>0.0</td><td>-2.24073</td><td>1.32087</td><td>-7.8126e9</td><td>&hellip;</td><td>-3.392647</td><td>0.422778</td><td>1.427154</td><td>1.739605</td><td>-0.017578</td><td>-84.621812</td><td>-0.031004</td><td>-0.014548</td><td>0.729555</td><td>0.810187</td><td>-1.011627</td><td>2.513864</td><td>-0.290552</td><td>0.307018</td><td>0.0</td><td>0.99067</td><td>0.009428</td><td>-1.258062</td><td>-0.324097</td><td>-5.877647</td><td>-0.006366</td><td>-0.127155</td><td>-0.003488</td><td>-0.039211</td><td>-0.128668</td><td>-0.043868</td><td>-0.028472</td><td>1.054238</td><td>4.7852e-8</td><td>1.01621</td><td>25.7143</td><td>-1.178655</td><td>-9.389323</td><td>-0.257143</td><td>10000</td><td>&quot;198602&quot;</td><td>&quot;1986-02-28&quot;</td></tr><tr><td>2.101274</td><td>0.006433</td><td>0.043412</td><td>0.050167</td><td>-0.267865</td><td>-0.816072</td><td>2.495356</td><td>0.496326</td><td>1.147037</td><td>0.905618</td><td>-0.003319</td><td>0.023313</td><td>-7.34694</td><td>-0.055169</td><td>-6.316874</td><td>-1.423873</td><td>-0.004868</td><td>-3.5340e9</td><td>-0.007126</td><td>0.005333</td><td>0.025869</td><td>-0.113378</td><td>0.107146</td><td>0.20675</td><td>-0.013424</td><td>-0.461953</td><td>-0.014142</td><td>-0.015621</td><td>0.012585</td><td>-0.037918</td><td>-0.005984</td><td>-0.033739</td><td>0.0</td><td>0.0</td><td>0.255134</td><td>1.102539</td><td>9.4179e10</td><td>&hellip;</td><td>-3.351329</td><td>0.481087</td><td>0.893275</td><td>1.726885</td><td>-0.016114</td><td>-23.049943</td><td>-0.044548</td><td>-0.021796</td><td>-1.6879</td><td>-1.038325</td><td>-1.508857</td><td>1.476825</td><td>-0.229304</td><td>0.274268</td><td>0.0</td><td>0.929094</td><td>0.017763</td><td>-1.580617</td><td>-0.061587</td><td>-3.969031</td><td>-0.005027</td><td>-0.12966</td><td>-0.002715</td><td>-0.015002</td><td>-0.152456</td><td>-0.03828</td><td>-0.033975</td><td>1.385354</td><td>1.0234e-7</td><td>1.393421</td><td>-36.5385</td><td>-1.490091</td><td>-9.700759</td><td>0.365385</td><td>10000</td><td>&quot;198603&quot;</td><td>&quot;1986-03-31&quot;</td></tr><tr><td>3.169009</td><td>0.005269</td><td>0.04242</td><td>-0.003592</td><td>-0.266767</td><td>-0.834151</td><td>3.099862</td><td>0.53572</td><td>1.026895</td><td>0.85097</td><td>-0.000809</td><td>0.023431</td><td>-7.358708</td><td>-0.102963</td><td>10.225437</td><td>-1.423441</td><td>-0.00499</td><td>-5.8132e9</td><td>-0.005241</td><td>0.006474</td><td>0.01866</td><td>-0.105609</td><td>0.130415</td><td>0.21934</td><td>-0.011792</td><td>-0.461921</td><td>-0.014265</td><td>-0.015567</td><td>0.006762</td><td>-0.03694</td><td>-0.007377</td><td>-0.030199</td><td>0.0</td><td>0.0</td><td>1.3126723</td><td>1.334835</td><td>5.7480e10</td><td>&hellip;</td><td>-3.609434</td><td>0.489339</td><td>1.563873</td><td>1.793533</td><td>-0.01845</td><td>-33.984111</td><td>-0.011246</td><td>0.01125</td><td>0.276167</td><td>0.068097</td><td>-1.465322</td><td>2.05432</td><td>-0.25461</td><td>0.273349</td><td>0.0</td><td>0.922286</td><td>0.016857</td><td>-0.985141</td><td>-0.195738</td><td>-3.752943</td><td>-0.004993</td><td>-0.13547</td><td>0.000877</td><td>-0.043818</td><td>-0.147269</td><td>-0.039747</td><td>-0.032348</td><td>1.632386</td><td>7.4675e-8</td><td>1.578947</td><td>9.8592</td><td>-1.386294</td><td>-9.627207</td><td>-0.098592</td><td>10000</td><td>&quot;198604&quot;</td><td>&quot;1986-04-30&quot;</td></tr><tr><td>7.097098</td><td>0.010119</td><td>0.042715</td><td>-0.002707</td><td>-0.247014</td><td>-0.896225</td><td>4.196712</td><td>-0.882462</td><td>1.428231</td><td>1.099101</td><td>-0.009675</td><td>0.033078</td><td>-5.42698</td><td>-0.402165</td><td>24.405517</td><td>-1.565928</td><td>-0.006597</td><td>-6.4724e9</td><td>-0.021</td><td>-0.004227</td><td>-0.00599</td><td>-0.140535</td><td>0.175691</td><td>0.290917</td><td>-0.01717</td><td>-0.455436</td><td>-0.018972</td><td>-0.017602</td><td>-0.024521</td><td>-0.025134</td><td>-0.003946</td><td>-0.019448</td><td>0.0</td><td>0.0</td><td>0.737386</td><td>-0.050184</td><td>4.3002e9</td><td>&hellip;</td><td>-3.230583</td><td>0.461023</td><td>0.499172</td><td>1.474123</td><td>-0.014507</td><td>-10.269884</td><td>-0.038863</td><td>-0.024722</td><td>-1.289032</td><td>-0.738724</td><td>-0.984761</td><td>3.405686</td><td>-0.341743</td><td>0.226638</td><td>0.0</td><td>0.92461</td><td>0.016233</td><td>-4.767822</td><td>-0.448179</td><td>-9.069982</td><td>-0.007106</td><td>-0.154571</td><td>0.008818</td><td>-0.061848</td><td>-0.129304</td><td>-0.042701</td><td>-0.040935</td><td>1.624678</td><td>7.6496e-8</td><td>1.529854</td><td>22.2656</td><td>-1.134423</td><td>-9.375336</td><td>-0.222656</td><td>10000</td><td>&quot;198605&quot;</td><td>&quot;1986-05-30&quot;</td></tr><tr><td>&hellip;</td><td>&hellip;</td><td>&hellip;</td><td>&hellip;</td><td>&hellip;</td><td>&hellip;</td><td>&hellip;</td><td>&hellip;</td><td>&hellip;</td><td>&hellip;</td><td>&hellip;</td><td>&hellip;</td><td>&hellip;</td><td>&hellip;</td><td>&hellip;</td><td>&hellip;</td><td>&hellip;</td><td>&hellip;</td><td>&hellip;</td><td>&hellip;</td><td>&hellip;</td><td>&hellip;</td><td>&hellip;</td><td>&hellip;</td><td>&hellip;</td><td>&hellip;</td><td>&hellip;</td><td>&hellip;</td><td>&hellip;</td><td>&hellip;</td><td>&hellip;</td><td>&hellip;</td><td>&hellip;</td><td>&hellip;</td><td>&hellip;</td><td>&hellip;</td><td>&hellip;</td><td>&hellip;</td><td>&hellip;</td><td>&hellip;</td><td>&hellip;</td><td>&hellip;</td><td>&hellip;</td><td>&hellip;</td><td>&hellip;</td><td>&hellip;</td><td>&hellip;</td><td>&hellip;</td><td>&hellip;</td><td>&hellip;</td><td>&hellip;</td><td>&hellip;</td><td>&hellip;</td><td>&hellip;</td><td>&hellip;</td><td>&hellip;</td><td>&hellip;</td><td>&hellip;</td><td>&hellip;</td><td>&hellip;</td><td>&hellip;</td><td>&hellip;</td><td>&hellip;</td><td>&hellip;</td><td>&hellip;</td><td>&hellip;</td><td>&hellip;</td><td>&hellip;</td><td>&hellip;</td><td>&hellip;</td><td>&hellip;</td><td>&hellip;</td><td>&hellip;</td><td>&hellip;</td><td>&hellip;</td></tr><tr><td>3.832434</td><td>-0.002359</td><td>0.033484</td><td>0.002304</td><td>-0.197864</td><td>-0.90359</td><td>3.205076</td><td>0.159889</td><td>0.983586</td><td>0.903195</td><td>0.003404</td><td>0.017558</td><td>-4.383268</td><td>-0.045378</td><td>14.128408</td><td>-1.362116</td><td>-0.007656</td><td>-3.3878e7</td><td>-0.000833</td><td>0.002944</td><td>0.001635</td><td>-0.115623</td><td>0.185879</td><td>0.266658</td><td>-0.020194</td><td>-0.503812</td><td>-0.019379</td><td>-0.013593</td><td>-0.026159</td><td>-0.02727</td><td>-0.007977</td><td>-0.01715</td><td>0.01428</td><td>-0.003164</td><td>-2.482282</td><td>0.907828</td><td>5.2439e9</td><td>&hellip;</td><td>-2.759607</td><td>0.373965</td><td>1.256731</td><td>1.699222</td><td>-0.011667</td><td>-144.664265</td><td>-0.031868</td><td>-0.041738</td><td>-0.152182</td><td>-0.134142</td><td>-0.230322</td><td>2.195198</td><td>-0.288013</td><td>0.376266</td><td>0.024695</td><td>1.15583</td><td>-0.003515</td><td>-1.195587</td><td>-0.221037</td><td>-6.340909</td><td>-0.006082</td><td>-0.070142</td><td>-0.000462</td><td>0.028699</td><td>-0.106717</td><td>-0.045413</td><td>-0.01032</td><td>1.231502</td><td>1.302698</td><td>1.174556</td><td>0.0</td><td>-2.4804</td><td>7.6632e96</td><td>0.006458</td><td>93433</td><td>&quot;201005&quot;</td><td>&quot;2010-05-28&quot;</td></tr><tr><td>3.832434</td><td>-0.002359</td><td>0.033484</td><td>0.002304</td><td>-0.197864</td><td>-0.90359</td><td>3.205076</td><td>0.159889</td><td>0.983586</td><td>0.903195</td><td>0.003404</td><td>0.017558</td><td>-4.383268</td><td>-0.045378</td><td>14.128408</td><td>-1.362116</td><td>-0.007656</td><td>-3.3878e7</td><td>-0.000833</td><td>0.002944</td><td>0.001635</td><td>-0.115623</td><td>0.185879</td><td>0.266658</td><td>-0.020194</td><td>-0.503812</td><td>-0.019379</td><td>-0.013593</td><td>-0.026159</td><td>-0.02727</td><td>-0.007977</td><td>-0.01715</td><td>0.01428</td><td>-0.003164</td><td>-2.482282</td><td>0.907828</td><td>5.2439e9</td><td>&hellip;</td><td>-2.759607</td><td>0.373965</td><td>1.256731</td><td>1.699222</td><td>-0.011667</td><td>-144.664265</td><td>-0.031868</td><td>-0.041738</td><td>-0.152182</td><td>-0.134142</td><td>-0.230322</td><td>2.195198</td><td>-0.288013</td><td>0.376266</td><td>0.024695</td><td>1.15583</td><td>-0.003515</td><td>-1.195587</td><td>-0.221037</td><td>-6.340909</td><td>-0.006082</td><td>-0.070142</td><td>-0.000462</td><td>0.028699</td><td>-0.106717</td><td>-0.045413</td><td>-0.01032</td><td>1.231502</td><td>1.302698</td><td>1.174556</td><td>0.0</td><td>-2.4804</td><td>7.6632e96</td><td>0.006458</td><td>93434</td><td>&quot;201005&quot;</td><td>&quot;2010-05-28&quot;</td></tr><tr><td>6.239851</td><td>0.00925</td><td>0.047751</td><td>0.004533</td><td>-0.272498</td><td>-0.846223</td><td>2.886851</td><td>0.326451</td><td>1.129362</td><td>0.942366</td><td>-0.002262</td><td>0.026976</td><td>-6.482531</td><td>-0.296208</td><td>28.077802</td><td>-1.42422</td><td>-0.002386</td><td>-8.1247e8</td><td>-0.004162</td><td>0.009589</td><td>0.01744</td><td>-0.119527</td><td>0.135778</td><td>0.236561</td><td>-0.019744</td><td>-0.47531</td><td>-0.007781</td><td>-0.013164</td><td>0.008484</td><td>-0.030304</td><td>-0.005677</td><td>-0.024971</td><td>0.012808</td><td>-0.002388</td><td>-1.600325</td><td>1.17707</td><td>-3.9638e10</td><td>&hellip;</td><td>-3.083119</td><td>0.459622</td><td>1.138042</td><td>1.717231</td><td>-0.015986</td><td>-35.616032</td><td>-0.026457</td><td>-0.051626</td><td>-0.368225</td><td>-0.309818</td><td>-1.151244</td><td>3.071218</td><td>-0.22198</td><td>0.285855</td><td>0.028901</td><td>0.957498</td><td>0.017022</td><td>-3.506058</td><td>-0.253705</td><td>-5.660153</td><td>-0.004861</td><td>-0.130257</td><td>-0.000561</td><td>-0.024886</td><td>-0.152194</td><td>-0.027144</td><td>-0.035668</td><td>1.300397</td><td>1.371637</td><td>1.244328</td><td>-6.5449</td><td>0.356675</td><td>-10.313187</td><td>0.065449</td><td>93434</td><td>&quot;202312&quot;</td><td>&quot;2023-12-29&quot;</td></tr><tr><td>3.832434</td><td>-0.002359</td><td>0.033484</td><td>0.002304</td><td>-0.197864</td><td>-0.90359</td><td>3.205076</td><td>0.159889</td><td>0.983586</td><td>0.903195</td><td>0.003404</td><td>0.017558</td><td>-4.383268</td><td>-0.045378</td><td>14.128408</td><td>-1.362116</td><td>-0.007656</td><td>-3.3878e7</td><td>-0.000833</td><td>0.002944</td><td>0.001635</td><td>-0.115623</td><td>0.185879</td><td>0.266658</td><td>-0.020194</td><td>-0.503812</td><td>-0.019379</td><td>-0.013593</td><td>-0.026159</td><td>-0.02727</td><td>-0.007977</td><td>-0.01715</td><td>0.01428</td><td>-0.003164</td><td>-2.482282</td><td>0.907828</td><td>5.2439e9</td><td>&hellip;</td><td>-2.759607</td><td>0.373965</td><td>1.256731</td><td>1.699222</td><td>-0.011667</td><td>-144.664265</td><td>-0.031868</td><td>-0.041738</td><td>-0.152182</td><td>-0.134142</td><td>-0.230322</td><td>2.195198</td><td>-0.288013</td><td>0.376266</td><td>0.024695</td><td>1.15583</td><td>-0.003515</td><td>-1.195587</td><td>-0.221037</td><td>-6.340909</td><td>-0.006082</td><td>-0.070142</td><td>-0.000462</td><td>0.028699</td><td>-0.106717</td><td>-0.045413</td><td>-0.01032</td><td>1.231502</td><td>1.302698</td><td>1.174556</td><td>0.0</td><td>-2.4804</td><td>7.6632e96</td><td>0.006458</td><td>93435</td><td>&quot;201005&quot;</td><td>&quot;2010-05-28&quot;</td></tr><tr><td>3.832434</td><td>-0.002359</td><td>0.033484</td><td>0.002304</td><td>-0.197864</td><td>-0.90359</td><td>3.205076</td><td>0.159889</td><td>0.983586</td><td>0.903195</td><td>0.003404</td><td>0.017558</td><td>-4.383268</td><td>-0.045378</td><td>14.128408</td><td>-1.362116</td><td>-0.007656</td><td>-3.3878e7</td><td>-0.000833</td><td>0.002944</td><td>0.001635</td><td>-0.115623</td><td>0.185879</td><td>0.266658</td><td>-0.020194</td><td>-0.503812</td><td>-0.019379</td><td>-0.013593</td><td>-0.026159</td><td>-0.02727</td><td>-0.007977</td><td>-0.01715</td><td>0.01428</td><td>-0.003164</td><td>-2.482282</td><td>0.907828</td><td>5.2439e9</td><td>&hellip;</td><td>-2.759607</td><td>0.373965</td><td>1.256731</td><td>1.699222</td><td>-0.011667</td><td>-144.664265</td><td>-0.031868</td><td>-0.041738</td><td>-0.152182</td><td>-0.134142</td><td>-0.230322</td><td>2.195198</td><td>-0.288013</td><td>0.376266</td><td>0.024695</td><td>1.15583</td><td>-0.003515</td><td>-1.195587</td><td>-0.221037</td><td>-6.340909</td><td>-0.006082</td><td>-0.070142</td><td>-0.000462</td><td>0.028699</td><td>-0.106717</td><td>-0.045413</td><td>-0.01032</td><td>1.231502</td><td>1.302698</td><td>1.174556</td><td>0.0</td><td>-2.4804</td><td>7.6632e96</td><td>0.006458</td><td>93436</td><td>&quot;201005&quot;</td><td>&quot;2010-05-28&quot;</td></tr></tbody></table></div>"
      ],
      "text/plain": [
       "shape: (3_487_273, 107)\n",
       "┌──────────┬──────────────┬──────────┬──────────────┬───┬───────────┬────────┬────────┬────────────┐\n",
       "│ AM       ┆ AbnormalAccr ┆ Accruals ┆ Announcement ┆ … ┆ ret       ┆ permno ┆ yyyymm ┆ date       │\n",
       "│ ---      ┆ uals         ┆ ---      ┆ Return       ┆   ┆ ---       ┆ ---    ┆ ---    ┆ ---        │\n",
       "│ f64      ┆ ---          ┆ f64      ┆ ---          ┆   ┆ f64       ┆ i64    ┆ str    ┆ str        │\n",
       "│          ┆ f64          ┆          ┆ f64          ┆   ┆           ┆        ┆        ┆            │\n",
       "╞══════════╪══════════════╪══════════╪══════════════╪═══╪═══════════╪════════╪════════╪════════════╡\n",
       "│ 7.001128 ┆ 0.006849     ┆ 0.037038 ┆ 0.027895     ┆ … ┆ 0.164573  ┆ 10000  ┆ 198601 ┆ 1986-01-31 │\n",
       "│ 4.422268 ┆ 0.004699     ┆ 0.040654 ┆ -0.02882     ┆ … ┆ -0.257143 ┆ 10000  ┆ 198602 ┆ 1986-02-28 │\n",
       "│ 2.101274 ┆ 0.006433     ┆ 0.043412 ┆ 0.050167     ┆ … ┆ 0.365385  ┆ 10000  ┆ 198603 ┆ 1986-03-31 │\n",
       "│ 3.169009 ┆ 0.005269     ┆ 0.04242  ┆ -0.003592    ┆ … ┆ -0.098592 ┆ 10000  ┆ 198604 ┆ 1986-04-30 │\n",
       "│ 7.097098 ┆ 0.010119     ┆ 0.042715 ┆ -0.002707    ┆ … ┆ -0.222656 ┆ 10000  ┆ 198605 ┆ 1986-05-30 │\n",
       "│ …        ┆ …            ┆ …        ┆ …            ┆ … ┆ …         ┆ …      ┆ …      ┆ …          │\n",
       "│ 3.832434 ┆ -0.002359    ┆ 0.033484 ┆ 0.002304     ┆ … ┆ 0.006458  ┆ 93433  ┆ 201005 ┆ 2010-05-28 │\n",
       "│ 3.832434 ┆ -0.002359    ┆ 0.033484 ┆ 0.002304     ┆ … ┆ 0.006458  ┆ 93434  ┆ 201005 ┆ 2010-05-28 │\n",
       "│ 6.239851 ┆ 0.00925      ┆ 0.047751 ┆ 0.004533     ┆ … ┆ 0.065449  ┆ 93434  ┆ 202312 ┆ 2023-12-29 │\n",
       "│ 3.832434 ┆ -0.002359    ┆ 0.033484 ┆ 0.002304     ┆ … ┆ 0.006458  ┆ 93435  ┆ 201005 ┆ 2010-05-28 │\n",
       "│ 3.832434 ┆ -0.002359    ┆ 0.033484 ┆ 0.002304     ┆ … ┆ 0.006458  ┆ 93436  ┆ 201005 ┆ 2010-05-28 │\n",
       "└──────────┴──────────────┴──────────┴──────────────┴───┴───────────┴────────┴────────┴────────────┘"
      ]
     },
     "execution_count": 17,
     "metadata": {},
     "output_type": "execute_result"
    }
   ],
   "source": [
    "data_imputed"
   ]
  },
  {
   "cell_type": "code",
   "execution_count": 5,
   "metadata": {},
   "outputs": [],
   "source": [
    "data_imputed = pl.read_csv(get_data_file_path(\"imputed_bf_xs_dataset.csv\"), dtypes={\"yyyymm\": pl.String})"
   ]
  },
  {
   "cell_type": "code",
   "execution_count": 13,
   "metadata": {},
   "outputs": [],
   "source": [
    "wtf = list(filter(lambda x: x != float(\"inf\"), data_imputed[\"Size\"].to_pandas().values))"
   ]
  },
  {
   "cell_type": "code",
   "execution_count": 14,
   "metadata": {},
   "outputs": [
    {
     "data": {
      "text/plain": [
       "(array([1., 0., 0., ..., 0., 0., 1.]),\n",
       " array([-2.15848144e+098, -2.13989876e+098, -2.12131607e+098, ...,\n",
       "         1.83631171e+100,  1.83649754e+100,  1.83668336e+100]),\n",
       " <BarContainer object of 10000 artists>)"
      ]
     },
     "execution_count": 14,
     "metadata": {},
     "output_type": "execute_result"
    },
    {
     "data": {
      "image/png": "[encoded data removed]",
      "text/plain": [
       "<Figure size 640x480 with 1 Axes>"
      ]
     },
     "metadata": {},
     "output_type": "display_data"
    }
   ],
   "source": [
    "import matplotlib.pyplot as plt\n",
    "plt.hist(wtf, bins=10_000)"
   ]
  },
  {
   "cell_type": "code",
   "execution_count": 18,
   "metadata": {},
   "outputs": [],
   "source": [
    "def evaluate_imputation(*, original_df: pd.DataFrame, imputed_df: pd.DataFrame) -> pd.Series:    \n",
    "    mask = original_df.isnull()\n",
    "    return ((original_df[mask] - imputed_df[mask]) ** 2).mean()"
   ]
  },
  {
   "cell_type": "code",
   "execution_count": 19,
   "metadata": {},
   "outputs": [
    {
     "name": "stdout",
     "output_type": "stream",
     "text": [
      "=====> MSE of global bf-xs imputation: AM                    NaN\n",
      "AbnormalAccruals      NaN\n",
      "Accruals              NaN\n",
      "AnnouncementReturn    NaN\n",
      "AssetGrowth           NaN\n",
      "                     ... \n",
      "roaq                  NaN\n",
      "yyyymm                NaN\n",
      "zerotrade             NaN\n",
      "zerotradeAlt1         NaN\n",
      "zerotradeAlt12        NaN\n",
      "Length: 107, dtype: object <=====\n"
     ]
    }
   ],
   "source": [
    "print(\n",
    "    \"=====> MSE of global bf-xs imputation:\",\n",
    "    evaluate_imputation(original_df=full_data.to_pandas(), imputed_df=data_imputed.to_pandas()),\n",
    "    \"<=====\"\n",
    ")"
   ]
  },
  {
   "cell_type": "code",
   "execution_count": 20,
   "metadata": {},
   "outputs": [],
   "source": [
    "# Save model to avoid recomputation\n",
    "data_imputed.write_csv(get_data_file_path(\"imputed_bf_xs_dataset.csv\"))"
   ]
  },
  {
   "cell_type": "code",
   "execution_count": 21,
   "metadata": {},
   "outputs": [],
   "source": [
    "imputer = SimpleImputer(strategy=\"mean\")\n",
    "X_imputed = imputer.fit_transform(np.clip(full_data.drop(\"permno\", \"yyyymm\", \"date\").to_numpy(), -1e100, 1e100))"
   ]
  },
  {
   "cell_type": "code",
   "execution_count": 22,
   "metadata": {},
   "outputs": [],
   "source": [
    "scaler = StandardScaler()\n",
    "X_scaled = scaler.fit_transform(X_imputed)"
   ]
  },
  {
   "cell_type": "code",
   "execution_count": 23,
   "metadata": {},
   "outputs": [
    {
     "name": "stderr",
     "output_type": "stream",
     "text": [
      "/var/folders/qk/3qb7y7bs23l46_jb_xbrk_zw0000gn/T/ipykernel_59967/2722902737.py:1: DeprecationWarning: `with_row_count` is deprecated. Use `with_row_index` instead. Note that the default column name has changed from 'row_nr' to 'index'.\n",
      "  X_scaled = pl.DataFrame(X_scaled, schema=full_data.drop(\"permno\", \"yyyymm\", \"date\").columns).with_row_count(\"index\").join(full_data.with_row_count(\"index\").select([\"index\", \"permno\", \"yyyymm\", \"date\"]), on=\"index\")\n"
     ]
    }
   ],
   "source": [
    "X_scaled = pl.DataFrame(X_scaled, schema=full_data.drop(\"permno\", \"yyyymm\", \"date\").columns).with_row_count(\"index\").join(full_data.with_row_count(\"index\").select([\"index\", \"permno\", \"yyyymm\", \"date\"]), on=\"index\")\n",
    "X_scaled = X_scaled.drop(\"index\")"
   ]
  },
  {
   "cell_type": "code",
   "execution_count": 24,
   "metadata": {},
   "outputs": [
    {
     "data": {
      "text/html": [
       "<div><style>\n",
       ".dataframe > thead > tr,\n",
       ".dataframe > tbody > tr {\n",
       "  text-align: right;\n",
       "  white-space: pre-wrap;\n",
       "}\n",
       "</style>\n",
       "<small>shape: (3_487_273, 107)</small><table border=\"1\" class=\"dataframe\"><thead><tr><th>AM</th><th>AbnormalAccruals</th><th>Accruals</th><th>AnnouncementReturn</th><th>AssetGrowth</th><th>BM</th><th>BMdec</th><th>BPEBM</th><th>Beta</th><th>BetaFP</th><th>BetaLiquidityPS</th><th>BidAskSpread</th><th>BookLeverage</th><th>CF</th><th>CashProd</th><th>ChEQ</th><th>ChInv</th><th>ChInvIA</th><th>ChNNCOA</th><th>ChNWC</th><th>ChTax</th><th>ConvDebt</th><th>CoskewACX</th><th>Coskewness</th><th>CredRatDG</th><th>DebtIssuance</th><th>DelCOA</th><th>DelCOL</th><th>DelEqu</th><th>DelFINL</th><th>DelLTI</th><th>DelNetFin</th><th>DivInit</th><th>DivOmit</th><th>DolVol</th><th>EBM</th><th>EarningsSurprise</th><th>&hellip;</th><th>PctTotAcc</th><th>PriceDelayRsq</th><th>PriceDelaySlope</th><th>PriceDelayTstat</th><th>RDIPO</th><th>RDS</th><th>RealizedVol</th><th>ResidualMomentum</th><th>ReturnSkew</th><th>ReturnSkew3F</th><th>RoE</th><th>SP</th><th>ShareIss1Y</th><th>ShareRepurchase</th><th>Spinoff</th><th>Tax</th><th>TotalAccruals</th><th>VarCF</th><th>VolMkt</th><th>VolSD</th><th>VolumeTrend</th><th>XFIN</th><th>betaVIX</th><th>cfp</th><th>dNoa</th><th>hire</th><th>roaq</th><th>zerotrade</th><th>zerotradeAlt1</th><th>zerotradeAlt12</th><th>STreversal</th><th>Price</th><th>Size</th><th>ret</th><th>permno</th><th>yyyymm</th><th>date</th></tr><tr><td>f64</td><td>f64</td><td>f64</td><td>f64</td><td>f64</td><td>f64</td><td>f64</td><td>f64</td><td>f64</td><td>f64</td><td>f64</td><td>f64</td><td>f64</td><td>f64</td><td>f64</td><td>f64</td><td>f64</td><td>f64</td><td>f64</td><td>f64</td><td>f64</td><td>f64</td><td>f64</td><td>f64</td><td>f64</td><td>f64</td><td>f64</td><td>f64</td><td>f64</td><td>f64</td><td>f64</td><td>f64</td><td>f64</td><td>f64</td><td>f64</td><td>f64</td><td>f64</td><td>&hellip;</td><td>f64</td><td>f64</td><td>f64</td><td>f64</td><td>f64</td><td>f64</td><td>f64</td><td>f64</td><td>f64</td><td>f64</td><td>f64</td><td>f64</td><td>f64</td><td>f64</td><td>f64</td><td>f64</td><td>f64</td><td>f64</td><td>f64</td><td>f64</td><td>f64</td><td>f64</td><td>f64</td><td>f64</td><td>f64</td><td>f64</td><td>f64</td><td>f64</td><td>f64</td><td>f64</td><td>f64</td><td>f64</td><td>f64</td><td>f64</td><td>i64</td><td>str</td><td>str</td></tr></thead><tbody><tr><td>1.2618e-16</td><td>-1.8651e-17</td><td>-1.3579e-16</td><td>-4.4924e-17</td><td>4.3038e-17</td><td>-1.0093e-15</td><td>4.7654e-17</td><td>-9.3312e-20</td><td>1.5116e-16</td><td>-1.2834e-15</td><td>-1.2378e-17</td><td>1.1250e-16</td><td>0.0</td><td>-3.2056e-18</td><td>-1.5092e-18</td><td>7.2720e-17</td><td>0.0</td><td>9.8005e-20</td><td>-2.1511e-18</td><td>-3.2419e-18</td><td>1.8678e-19</td><td>-5.1809e-17</td><td>-8.1167e-17</td><td>9.5015e-16</td><td>-3.3995e-17</td><td>2.9874e-16</td><td>-2.2082e-16</td><td>2.0930e-17</td><td>-5.4793e-17</td><td>7.1162e-17</td><td>-5.2313e-17</td><td>0.0</td><td>-0.143049</td><td>0.066935</td><td>3.0781e-16</td><td>3.7326e-19</td><td>-5.9561e-19</td><td>&hellip;</td><td>-4.1901e-17</td><td>-1.7745e-16</td><td>1.6778e-18</td><td>-1.1995e-15</td><td>-1.1549e-16</td><td>2.6169e-17</td><td>-0.104368</td><td>2.0683e-16</td><td>-2.353356</td><td>-2.50221</td><td>3.6869e-19</td><td>0.0</td><td>3.6013e-17</td><td>-6.8344e-16</td><td>-0.189255</td><td>-3.9414e-17</td><td>1.9767e-17</td><td>-2.4335e-17</td><td>1.5514e-17</td><td>-4.8062e-17</td><td>-5.7924e-16</td><td>1.3140e-16</td><td>-0.293597</td><td>5.8273e-18</td><td>-6.9127e-17</td><td>0.0</td><td>0.0</td><td>-1.5107e-16</td><td>-2.0026e-16</td><td>-1.6448e-16</td><td>0.046406</td><td>0.770903</td><td>-0.026803</td><td>-9.8200e-18</td><td>10000</td><td>&quot;198601&quot;</td><td>&quot;1986-01-31&quot;</td></tr><tr><td>1.2618e-16</td><td>-1.8651e-17</td><td>-1.3579e-16</td><td>-4.4924e-17</td><td>4.3038e-17</td><td>-1.0093e-15</td><td>4.7654e-17</td><td>-9.3312e-20</td><td>1.5116e-16</td><td>-1.2834e-15</td><td>-1.2378e-17</td><td>1.1250e-16</td><td>0.0</td><td>-3.2056e-18</td><td>-1.5092e-18</td><td>7.2720e-17</td><td>0.0</td><td>9.8005e-20</td><td>-2.1511e-18</td><td>-3.2419e-18</td><td>1.8678e-19</td><td>-5.1809e-17</td><td>-8.1167e-17</td><td>9.5015e-16</td><td>-3.3995e-17</td><td>2.9874e-16</td><td>-2.2082e-16</td><td>2.0930e-17</td><td>-5.4793e-17</td><td>7.1162e-17</td><td>-5.2313e-17</td><td>0.0</td><td>-0.143049</td><td>0.066935</td><td>3.0781e-16</td><td>3.7326e-19</td><td>-5.9561e-19</td><td>&hellip;</td><td>-4.1901e-17</td><td>-1.7745e-16</td><td>1.6778e-18</td><td>-1.1995e-15</td><td>-1.1549e-16</td><td>2.6169e-17</td><td>0.002903</td><td>2.0683e-16</td><td>1.008449</td><td>1.213528</td><td>3.6869e-19</td><td>0.0</td><td>3.6013e-17</td><td>-6.8344e-16</td><td>-0.189255</td><td>-3.9414e-17</td><td>1.9767e-17</td><td>-2.4335e-17</td><td>1.5514e-17</td><td>-4.8062e-17</td><td>-5.7924e-16</td><td>1.3140e-16</td><td>-0.186203</td><td>5.8273e-18</td><td>-6.9127e-17</td><td>0.0</td><td>0.0</td><td>-1.5107e-16</td><td>-0.390956</td><td>-1.6448e-16</td><td>1.485654</td><td>0.998495</td><td>-0.026803</td><td>-1.507075</td><td>10000</td><td>&quot;198602&quot;</td><td>&quot;1986-02-28&quot;</td></tr><tr><td>1.2618e-16</td><td>-1.8651e-17</td><td>-1.3579e-16</td><td>-4.4924e-17</td><td>4.3038e-17</td><td>-1.0093e-15</td><td>4.7654e-17</td><td>-9.3312e-20</td><td>1.5116e-16</td><td>-1.2834e-15</td><td>-1.2378e-17</td><td>1.1250e-16</td><td>0.0</td><td>-3.2056e-18</td><td>-1.5092e-18</td><td>7.2720e-17</td><td>0.0</td><td>9.8005e-20</td><td>-2.1511e-18</td><td>-3.2419e-18</td><td>1.8678e-19</td><td>-5.1809e-17</td><td>-8.1167e-17</td><td>9.5015e-16</td><td>-3.3995e-17</td><td>2.9874e-16</td><td>-2.2082e-16</td><td>2.0930e-17</td><td>-5.4793e-17</td><td>7.1162e-17</td><td>-5.2313e-17</td><td>0.0</td><td>-0.143049</td><td>0.066935</td><td>0.947975</td><td>3.7326e-19</td><td>-5.9561e-19</td><td>&hellip;</td><td>-4.1901e-17</td><td>-1.7745e-16</td><td>1.6778e-18</td><td>-1.1995e-15</td><td>-1.1549e-16</td><td>2.6169e-17</td><td>-0.039487</td><td>2.0683e-16</td><td>-1.729877</td><td>-1.143943</td><td>3.6869e-19</td><td>0.0</td><td>3.6013e-17</td><td>-6.8344e-16</td><td>-0.189255</td><td>-3.9414e-17</td><td>1.9767e-17</td><td>-2.4335e-17</td><td>1.5514e-17</td><td>-4.8062e-17</td><td>-5.7924e-16</td><td>1.3140e-16</td><td>-0.138689</td><td>5.8273e-18</td><td>-6.9127e-17</td><td>0.0</td><td>0.0</td><td>-1.5107e-16</td><td>-0.390956</td><td>-1.6448e-16</td><td>-1.998679</td><td>0.760043</td><td>-0.026803</td><td>2.016954</td><td>10000</td><td>&quot;198603&quot;</td><td>&quot;1986-03-31&quot;</td></tr><tr><td>1.2618e-16</td><td>-1.8651e-17</td><td>-1.3579e-16</td><td>-4.4924e-17</td><td>4.3038e-17</td><td>-1.0093e-15</td><td>4.7654e-17</td><td>-9.3312e-20</td><td>1.5116e-16</td><td>-1.2834e-15</td><td>-1.2378e-17</td><td>1.1250e-16</td><td>0.0</td><td>-3.2056e-18</td><td>-1.5092e-18</td><td>7.2720e-17</td><td>0.0</td><td>9.8005e-20</td><td>-2.1511e-18</td><td>-3.2419e-18</td><td>1.8678e-19</td><td>-5.1809e-17</td><td>-8.1167e-17</td><td>9.5015e-16</td><td>-3.3995e-17</td><td>2.9874e-16</td><td>-2.2082e-16</td><td>2.0930e-17</td><td>-5.4793e-17</td><td>7.1162e-17</td><td>-5.2313e-17</td><td>0.0</td><td>-0.143049</td><td>0.066935</td><td>1.314473</td><td>3.7326e-19</td><td>-5.9561e-19</td><td>&hellip;</td><td>-4.1901e-17</td><td>-1.7745e-16</td><td>1.6778e-18</td><td>-1.1995e-15</td><td>-1.1549e-16</td><td>2.6169e-17</td><td>0.064741</td><td>2.0683e-16</td><td>0.494883</td><td>0.267115</td><td>3.6869e-19</td><td>0.0</td><td>3.6013e-17</td><td>-6.8344e-16</td><td>-0.189255</td><td>-3.9414e-17</td><td>1.9767e-17</td><td>-2.4335e-17</td><td>1.5514e-17</td><td>-4.8062e-17</td><td>-5.7924e-16</td><td>1.3140e-16</td><td>0.082222</td><td>5.8273e-18</td><td>-6.9127e-17</td><td>0.0</td><td>0.0</td><td>-1.5107e-16</td><td>-0.390956</td><td>-1.6448e-16</td><td>0.598233</td><td>0.839515</td><td>-0.026803</td><td>-0.609544</td><td>10000</td><td>&quot;198604&quot;</td><td>&quot;1986-04-30&quot;</td></tr><tr><td>1.2618e-16</td><td>-1.8651e-17</td><td>-1.3579e-16</td><td>-4.4924e-17</td><td>4.3038e-17</td><td>-1.0093e-15</td><td>4.7654e-17</td><td>-9.3312e-20</td><td>1.5116e-16</td><td>-1.2834e-15</td><td>-1.2378e-17</td><td>1.1250e-16</td><td>0.0</td><td>-3.2056e-18</td><td>-1.5092e-18</td><td>7.2720e-17</td><td>0.0</td><td>9.8005e-20</td><td>-2.1511e-18</td><td>-3.2419e-18</td><td>1.8678e-19</td><td>-5.1809e-17</td><td>-8.1167e-17</td><td>9.5015e-16</td><td>-3.3995e-17</td><td>2.9874e-16</td><td>-2.2082e-16</td><td>2.0930e-17</td><td>-5.4793e-17</td><td>7.1162e-17</td><td>-5.2313e-17</td><td>0.0</td><td>-0.143049</td><td>0.066935</td><td>1.115103</td><td>3.7326e-19</td><td>-5.9561e-19</td><td>&hellip;</td><td>-4.1901e-17</td><td>-1.7745e-16</td><td>1.6778e-18</td><td>-1.1995e-15</td><td>-1.1549e-16</td><td>2.6169e-17</td><td>-0.021692</td><td>2.0683e-16</td><td>-1.278067</td><td>-0.761852</td><td>3.6869e-19</td><td>0.0</td><td>3.6013e-17</td><td>-6.8344e-16</td><td>-0.189255</td><td>-3.9414e-17</td><td>1.9767e-17</td><td>-2.4335e-17</td><td>1.5514e-17</td><td>-4.8062e-17</td><td>-5.7924e-16</td><td>1.3140e-16</td><td>0.570583</td><td>5.8273e-18</td><td>-6.9127e-17</td><td>0.0</td><td>0.0</td><td>-1.5107e-16</td><td>-0.390956</td><td>-1.6448e-16</td><td>1.292628</td><td>1.032361</td><td>-0.026803</td><td>-1.31185</td><td>10000</td><td>&quot;198605&quot;</td><td>&quot;1986-05-30&quot;</td></tr><tr><td>&hellip;</td><td>&hellip;</td><td>&hellip;</td><td>&hellip;</td><td>&hellip;</td><td>&hellip;</td><td>&hellip;</td><td>&hellip;</td><td>&hellip;</td><td>&hellip;</td><td>&hellip;</td><td>&hellip;</td><td>&hellip;</td><td>&hellip;</td><td>&hellip;</td><td>&hellip;</td><td>&hellip;</td><td>&hellip;</td><td>&hellip;</td><td>&hellip;</td><td>&hellip;</td><td>&hellip;</td><td>&hellip;</td><td>&hellip;</td><td>&hellip;</td><td>&hellip;</td><td>&hellip;</td><td>&hellip;</td><td>&hellip;</td><td>&hellip;</td><td>&hellip;</td><td>&hellip;</td><td>&hellip;</td><td>&hellip;</td><td>&hellip;</td><td>&hellip;</td><td>&hellip;</td><td>&hellip;</td><td>&hellip;</td><td>&hellip;</td><td>&hellip;</td><td>&hellip;</td><td>&hellip;</td><td>&hellip;</td><td>&hellip;</td><td>&hellip;</td><td>&hellip;</td><td>&hellip;</td><td>&hellip;</td><td>&hellip;</td><td>&hellip;</td><td>&hellip;</td><td>&hellip;</td><td>&hellip;</td><td>&hellip;</td><td>&hellip;</td><td>&hellip;</td><td>&hellip;</td><td>&hellip;</td><td>&hellip;</td><td>&hellip;</td><td>&hellip;</td><td>&hellip;</td><td>&hellip;</td><td>&hellip;</td><td>&hellip;</td><td>&hellip;</td><td>&hellip;</td><td>&hellip;</td><td>&hellip;</td><td>&hellip;</td><td>&hellip;</td><td>&hellip;</td><td>&hellip;</td><td>&hellip;</td></tr><tr><td>1.2618e-16</td><td>-1.8651e-17</td><td>-1.3579e-16</td><td>-4.4924e-17</td><td>4.3038e-17</td><td>-1.0093e-15</td><td>4.7654e-17</td><td>-9.3312e-20</td><td>1.5116e-16</td><td>-1.2834e-15</td><td>-1.2378e-17</td><td>1.1250e-16</td><td>0.0</td><td>-3.2056e-18</td><td>-1.5092e-18</td><td>7.2720e-17</td><td>0.0</td><td>9.8005e-20</td><td>-2.1511e-18</td><td>-3.2419e-18</td><td>1.8678e-19</td><td>-5.1809e-17</td><td>-8.1167e-17</td><td>9.5015e-16</td><td>-3.3995e-17</td><td>2.9874e-16</td><td>-2.2082e-16</td><td>2.0930e-17</td><td>-5.4793e-17</td><td>7.1162e-17</td><td>-5.2313e-17</td><td>0.0</td><td>-6.9439e-17</td><td>6.4201e-17</td><td>3.0781e-16</td><td>3.7326e-19</td><td>-5.9561e-19</td><td>&hellip;</td><td>-4.1901e-17</td><td>-1.7745e-16</td><td>1.6778e-18</td><td>-1.1995e-15</td><td>-1.1549e-16</td><td>2.6169e-17</td><td>1.3030e-16</td><td>2.0683e-16</td><td>1.5720e-16</td><td>3.5398e-17</td><td>3.6869e-19</td><td>0.0</td><td>3.6013e-17</td><td>-6.8344e-16</td><td>-2.1220e-16</td><td>-3.9414e-17</td><td>1.9767e-17</td><td>-2.4335e-17</td><td>1.5514e-17</td><td>-4.8062e-17</td><td>-5.7924e-16</td><td>1.3140e-16</td><td>3.3339e-17</td><td>5.8273e-18</td><td>-6.9127e-17</td><td>0.0</td><td>0.0</td><td>-1.5107e-16</td><td>-2.0026e-16</td><td>-1.6448e-16</td><td>0.046406</td><td>-1.7001e-15</td><td>0.0</td><td>-9.8200e-18</td><td>93433</td><td>&quot;201005&quot;</td><td>&quot;2010-05-28&quot;</td></tr><tr><td>1.2618e-16</td><td>-1.8651e-17</td><td>-1.3579e-16</td><td>-4.4924e-17</td><td>4.3038e-17</td><td>-1.0093e-15</td><td>4.7654e-17</td><td>-9.3312e-20</td><td>1.5116e-16</td><td>-1.2834e-15</td><td>-1.2378e-17</td><td>1.1250e-16</td><td>0.0</td><td>-3.2056e-18</td><td>-1.5092e-18</td><td>7.2720e-17</td><td>0.0</td><td>9.8005e-20</td><td>-2.1511e-18</td><td>-3.2419e-18</td><td>1.8678e-19</td><td>-5.1809e-17</td><td>-8.1167e-17</td><td>9.5015e-16</td><td>-3.3995e-17</td><td>2.9874e-16</td><td>-2.2082e-16</td><td>2.0930e-17</td><td>-5.4793e-17</td><td>7.1162e-17</td><td>-5.2313e-17</td><td>0.0</td><td>-6.9439e-17</td><td>6.4201e-17</td><td>3.0781e-16</td><td>3.7326e-19</td><td>-5.9561e-19</td><td>&hellip;</td><td>-4.1901e-17</td><td>-1.7745e-16</td><td>1.6778e-18</td><td>-1.1995e-15</td><td>-1.1549e-16</td><td>2.6169e-17</td><td>1.3030e-16</td><td>2.0683e-16</td><td>1.5720e-16</td><td>3.5398e-17</td><td>3.6869e-19</td><td>0.0</td><td>3.6013e-17</td><td>-6.8344e-16</td><td>-2.1220e-16</td><td>-3.9414e-17</td><td>1.9767e-17</td><td>-2.4335e-17</td><td>1.5514e-17</td><td>-4.8062e-17</td><td>-5.7924e-16</td><td>1.3140e-16</td><td>3.3339e-17</td><td>5.8273e-18</td><td>-6.9127e-17</td><td>0.0</td><td>0.0</td><td>-1.5107e-16</td><td>-2.0026e-16</td><td>-1.6448e-16</td><td>0.046406</td><td>-1.7001e-15</td><td>0.0</td><td>-9.8200e-18</td><td>93434</td><td>&quot;201005&quot;</td><td>&quot;2010-05-28&quot;</td></tr><tr><td>1.2618e-16</td><td>-1.8651e-17</td><td>-1.3579e-16</td><td>-4.4924e-17</td><td>4.3038e-17</td><td>-1.0093e-15</td><td>4.7654e-17</td><td>-9.3312e-20</td><td>1.5116e-16</td><td>-1.2834e-15</td><td>-1.2378e-17</td><td>1.1250e-16</td><td>0.0</td><td>-3.2056e-18</td><td>-1.5092e-18</td><td>7.2720e-17</td><td>0.0</td><td>9.8005e-20</td><td>-2.1511e-18</td><td>-3.2419e-18</td><td>1.8678e-19</td><td>-5.1809e-17</td><td>-8.1167e-17</td><td>9.5015e-16</td><td>-3.3995e-17</td><td>2.9874e-16</td><td>-2.2082e-16</td><td>2.0930e-17</td><td>-5.4793e-17</td><td>7.1162e-17</td><td>-5.2313e-17</td><td>0.0</td><td>-6.9439e-17</td><td>6.4201e-17</td><td>3.0781e-16</td><td>3.7326e-19</td><td>-5.9561e-19</td><td>&hellip;</td><td>-4.1901e-17</td><td>-1.7745e-16</td><td>1.6778e-18</td><td>-1.1995e-15</td><td>-1.1549e-16</td><td>2.6169e-17</td><td>1.3030e-16</td><td>2.0683e-16</td><td>1.5720e-16</td><td>3.5398e-17</td><td>3.6869e-19</td><td>0.0</td><td>3.6013e-17</td><td>-6.8344e-16</td><td>-2.1220e-16</td><td>-3.9414e-17</td><td>1.9767e-17</td><td>-2.4335e-17</td><td>1.5514e-17</td><td>-4.8062e-17</td><td>-5.7924e-16</td><td>1.3140e-16</td><td>3.3339e-17</td><td>5.8273e-18</td><td>-6.9127e-17</td><td>0.0</td><td>0.0</td><td>-1.5107e-16</td><td>-2.0026e-16</td><td>-1.6448e-16</td><td>-0.319916</td><td>2.174025</td><td>-0.026803</td><td>0.319066</td><td>93434</td><td>&quot;202312&quot;</td><td>&quot;2023-12-29&quot;</td></tr><tr><td>1.2618e-16</td><td>-1.8651e-17</td><td>-1.3579e-16</td><td>-4.4924e-17</td><td>4.3038e-17</td><td>-1.0093e-15</td><td>4.7654e-17</td><td>-9.3312e-20</td><td>1.5116e-16</td><td>-1.2834e-15</td><td>-1.2378e-17</td><td>1.1250e-16</td><td>0.0</td><td>-3.2056e-18</td><td>-1.5092e-18</td><td>7.2720e-17</td><td>0.0</td><td>9.8005e-20</td><td>-2.1511e-18</td><td>-3.2419e-18</td><td>1.8678e-19</td><td>-5.1809e-17</td><td>-8.1167e-17</td><td>9.5015e-16</td><td>-3.3995e-17</td><td>2.9874e-16</td><td>-2.2082e-16</td><td>2.0930e-17</td><td>-5.4793e-17</td><td>7.1162e-17</td><td>-5.2313e-17</td><td>0.0</td><td>-6.9439e-17</td><td>6.4201e-17</td><td>3.0781e-16</td><td>3.7326e-19</td><td>-5.9561e-19</td><td>&hellip;</td><td>-4.1901e-17</td><td>-1.7745e-16</td><td>1.6778e-18</td><td>-1.1995e-15</td><td>-1.1549e-16</td><td>2.6169e-17</td><td>1.3030e-16</td><td>2.0683e-16</td><td>1.5720e-16</td><td>3.5398e-17</td><td>3.6869e-19</td><td>0.0</td><td>3.6013e-17</td><td>-6.8344e-16</td><td>-2.1220e-16</td><td>-3.9414e-17</td><td>1.9767e-17</td><td>-2.4335e-17</td><td>1.5514e-17</td><td>-4.8062e-17</td><td>-5.7924e-16</td><td>1.3140e-16</td><td>3.3339e-17</td><td>5.8273e-18</td><td>-6.9127e-17</td><td>0.0</td><td>0.0</td><td>-1.5107e-16</td><td>-2.0026e-16</td><td>-1.6448e-16</td><td>0.046406</td><td>-1.7001e-15</td><td>0.0</td><td>-9.8200e-18</td><td>93435</td><td>&quot;201005&quot;</td><td>&quot;2010-05-28&quot;</td></tr><tr><td>1.2618e-16</td><td>-1.8651e-17</td><td>-1.3579e-16</td><td>-4.4924e-17</td><td>4.3038e-17</td><td>-1.0093e-15</td><td>4.7654e-17</td><td>-9.3312e-20</td><td>1.5116e-16</td><td>-1.2834e-15</td><td>-1.2378e-17</td><td>1.1250e-16</td><td>0.0</td><td>-3.2056e-18</td><td>-1.5092e-18</td><td>7.2720e-17</td><td>0.0</td><td>9.8005e-20</td><td>-2.1511e-18</td><td>-3.2419e-18</td><td>1.8678e-19</td><td>-5.1809e-17</td><td>-8.1167e-17</td><td>9.5015e-16</td><td>-3.3995e-17</td><td>2.9874e-16</td><td>-2.2082e-16</td><td>2.0930e-17</td><td>-5.4793e-17</td><td>7.1162e-17</td><td>-5.2313e-17</td><td>0.0</td><td>-6.9439e-17</td><td>6.4201e-17</td><td>3.0781e-16</td><td>3.7326e-19</td><td>-5.9561e-19</td><td>&hellip;</td><td>-4.1901e-17</td><td>-1.7745e-16</td><td>1.6778e-18</td><td>-1.1995e-15</td><td>-1.1549e-16</td><td>2.6169e-17</td><td>1.3030e-16</td><td>2.0683e-16</td><td>1.5720e-16</td><td>3.5398e-17</td><td>3.6869e-19</td><td>0.0</td><td>3.6013e-17</td><td>-6.8344e-16</td><td>-2.1220e-16</td><td>-3.9414e-17</td><td>1.9767e-17</td><td>-2.4335e-17</td><td>1.5514e-17</td><td>-4.8062e-17</td><td>-5.7924e-16</td><td>1.3140e-16</td><td>3.3339e-17</td><td>5.8273e-18</td><td>-6.9127e-17</td><td>0.0</td><td>0.0</td><td>-1.5107e-16</td><td>-2.0026e-16</td><td>-1.6448e-16</td><td>0.046406</td><td>-1.7001e-15</td><td>0.0</td><td>-9.8200e-18</td><td>93436</td><td>&quot;201005&quot;</td><td>&quot;2010-05-28&quot;</td></tr></tbody></table></div>"
      ],
      "text/plain": [
       "shape: (3_487_273, 107)\n",
       "┌────────────┬────────────┬────────────┬────────────┬───┬────────────┬────────┬────────┬───────────┐\n",
       "│ AM         ┆ AbnormalAc ┆ Accruals   ┆ Announceme ┆ … ┆ ret        ┆ permno ┆ yyyymm ┆ date      │\n",
       "│ ---        ┆ cruals     ┆ ---        ┆ ntReturn   ┆   ┆ ---        ┆ ---    ┆ ---    ┆ ---       │\n",
       "│ f64        ┆ ---        ┆ f64        ┆ ---        ┆   ┆ f64        ┆ i64    ┆ str    ┆ str       │\n",
       "│            ┆ f64        ┆            ┆ f64        ┆   ┆            ┆        ┆        ┆           │\n",
       "╞════════════╪════════════╪════════════╪════════════╪═══╪════════════╪════════╪════════╪═══════════╡\n",
       "│ 1.2618e-16 ┆ -1.8651e-1 ┆ -1.3579e-1 ┆ -4.4924e-1 ┆ … ┆ -9.8200e-1 ┆ 10000  ┆ 198601 ┆ 1986-01-3 │\n",
       "│            ┆ 7          ┆ 6          ┆ 7          ┆   ┆ 8          ┆        ┆        ┆ 1         │\n",
       "│ 1.2618e-16 ┆ -1.8651e-1 ┆ -1.3579e-1 ┆ -4.4924e-1 ┆ … ┆ -1.507075  ┆ 10000  ┆ 198602 ┆ 1986-02-2 │\n",
       "│            ┆ 7          ┆ 6          ┆ 7          ┆   ┆            ┆        ┆        ┆ 8         │\n",
       "│ 1.2618e-16 ┆ -1.8651e-1 ┆ -1.3579e-1 ┆ -4.4924e-1 ┆ … ┆ 2.016954   ┆ 10000  ┆ 198603 ┆ 1986-03-3 │\n",
       "│            ┆ 7          ┆ 6          ┆ 7          ┆   ┆            ┆        ┆        ┆ 1         │\n",
       "│ 1.2618e-16 ┆ -1.8651e-1 ┆ -1.3579e-1 ┆ -4.4924e-1 ┆ … ┆ -0.609544  ┆ 10000  ┆ 198604 ┆ 1986-04-3 │\n",
       "│            ┆ 7          ┆ 6          ┆ 7          ┆   ┆            ┆        ┆        ┆ 0         │\n",
       "│ 1.2618e-16 ┆ -1.8651e-1 ┆ -1.3579e-1 ┆ -4.4924e-1 ┆ … ┆ -1.31185   ┆ 10000  ┆ 198605 ┆ 1986-05-3 │\n",
       "│            ┆ 7          ┆ 6          ┆ 7          ┆   ┆            ┆        ┆        ┆ 0         │\n",
       "│ …          ┆ …          ┆ …          ┆ …          ┆ … ┆ …          ┆ …      ┆ …      ┆ …         │\n",
       "│ 1.2618e-16 ┆ -1.8651e-1 ┆ -1.3579e-1 ┆ -4.4924e-1 ┆ … ┆ -9.8200e-1 ┆ 93433  ┆ 201005 ┆ 2010-05-2 │\n",
       "│            ┆ 7          ┆ 6          ┆ 7          ┆   ┆ 8          ┆        ┆        ┆ 8         │\n",
       "│ 1.2618e-16 ┆ -1.8651e-1 ┆ -1.3579e-1 ┆ -4.4924e-1 ┆ … ┆ -9.8200e-1 ┆ 93434  ┆ 201005 ┆ 2010-05-2 │\n",
       "│            ┆ 7          ┆ 6          ┆ 7          ┆   ┆ 8          ┆        ┆        ┆ 8         │\n",
       "│ 1.2618e-16 ┆ -1.8651e-1 ┆ -1.3579e-1 ┆ -4.4924e-1 ┆ … ┆ 0.319066   ┆ 93434  ┆ 202312 ┆ 2023-12-2 │\n",
       "│            ┆ 7          ┆ 6          ┆ 7          ┆   ┆            ┆        ┆        ┆ 9         │\n",
       "│ 1.2618e-16 ┆ -1.8651e-1 ┆ -1.3579e-1 ┆ -4.4924e-1 ┆ … ┆ -9.8200e-1 ┆ 93435  ┆ 201005 ┆ 2010-05-2 │\n",
       "│            ┆ 7          ┆ 6          ┆ 7          ┆   ┆ 8          ┆        ┆        ┆ 8         │\n",
       "│ 1.2618e-16 ┆ -1.8651e-1 ┆ -1.3579e-1 ┆ -4.4924e-1 ┆ … ┆ -9.8200e-1 ┆ 93436  ┆ 201005 ┆ 2010-05-2 │\n",
       "│            ┆ 7          ┆ 6          ┆ 7          ┆   ┆ 8          ┆        ┆        ┆ 8         │\n",
       "└────────────┴────────────┴────────────┴────────────┴───┴────────────┴────────┴────────┴───────────┘"
      ]
     },
     "execution_count": 24,
     "metadata": {},
     "output_type": "execute_result"
    }
   ],
   "source": [
    "X_scaled"
   ]
  },
  {
   "cell_type": "code",
   "execution_count": 25,
   "metadata": {},
   "outputs": [],
   "source": [
    "X_scaled.write_csv(get_data_file_path(\"simple_mean_imputed_dataset.csv\"))"
   ]
  },
  {
   "cell_type": "markdown",
   "metadata": {},
   "source": [
    "## 4. Processing"
   ]
  },
  {
   "cell_type": "code",
   "execution_count": 34,
   "metadata": {},
   "outputs": [
    {
     "data": {
      "text/html": [
       "<div><style>\n",
       ".dataframe > thead > tr,\n",
       ".dataframe > tbody > tr {\n",
       "  text-align: right;\n",
       "  white-space: pre-wrap;\n",
       "}\n",
       "</style>\n",
       "<small>shape: (3_487_273, 108)</small><table border=\"1\" class=\"dataframe\"><thead><tr><th>AM</th><th>AbnormalAccruals</th><th>Accruals</th><th>AnnouncementReturn</th><th>AssetGrowth</th><th>BM</th><th>BMdec</th><th>BPEBM</th><th>Beta</th><th>BetaFP</th><th>BetaLiquidityPS</th><th>BidAskSpread</th><th>BookLeverage</th><th>CF</th><th>CashProd</th><th>ChEQ</th><th>ChInv</th><th>ChInvIA</th><th>ChNNCOA</th><th>ChNWC</th><th>ChTax</th><th>ConvDebt</th><th>CoskewACX</th><th>Coskewness</th><th>CredRatDG</th><th>DebtIssuance</th><th>DelCOA</th><th>DelCOL</th><th>DelEqu</th><th>DelFINL</th><th>DelLTI</th><th>DelNetFin</th><th>DivInit</th><th>DivOmit</th><th>DolVol</th><th>EBM</th><th>EarningsSurprise</th><th>&hellip;</th><th>PriceDelayRsq</th><th>PriceDelaySlope</th><th>PriceDelayTstat</th><th>RDIPO</th><th>RDS</th><th>RealizedVol</th><th>ResidualMomentum</th><th>ReturnSkew</th><th>ReturnSkew3F</th><th>RoE</th><th>SP</th><th>ShareIss1Y</th><th>ShareRepurchase</th><th>Spinoff</th><th>Tax</th><th>TotalAccruals</th><th>VarCF</th><th>VolMkt</th><th>VolSD</th><th>VolumeTrend</th><th>XFIN</th><th>betaVIX</th><th>cfp</th><th>dNoa</th><th>hire</th><th>roaq</th><th>zerotrade</th><th>zerotradeAlt1</th><th>zerotradeAlt12</th><th>STreversal</th><th>log_price</th><th>Size</th><th>ret</th><th>permno</th><th>yyyymm</th><th>date</th><th>price</th></tr><tr><td>f64</td><td>f64</td><td>f64</td><td>f64</td><td>f64</td><td>f64</td><td>f64</td><td>f64</td><td>f64</td><td>f64</td><td>f64</td><td>f64</td><td>f64</td><td>f64</td><td>f64</td><td>f64</td><td>f64</td><td>f64</td><td>f64</td><td>f64</td><td>f64</td><td>f64</td><td>f64</td><td>f64</td><td>f64</td><td>f64</td><td>f64</td><td>f64</td><td>f64</td><td>f64</td><td>f64</td><td>f64</td><td>f64</td><td>f64</td><td>f64</td><td>f64</td><td>f64</td><td>&hellip;</td><td>f64</td><td>f64</td><td>f64</td><td>f64</td><td>f64</td><td>f64</td><td>f64</td><td>f64</td><td>f64</td><td>f64</td><td>f64</td><td>f64</td><td>f64</td><td>f64</td><td>f64</td><td>f64</td><td>f64</td><td>f64</td><td>f64</td><td>f64</td><td>f64</td><td>f64</td><td>f64</td><td>f64</td><td>f64</td><td>f64</td><td>f64</td><td>f64</td><td>f64</td><td>f64</td><td>f64</td><td>f64</td><td>f64</td><td>i64</td><td>str</td><td>str</td><td>f64</td></tr></thead><tbody><tr><td>7.001128</td><td>0.006849</td><td>0.037038</td><td>0.027895</td><td>-0.200706</td><td>-0.933438</td><td>4.365937</td><td>-1.474361</td><td>1.558752</td><td>1.199701</td><td>-0.011071</td><td>0.031711</td><td>-3.55688</td><td>-0.369301</td><td>16.417263</td><td>-1.57609</td><td>-0.009028</td><td>-4.0202e9</td><td>-0.026663</td><td>-0.011968</td><td>-0.018995</td><td>-0.155542</td><td>0.203796</td><td>0.325541</td><td>-0.021278</td><td>-0.469517</td><td>-0.024636</td><td>-0.017632</td><td>-0.049977</td><td>-0.017856</td><td>-0.002983</td><td>-0.011635</td><td>0.0</td><td>0.0</td><td>-1.876211</td><td>-0.783592</td><td>1.8655e10</td><td>&hellip;</td><td>0.398978</td><td>-0.201488</td><td>1.316417</td><td>-0.009136</td><td>-53.169038</td><td>-0.065278</td><td>-0.059397</td><td>-2.23832</td><td>-2.103353</td><td>-0.312708</td><td>3.224296</td><td>-0.382112</td><td>0.262342</td><td>0.0</td><td>1.039741</td><td>0.004562</td><td>-5.508604</td><td>-0.442826</td><td>-11.488449</td><td>-0.008308</td><td>-0.122807</td><td>-0.005234</td><td>-0.018525</td><td>-0.102385</td><td>-0.048615</td><td>-0.031407</td><td>1.42601</td><td>1.513613</td><td>1.347789</td><td>0.0</td><td>-1.475907</td><td>-9.686575</td><td>0.164573</td><td>10000</td><td>&quot;198601&quot;</td><td>&quot;1986-01-31&quot;</td><td>4.375</td></tr><tr><td>4.422268</td><td>0.004699</td><td>0.040654</td><td>-0.02882</td><td>-0.244965</td><td>-0.917169</td><td>3.137262</td><td>0.435059</td><td>1.024039</td><td>0.902381</td><td>-0.000944</td><td>0.021297</td><td>-6.089692</td><td>-0.158117</td><td>22.61442</td><td>-1.440656</td><td>-0.005389</td><td>-5.9807e9</td><td>-0.005398</td><td>0.005968</td><td>0.007321</td><td>-0.111807</td><td>0.166011</td><td>0.23915</td><td>-0.016656</td><td>-0.47921</td><td>-0.015011</td><td>-0.015161</td><td>-0.013843</td><td>-0.030942</td><td>-0.008467</td><td>-0.020292</td><td>0.0</td><td>0.0</td><td>-2.24073</td><td>1.32087</td><td>-7.8126e9</td><td>&hellip;</td><td>0.422778</td><td>1.427154</td><td>1.739605</td><td>-0.017578</td><td>-84.621812</td><td>-0.031004</td><td>-0.014548</td><td>0.729555</td><td>0.810187</td><td>-1.011627</td><td>2.513864</td><td>-0.290552</td><td>0.307018</td><td>0.0</td><td>0.99067</td><td>0.009428</td><td>-1.258062</td><td>-0.324097</td><td>-5.877647</td><td>-0.006366</td><td>-0.127155</td><td>-0.003488</td><td>-0.039211</td><td>-0.128668</td><td>-0.043868</td><td>-0.028472</td><td>1.054238</td><td>4.7852e-8</td><td>1.01621</td><td>25.7143</td><td>-1.178655</td><td>-9.389323</td><td>-0.257143</td><td>10000</td><td>&quot;198602&quot;</td><td>&quot;1986-02-28&quot;</td><td>3.25</td></tr><tr><td>2.101274</td><td>0.006433</td><td>0.043412</td><td>0.050167</td><td>-0.267865</td><td>-0.816072</td><td>2.495356</td><td>0.496326</td><td>1.147037</td><td>0.905618</td><td>-0.003319</td><td>0.023313</td><td>-7.34694</td><td>-0.055169</td><td>-6.316874</td><td>-1.423873</td><td>-0.004868</td><td>-3.5340e9</td><td>-0.007126</td><td>0.005333</td><td>0.025869</td><td>-0.113378</td><td>0.107146</td><td>0.20675</td><td>-0.013424</td><td>-0.461953</td><td>-0.014142</td><td>-0.015621</td><td>0.012585</td><td>-0.037918</td><td>-0.005984</td><td>-0.033739</td><td>0.0</td><td>0.0</td><td>0.255134</td><td>1.102539</td><td>9.4179e10</td><td>&hellip;</td><td>0.481087</td><td>0.893275</td><td>1.726885</td><td>-0.016114</td><td>-23.049943</td><td>-0.044548</td><td>-0.021796</td><td>-1.6879</td><td>-1.038325</td><td>-1.508857</td><td>1.476825</td><td>-0.229304</td><td>0.274268</td><td>0.0</td><td>0.929094</td><td>0.017763</td><td>-1.580617</td><td>-0.061587</td><td>-3.969031</td><td>-0.005027</td><td>-0.12966</td><td>-0.002715</td><td>-0.015002</td><td>-0.152456</td><td>-0.03828</td><td>-0.033975</td><td>1.385354</td><td>1.0234e-7</td><td>1.393421</td><td>-36.5385</td><td>-1.490091</td><td>-9.700759</td><td>0.365385</td><td>10000</td><td>&quot;198603&quot;</td><td>&quot;1986-03-31&quot;</td><td>4.4375</td></tr><tr><td>3.169009</td><td>0.005269</td><td>0.04242</td><td>-0.003592</td><td>-0.266767</td><td>-0.834151</td><td>3.099862</td><td>0.53572</td><td>1.026895</td><td>0.85097</td><td>-0.000809</td><td>0.023431</td><td>-7.358708</td><td>-0.102963</td><td>10.225437</td><td>-1.423441</td><td>-0.00499</td><td>-5.8132e9</td><td>-0.005241</td><td>0.006474</td><td>0.01866</td><td>-0.105609</td><td>0.130415</td><td>0.21934</td><td>-0.011792</td><td>-0.461921</td><td>-0.014265</td><td>-0.015567</td><td>0.006762</td><td>-0.03694</td><td>-0.007377</td><td>-0.030199</td><td>0.0</td><td>0.0</td><td>1.3126723</td><td>1.334835</td><td>5.7480e10</td><td>&hellip;</td><td>0.489339</td><td>1.563873</td><td>1.793533</td><td>-0.01845</td><td>-33.984111</td><td>-0.011246</td><td>0.01125</td><td>0.276167</td><td>0.068097</td><td>-1.465322</td><td>2.05432</td><td>-0.25461</td><td>0.273349</td><td>0.0</td><td>0.922286</td><td>0.016857</td><td>-0.985141</td><td>-0.195738</td><td>-3.752943</td><td>-0.004993</td><td>-0.13547</td><td>0.000877</td><td>-0.043818</td><td>-0.147269</td><td>-0.039747</td><td>-0.032348</td><td>1.632386</td><td>7.4675e-8</td><td>1.578947</td><td>9.8592</td><td>-1.386294</td><td>-9.627207</td><td>-0.098592</td><td>10000</td><td>&quot;198604&quot;</td><td>&quot;1986-04-30&quot;</td><td>4.0</td></tr><tr><td>7.097098</td><td>0.010119</td><td>0.042715</td><td>-0.002707</td><td>-0.247014</td><td>-0.896225</td><td>4.196712</td><td>-0.882462</td><td>1.428231</td><td>1.099101</td><td>-0.009675</td><td>0.033078</td><td>-5.42698</td><td>-0.402165</td><td>24.405517</td><td>-1.565928</td><td>-0.006597</td><td>-6.4724e9</td><td>-0.021</td><td>-0.004227</td><td>-0.00599</td><td>-0.140535</td><td>0.175691</td><td>0.290917</td><td>-0.01717</td><td>-0.455436</td><td>-0.018972</td><td>-0.017602</td><td>-0.024521</td><td>-0.025134</td><td>-0.003946</td><td>-0.019448</td><td>0.0</td><td>0.0</td><td>0.737386</td><td>-0.050184</td><td>4.3002e9</td><td>&hellip;</td><td>0.461023</td><td>0.499172</td><td>1.474123</td><td>-0.014507</td><td>-10.269884</td><td>-0.038863</td><td>-0.024722</td><td>-1.289032</td><td>-0.738724</td><td>-0.984761</td><td>3.405686</td><td>-0.341743</td><td>0.226638</td><td>0.0</td><td>0.92461</td><td>0.016233</td><td>-4.767822</td><td>-0.448179</td><td>-9.069982</td><td>-0.007106</td><td>-0.154571</td><td>0.008818</td><td>-0.061848</td><td>-0.129304</td><td>-0.042701</td><td>-0.040935</td><td>1.624678</td><td>7.6496e-8</td><td>1.529854</td><td>22.2656</td><td>-1.134423</td><td>-9.375336</td><td>-0.222656</td><td>10000</td><td>&quot;198605&quot;</td><td>&quot;1986-05-30&quot;</td><td>3.10938</td></tr><tr><td>&hellip;</td><td>&hellip;</td><td>&hellip;</td><td>&hellip;</td><td>&hellip;</td><td>&hellip;</td><td>&hellip;</td><td>&hellip;</td><td>&hellip;</td><td>&hellip;</td><td>&hellip;</td><td>&hellip;</td><td>&hellip;</td><td>&hellip;</td><td>&hellip;</td><td>&hellip;</td><td>&hellip;</td><td>&hellip;</td><td>&hellip;</td><td>&hellip;</td><td>&hellip;</td><td>&hellip;</td><td>&hellip;</td><td>&hellip;</td><td>&hellip;</td><td>&hellip;</td><td>&hellip;</td><td>&hellip;</td><td>&hellip;</td><td>&hellip;</td><td>&hellip;</td><td>&hellip;</td><td>&hellip;</td><td>&hellip;</td><td>&hellip;</td><td>&hellip;</td><td>&hellip;</td><td>&hellip;</td><td>&hellip;</td><td>&hellip;</td><td>&hellip;</td><td>&hellip;</td><td>&hellip;</td><td>&hellip;</td><td>&hellip;</td><td>&hellip;</td><td>&hellip;</td><td>&hellip;</td><td>&hellip;</td><td>&hellip;</td><td>&hellip;</td><td>&hellip;</td><td>&hellip;</td><td>&hellip;</td><td>&hellip;</td><td>&hellip;</td><td>&hellip;</td><td>&hellip;</td><td>&hellip;</td><td>&hellip;</td><td>&hellip;</td><td>&hellip;</td><td>&hellip;</td><td>&hellip;</td><td>&hellip;</td><td>&hellip;</td><td>&hellip;</td><td>&hellip;</td><td>&hellip;</td><td>&hellip;</td><td>&hellip;</td><td>&hellip;</td><td>&hellip;</td><td>&hellip;</td><td>&hellip;</td></tr><tr><td>-9.169221</td><td>-0.003877</td><td>0.016862</td><td>-0.005321</td><td>-0.325232</td><td>-1.29472</td><td>5.247978</td><td>-1.105292</td><td>0.84363</td><td>0.867062</td><td>0.011255</td><td>-0.000873</td><td>-1.838476</td><td>1.020616</td><td>-92.302816</td><td>-1.480804</td><td>-0.098042</td><td>1.0725e10</td><td>0.097266</td><td>-0.063707</td><td>-0.001368</td><td>0.0</td><td>0.350641</td><td>0.396412</td><td>-0.012872</td><td>-0.532064</td><td>-0.129993</td><td>-0.096547</td><td>-0.200943</td><td>0.043262</td><td>-0.019852</td><td>0.142716</td><td>0.017744</td><td>-0.00427</td><td>-4.245406</td><td>-0.570308</td><td>7.3780e10</td><td>&hellip;</td><td>0.168354</td><td>0.911234</td><td>1.401834</td><td>0.0</td><td>-260122.58</td><td>-0.055091</td><td>-0.146827</td><td>0.04031</td><td>0.0064</td><td>0.28087</td><td>-1.67614</td><td>-0.776715</td><td>0.0</td><td>0.014419</td><td>0.288081</td><td>-0.223286</td><td>10.497098</td><td>-0.242729</td><td>-8.608545</td><td>-0.014225</td><td>0.040382</td><td>-0.000557</td><td>0.062226</td><td>-0.109511</td><td>-0.251513</td><td>0.046548</td><td>1.809389</td><td>1.99241</td><td>1.59269</td><td>3.4962</td><td>-5.55327</td><td>-20.523771</td><td>-0.034962</td><td>93436</td><td>&quot;202308&quot;</td><td>&quot;2023-08-31&quot;</td><td>258.07999</td></tr><tr><td>-9.16727</td><td>-0.003877</td><td>0.016862</td><td>-0.005019</td><td>-0.325232</td><td>-1.293629</td><td>5.232746</td><td>-1.093855</td><td>0.843671</td><td>0.866339</td><td>0.011221</td><td>-0.000805</td><td>-1.838476</td><td>1.019426</td><td>-92.288138</td><td>-1.480804</td><td>-0.098042</td><td>1.0748e10</td><td>0.097266</td><td>-0.063707</td><td>0.001899</td><td>0.0</td><td>0.349563</td><td>0.395494</td><td>-0.012851</td><td>-0.53174</td><td>-0.129993</td><td>-0.096547</td><td>-0.200943</td><td>0.043262</td><td>-0.019852</td><td>0.142716</td><td>0.01774</td><td>-0.004263</td><td>-4.233929</td><td>-0.558505</td><td>7.3455e10</td><td>&hellip;</td><td>0.169586</td><td>0.912472</td><td>1.403717</td><td>0.0</td><td>-260122.58</td><td>-0.055091</td><td>-0.147106</td><td>0.030113</td><td>-0.002131</td><td>0.28087</td><td>-1.675557</td><td>-0.775194</td><td>0.0</td><td>0.014519</td><td>0.288081</td><td>-0.223286</td><td>10.488083</td><td>-0.240914</td><td>-8.567389</td><td>-0.014197</td><td>0.040382</td><td>-0.000556</td><td>0.061749</td><td>-0.109511</td><td>-0.251513</td><td>0.046246</td><td>1.808418</td><td>1.991083</td><td>1.592264</td><td>3.0456</td><td>-5.522341</td><td>-20.494418</td><td>-0.030456</td><td>93436</td><td>&quot;202309&quot;</td><td>&quot;2023-09-29&quot;</td><td>250.22</td></tr><tr><td>-7.893638</td><td>-0.003877</td><td>0.016862</td><td>-0.017218</td><td>-0.325232</td><td>-1.309975</td><td>5.732913</td><td>-1.510455</td><td>0.923996</td><td>0.9207</td><td>0.009508</td><td>0.001499</td><td>-1.838476</td><td>0.930861</td><td>-85.068288</td><td>-1.480804</td><td>-0.098042</td><td>9.3084e9</td><td>0.097266</td><td>-0.063707</td><td>0.001899</td><td>0.0</td><td>0.369427</td><td>0.419484</td><td>-0.013559</td><td>-0.530213</td><td>-0.129993</td><td>-0.096547</td><td>-0.200943</td><td>0.043262</td><td>-0.019852</td><td>0.142716</td><td>0.017053</td><td>-0.004145</td><td>-4.2491</td><td>-0.933532</td><td>6.2540e10</td><td>&hellip;</td><td>0.162896</td><td>0.790404</td><td>1.329878</td><td>0.0</td><td>-260122.58</td><td>-0.052037</td><td>-0.140181</td><td>0.363788</td><td>0.279867</td><td>0.28087</td><td>-1.206762</td><td>-0.805788</td><td>0.0</td><td>0.012414</td><td>0.288081</td><td>-0.223286</td><td>9.585358</td><td>-0.340394</td><td>-10.020896</td><td>-0.014763</td><td>0.040382</td><td>-0.000627</td><td>0.052819</td><td>-0.109511</td><td>-0.251513</td><td>0.045435</td><td>1.890415</td><td>2.088996</td><td>1.650446</td><td>19.7346</td><td>-5.302509</td><td>-20.274561</td><td>-0.197346</td><td>93436</td><td>&quot;202310&quot;</td><td>&quot;2023-10-31&quot;</td><td>200.84</td></tr><tr><td>-10.557339</td><td>-0.003877</td><td>0.016862</td><td>0.01123</td><td>-0.325232</td><td>-1.265543</td><td>4.540199</td><td>-0.528452</td><td>0.755302</td><td>0.799631</td><td>0.01281</td><td>-0.002733</td><td>-1.838476</td><td>1.106406</td><td>-100.133313</td><td>-1.480804</td><td>-0.098042</td><td>1.2544e10</td><td>0.097266</td><td>-0.063707</td><td>0.001899</td><td>0.0</td><td>0.317711</td><td>0.360555</td><td>-0.01187</td><td>-0.530432</td><td>-0.129993</td><td>-0.096547</td><td>-0.200943</td><td>0.043262</td><td>-0.019852</td><td>0.142716</td><td>0.01847</td><td>-0.004327</td><td>-4.111687</td><td>-0.03568</td><td>8.2554e10</td><td>&hellip;</td><td>0.188297</td><td>1.058701</td><td>1.502594</td><td>0.0</td><td>-260122.58</td><td>-0.058465</td><td>-0.157332</td><td>-0.432346</td><td>-0.392165</td><td>0.28087</td><td>-2.188381</td><td>-0.727427</td><td>0.0</td><td>0.017767</td><td>0.288081</td><td>-0.223286</td><td>11.403214</td><td>-0.114307</td><td>-6.583149</td><td>-0.013313</td><td>0.040382</td><td>-0.000476</td><td>0.067235</td><td>-0.109511</td><td>-0.251513</td><td>0.044368</td><td>1.708933</td><td>1.87074</td><td>1.524098</td><td>-19.5379</td><td>-5.480972</td><td>-20.453025</td><td>0.195379</td><td>93436</td><td>&quot;202311&quot;</td><td>&quot;2023-11-30&quot;</td><td>240.08</td></tr><tr><td>-9.575024</td><td>-0.003877</td><td>0.016862</td><td>-0.000307</td><td>-0.325232</td><td>-1.285578</td><td>5.032288</td><td>-0.930033</td><td>0.817762</td><td>0.846907</td><td>0.011693</td><td>-0.001382</td><td>-1.838476</td><td>1.045118</td><td>-94.590025</td><td>-1.480804</td><td>-0.098042</td><td>1.1270e10</td><td>0.097266</td><td>-0.063707</td><td>-0.114662</td><td>0.0</td><td>0.340406</td><td>0.385406</td><td>-0.012567</td><td>-0.531411</td><td>-0.129993</td><td>-0.096547</td><td>-0.200943</td><td>0.043262</td><td>-0.019852</td><td>0.142716</td><td>0.017955</td><td>-0.004283</td><td>-4.200009</td><td>-0.407224</td><td>7.6176e10</td><td>&hellip;</td><td>0.174866</td><td>0.955128</td><td>1.432386</td><td>0.0</td><td>-260122.58</td><td>-0.05608</td><td>-0.150057</td><td>-0.10374</td><td>-0.115033</td><td>0.28087</td><td>-1.825964</td><td>-0.761446</td><td>0.0</td><td>0.015455</td><td>0.288081</td><td>-0.223286</td><td>10.757807</td><td>-0.204106</td><td>-7.992639</td><td>-0.013943</td><td>0.040382</td><td>-0.000533</td><td>0.063436</td><td>-0.109511</td><td>-0.251513</td><td>0.045746</td><td>1.779419</td><td>1.956029</td><td>1.572354</td><td>-3.4988</td><td>-5.515362</td><td>-20.487415</td><td>0.034988</td><td>93436</td><td>&quot;202312&quot;</td><td>&quot;2023-12-29&quot;</td><td>248.48</td></tr></tbody></table></div>"
      ],
      "text/plain": [
       "shape: (3_487_273, 108)\n",
       "┌────────────┬─────────────┬──────────┬─────────────┬───┬────────┬────────┬────────────┬───────────┐\n",
       "│ AM         ┆ AbnormalAcc ┆ Accruals ┆ Announcemen ┆ … ┆ permno ┆ yyyymm ┆ date       ┆ price     │\n",
       "│ ---        ┆ ruals       ┆ ---      ┆ tReturn     ┆   ┆ ---    ┆ ---    ┆ ---        ┆ ---       │\n",
       "│ f64        ┆ ---         ┆ f64      ┆ ---         ┆   ┆ i64    ┆ str    ┆ str        ┆ f64       │\n",
       "│            ┆ f64         ┆          ┆ f64         ┆   ┆        ┆        ┆            ┆           │\n",
       "╞════════════╪═════════════╪══════════╪═════════════╪═══╪════════╪════════╪════════════╪═══════════╡\n",
       "│ 7.001128   ┆ 0.006849    ┆ 0.037038 ┆ 0.027895    ┆ … ┆ 10000  ┆ 198601 ┆ 1986-01-31 ┆ 4.375     │\n",
       "│ 4.422268   ┆ 0.004699    ┆ 0.040654 ┆ -0.02882    ┆ … ┆ 10000  ┆ 198602 ┆ 1986-02-28 ┆ 3.25      │\n",
       "│ 2.101274   ┆ 0.006433    ┆ 0.043412 ┆ 0.050167    ┆ … ┆ 10000  ┆ 198603 ┆ 1986-03-31 ┆ 4.4375    │\n",
       "│ 3.169009   ┆ 0.005269    ┆ 0.04242  ┆ -0.003592   ┆ … ┆ 10000  ┆ 198604 ┆ 1986-04-30 ┆ 4.0       │\n",
       "│ 7.097098   ┆ 0.010119    ┆ 0.042715 ┆ -0.002707   ┆ … ┆ 10000  ┆ 198605 ┆ 1986-05-30 ┆ 3.10938   │\n",
       "│ …          ┆ …           ┆ …        ┆ …           ┆ … ┆ …      ┆ …      ┆ …          ┆ …         │\n",
       "│ -9.169221  ┆ -0.003877   ┆ 0.016862 ┆ -0.005321   ┆ … ┆ 93436  ┆ 202308 ┆ 2023-08-31 ┆ 258.07999 │\n",
       "│ -9.16727   ┆ -0.003877   ┆ 0.016862 ┆ -0.005019   ┆ … ┆ 93436  ┆ 202309 ┆ 2023-09-29 ┆ 250.22    │\n",
       "│ -7.893638  ┆ -0.003877   ┆ 0.016862 ┆ -0.017218   ┆ … ┆ 93436  ┆ 202310 ┆ 2023-10-31 ┆ 200.84    │\n",
       "│ -10.557339 ┆ -0.003877   ┆ 0.016862 ┆ 0.01123     ┆ … ┆ 93436  ┆ 202311 ┆ 2023-11-30 ┆ 240.08    │\n",
       "│ -9.575024  ┆ -0.003877   ┆ 0.016862 ┆ -0.000307   ┆ … ┆ 93436  ┆ 202312 ┆ 2023-12-29 ┆ 248.48    │\n",
       "└────────────┴─────────────┴──────────┴─────────────┴───┴────────┴────────┴────────────┴───────────┘"
      ]
     },
     "execution_count": 34,
     "metadata": {},
     "output_type": "execute_result"
    }
   ],
   "source": [
    "data_imputed = pl.read_csv(get_data_file_path(\"imputed_bf_xs_dataset.csv\"), dtypes={\"yyyymm\": pl.String})\n",
    "data_imputed = data_imputed.rename({\"Price\": \"log_price\"})\n",
    "data_imputed = data_imputed.with_columns(pl.Series(\"price\", np.exp(-data_imputed[\"log_price\"])))\n",
    "data_imputed = data_imputed.sort([\"permno\", \"date\"], maintain_order=True)\n",
    "data_imputed"
   ]
  },
  {
   "cell_type": "code",
   "execution_count": null,
   "metadata": {},
   "outputs": [],
   "source": [
    "def run_models_and_plot(df, target_column):\n",
    "    # Separate features (X) and target (y)\n",
    "    X = df.drop(target_column, axis=1)\n",
    "    y = df[target_column]\n",
    "\n",
    "    # Normalize the features\n",
    "    scaler = StandardScaler()\n",
    "    X = scaler.fit_transform(X)\n",
    "\n",
    "    # Split the data into training and test sets\n",
    "    X_train, X_test, y_train, y_test = train_test_split(X, y, test_size=0.2, random_state=42)\n",
    "\n",
    "    # Create and fit models\n",
    "    models = [\n",
    "        LinearRegression(),\n",
    "        Ridge(),\n",
    "        Lasso(alpha=0.1),\n",
    "        RandomForestRegressor(),\n",
    "        AdaBoostRegressor(),\n",
    "        XGBRegressor(objective=\"reg:squarederror\")\n",
    "    ]\n",
    "    model_names = [\"LinearRegression\", \"Ridge\", \"Lasso\", \"RandomForestRegressor\", \"AdaBoostRegressor\", \"XGBRegressor\"]\n",
    "\n",
    "    # Make predictions using each model and plot observed vs fitted values\n",
    "    for model, name in zip(models, model_names):\n",
    "        model.fit(X_train, y_train)\n",
    "        if name == \"Lasso\":\n",
    "            print(model.coef_)\n",
    "        predictions = model.predict(X_test)\n",
    "\n",
    "        # Plot observed vs fitted values\n",
    "        plt.figure(figsize=(6, 6))\n",
    "        plt.scatter(y_test, predictions)\n",
    "        plt.plot([y_test.min(), y_test.max()], [y_test.min(), y_test.max()], \"k--\", lw=4)\n",
    "        plt.xlabel(\"Observed\")\n",
    "        plt.ylabel(\"Fitted\")\n",
    "        plt.title(name)\n",
    "        plt.show()\n",
    "\n",
    "run_models_and_plot(listings_1, \"price\")"
   ]
  },
  {
   "cell_type": "code",
   "execution_count": null,
   "metadata": {},
   "outputs": [],
   "source": [
    "class NeuralNetwork(nn.Module):\n",
    "    pass"
   ]
  }
 ],
 "metadata": {
  "kernelspec": {
   "display_name": "Python 3",
   "language": "python",
   "name": "python3"
  },
  "language_info": {
   "codemirror_mode": {
    "name": "ipython",
    "version": 3
   },
   "file_extension": ".py",
   "mimetype": "text/x-python",
   "name": "python",
   "nbconvert_exporter": "python",
   "pygments_lexer": "ipython3",
   "version": "3.12.3"
  }
 },
 "nbformat": 4,
 "nbformat_minor": 2
}
