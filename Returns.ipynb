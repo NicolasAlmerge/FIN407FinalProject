{
 "cells": [
  {
   "cell_type": "code",
   "execution_count": 1,
   "metadata": {},
   "outputs": [],
   "source": [
    "import pandas as pd\n",
    "import polars as pl\n",
    "from data import *\n",
    "import numpy as np\n",
    "import matplotlib.pyplot as plt\n",
    "import seaborn as sns\n",
    "import pickle\n",
    "import pyarrow \n",
    "import sklearn\n",
    "from sklearn.impute import SimpleImputer\n",
    "from sklearn.decomposition import PCA\n",
    "from sklearn.linear_model import LinearRegression, Ridge, Lasso\n",
    "from sklearn.ensemble import RandomForestRegressor, AdaBoostRegressor\n",
    "from sklearn.model_selection import train_test_split\n",
    "from sklearn.preprocessing import StandardScaler\n",
    "from sklearn.metrics import mean_squared_error, r2_score\n",
    "import os\n",
    "import numpy as np\n",
    "from scipy import stats\n",
    "from typing import cast\n",
    "from utils import *\n",
    "import wrds"
   ]
  },
  {
   "cell_type": "code",
   "execution_count": 2,
   "metadata": {},
   "outputs": [
    {
     "name": "stdout",
     "output_type": "stream",
     "text": [
      "Loading library list...\n",
      "Done\n"
     ]
    }
   ],
   "source": [
    "db = wrds.Connection(\n",
    "    wrds_username='jayati'\n",
    ")\n"
   ]
  },
  {
   "cell_type": "code",
   "execution_count": 3,
   "metadata": {},
   "outputs": [],
   "source": [
    "full_data_imputed = pl.read_parquet(\"data/3_2_imputed_dataset.parquet\")"
   ]
  },
  {
   "cell_type": "code",
   "execution_count": 4,
   "metadata": {},
   "outputs": [
    {
     "data": {
      "text/plain": [
       "5001719"
      ]
     },
     "execution_count": 4,
     "metadata": {},
     "output_type": "execute_result"
    }
   ],
   "source": [
    "full_data_imputed.height"
   ]
  },
  {
   "cell_type": "code",
   "execution_count": 7,
   "metadata": {},
   "outputs": [],
   "source": [
    "crsp_monthly_query = \"\"\"\n",
    "SELECT msf.permno, msf.date, ssih.siccd\n",
    "FROM crsp.msf AS msf\n",
    "LEFT JOIN crsp.stksecurityinfohist AS ssih\n",
    "ON msf.permno = ssih.permno\n",
    "AND ssih.secinfostartdt <= msf.date AND msf.date <= ssih.secinfoenddt\n",
    "WHERE msf.date BETWEEN '1925-12-01' AND '2023-12-01'\n",
    "\"\"\"\n",
    "crsp_monthly_data = db.raw_sql(crsp_monthly_query)\n",
    "\n",
    "crsp_monthly_df = pl.from_pandas(crsp_monthly_data)\n",
    "\n",
    "crsp_monthly_df.select(['permno', 'date', 'siccd']).write_csv('data/crsp_monthly_with_industries.csv')\n"
   ]
  },
  {
   "cell_type": "code",
   "execution_count": 8,
   "metadata": {},
   "outputs": [
    {
     "data": {
      "text/html": [
       "<div><style>\n",
       ".dataframe > thead > tr,\n",
       ".dataframe > tbody > tr {\n",
       "  text-align: right;\n",
       "  white-space: pre-wrap;\n",
       "}\n",
       "</style>\n",
       "<small>shape: (5, 100)</small><table border=\"1\" class=\"dataframe\"><thead><tr><th>permno</th><th>yyyymm</th><th>date</th><th>date_right</th><th>AM</th><th>Accruals</th><th>AnnouncementReturn</th><th>AssetGrowth</th><th>BM</th><th>BMdec</th><th>BPEBM</th><th>Beta</th><th>BetaFP</th><th>BetaLiquidityPS</th><th>BidAskSpread</th><th>BookLeverage</th><th>CF</th><th>CashProd</th><th>ChEQ</th><th>ChInv</th><th>ChInvIA</th><th>ChNNCOA</th><th>ChNWC</th><th>ChTax</th><th>ConvDebt</th><th>CoskewACX</th><th>Coskewness</th><th>DebtIssuance</th><th>DelCOA</th><th>DelCOL</th><th>DelEqu</th><th>DelFINL</th><th>DelLTI</th><th>DelNetFin</th><th>DivInit</th><th>DivOmit</th><th>DolVol</th><th>&hellip;</th><th>NOA</th><th>NetDebtFinance</th><th>NetEquityFinance</th><th>NumEarnIncrease</th><th>OPLeverage</th><th>PctAcc</th><th>PriceDelayRsq</th><th>PriceDelaySlope</th><th>PriceDelayTstat</th><th>RDIPO</th><th>RealizedVol</th><th>ResidualMomentum</th><th>ReturnSkew</th><th>ReturnSkew3F</th><th>RoE</th><th>SP</th><th>ShareIss1Y</th><th>ShareIss5Y</th><th>ShareRepurchase</th><th>Spinoff</th><th>Tax</th><th>TotalAccruals</th><th>VolMkt</th><th>VolSD</th><th>VolumeTrend</th><th>XFIN</th><th>betaVIX</th><th>cfp</th><th>dNoa</th><th>hire</th><th>zerotrade</th><th>zerotradeAlt1</th><th>zerotradeAlt12</th><th>STreversal</th><th>Price</th><th>Size</th><th>ret</th></tr><tr><td>i64</td><td>i64</td><td>str</td><td>str</td><td>f64</td><td>f64</td><td>f64</td><td>f64</td><td>f64</td><td>f64</td><td>f64</td><td>f64</td><td>f64</td><td>f64</td><td>f64</td><td>f64</td><td>f64</td><td>f64</td><td>f64</td><td>f64</td><td>f64</td><td>f64</td><td>f64</td><td>f64</td><td>f64</td><td>f64</td><td>f64</td><td>f64</td><td>f64</td><td>f64</td><td>f64</td><td>f64</td><td>f64</td><td>f64</td><td>f64</td><td>f64</td><td>f64</td><td>&hellip;</td><td>f64</td><td>f64</td><td>f64</td><td>f64</td><td>f64</td><td>f64</td><td>f64</td><td>f64</td><td>f64</td><td>f64</td><td>f64</td><td>f64</td><td>f64</td><td>f64</td><td>f64</td><td>f64</td><td>f64</td><td>f64</td><td>f64</td><td>f64</td><td>f64</td><td>f64</td><td>f64</td><td>f64</td><td>f64</td><td>f64</td><td>f64</td><td>f64</td><td>f64</td><td>f64</td><td>f64</td><td>f64</td><td>f64</td><td>f64</td><td>f64</td><td>f64</td><td>f64</td></tr></thead><tbody><tr><td>10000</td><td>198601</td><td>&quot;1986-01-01&quot;</td><td>&quot;1986-01-31&quot;</td><td>16.202734</td><td>0.001839</td><td>-0.035723</td><td>-0.083313</td><td>0.21025</td><td>1.404658</td><td>0.225389</td><td>1.025208</td><td>0.680467</td><td>0.121024</td><td>0.019758</td><td>-2.326463</td><td>0.155227</td><td>26.920122</td><td>-1.14218</td><td>-0.009633</td><td>0.135743</td><td>-0.005331</td><td>-0.00193</td><td>-0.00254</td><td>-0.1</td><td>0.031704</td><td>0.208924</td><td>-0.7</td><td>-0.025725</td><td>-0.004444</td><td>-0.069119</td><td>-0.026367</td><td>-0.0165</td><td>-0.021856</td><td>0.0</td><td>0.0</td><td>2.203245</td><td>&hellip;</td><td>-0.618638</td><td>-0.010772</td><td>-0.007077</td><td>0.0</td><td>0.404598</td><td>0.178823</td><td>0.843958</td><td>-2.272196</td><td>-0.249299</td><td>0.0</td><td>-0.065278</td><td>-0.026406</td><td>-2.23832</td><td>-2.103353</td><td>0.059981</td><td>2.454645</td><td>-0.040535</td><td>-0.148483</td><td>0.3</td><td>0.0</td><td>0.760982</td><td>-0.017584</td><td>-0.027994</td><td>-1.680641</td><td>0.023985</td><td>-0.03372</td><td>-0.005234</td><td>0.069862</td><td>-0.047715</td><td>0.0</td><td>6.591505</td><td>6.951966</td><td>5.942311</td><td>0.0</td><td>-1.475907</td><td>-9.686575</td><td>0.707317</td></tr><tr><td>10000</td><td>198602</td><td>&quot;1986-02-01&quot;</td><td>&quot;1986-02-28&quot;</td><td>6.419575</td><td>0.023401</td><td>-0.024668</td><td>-0.053147</td><td>-0.578258</td><td>1.615003</td><td>-0.074305</td><td>1.575849</td><td>0.897772</td><td>0.237806</td><td>0.026047</td><td>-5.2407</td><td>-0.029837</td><td>59.399372</td><td>-1.196283</td><td>0.027234</td><td>1.103777</td><td>-0.010218</td><td>0.003149</td><td>-0.019136</td><td>-0.1</td><td>0.138626</td><td>0.213954</td><td>-0.7</td><td>-0.024757</td><td>-0.003946</td><td>-0.047217</td><td>-0.007605</td><td>-0.019091</td><td>-0.000286</td><td>0.0</td><td>0.0</td><td>0.619522</td><td>&hellip;</td><td>-0.551703</td><td>-0.010474</td><td>-0.02755</td><td>0.0</td><td>0.408773</td><td>1.44153</td><td>0.874593</td><td>-0.377262</td><td>0.373869</td><td>0.0</td><td>-0.031004</td><td>0.240515</td><td>0.729555</td><td>0.810187</td><td>-0.269592</td><td>2.172496</td><td>-0.35988</td><td>-1.540913</td><td>0.2</td><td>0.0</td><td>0.9</td><td>-0.000392</td><td>-0.080506</td><td>-0.652343</td><td>-0.016094</td><td>-0.046509</td><td>-0.003488</td><td>0.16898</td><td>-0.063516</td><td>0.0</td><td>0.69714</td><td>4.7852e-8</td><td>0.967149</td><td>25.7143</td><td>-1.178655</td><td>-9.389323</td><td>-0.257143</td></tr><tr><td>10000</td><td>198603</td><td>&quot;1986-03-01&quot;</td><td>&quot;1986-03-31&quot;</td><td>9.672034</td><td>0.01986</td><td>0.028711</td><td>-0.298639</td><td>-0.365597</td><td>0.83168</td><td>-0.471459</td><td>1.121976</td><td>0.7307</td><td>0.379325</td><td>0.017515</td><td>-3.163787</td><td>0.103764</td><td>40.948347</td><td>-1.24629</td><td>0.00244</td><td>1.388678</td><td>0.011832</td><td>-0.005521</td><td>-0.002551</td><td>0.0</td><td>0.065951</td><td>0.13381</td><td>-0.5</td><td>-0.025243</td><td>-0.018863</td><td>-0.069383</td><td>-0.035775</td><td>-0.016708</td><td>-0.04417</td><td>0.0</td><td>0.0</td><td>0.255134</td><td>&hellip;</td><td>-0.504815</td><td>-0.021901</td><td>-0.086281</td><td>0.0</td><td>0.166429</td><td>3.065052</td><td>0.832632</td><td>5.132098</td><td>3.2198343</td><td>0.0</td><td>-0.044548</td><td>0.30884</td><td>-1.6879</td><td>-1.038325</td><td>-0.012496</td><td>1.240049</td><td>-0.142092</td><td>-1.21123</td><td>0.2</td><td>0.0</td><td>0.82922</td><td>-0.004646</td><td>-0.048295</td><td>-0.203063</td><td>-0.010171</td><td>-0.168674</td><td>-0.002715</td><td>0.256035</td><td>-0.089197</td><td>0.0</td><td>0.522273</td><td>1.0234e-7</td><td>1.036358</td><td>-36.5385</td><td>-1.490091</td><td>-9.700759</td><td>0.365385</td></tr><tr><td>10000</td><td>198604</td><td>&quot;1986-04-01&quot;</td><td>&quot;1986-04-30&quot;</td><td>34.015608</td><td>0.005994</td><td>-0.02554</td><td>-0.086369</td><td>0.401779</td><td>3.266376</td><td>-2.110798</td><td>1.148184</td><td>0.708417</td><td>-0.03177</td><td>0.01237</td><td>-2.37108</td><td>0.264075</td><td>17.657581</td><td>-1.178537</td><td>-0.005092</td><td>0.852608</td><td>-0.004871</td><td>-0.00011</td><td>-0.006269</td><td>0.0</td><td>0.149604</td><td>0.326355</td><td>-0.5</td><td>-0.029283</td><td>-0.006735</td><td>-0.070258</td><td>-0.030067</td><td>-0.017173</td><td>-0.035524</td><td>0.0</td><td>0.0</td><td>1.3126723</td><td>&hellip;</td><td>-0.6425</td><td>-0.023357</td><td>0.000215</td><td>0.0</td><td>0.413942</td><td>0.188181</td><td>0.811953</td><td>-2.28961</td><td>-0.412962</td><td>0.0</td><td>-0.011246</td><td>0.097471</td><td>0.276167</td><td>0.068097</td><td>0.144804</td><td>6.422166</td><td>0.088618</td><td>-0.37541</td><td>0.2</td><td>0.0</td><td>0.853708</td><td>-0.015898</td><td>-0.039136</td><td>-2.814366</td><td>0.00728</td><td>-0.011929</td><td>0.000877</td><td>0.084696</td><td>-0.051597</td><td>0.0</td><td>2.197636</td><td>7.4675e-8</td><td>2.679387</td><td>9.8592</td><td>-1.386294</td><td>-9.627207</td><td>-0.098592</td></tr><tr><td>10000</td><td>198605</td><td>&quot;1986-05-01&quot;</td><td>&quot;1986-05-30&quot;</td><td>8.585498</td><td>0.012495</td><td>-0.045491</td><td>-0.016131</td><td>-0.351601</td><td>2.188701</td><td>-0.689932</td><td>1.625661</td><td>1.082514</td><td>0.110916</td><td>0.023352</td><td>-4.313698</td><td>0.00277</td><td>31.042189</td><td>-1.03832</td><td>0.030501</td><td>-0.817816</td><td>-0.013207</td><td>-0.006578</td><td>-0.004206</td><td>-0.1</td><td>0.201706</td><td>0.488893</td><td>-0.7</td><td>-0.017447</td><td>0.000681</td><td>-0.038604</td><td>-0.020003</td><td>-0.003672</td><td>-0.01622</td><td>0.0</td><td>0.0</td><td>0.737386</td><td>&hellip;</td><td>-0.457639</td><td>-0.020878</td><td>-0.007652</td><td>0.0</td><td>0.269973</td><td>4.040911</td><td>0.829054</td><td>1.22417</td><td>1.401425</td><td>0.0</td><td>-0.038863</td><td>0.135452</td><td>-1.289032</td><td>-0.738724</td><td>-0.033431</td><td>7.921766</td><td>-0.005041</td><td>0.052538</td><td>0.0</td><td>0.0</td><td>0.810389</td><td>-0.033585</td><td>-0.069511</td><td>-0.230249</td><td>-0.002305</td><td>-0.030054</td><td>0.008818</td><td>0.363375</td><td>-0.053943</td><td>0.0</td><td>0.515208</td><td>7.6496e-8</td><td>0.367705</td><td>22.2656</td><td>-1.134423</td><td>-9.375336</td><td>-0.222656</td></tr></tbody></table></div>"
      ],
      "text/plain": [
       "shape: (5, 100)\n",
       "┌────────┬────────┬────────────┬────────────┬───┬────────────┬───────────┬───────────┬───────────┐\n",
       "│ permno ┆ yyyymm ┆ date       ┆ date_right ┆ … ┆ STreversal ┆ Price     ┆ Size      ┆ ret       │\n",
       "│ ---    ┆ ---    ┆ ---        ┆ ---        ┆   ┆ ---        ┆ ---       ┆ ---       ┆ ---       │\n",
       "│ i64    ┆ i64    ┆ str        ┆ str        ┆   ┆ f64        ┆ f64       ┆ f64       ┆ f64       │\n",
       "╞════════╪════════╪════════════╪════════════╪═══╪════════════╪═══════════╪═══════════╪═══════════╡\n",
       "│ 10000  ┆ 198601 ┆ 1986-01-01 ┆ 1986-01-31 ┆ … ┆ 0.0        ┆ -1.475907 ┆ -9.686575 ┆ 0.707317  │\n",
       "│ 10000  ┆ 198602 ┆ 1986-02-01 ┆ 1986-02-28 ┆ … ┆ 25.7143    ┆ -1.178655 ┆ -9.389323 ┆ -0.257143 │\n",
       "│ 10000  ┆ 198603 ┆ 1986-03-01 ┆ 1986-03-31 ┆ … ┆ -36.5385   ┆ -1.490091 ┆ -9.700759 ┆ 0.365385  │\n",
       "│ 10000  ┆ 198604 ┆ 1986-04-01 ┆ 1986-04-30 ┆ … ┆ 9.8592     ┆ -1.386294 ┆ -9.627207 ┆ -0.098592 │\n",
       "│ 10000  ┆ 198605 ┆ 1986-05-01 ┆ 1986-05-30 ┆ … ┆ 22.2656    ┆ -1.134423 ┆ -9.375336 ┆ -0.222656 │\n",
       "└────────┴────────┴────────────┴────────────┴───┴────────────┴───────────┴───────────┴───────────┘"
      ]
     },
     "execution_count": 8,
     "metadata": {},
     "output_type": "execute_result"
    }
   ],
   "source": [
    "full_data_imputed.head()"
   ]
  },
  {
   "cell_type": "code",
   "execution_count": 9,
   "metadata": {},
   "outputs": [
    {
     "data": {
      "text/html": [
       "<div><style>\n",
       ".dataframe > thead > tr,\n",
       ".dataframe > tbody > tr {\n",
       "  text-align: right;\n",
       "  white-space: pre-wrap;\n",
       "}\n",
       "</style>\n",
       "<small>shape: (5, 3)</small><table border=\"1\" class=\"dataframe\"><thead><tr><th>permno</th><th>date</th><th>siccd</th></tr><tr><td>i64</td><td>date</td><td>f64</td></tr></thead><tbody><tr><td>10000</td><td>1985-12-31</td><td>null</td></tr><tr><td>10000</td><td>1986-01-31</td><td>3990.0</td></tr><tr><td>10000</td><td>1986-02-28</td><td>3990.0</td></tr><tr><td>10000</td><td>1986-03-31</td><td>3990.0</td></tr><tr><td>10000</td><td>1986-04-30</td><td>3990.0</td></tr></tbody></table></div>"
      ],
      "text/plain": [
       "shape: (5, 3)\n",
       "┌────────┬────────────┬────────┐\n",
       "│ permno ┆ date       ┆ siccd  │\n",
       "│ ---    ┆ ---        ┆ ---    │\n",
       "│ i64    ┆ date       ┆ f64    │\n",
       "╞════════╪════════════╪════════╡\n",
       "│ 10000  ┆ 1985-12-31 ┆ null   │\n",
       "│ 10000  ┆ 1986-01-31 ┆ 3990.0 │\n",
       "│ 10000  ┆ 1986-02-28 ┆ 3990.0 │\n",
       "│ 10000  ┆ 1986-03-31 ┆ 3990.0 │\n",
       "│ 10000  ┆ 1986-04-30 ┆ 3990.0 │\n",
       "└────────┴────────────┴────────┘"
      ]
     },
     "execution_count": 9,
     "metadata": {},
     "output_type": "execute_result"
    }
   ],
   "source": [
    "crsp_monthly_df.head()"
   ]
  },
  {
   "cell_type": "code",
   "execution_count": 10,
   "metadata": {},
   "outputs": [
    {
     "data": {
      "text/plain": [
       "5027863"
      ]
     },
     "execution_count": 10,
     "metadata": {},
     "output_type": "execute_result"
    }
   ],
   "source": [
    "crsp_monthly_df.height"
   ]
  },
  {
   "cell_type": "code",
   "execution_count": 11,
   "metadata": {},
   "outputs": [
    {
     "name": "stdout",
     "output_type": "stream",
     "text": [
      "shape: (5, 103)\n",
      "┌────────┬────────┬────────────┬────────────┬───┬───────────┬──────┬───────┬────────┐\n",
      "│ permno ┆ yyyymm ┆ date       ┆ date_right ┆ … ┆ ret       ┆ year ┆ month ┆ siccd  │\n",
      "│ ---    ┆ ---    ┆ ---        ┆ ---        ┆   ┆ ---       ┆ ---  ┆ ---   ┆ ---    │\n",
      "│ i64    ┆ i64    ┆ date       ┆ str        ┆   ┆ f64       ┆ i32  ┆ i8    ┆ f64    │\n",
      "╞════════╪════════╪════════════╪════════════╪═══╪═══════════╪══════╪═══════╪════════╡\n",
      "│ 10000  ┆ 198601 ┆ 1986-01-01 ┆ 1986-01-31 ┆ … ┆ 0.707317  ┆ 1986 ┆ 1     ┆ 3990.0 │\n",
      "│ 10000  ┆ 198602 ┆ 1986-02-01 ┆ 1986-02-28 ┆ … ┆ -0.257143 ┆ 1986 ┆ 2     ┆ 3990.0 │\n",
      "│ 10000  ┆ 198603 ┆ 1986-03-01 ┆ 1986-03-31 ┆ … ┆ 0.365385  ┆ 1986 ┆ 3     ┆ 3990.0 │\n",
      "│ 10000  ┆ 198604 ┆ 1986-04-01 ┆ 1986-04-30 ┆ … ┆ -0.098592 ┆ 1986 ┆ 4     ┆ 3990.0 │\n",
      "│ 10000  ┆ 198605 ┆ 1986-05-01 ┆ 1986-05-30 ┆ … ┆ -0.222656 ┆ 1986 ┆ 5     ┆ 3990.0 │\n",
      "└────────┴────────┴────────────┴────────────┴───┴───────────┴──────┴───────┴────────┘\n"
     ]
    }
   ],
   "source": [
    "full_data_imputed = full_data_imputed.with_columns([\n",
    "    pl.col('permno').cast(pl.Int64),\n",
    "    pl.col('date').cast(pl.Date)\n",
    "])\n",
    "\n",
    "crsp_monthly_df = crsp_monthly_df.with_columns([\n",
    "    pl.col('permno').cast(pl.Int64),\n",
    "    pl.col('date').cast(pl.Date)\n",
    "])\n",
    "\n",
    "# Extract year and month from the date columns\n",
    "full_data_imputed = full_data_imputed.with_columns([\n",
    "    pl.col('date').dt.year().alias('year'),\n",
    "    pl.col('date').dt.month().alias('month')\n",
    "])\n",
    "\n",
    "crsp_monthly_df = crsp_monthly_df.with_columns([\n",
    "    pl.col('date').dt.year().alias('year'),\n",
    "    pl.col('date').dt.month().alias('month')\n",
    "])\n",
    "\n",
    "# Perform the join operation on permno, year, and month\n",
    "full_data_imputed = full_data_imputed.join(\n",
    "    crsp_monthly_df.select(['permno', 'year', 'month', 'siccd']),\n",
    "    on=['permno', 'year', 'month'],\n",
    "    how='left'\n",
    ")\n",
    "\n",
    "print(full_data_imputed.head())"
   ]
  },
  {
   "cell_type": "code",
   "execution_count": 12,
   "metadata": {},
   "outputs": [
    {
     "name": "stdout",
     "output_type": "stream",
     "text": [
      "shape: (12, 2)\n",
      "┌─────────────────────────────────┬─────────┐\n",
      "│ industry                        ┆ count   │\n",
      "│ ---                             ┆ ---     │\n",
      "│ str                             ┆ u32     │\n",
      "╞═════════════════════════════════╪═════════╡\n",
      "│ Services                        ┆ 512483  │\n",
      "│ Retail Trade                    ┆ 250349  │\n",
      "│ Mining                          ┆ 261277  │\n",
      "│ Agriculture, Forestry, and Fis… ┆ 13619   │\n",
      "│ Finance, Insurance, and Real E… ┆ 1348191 │\n",
      "│ …                               ┆ …       │\n",
      "│ Transportation, Communications… ┆ 386362  │\n",
      "│ Construction                    ┆ 43816   │\n",
      "│ Public Administration           ┆ 165450  │\n",
      "│ Wholesale Trade                 ┆ 136772  │\n",
      "│ Manufacturing                   ┆ 1745782 │\n",
      "└─────────────────────────────────┴─────────┘\n"
     ]
    }
   ],
   "source": [
    "sic_groups = [\n",
    "    ('Agriculture, Forestry, and Fishing', range(100, 1000)),\n",
    "    ('Mining', range(1000, 1500)),\n",
    "    ('Construction', range(1500, 1800)),\n",
    "    ('Manufacturing', range(2000, 4000)),\n",
    "    ('Transportation, Communications, Electric, Gas, and Sanitary Services', range(4000, 5000)),\n",
    "    ('Wholesale Trade', range(5000, 5200)),\n",
    "    ('Retail Trade', range(5200, 6000)),\n",
    "    ('Finance, Insurance, and Real Estate', range(6000, 6800)),\n",
    "    ('Services', range(7000, 9000)),\n",
    "    ('Public Administration', range(9000, 10000))\n",
    "]\n",
    "\n",
    "# Flatten the SIC groups into a dictionary for fast lookup\n",
    "sic_dict = {}\n",
    "for industry, sic_range in sic_groups:\n",
    "    for sic in sic_range:\n",
    "        sic_dict[sic] = industry\n",
    "\n",
    "# Create a Polars expression to map the SIC codes to industries\n",
    "def map_sic_to_industry(sic):\n",
    "    return sic_dict.get(sic, 'Unknown')\n",
    "\n",
    "# Apply the mapping and count the number of stocks in each industry group\n",
    "industry_counts = (full_data_imputed\n",
    "                   .with_columns(pl.col('siccd').map_elements(map_sic_to_industry, return_dtype=pl.Utf8).alias('industry'))\n",
    "                   .group_by('industry')\n",
    "                   .agg(pl.count('permno').alias('count')))\n",
    "\n",
    "print(industry_counts)\n"
   ]
  },
  {
   "cell_type": "code",
   "execution_count": 18,
   "metadata": {},
   "outputs": [
    {
     "name": "stderr",
     "output_type": "stream",
     "text": [
      "/var/folders/b0/4ztxyrhx5zb29cnt86sf6m580000gn/T/ipykernel_36610/1437896745.py:1: MapWithoutReturnDtypeWarning: Calling `map_elements` without specifying `return_dtype` can lead to unpredictable results. Specify `return_dtype` to silence this warning.\n",
      "  full_data_industries = full_data_imputed.with_columns(\n"
     ]
    }
   ],
   "source": [
    "full_data_industries = full_data_imputed.with_columns(\n",
    "    pl.col('siccd').map_elements(map_sic_to_industry).alias('industry')\n",
    ")"
   ]
  },
  {
   "cell_type": "code",
   "execution_count": 19,
   "metadata": {},
   "outputs": [
    {
     "data": {
      "text/plain": [
       "5001719"
      ]
     },
     "execution_count": 19,
     "metadata": {},
     "output_type": "execute_result"
    }
   ],
   "source": [
    "full_data_imputed.height"
   ]
  },
  {
   "cell_type": "code",
   "execution_count": 24,
   "metadata": {},
   "outputs": [
    {
     "name": "stdout",
     "output_type": "stream",
     "text": [
      "shape: (5, 104)\n",
      "┌────────┬────────┬────────────┬────────────┬───┬──────┬───────┬────────┬─────────────────┐\n",
      "│ permno ┆ yyyymm ┆ date       ┆ date_right ┆ … ┆ year ┆ month ┆ siccd  ┆ industry        │\n",
      "│ ---    ┆ ---    ┆ ---        ┆ ---        ┆   ┆ ---  ┆ ---   ┆ ---    ┆ ---             │\n",
      "│ i64    ┆ i64    ┆ date       ┆ str        ┆   ┆ i32  ┆ i8    ┆ f64    ┆ str             │\n",
      "╞════════╪════════╪════════════╪════════════╪═══╪══════╪═══════╪════════╪═════════════════╡\n",
      "│ 10001  ┆ 200001 ┆ 2000-01-01 ┆ 2000-01-31 ┆ … ┆ 2000 ┆ 1     ┆ 4920.0 ┆ Transportation, │\n",
      "│        ┆        ┆            ┆            ┆   ┆      ┆       ┆        ┆ Communications… │\n",
      "│ 10001  ┆ 200002 ┆ 2000-02-01 ┆ 2000-02-29 ┆ … ┆ 2000 ┆ 2     ┆ 4920.0 ┆ Transportation, │\n",
      "│        ┆        ┆            ┆            ┆   ┆      ┆       ┆        ┆ Communications… │\n",
      "│ 10001  ┆ 200003 ┆ 2000-03-01 ┆ 2000-03-31 ┆ … ┆ 2000 ┆ 3     ┆ 4920.0 ┆ Transportation, │\n",
      "│        ┆        ┆            ┆            ┆   ┆      ┆       ┆        ┆ Communications… │\n",
      "│ 10001  ┆ 200004 ┆ 2000-04-01 ┆ 2000-04-28 ┆ … ┆ 2000 ┆ 4     ┆ 4920.0 ┆ Transportation, │\n",
      "│        ┆        ┆            ┆            ┆   ┆      ┆       ┆        ┆ Communications… │\n",
      "│ 10001  ┆ 200005 ┆ 2000-05-01 ┆ 2000-05-31 ┆ … ┆ 2000 ┆ 5     ┆ 4920.0 ┆ Transportation, │\n",
      "│        ┆        ┆            ┆            ┆   ┆      ┆       ┆        ┆ Communications… │\n",
      "└────────┴────────┴────────────┴────────────┴───┴──────┴───────┴────────┴─────────────────┘\n"
     ]
    }
   ],
   "source": [
    "# Ensure the date column is of the correct type\n",
    "full_data_reduced = full_data_industries.with_columns([\n",
    "    pl.col('date').cast(pl.Date)\n",
    "])\n",
    "\n",
    "# Filter out rows with dates before 1990\n",
    "full_data_reduced = full_data_reduced.filter(pl.col('date').dt.year() >= 2000)\n",
    "\n",
    "\n",
    "print(full_data_reduced.head())"
   ]
  },
  {
   "cell_type": "markdown",
   "metadata": {},
   "source": []
  },
  {
   "cell_type": "code",
   "execution_count": 50,
   "metadata": {},
   "outputs": [],
   "source": [
    "full_data_reduced=full_data_reduced.drop(\"year\", \"month\")"
   ]
  },
  {
   "cell_type": "code",
   "execution_count": 51,
   "metadata": {},
   "outputs": [
    {
     "data": {
      "text/html": [
       "<div><style>\n",
       ".dataframe > thead > tr,\n",
       ".dataframe > tbody > tr {\n",
       "  text-align: right;\n",
       "  white-space: pre-wrap;\n",
       "}\n",
       "</style>\n",
       "<small>shape: (5, 102)</small><table border=\"1\" class=\"dataframe\"><thead><tr><th>permno</th><th>yyyymm</th><th>date</th><th>date_right</th><th>AM</th><th>Accruals</th><th>AnnouncementReturn</th><th>AssetGrowth</th><th>BM</th><th>BMdec</th><th>BPEBM</th><th>Beta</th><th>BetaFP</th><th>BetaLiquidityPS</th><th>BidAskSpread</th><th>BookLeverage</th><th>CF</th><th>CashProd</th><th>ChEQ</th><th>ChInv</th><th>ChInvIA</th><th>ChNNCOA</th><th>ChNWC</th><th>ChTax</th><th>ConvDebt</th><th>CoskewACX</th><th>Coskewness</th><th>DebtIssuance</th><th>DelCOA</th><th>DelCOL</th><th>DelEqu</th><th>DelFINL</th><th>DelLTI</th><th>DelNetFin</th><th>DivInit</th><th>DivOmit</th><th>DolVol</th><th>&hellip;</th><th>NetEquityFinance</th><th>NumEarnIncrease</th><th>OPLeverage</th><th>PctAcc</th><th>PriceDelayRsq</th><th>PriceDelaySlope</th><th>PriceDelayTstat</th><th>RDIPO</th><th>RealizedVol</th><th>ResidualMomentum</th><th>ReturnSkew</th><th>ReturnSkew3F</th><th>RoE</th><th>SP</th><th>ShareIss1Y</th><th>ShareIss5Y</th><th>ShareRepurchase</th><th>Spinoff</th><th>Tax</th><th>TotalAccruals</th><th>VolMkt</th><th>VolSD</th><th>VolumeTrend</th><th>XFIN</th><th>betaVIX</th><th>cfp</th><th>dNoa</th><th>hire</th><th>zerotrade</th><th>zerotradeAlt1</th><th>zerotradeAlt12</th><th>STreversal</th><th>Price</th><th>Size</th><th>ret</th><th>siccd</th><th>industry</th></tr><tr><td>i64</td><td>i64</td><td>date</td><td>str</td><td>f64</td><td>f64</td><td>f64</td><td>f64</td><td>f64</td><td>f64</td><td>f64</td><td>f64</td><td>f64</td><td>f64</td><td>f64</td><td>f64</td><td>f64</td><td>f64</td><td>f64</td><td>f64</td><td>f64</td><td>f64</td><td>f64</td><td>f64</td><td>f64</td><td>f64</td><td>f64</td><td>f64</td><td>f64</td><td>f64</td><td>f64</td><td>f64</td><td>f64</td><td>f64</td><td>f64</td><td>f64</td><td>f64</td><td>&hellip;</td><td>f64</td><td>f64</td><td>f64</td><td>f64</td><td>f64</td><td>f64</td><td>f64</td><td>f64</td><td>f64</td><td>f64</td><td>f64</td><td>f64</td><td>f64</td><td>f64</td><td>f64</td><td>f64</td><td>f64</td><td>f64</td><td>f64</td><td>f64</td><td>f64</td><td>f64</td><td>f64</td><td>f64</td><td>f64</td><td>f64</td><td>f64</td><td>f64</td><td>f64</td><td>f64</td><td>f64</td><td>f64</td><td>f64</td><td>f64</td><td>f64</td><td>f64</td><td>str</td></tr></thead><tbody><tr><td>10001</td><td>200001</td><td>2000-01-01</td><td>&quot;2000-01-31&quot;</td><td>2.1733375</td><td>0.108981</td><td>-0.033873</td><td>-0.019392</td><td>-0.445696</td><td>0.752592</td><td>-1.907572</td><td>0.103002</td><td>0.091242</td><td>0.016507</td><td>0.031007</td><td>-2.466956</td><td>0.164873</td><td>103.34845</td><td>-1.05628</td><td>0.074093</td><td>0.6538</td><td>0.014184</td><td>0.072073</td><td>0.000448</td><td>0.0</td><td>0.123057</td><td>0.073287</td><td>0.0</td><td>0.024853</td><td>-0.044573</td><td>-0.016826</td><td>0.043476</td><td>0.000187</td><td>0.043289</td><td>0.0</td><td>0.0</td><td>0.938377</td><td>&hellip;</td><td>0.02357</td><td>2.0</td><td>1.1216513</td><td>2.953371</td><td>0.772187</td><td>-4.625865</td><td>3.7699442</td><td>0.0</td><td>-0.025284</td><td>-0.293568</td><td>-0.049701</td><td>-0.007985</td><td>0.117278</td><td>2.6856389</td><td>-0.019559</td><td>-0.101619</td><td>0.0</td><td>0.0</td><td>0.478891</td><td>-0.009637</td><td>-0.023017</td><td>-0.025291</td><td>-0.013213</td><td>0.066246</td><td>-0.000971</td><td>0.315177</td><td>0.030867</td><td>-0.048</td><td>2.7886364</td><td>3.818182</td><td>3.1109962</td><td>4.4118</td><td>-2.094946</td><td>-9.898789</td><td>-0.044118</td><td>4920.0</td><td>&quot;Transportation, Communications…</td></tr><tr><td>10001</td><td>200002</td><td>2000-02-01</td><td>&quot;2000-02-29&quot;</td><td>2.1404083</td><td>0.108981</td><td>0.013153</td><td>-0.019392</td><td>-0.445696</td><td>0.752592</td><td>-1.778563</td><td>0.104569</td><td>0.086462</td><td>0.017932</td><td>0.017571</td><td>-2.466956</td><td>0.162375</td><td>101.99336</td><td>-1.05628</td><td>0.074093</td><td>0.648363</td><td>0.014184</td><td>0.072073</td><td>0.000448</td><td>0.0</td><td>0.07828</td><td>0.085667</td><td>0.0</td><td>0.024853</td><td>-0.044573</td><td>-0.016826</td><td>0.043476</td><td>0.000187</td><td>0.043289</td><td>0.0</td><td>0.0</td><td>1.2864491</td><td>&hellip;</td><td>0.02357</td><td>2.0</td><td>1.1216513</td><td>2.953371</td><td>0.772187</td><td>-4.625865</td><td>3.7699442</td><td>0.0</td><td>-0.012606</td><td>-0.18632</td><td>-0.645254</td><td>-0.593679</td><td>0.117278</td><td>2.6449475</td><td>-0.019559</td><td>-0.101619</td><td>0.0</td><td>0.0</td><td>0.478891</td><td>-0.009637</td><td>-0.022175</td><td>-0.024616</td><td>-0.011518</td><td>0.066246</td><td>-0.00774</td><td>0.310402</td><td>0.030867</td><td>-0.048</td><td>3.1863637</td><td>1.0500002</td><td>2.8300753</td><td>-1.5385</td><td>-2.110213</td><td>-9.914057</td><td>0.015385</td><td>4920.0</td><td>&quot;Transportation, Communications…</td></tr><tr><td>10001</td><td>200003</td><td>2000-03-01</td><td>&quot;2000-03-31&quot;</td><td>2.1947544</td><td>0.108981</td><td>0.013153</td><td>-0.019392</td><td>-0.445696</td><td>0.752592</td><td>-2.003696</td><td>0.107111</td><td>0.087634</td><td>0.009077</td><td>0.024509</td><td>-2.466956</td><td>0.166498</td><td>104.20796</td><td>-1.05628</td><td>0.074093</td><td>0.652208</td><td>0.014184</td><td>0.072073</td><td>-0.003487</td><td>0.0</td><td>0.089577</td><td>0.089791</td><td>0.0</td><td>0.024853</td><td>-0.044573</td><td>-0.016826</td><td>0.043476</td><td>0.000187</td><td>0.043289</td><td>0.0</td><td>0.0</td><td>1.1164581</td><td>&hellip;</td><td>0.02357</td><td>0.0</td><td>1.1216513</td><td>2.953371</td><td>0.772187</td><td>-4.625865</td><td>3.7699442</td><td>0.0</td><td>-0.026537</td><td>-0.120605</td><td>-0.232345</td><td>-0.22865</td><td>0.117278</td><td>2.7121043</td><td>-0.017865</td><td>-0.098039</td><td>0.0</td><td>0.0</td><td>0.478891</td><td>-0.009637</td><td>-0.02242</td><td>-0.024579</td><td>-0.010919</td><td>0.066246</td><td>-0.006041</td><td>0.318283</td><td>0.030867</td><td>-0.048</td><td>3.5994072</td><td>5.2500005</td><td>2.8070488</td><td>1.5758</td><td>-2.079442</td><td>-9.888983</td><td>-0.015288</td><td>4920.0</td><td>&quot;Transportation, Communications…</td></tr><tr><td>10001</td><td>200004</td><td>2000-04-01</td><td>&quot;2000-04-28&quot;</td><td>2.1693325</td><td>0.108981</td><td>0.013153</td><td>-0.019392</td><td>-0.445696</td><td>0.752592</td><td>-1.890749</td><td>0.096826</td><td>0.07906</td><td>-0.008956</td><td>0.024083</td><td>-2.466956</td><td>0.164569</td><td>103.18584</td><td>-1.05628</td><td>0.074093</td><td>0.665905</td><td>0.014184</td><td>0.072073</td><td>-0.003487</td><td>0.0</td><td>0.248881</td><td>0.060906</td><td>0.0</td><td>0.024853</td><td>-0.044573</td><td>-0.016826</td><td>0.043476</td><td>0.000187</td><td>0.043289</td><td>0.0</td><td>0.0</td><td>1.6974498</td><td>&hellip;</td><td>0.02357</td><td>0.0</td><td>1.1216513</td><td>2.953371</td><td>0.772187</td><td>-4.625865</td><td>3.7699442</td><td>0.0</td><td>-0.022609</td><td>-0.216381</td><td>-0.28195</td><td>-0.408123</td><td>0.117278</td><td>2.6806898</td><td>-0.017865</td><td>-0.098039</td><td>0.0</td><td>0.0</td><td>0.478891</td><td>-0.009637</td><td>-0.019742</td><td>-0.024804</td><td>-0.009217</td><td>0.066246</td><td>0.003357</td><td>0.314597</td><td>0.030867</td><td>-0.048</td><td>3.8362494</td><td>5.478261</td><td>3.0353098</td><td>-1.1719</td><td>-2.091092</td><td>-9.900633</td><td>0.011719</td><td>4920.0</td><td>&quot;Transportation, Communications…</td></tr><tr><td>10001</td><td>200005</td><td>2000-05-01</td><td>&quot;2000-05-31&quot;</td><td>2.2207792</td><td>0.108981</td><td>0.067251</td><td>-0.019392</td><td>-0.445696</td><td>0.752592</td><td>-2.136743</td><td>0.105629</td><td>0.068718</td><td>-0.011836</td><td>0.028469</td><td>-2.466956</td><td>0.168472</td><td>105.23009</td><td>-1.05628</td><td>0.074093</td><td>0.668498</td><td>0.014184</td><td>0.072073</td><td>-0.003487</td><td>0.0</td><td>0.272532</td><td>0.03478</td><td>0.0</td><td>0.024853</td><td>-0.044573</td><td>-0.016826</td><td>0.043476</td><td>0.000187</td><td>0.043289</td><td>0.0</td><td>0.0</td><td>0.54749</td><td>&hellip;</td><td>0.02357</td><td>0.0</td><td>1.1216513</td><td>2.953371</td><td>0.772187</td><td>-4.625865</td><td>3.7699442</td><td>0.0</td><td>-0.016365</td><td>-0.086257</td><td>-0.411569</td><td>-0.228533</td><td>0.117278</td><td>2.7442634</td><td>-0.017865</td><td>-0.098039</td><td>0.0</td><td>0.0</td><td>0.478891</td><td>-0.009637</td><td>-0.018795</td><td>-0.025181</td><td>-0.00742</td><td>0.066246</td><td>-0.002448</td><td>0.322057</td><td>0.030867</td><td>-0.048</td><td>5.2453403</td><td>4.4210529</td><td>3.3203974</td><td>2.3166</td><td>-2.067654</td><td>-9.877195</td><td>-0.023166</td><td>4920.0</td><td>&quot;Transportation, Communications…</td></tr></tbody></table></div>"
      ],
      "text/plain": [
       "shape: (5, 102)\n",
       "┌────────┬────────┬────────────┬────────────┬───┬───────────┬───────────┬────────┬─────────────────┐\n",
       "│ permno ┆ yyyymm ┆ date       ┆ date_right ┆ … ┆ Size      ┆ ret       ┆ siccd  ┆ industry        │\n",
       "│ ---    ┆ ---    ┆ ---        ┆ ---        ┆   ┆ ---       ┆ ---       ┆ ---    ┆ ---             │\n",
       "│ i64    ┆ i64    ┆ date       ┆ str        ┆   ┆ f64       ┆ f64       ┆ f64    ┆ str             │\n",
       "╞════════╪════════╪════════════╪════════════╪═══╪═══════════╪═══════════╪════════╪═════════════════╡\n",
       "│ 10001  ┆ 200001 ┆ 2000-01-01 ┆ 2000-01-31 ┆ … ┆ -9.898789 ┆ -0.044118 ┆ 4920.0 ┆ Transportation, │\n",
       "│        ┆        ┆            ┆            ┆   ┆           ┆           ┆        ┆ Communications… │\n",
       "│ 10001  ┆ 200002 ┆ 2000-02-01 ┆ 2000-02-29 ┆ … ┆ -9.914057 ┆ 0.015385  ┆ 4920.0 ┆ Transportation, │\n",
       "│        ┆        ┆            ┆            ┆   ┆           ┆           ┆        ┆ Communications… │\n",
       "│ 10001  ┆ 200003 ┆ 2000-03-01 ┆ 2000-03-31 ┆ … ┆ -9.888983 ┆ -0.015288 ┆ 4920.0 ┆ Transportation, │\n",
       "│        ┆        ┆            ┆            ┆   ┆           ┆           ┆        ┆ Communications… │\n",
       "│ 10001  ┆ 200004 ┆ 2000-04-01 ┆ 2000-04-28 ┆ … ┆ -9.900633 ┆ 0.011719  ┆ 4920.0 ┆ Transportation, │\n",
       "│        ┆        ┆            ┆            ┆   ┆           ┆           ┆        ┆ Communications… │\n",
       "│ 10001  ┆ 200005 ┆ 2000-05-01 ┆ 2000-05-31 ┆ … ┆ -9.877195 ┆ -0.023166 ┆ 4920.0 ┆ Transportation, │\n",
       "│        ┆        ┆            ┆            ┆   ┆           ┆           ┆        ┆ Communications… │\n",
       "└────────┴────────┴────────────┴────────────┴───┴───────────┴───────────┴────────┴─────────────────┘"
      ]
     },
     "execution_count": 51,
     "metadata": {},
     "output_type": "execute_result"
    }
   ],
   "source": [
    "full_data_reduced.head()"
   ]
  },
  {
   "cell_type": "code",
   "execution_count": 52,
   "metadata": {},
   "outputs": [],
   "source": [
    "full_data_reduced.write_csv('data/Industries_all.csv')"
   ]
  },
  {
   "cell_type": "code",
   "execution_count": 53,
   "metadata": {},
   "outputs": [
    {
     "name": "stdout",
     "output_type": "stream",
     "text": [
      "Data for Agriculture, Forestry, and Fishing saved to data/industry_datasets/Agriculture,_Forestry,_and_Fishing_data.csv\n",
      "Data for Services saved to data/industry_datasets/Services_data.csv\n",
      "Data for Finance, Insurance, and Real Estate saved to data/industry_datasets/Finance,_Insurance,_and_Real_Estate_data.csv\n",
      "Data for Manufacturing saved to data/industry_datasets/Manufacturing_data.csv\n",
      "Data for Transportation, Communications, Electric, Gas, and Sanitary Services saved to data/industry_datasets/Transportation,_Communications,_Electric,_Gas,_and_Sanitary_Services_data.csv\n",
      "Data for Retail Trade saved to data/industry_datasets/Retail_Trade_data.csv\n",
      "Data for Public Administration saved to data/industry_datasets/Public_Administration_data.csv\n",
      "Data for Wholesale Trade saved to data/industry_datasets/Wholesale_Trade_data.csv\n",
      "Data for Construction saved to data/industry_datasets/Construction_data.csv\n",
      "Data for Mining saved to data/industry_datasets/Mining_data.csv\n",
      "Data for Unknown saved to data/industry_datasets/Unknown_data.csv\n"
     ]
    }
   ],
   "source": [
    "industries = full_data_reduced.select(pl.col('industry')).unique().to_series().to_list()\n",
    "\n",
    "os.makedirs('data/industry_datasets', exist_ok=True)\n",
    "\n",
    "for industry in industries:\n",
    "    if industry is not None:\n",
    "        industry_data = full_data_reduced.filter(pl.col('industry') == industry)\n",
    "        industry_filename = f\"data/industry_datasets/{industry.replace(' ', '_')}_data.csv\"\n",
    "        industry_data.write_csv(industry_filename)\n",
    "        print(f\"Data for {industry} saved to {industry_filename}\")\n"
   ]
  },
  {
   "cell_type": "code",
   "execution_count": 119,
   "metadata": {},
   "outputs": [],
   "source": [
    "file = 'data/industry_datasets/Agriculture,_Forestry,_and_Fishing_data.csv'"
   ]
  },
  {
   "cell_type": "code",
   "execution_count": 120,
   "metadata": {},
   "outputs": [
    {
     "data": {
      "text/html": [
       "<div><style>\n",
       ".dataframe > thead > tr,\n",
       ".dataframe > tbody > tr {\n",
       "  text-align: right;\n",
       "  white-space: pre-wrap;\n",
       "}\n",
       "</style>\n",
       "<small>shape: (5, 100)</small><table border=\"1\" class=\"dataframe\"><thead><tr><th>permno</th><th>yyyymm</th><th>date</th><th>date_right</th><th>AM</th><th>Accruals</th><th>AnnouncementReturn</th><th>AssetGrowth</th><th>BM</th><th>BMdec</th><th>BPEBM</th><th>Beta</th><th>BetaFP</th><th>BetaLiquidityPS</th><th>BidAskSpread</th><th>BookLeverage</th><th>CF</th><th>CashProd</th><th>ChEQ</th><th>ChInv</th><th>ChInvIA</th><th>ChNNCOA</th><th>ChNWC</th><th>ChTax</th><th>ConvDebt</th><th>CoskewACX</th><th>Coskewness</th><th>DebtIssuance</th><th>DelCOA</th><th>DelCOL</th><th>DelEqu</th><th>DelFINL</th><th>DelLTI</th><th>DelNetFin</th><th>DivInit</th><th>DivOmit</th><th>DolVol</th><th>&hellip;</th><th>NOA</th><th>NetDebtFinance</th><th>NetEquityFinance</th><th>NumEarnIncrease</th><th>OPLeverage</th><th>PctAcc</th><th>PriceDelayRsq</th><th>PriceDelaySlope</th><th>PriceDelayTstat</th><th>RDIPO</th><th>RealizedVol</th><th>ResidualMomentum</th><th>ReturnSkew</th><th>ReturnSkew3F</th><th>RoE</th><th>SP</th><th>ShareIss1Y</th><th>ShareIss5Y</th><th>ShareRepurchase</th><th>Spinoff</th><th>Tax</th><th>TotalAccruals</th><th>VolMkt</th><th>VolSD</th><th>VolumeTrend</th><th>XFIN</th><th>betaVIX</th><th>cfp</th><th>dNoa</th><th>hire</th><th>zerotrade</th><th>zerotradeAlt1</th><th>zerotradeAlt12</th><th>STreversal</th><th>Price</th><th>Size</th><th>ret</th></tr><tr><td>i64</td><td>i64</td><td>str</td><td>str</td><td>f64</td><td>f64</td><td>f64</td><td>f64</td><td>f64</td><td>f64</td><td>f64</td><td>f64</td><td>f64</td><td>f64</td><td>f64</td><td>f64</td><td>f64</td><td>f64</td><td>f64</td><td>f64</td><td>f64</td><td>f64</td><td>f64</td><td>f64</td><td>f64</td><td>f64</td><td>f64</td><td>f64</td><td>f64</td><td>f64</td><td>f64</td><td>f64</td><td>f64</td><td>f64</td><td>f64</td><td>f64</td><td>f64</td><td>&hellip;</td><td>f64</td><td>f64</td><td>f64</td><td>f64</td><td>f64</td><td>f64</td><td>f64</td><td>f64</td><td>f64</td><td>f64</td><td>f64</td><td>f64</td><td>f64</td><td>f64</td><td>f64</td><td>f64</td><td>f64</td><td>f64</td><td>f64</td><td>f64</td><td>f64</td><td>f64</td><td>f64</td><td>f64</td><td>f64</td><td>f64</td><td>f64</td><td>f64</td><td>f64</td><td>f64</td><td>f64</td><td>f64</td><td>f64</td><td>f64</td><td>f64</td><td>f64</td><td>f64</td></tr></thead><tbody><tr><td>11614</td><td>200001</td><td>&quot;2000-01-01&quot;</td><td>&quot;2000-01-31&quot;</td><td>1.9973766</td><td>-0.074983</td><td>0.004631</td><td>-0.386549</td><td>-0.370676</td><td>0.954144</td><td>0.261776</td><td>1.369328</td><td>0.755381</td><td>0.219421</td><td>0.025207</td><td>-1.522414</td><td>0.075995</td><td>197.90009</td><td>-2.003229</td><td>-0.080393</td><td>0.976063</td><td>0.083908</td><td>-0.042774</td><td>0.004482</td><td>0.0</td><td>0.215701</td><td>0.524991</td><td>-1.0</td><td>-0.150369</td><td>-0.046415</td><td>-0.356917</td><td>0.086197</td><td>0.0</td><td>0.080361</td><td>0.0</td><td>0.0</td><td>-2.646898</td><td>&hellip;</td><td>-1.202175</td><td>0.086197</td><td>-0.334449</td><td>2.0</td><td>0.376831</td><td>-4.889317</td><td>0.2705642</td><td>1.6056138</td><td>3.4281852</td><td>0.0</td><td>-0.044484</td><td>-0.087018</td><td>-2.492638</td><td>-2.999724</td><td>0.018555</td><td>0.8983103</td><td>-0.048813</td><td>-8.841158</td><td>0.0</td><td>0.0</td><td>0.452339</td><td>-0.412641</td><td>-0.095833</td><td>-1.373154</td><td>-0.020108</td><td>-0.213648</td><td>-0.018445</td><td>-0.088407</td><td>-0.327786</td><td>0.120577</td><td>2.2349e-8</td><td>1.1257e-8</td><td>2.7691e-8</td><td>-6.9167</td><td>-1.852384</td><td>-11.74086</td><td>0.070056</td></tr><tr><td>11614</td><td>200002</td><td>&quot;2000-02-01&quot;</td><td>&quot;2000-02-29&quot;</td><td>2.7581959</td><td>-0.16542</td><td>0.004631</td><td>-0.414755</td><td>-0.102482</td><td>1.0202855</td><td>-1.78728</td><td>1.27067</td><td>0.78</td><td>0.213671</td><td>0.020525</td><td>-2.014216</td><td>0.114533</td><td>294.20328</td><td>-1.043433</td><td>-0.1758</td><td>0.776595</td><td>0.12408</td><td>-0.105743</td><td>0.000558</td><td>0.0</td><td>0.228408</td><td>0.516442</td><td>-1.0</td><td>-0.231268</td><td>-0.035137</td><td>-0.022064</td><td>-0.270667</td><td>0.0</td><td>-0.270667</td><td>0.0</td><td>0.0</td><td>-3.038993</td><td>&hellip;</td><td>-1.226052</td><td>-0.253642</td><td>0.008973</td><td>3.0</td><td>0.591458</td><td>-6.86595</td><td>0.2705642</td><td>1.6056138</td><td>3.4281852</td><td>0.0</td><td>-0.037149</td><td>-0.042604</td><td>0.807652</td><td>1.201192</td><td>0.034755</td><td>1.8405613</td><td>-0.030709</td><td>-8.841158</td><td>0.0</td><td>0.0</td><td>0.586278</td><td>-0.010866</td><td>-0.09052</td><td>-1.386931</td><td>-0.017669</td><td>-0.208804</td><td>0.007696</td><td>-0.25437</td><td>-0.352894</td><td>-0.668524</td><td>2.3455e-8</td><td>2.1190e-8</td><td>2.7819e-8</td><td>-2.451</td><td>-1.876598</td><td>-11.765074</td><td>0.02451</td></tr><tr><td>11614</td><td>200003</td><td>&quot;2000-03-01&quot;</td><td>&quot;2000-03-31&quot;</td><td>3.3130052</td><td>-0.16542</td><td>0.004631</td><td>-0.414755</td><td>-0.102482</td><td>1.0202855</td><td>-1.763067</td><td>1.288584</td><td>0.744443</td><td>0.187754</td><td>0.022869</td><td>-2.014216</td><td>0.137572</td><td>322.22546</td><td>-1.043433</td><td>-0.1758</td><td>0.598506</td><td>0.12408</td><td>-0.105743</td><td>0.000558</td><td>0.0</td><td>0.245173</td><td>0.496407</td><td>-1.0</td><td>-0.231268</td><td>-0.035137</td><td>-0.022064</td><td>-0.270667</td><td>0.0</td><td>-0.270667</td><td>0.0</td><td>0.0</td><td>-2.562339</td><td>&hellip;</td><td>-1.226052</td><td>-0.253642</td><td>0.008973</td><td>3.0</td><td>0.591458</td><td>-6.86595</td><td>0.2705642</td><td>1.6056138</td><td>3.4281852</td><td>0.0</td><td>-0.053644</td><td>-0.24325</td><td>-0.017113</td><td>-0.617639</td><td>0.034755</td><td>2.210789</td><td>-0.030709</td><td>-8.826433</td><td>0.0</td><td>0.0</td><td>0.586278</td><td>-0.010866</td><td>-0.102077</td><td>-1.404163</td><td>-0.01529</td><td>-0.208804</td><td>0.008048</td><td>-0.305536</td><td>-0.352894</td><td>-0.668524</td><td>2.3826e-8</td><td>4.0763e-8</td><td>2.8828e-8</td><td>16.7464</td><td>-1.693319</td><td>-11.581795</td><td>-0.167464</td></tr><tr><td>11614</td><td>200004</td><td>&quot;2000-04-01&quot;</td><td>&quot;2000-04-28&quot;</td><td>4.9695082</td><td>-0.16542</td><td>-0.109444</td><td>-0.414755</td><td>-0.102482</td><td>1.0202855</td><td>-2.391307</td><td>1.426398</td><td>0.723738</td><td>0.347908</td><td>0.0381</td><td>-2.014216</td><td>0.206357</td><td>368.66223</td><td>-1.043433</td><td>-0.1758</td><td>0.594765</td><td>0.12408</td><td>-0.105743</td><td>0.000558</td><td>0.0</td><td>0.25822</td><td>0.533109</td><td>-1.0</td><td>-0.231268</td><td>-0.035137</td><td>-0.022064</td><td>-0.270667</td><td>0.0</td><td>-0.270667</td><td>0.0</td><td>-1.0</td><td>-1.932317</td><td>&hellip;</td><td>-1.226052</td><td>-0.253642</td><td>0.008973</td><td>3.0</td><td>0.591458</td><td>-6.86595</td><td>0.2705642</td><td>1.6056138</td><td>3.4281852</td><td>0.0</td><td>-0.068779</td><td>-0.267446</td><td>-1.316595</td><td>-1.101947</td><td>0.034755</td><td>3.3161838</td><td>-0.030709</td><td>-8.826433</td><td>0.0</td><td>0.0</td><td>0.586278</td><td>-0.010866</td><td>-0.135278</td><td>-1.088585</td><td>-0.012911</td><td>-0.208804</td><td>0.002926</td><td>-0.458305</td><td>-0.352894</td><td>-0.668524</td><td>2.7163e-8</td><td>3.2372e-8</td><td>3.0045e-8</td><td>33.3333</td><td>-1.287854</td><td>-11.17633</td><td>-0.333333</td></tr><tr><td>11614</td><td>200005</td><td>&quot;2000-05-01&quot;</td><td>&quot;2000-05-31&quot;</td><td>4.5390778</td><td>-0.16542</td><td>-0.109444</td><td>-0.414755</td><td>-0.102482</td><td>1.0202855</td><td>-2.210228</td><td>1.334411</td><td>0.729945</td><td>0.392985</td><td>0.0262504</td><td>-2.014216</td><td>0.188484</td><td>359.85526</td><td>-1.043433</td><td>-0.1758</td><td>0.5228461</td><td>0.12408</td><td>-0.105743</td><td>-0.053968</td><td>0.0</td><td>0.289844</td><td>0.4865889</td><td>-1.0</td><td>-0.231268</td><td>-0.035137</td><td>-0.022064</td><td>-0.270667</td><td>0.0</td><td>-0.270667</td><td>0.0</td><td>-1.0</td><td>-1.839755</td><td>&hellip;</td><td>-1.226052</td><td>-0.253642</td><td>0.008973</td><td>0.0</td><td>0.591458</td><td>-6.86595</td><td>0.2705642</td><td>1.6056138</td><td>3.4281852</td><td>0.0</td><td>-0.056757</td><td>-0.494756</td><td>-0.935401</td><td>-0.828954</td><td>0.034755</td><td>3.028955</td><td>-0.030278</td><td>-8.826433</td><td>0.0</td><td>0.0</td><td>0.586278</td><td>-0.010866</td><td>-0.118238</td><td>-1.110706</td><td>-0.010366</td><td>-0.208804</td><td>-0.017663</td><td>-0.418609</td><td>-0.352894</td><td>-0.668524</td><td>3.1268e-8</td><td>3.9940e-8</td><td>3.2005e-8</td><td>-10.5862</td><td>-1.378451</td><td>-11.266927</td><td>0.104983</td></tr></tbody></table></div>"
      ],
      "text/plain": [
       "shape: (5, 100)\n",
       "┌────────┬────────┬────────────┬────────────┬───┬────────────┬───────────┬────────────┬───────────┐\n",
       "│ permno ┆ yyyymm ┆ date       ┆ date_right ┆ … ┆ STreversal ┆ Price     ┆ Size       ┆ ret       │\n",
       "│ ---    ┆ ---    ┆ ---        ┆ ---        ┆   ┆ ---        ┆ ---       ┆ ---        ┆ ---       │\n",
       "│ i64    ┆ i64    ┆ str        ┆ str        ┆   ┆ f64        ┆ f64       ┆ f64        ┆ f64       │\n",
       "╞════════╪════════╪════════════╪════════════╪═══╪════════════╪═══════════╪════════════╪═══════════╡\n",
       "│ 11614  ┆ 200001 ┆ 2000-01-01 ┆ 2000-01-31 ┆ … ┆ -6.9167    ┆ -1.852384 ┆ -11.74086  ┆ 0.070056  │\n",
       "│ 11614  ┆ 200002 ┆ 2000-02-01 ┆ 2000-02-29 ┆ … ┆ -2.451     ┆ -1.876598 ┆ -11.765074 ┆ 0.02451   │\n",
       "│ 11614  ┆ 200003 ┆ 2000-03-01 ┆ 2000-03-31 ┆ … ┆ 16.7464    ┆ -1.693319 ┆ -11.581795 ┆ -0.167464 │\n",
       "│ 11614  ┆ 200004 ┆ 2000-04-01 ┆ 2000-04-28 ┆ … ┆ 33.3333    ┆ -1.287854 ┆ -11.17633  ┆ -0.333333 │\n",
       "│ 11614  ┆ 200005 ┆ 2000-05-01 ┆ 2000-05-31 ┆ … ┆ -10.5862   ┆ -1.378451 ┆ -11.266927 ┆ 0.104983  │\n",
       "└────────┴────────┴────────────┴────────────┴───┴────────────┴───────────┴────────────┴───────────┘"
      ]
     },
     "execution_count": 120,
     "metadata": {},
     "output_type": "execute_result"
    }
   ],
   "source": [
    "data = pl.read_csv(file)\n",
    "final = data.drop(\"industry\", \"siccd\")\n",
    "final.head()\n"
   ]
  },
  {
   "cell_type": "code",
   "execution_count": 121,
   "metadata": {},
   "outputs": [],
   "source": [
    "newfile = \"NEW_agriculture\"\n",
    "final.write_csv(f'data/industry_datasets/{newfile}.csv')\n"
   ]
  },
  {
   "cell_type": "code",
   "execution_count": null,
   "metadata": {},
   "outputs": [],
   "source": []
  },
  {
   "cell_type": "code",
   "execution_count": null,
   "metadata": {},
   "outputs": [],
   "source": []
  }
 ],
 "metadata": {
  "kernelspec": {
   "display_name": "Python 3",
   "language": "python",
   "name": "python3"
  },
  "language_info": {
   "codemirror_mode": {
    "name": "ipython",
    "version": 3
   },
   "file_extension": ".py",
   "mimetype": "text/x-python",
   "name": "python",
   "nbconvert_exporter": "python",
   "pygments_lexer": "ipython3",
   "version": "3.12.3"
  }
 },
 "nbformat": 4,
 "nbformat_minor": 2
}
