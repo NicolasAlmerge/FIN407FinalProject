{
 "cells": [
  {
   "cell_type": "code",
   "execution_count": 12,
   "metadata": {},
   "outputs": [],
   "source": [
    "import pandas as pd\n",
    "import polars as pl\n",
    "from data import *\n",
    "import numpy as np\n",
    "import matplotlib.pyplot as plt\n",
    "import seaborn as sns\n",
    "import pickle\n",
    "import pyarrow \n",
    "import sklearn\n",
    "from sklearn.impute import SimpleImputer\n",
    "from sklearn.decomposition import PCA\n",
    "from sklearn.linear_model import LinearRegression, Ridge, Lasso\n",
    "from sklearn.ensemble import RandomForestRegressor, AdaBoostRegressor\n",
    "from sklearn.model_selection import train_test_split\n",
    "from sklearn.preprocessing import StandardScaler\n",
    "from sklearn.metrics import mean_squared_error, r2_score\n",
    "import os\n",
    "import numpy as np\n",
    "from scipy import stats\n",
    "from typing import cast\n",
    "from utils import *\n",
    "import wrds"
   ]
  },
  {
   "cell_type": "code",
   "execution_count": 2,
   "metadata": {},
   "outputs": [
    {
     "name": "stdout",
     "output_type": "stream",
     "text": [
      "Loading library list...\n",
      "Done\n"
     ]
    }
   ],
   "source": [
    "db = wrds.Connection(\n",
    "    wrds_username='jayati'\n",
    ")\n"
   ]
  },
  {
   "cell_type": "code",
   "execution_count": 3,
   "metadata": {},
   "outputs": [],
   "source": [
    "crsp_monthly_query = \"\"\"\n",
    "SELECT msf.permno, msf.date, ssih.siccd\n",
    "FROM crsp.msf AS msf\n",
    "LEFT JOIN crsp.stksecurityinfohist AS ssih\n",
    "ON msf.permno = ssih.permno\n",
    "AND ssih.secinfostartdt <= msf.date AND msf.date <= ssih.secinfoenddt\n",
    "WHERE msf.date BETWEEN '1986-01-01' AND '2024-05-31'\n",
    "\"\"\"\n",
    "crsp_monthly_data = db.raw_sql(crsp_monthly_query)\n",
    "\n",
    "crsp_monthly_df = pl.from_pandas(crsp_monthly_data)\n",
    "\n",
    "crsp_monthly_df.select(['permno', 'date', 'siccd']).write_csv('data/crsp_monthly_with_industries.csv')\n"
   ]
  },
  {
   "cell_type": "code",
   "execution_count": 4,
   "metadata": {},
   "outputs": [
    {
     "data": {
      "text/plain": [
       "3487273"
      ]
     },
     "execution_count": 4,
     "metadata": {},
     "output_type": "execute_result"
    }
   ],
   "source": [
    "crsp_monthly_df.height"
   ]
  },
  {
   "cell_type": "code",
   "execution_count": 5,
   "metadata": {},
   "outputs": [],
   "source": [
    "complete_data = pl.read_csv('data/COMPLETE_DATASET.csv')\n",
    "complete_data = complete_data.with_columns([\n",
    "    pl.col('date').str.strptime(pl.Date, \"%Y-%m-%d\")\n",
    "])\n",
    "\n",
    "crsp_monthly_df = pl.read_csv('data/crsp_monthly_with_industries.csv')\n",
    "crsp_monthly_df = crsp_monthly_df.with_columns([\n",
    "    pl.col('date').str.strptime(pl.Date, \"%Y-%m-%d\")\n",
    "])\n",
    "\n",
    "merged_data = complete_data.join(\n",
    "    crsp_monthly_df.select(['permno', 'date', 'siccd']),\n",
    "    on=['permno', 'date'],\n",
    "    how='left'\n",
    ")\n"
   ]
  },
  {
   "cell_type": "code",
   "execution_count": 6,
   "metadata": {},
   "outputs": [
    {
     "name": "stdout",
     "output_type": "stream",
     "text": [
      "shape: (5, 217)\n",
      "┌────────┬────────┬──────┬──────┬───┬───────────┬────────────┬───────────┬────────┐\n",
      "│ permno ┆ yyyymm ┆ AM   ┆ AOP  ┆ … ┆ Size      ┆ date       ┆ ret       ┆ siccd  │\n",
      "│ ---    ┆ ---    ┆ ---  ┆ ---  ┆   ┆ ---       ┆ ---        ┆ ---       ┆ ---    │\n",
      "│ i64    ┆ i64    ┆ f64  ┆ str  ┆   ┆ f64       ┆ date       ┆ f64       ┆ f64    │\n",
      "╞════════╪════════╪══════╪══════╪═══╪═══════════╪════════════╪═══════════╪════════╡\n",
      "│ 10000  ┆ 198601 ┆ null ┆ null ┆ … ┆ -9.686575 ┆ 1986-01-31 ┆ null      ┆ 3990.0 │\n",
      "│ 10000  ┆ 198602 ┆ null ┆ null ┆ … ┆ -9.389323 ┆ 1986-02-28 ┆ -0.257143 ┆ 3990.0 │\n",
      "│ 10000  ┆ 198603 ┆ null ┆ null ┆ … ┆ -9.700759 ┆ 1986-03-31 ┆ 0.365385  ┆ 3990.0 │\n",
      "│ 10000  ┆ 198604 ┆ null ┆ null ┆ … ┆ -9.627207 ┆ 1986-04-30 ┆ -0.098592 ┆ 3990.0 │\n",
      "│ 10000  ┆ 198605 ┆ null ┆ null ┆ … ┆ -9.375336 ┆ 1986-05-30 ┆ -0.222656 ┆ 3990.0 │\n",
      "└────────┴────────┴──────┴──────┴───┴───────────┴────────────┴───────────┴────────┘\n"
     ]
    }
   ],
   "source": [
    "print(merged_data.head())\n"
   ]
  },
  {
   "cell_type": "code",
   "execution_count": 7,
   "metadata": {},
   "outputs": [],
   "source": [
    "sic_groups = {\n",
    "    'Agriculture, Forestry, and Fishing': range(100, 1000),\n",
    "    'Mining': range(1000, 1500),\n",
    "    'Construction': range(1500, 1800),\n",
    "    'Manufacturing': range(2000, 4000),\n",
    "    'Transportation, Communications, Electric, Gas, and Sanitary Services': range(4000, 5000),\n",
    "    'Wholesale Trade': range(5000, 5200),\n",
    "    'Retail Trade': range(5200, 6000),\n",
    "    'Finance, Insurance, and Real Estate': range(6000, 6800),\n",
    "    'Services': range(7000, 9000),\n",
    "    'Public Administration': range(9000, 10000)\n",
    "}"
   ]
  },
  {
   "cell_type": "code",
   "execution_count": 8,
   "metadata": {},
   "outputs": [
    {
     "name": "stderr",
     "output_type": "stream",
     "text": [
      "/var/folders/b0/4ztxyrhx5zb29cnt86sf6m580000gn/T/ipykernel_1087/3215136193.py:9: DeprecationWarning: `apply` is deprecated. It has been renamed to `map_elements`.\n",
      "  pl.col('siccd').apply(map_sic_to_industry).alias('industry')\n",
      "sys:1: MapWithoutReturnDtypeWarning: Calling `map_elements` without specifying `return_dtype` can lead to unpredictable results. Specify `return_dtype` to silence this warning.\n"
     ]
    },
    {
     "name": "stdout",
     "output_type": "stream",
     "text": [
      "shape: (12, 2)\n",
      "┌─────────────────────────────────┬─────────┐\n",
      "│ industry                        ┆ count   │\n",
      "│ ---                             ┆ ---     │\n",
      "│ str                             ┆ u32     │\n",
      "╞═════════════════════════════════╪═════════╡\n",
      "│ Unknown                         ┆ 8847    │\n",
      "│ Mining                          ┆ 169538  │\n",
      "│ Construction                    ┆ 29898   │\n",
      "│ Services                        ┆ 429601  │\n",
      "│ Manufacturing                   ┆ 985827  │\n",
      "│ …                               ┆ …       │\n",
      "│ null                            ┆ 41902   │\n",
      "│ Transportation, Communications… ┆ 234129  │\n",
      "│ Retail Trade                    ┆ 148328  │\n",
      "│ Finance, Insurance, and Real E… ┆ 1163369 │\n",
      "│ Wholesale Trade                 ┆ 99408   │\n",
      "└─────────────────────────────────┴─────────┘\n"
     ]
    },
    {
     "name": "stderr",
     "output_type": "stream",
     "text": [
      "/var/folders/b0/4ztxyrhx5zb29cnt86sf6m580000gn/T/ipykernel_1087/3215136193.py:13: DeprecationWarning: `groupby` is deprecated. It has been renamed to `group_by`.\n",
      "  industry_counts = merged_data.groupby('industry').agg(pl.count('permno').alias('count'))\n"
     ]
    }
   ],
   "source": [
    "def map_sic_to_industry(sic):\n",
    "    for industry, sic_range in sic_groups.items():\n",
    "        if sic in sic_range:\n",
    "            return industry\n",
    "    return 'Unknown'\n",
    "\n",
    "# Step 5: Apply the mapping function to create an 'industry' column\n",
    "merged_data = merged_data.with_columns([\n",
    "    pl.col('siccd').apply(map_sic_to_industry).alias('industry')\n",
    "])\n",
    "\n",
    "# Step 6: Count the number of stocks in each industry\n",
    "industry_counts = merged_data.groupby('industry').agg(pl.count('permno').alias('count'))\n",
    "print(industry_counts)"
   ]
  },
  {
   "cell_type": "code",
   "execution_count": 9,
   "metadata": {},
   "outputs": [],
   "source": [
    "merged_data.write_csv('data/UPDATED_COMPLETE_DATA_WITH_INDUSTRY.csv')\n",
    "\n"
   ]
  },
  {
   "cell_type": "code",
   "execution_count": 10,
   "metadata": {},
   "outputs": [
    {
     "data": {
      "text/html": [
       "<div><style>\n",
       ".dataframe > thead > tr,\n",
       ".dataframe > tbody > tr {\n",
       "  text-align: right;\n",
       "  white-space: pre-wrap;\n",
       "}\n",
       "</style>\n",
       "<small>shape: (5, 218)</small><table border=\"1\" class=\"dataframe\"><thead><tr><th>permno</th><th>yyyymm</th><th>AM</th><th>AOP</th><th>AbnormalAccruals</th><th>Accruals</th><th>AccrualsBM</th><th>Activism1</th><th>Activism2</th><th>AdExp</th><th>AgeIPO</th><th>AnalystRevision</th><th>AnalystValue</th><th>AnnouncementReturn</th><th>AssetGrowth</th><th>BM</th><th>BMdec</th><th>BPEBM</th><th>Beta</th><th>BetaFP</th><th>BetaLiquidityPS</th><th>BetaTailRisk</th><th>BidAskSpread</th><th>BookLeverage</th><th>BrandInvest</th><th>CBOperProf</th><th>CF</th><th>CPVolSpread</th><th>Cash</th><th>CashProd</th><th>ChAssetTurnover</th><th>ChEQ</th><th>ChForecastAccrual</th><th>ChInv</th><th>ChInvIA</th><th>ChNAnalyst</th><th>ChNNCOA</th><th>&hellip;</th><th>TrendFactor</th><th>UpRecomm</th><th>VarCF</th><th>VolMkt</th><th>VolSD</th><th>VolumeTrend</th><th>XFIN</th><th>betaVIX</th><th>cfp</th><th>dCPVolSpread</th><th>dNoa</th><th>dVolCall</th><th>dVolPut</th><th>fgr5yrLag</th><th>grcapx</th><th>grcapx3y</th><th>hire</th><th>iomom_cust</th><th>iomom_supp</th><th>realestate</th><th>retConglomerate</th><th>roaq</th><th>sfe</th><th>sinAlgo</th><th>skew1</th><th>std_turn</th><th>tang</th><th>zerotrade</th><th>zerotradeAlt1</th><th>zerotradeAlt12</th><th>STreversal</th><th>Price</th><th>Size</th><th>date</th><th>ret</th><th>siccd</th><th>industry</th></tr><tr><td>i64</td><td>i64</td><td>f64</td><td>str</td><td>f64</td><td>f64</td><td>str</td><td>str</td><td>str</td><td>f64</td><td>str</td><td>f64</td><td>str</td><td>f64</td><td>f64</td><td>f64</td><td>f64</td><td>f64</td><td>f64</td><td>f64</td><td>f64</td><td>f64</td><td>f64</td><td>f64</td><td>str</td><td>f64</td><td>f64</td><td>str</td><td>f64</td><td>f64</td><td>f64</td><td>f64</td><td>f64</td><td>f64</td><td>f64</td><td>f64</td><td>f64</td><td>&hellip;</td><td>str</td><td>str</td><td>f64</td><td>f64</td><td>f64</td><td>f64</td><td>f64</td><td>f64</td><td>f64</td><td>str</td><td>f64</td><td>str</td><td>str</td><td>str</td><td>f64</td><td>f64</td><td>f64</td><td>f64</td><td>f64</td><td>str</td><td>str</td><td>f64</td><td>str</td><td>str</td><td>str</td><td>f64</td><td>f64</td><td>f64</td><td>f64</td><td>f64</td><td>f64</td><td>f64</td><td>f64</td><td>date</td><td>f64</td><td>f64</td><td>str</td></tr></thead><tbody><tr><td>10000</td><td>198601</td><td>null</td><td>null</td><td>null</td><td>null</td><td>null</td><td>null</td><td>null</td><td>null</td><td>null</td><td>null</td><td>null</td><td>null</td><td>null</td><td>null</td><td>null</td><td>null</td><td>null</td><td>null</td><td>null</td><td>null</td><td>null</td><td>null</td><td>null</td><td>null</td><td>null</td><td>null</td><td>null</td><td>null</td><td>null</td><td>null</td><td>null</td><td>null</td><td>null</td><td>null</td><td>null</td><td>&hellip;</td><td>null</td><td>null</td><td>null</td><td>null</td><td>null</td><td>null</td><td>null</td><td>-0.005234</td><td>null</td><td>null</td><td>null</td><td>null</td><td>null</td><td>null</td><td>null</td><td>null</td><td>null</td><td>null</td><td>null</td><td>null</td><td>null</td><td>null</td><td>null</td><td>null</td><td>null</td><td>null</td><td>null</td><td>null</td><td>null</td><td>null</td><td>0.0</td><td>-1.475907</td><td>-9.686575</td><td>1986-01-31</td><td>null</td><td>3990.0</td><td>&quot;Manufacturing&quot;</td></tr><tr><td>10000</td><td>198602</td><td>null</td><td>null</td><td>null</td><td>null</td><td>null</td><td>null</td><td>null</td><td>null</td><td>null</td><td>null</td><td>null</td><td>null</td><td>null</td><td>null</td><td>null</td><td>null</td><td>null</td><td>null</td><td>null</td><td>null</td><td>null</td><td>null</td><td>null</td><td>null</td><td>null</td><td>null</td><td>null</td><td>null</td><td>null</td><td>null</td><td>null</td><td>null</td><td>null</td><td>null</td><td>null</td><td>&hellip;</td><td>null</td><td>null</td><td>null</td><td>null</td><td>null</td><td>null</td><td>null</td><td>-0.003488</td><td>null</td><td>null</td><td>null</td><td>null</td><td>null</td><td>null</td><td>null</td><td>null</td><td>null</td><td>null</td><td>null</td><td>null</td><td>null</td><td>null</td><td>null</td><td>null</td><td>null</td><td>null</td><td>null</td><td>null</td><td>4.7852e-8</td><td>null</td><td>25.7143</td><td>-1.178655</td><td>-9.389323</td><td>1986-02-28</td><td>-0.257143</td><td>3990.0</td><td>&quot;Manufacturing&quot;</td></tr><tr><td>10000</td><td>198603</td><td>null</td><td>null</td><td>null</td><td>null</td><td>null</td><td>null</td><td>null</td><td>null</td><td>null</td><td>null</td><td>null</td><td>null</td><td>null</td><td>null</td><td>null</td><td>null</td><td>null</td><td>null</td><td>null</td><td>null</td><td>null</td><td>null</td><td>null</td><td>null</td><td>null</td><td>null</td><td>null</td><td>null</td><td>null</td><td>null</td><td>null</td><td>null</td><td>null</td><td>null</td><td>null</td><td>&hellip;</td><td>null</td><td>null</td><td>null</td><td>null</td><td>null</td><td>null</td><td>null</td><td>-0.002715</td><td>null</td><td>null</td><td>null</td><td>null</td><td>null</td><td>null</td><td>null</td><td>null</td><td>null</td><td>null</td><td>null</td><td>null</td><td>null</td><td>null</td><td>null</td><td>null</td><td>null</td><td>null</td><td>null</td><td>null</td><td>1.0234e-7</td><td>null</td><td>-36.5385</td><td>-1.490091</td><td>-9.700759</td><td>1986-03-31</td><td>0.365385</td><td>3990.0</td><td>&quot;Manufacturing&quot;</td></tr><tr><td>10000</td><td>198604</td><td>null</td><td>null</td><td>null</td><td>null</td><td>null</td><td>null</td><td>null</td><td>null</td><td>null</td><td>null</td><td>null</td><td>null</td><td>null</td><td>null</td><td>null</td><td>null</td><td>null</td><td>null</td><td>null</td><td>null</td><td>null</td><td>null</td><td>null</td><td>null</td><td>null</td><td>null</td><td>null</td><td>null</td><td>null</td><td>null</td><td>null</td><td>null</td><td>null</td><td>null</td><td>null</td><td>&hellip;</td><td>null</td><td>null</td><td>null</td><td>null</td><td>null</td><td>null</td><td>null</td><td>0.000877</td><td>null</td><td>null</td><td>null</td><td>null</td><td>null</td><td>null</td><td>null</td><td>null</td><td>null</td><td>null</td><td>null</td><td>null</td><td>null</td><td>null</td><td>null</td><td>null</td><td>null</td><td>null</td><td>null</td><td>null</td><td>7.4675e-8</td><td>null</td><td>9.8592</td><td>-1.386294</td><td>-9.627207</td><td>1986-04-30</td><td>-0.098592</td><td>3990.0</td><td>&quot;Manufacturing&quot;</td></tr><tr><td>10000</td><td>198605</td><td>null</td><td>null</td><td>null</td><td>null</td><td>null</td><td>null</td><td>null</td><td>null</td><td>null</td><td>null</td><td>null</td><td>null</td><td>null</td><td>null</td><td>null</td><td>null</td><td>null</td><td>null</td><td>null</td><td>null</td><td>null</td><td>null</td><td>null</td><td>null</td><td>null</td><td>null</td><td>null</td><td>null</td><td>null</td><td>null</td><td>null</td><td>null</td><td>null</td><td>null</td><td>null</td><td>&hellip;</td><td>null</td><td>null</td><td>null</td><td>null</td><td>null</td><td>null</td><td>null</td><td>0.008818</td><td>null</td><td>null</td><td>null</td><td>null</td><td>null</td><td>null</td><td>null</td><td>null</td><td>null</td><td>null</td><td>null</td><td>null</td><td>null</td><td>null</td><td>null</td><td>null</td><td>null</td><td>null</td><td>null</td><td>null</td><td>7.6496e-8</td><td>null</td><td>22.2656</td><td>-1.134423</td><td>-9.375336</td><td>1986-05-30</td><td>-0.222656</td><td>3990.0</td><td>&quot;Manufacturing&quot;</td></tr></tbody></table></div>"
      ],
      "text/plain": [
       "shape: (5, 218)\n",
       "┌────────┬────────┬──────┬──────┬───┬────────────┬───────────┬────────┬───────────────┐\n",
       "│ permno ┆ yyyymm ┆ AM   ┆ AOP  ┆ … ┆ date       ┆ ret       ┆ siccd  ┆ industry      │\n",
       "│ ---    ┆ ---    ┆ ---  ┆ ---  ┆   ┆ ---        ┆ ---       ┆ ---    ┆ ---           │\n",
       "│ i64    ┆ i64    ┆ f64  ┆ str  ┆   ┆ date       ┆ f64       ┆ f64    ┆ str           │\n",
       "╞════════╪════════╪══════╪══════╪═══╪════════════╪═══════════╪════════╪═══════════════╡\n",
       "│ 10000  ┆ 198601 ┆ null ┆ null ┆ … ┆ 1986-01-31 ┆ null      ┆ 3990.0 ┆ Manufacturing │\n",
       "│ 10000  ┆ 198602 ┆ null ┆ null ┆ … ┆ 1986-02-28 ┆ -0.257143 ┆ 3990.0 ┆ Manufacturing │\n",
       "│ 10000  ┆ 198603 ┆ null ┆ null ┆ … ┆ 1986-03-31 ┆ 0.365385  ┆ 3990.0 ┆ Manufacturing │\n",
       "│ 10000  ┆ 198604 ┆ null ┆ null ┆ … ┆ 1986-04-30 ┆ -0.098592 ┆ 3990.0 ┆ Manufacturing │\n",
       "│ 10000  ┆ 198605 ┆ null ┆ null ┆ … ┆ 1986-05-30 ┆ -0.222656 ┆ 3990.0 ┆ Manufacturing │\n",
       "└────────┴────────┴──────┴──────┴───┴────────────┴───────────┴────────┴───────────────┘"
      ]
     },
     "execution_count": 10,
     "metadata": {},
     "output_type": "execute_result"
    }
   ],
   "source": [
    "merged_data.head()"
   ]
  },
  {
   "cell_type": "code",
   "execution_count": 14,
   "metadata": {},
   "outputs": [
    {
     "name": "stdout",
     "output_type": "stream",
     "text": [
      "Data for Mining saved to data/industry_datasets/Mining_data.csv\n",
      "Data for Wholesale Trade saved to data/industry_datasets/Wholesale_Trade_data.csv\n",
      "Data for Manufacturing saved to data/industry_datasets/Manufacturing_data.csv\n",
      "Data for Retail Trade saved to data/industry_datasets/Retail_Trade_data.csv\n",
      "Data for Construction saved to data/industry_datasets/Construction_data.csv\n",
      "Data for Transportation, Communications, Electric, Gas, and Sanitary Services saved to data/industry_datasets/Transportation,_Communications,_Electric,_Gas,_and_Sanitary_Services_data.csv\n",
      "Data for Unknown saved to data/industry_datasets/Unknown_data.csv\n",
      "Data for Agriculture, Forestry, and Fishing saved to data/industry_datasets/Agriculture,_Forestry,_and_Fishing_data.csv\n",
      "Data for Public Administration saved to data/industry_datasets/Public_Administration_data.csv\n",
      "Data for Services saved to data/industry_datasets/Services_data.csv\n",
      "Data for Finance, Insurance, and Real Estate saved to data/industry_datasets/Finance,_Insurance,_and_Real_Estate_data.csv\n"
     ]
    }
   ],
   "source": [
    "industries = merged_data.select(pl.col('industry')).unique().to_series().to_list()\n",
    "\n",
    "os.makedirs('data/industry_datasets', exist_ok=True)\n",
    "\n",
    "for industry in industries:\n",
    "    if industry is not None:\n",
    "        industry_data = merged_data.filter(pl.col('industry') == industry)\n",
    "        industry_filename = f\"data/industry_datasets/{industry.replace(' ', '_')}_data.csv\"\n",
    "        industry_data.write_csv(industry_filename)\n",
    "        print(f\"Data for {industry} saved to {industry_filename}\")\n"
   ]
  },
  {
   "cell_type": "code",
   "execution_count": null,
   "metadata": {},
   "outputs": [],
   "source": []
  },
  {
   "cell_type": "markdown",
   "metadata": {},
   "source": []
  }
 ],
 "metadata": {
  "kernelspec": {
   "display_name": "Python 3",
   "language": "python",
   "name": "python3"
  },
  "language_info": {
   "codemirror_mode": {
    "name": "ipython",
    "version": 3
   },
   "file_extension": ".py",
   "mimetype": "text/x-python",
   "name": "python",
   "nbconvert_exporter": "python",
   "pygments_lexer": "ipython3",
   "version": "3.12.3"
  }
 },
 "nbformat": 4,
 "nbformat_minor": 2
}
