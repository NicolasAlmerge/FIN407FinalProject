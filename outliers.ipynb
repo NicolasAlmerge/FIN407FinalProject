{
 "cells": [
  {
   "cell_type": "code",
   "execution_count": null,
   "metadata": {},
   "outputs": [],
   "source": [
    "import pandas as pd\n",
    "\n",
    "def winsorize_columns(df: pd.DataFrame, quantile: float = 0.01) -> pd.DataFrame:\n",
    "  \"\"\"\n",
    "  Winsorizes each column (from the 4th onwards) independently in a DataFrame.\n",
    "\n",
    "  Args:\n",
    "      df: The input DataFrame.\n",
    "      quantile: The winsorization quantile (default: 0.01 for 1%).\n",
    "\n",
    "  Returns:\n",
    "      A new DataFrame with winsorized columns.\n",
    "  \"\"\"\n",
    "  winsorized_df = df.copy()\n",
    "  for col in df.columns[3:]:\n",
    "    lower_bound = df[col].quantile(quantile)\n",
    "    upper_bound = df[col].quantile(1 - quantile)\n",
    "    winsorized_df[col] = winsorized_df[col].clip(lower=lower_bound, upper=upper_bound)\n",
    "  return winsorized_df\n",
    "\n",
    "# Assuming 'full_data' is your already sorted DataFrame\n",
    "winsorized_data = winsorize_columns(full_data.copy(), quantile=0.01)  # Winsorize on a copy\n",
    "\n",
    "# Now you can use 'winsorized_data' for further processing\n"
   ]
  }
 ],
 "metadata": {
  "language_info": {
   "name": "python"
  }
 },
 "nbformat": 4,
 "nbformat_minor": 2
}
